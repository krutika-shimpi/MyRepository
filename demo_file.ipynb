{
  "nbformat": 4,
  "nbformat_minor": 0,
  "metadata": {
    "colab": {
      "provenance": []
    },
    "kernelspec": {
      "name": "python3",
      "display_name": "Python 3"
    },
    "language_info": {
      "name": "python"
    }
  },
  "cells": [
    {
      "cell_type": "code",
      "source": [
        "import numpy as np\n",
        "import matplotlib.pyplot as plt"
      ],
      "metadata": {
        "id": "CZtu3F6Tr2l8"
      },
      "execution_count": null,
      "outputs": []
    },
    {
      "cell_type": "code",
      "execution_count": null,
      "metadata": {
        "id": "AczHzThnqmHx"
      },
      "outputs": [],
      "source": [
        "def initialize_parameters(layer_dims):\n",
        "  parameters = {}\n",
        "  L = len(layer_dims)\n",
        "  for l in range(1, L):\n",
        "    parameters['W' + str(l)] = np.ones((layer_dims[l-1], layer_dims[l])) * 0.1\n",
        "    parameters['b' + str(l)] = np.zeros((layer_dims[l], 1))\n",
        "\n",
        "  return parameters"
      ]
    },
    {
      "cell_type": "code",
      "source": [
        "initialize_parameters([2,2,1])"
      ],
      "metadata": {
        "colab": {
          "base_uri": "https://localhost:8080/"
        },
        "id": "MAAeLM-OrBpz",
        "outputId": "d6d0eebe-15d5-4b36-bbb6-652b351d130d"
      },
      "execution_count": null,
      "outputs": [
        {
          "output_type": "execute_result",
          "data": {
            "text/plain": [
              "{'W1': array([[0.1, 0.1],\n",
              "        [0.1, 0.1]]),\n",
              " 'b1': array([[0.],\n",
              "        [0.]]),\n",
              " 'W2': array([[0.1],\n",
              "        [0.1]]),\n",
              " 'b2': array([[0.]])}"
            ]
          },
          "metadata": {},
          "execution_count": 13
        }
      ]
    },
    {
      "cell_type": "code",
      "source": [
        "from matplotlib.animation import FuncAnimation"
      ],
      "metadata": {
        "id": "KVwau6ZPsZvZ"
      },
      "execution_count": null,
      "outputs": []
    },
    {
      "cell_type": "code",
      "source": [
        "import matplotlib.pyplot as plt\n",
        "import numpy as np\n",
        "import datetime\n",
        "import time\n",
        "from matplotlib.animation import FuncAnimation\n",
        "\n",
        "# Create a figure and axes\n",
        "fig, ax = plt.subplots()\n",
        "\n",
        "# Set the aspect of the plot to be equal\n",
        "ax.set_aspect('equal')\n",
        "\n",
        "# Set the limits of the plot\n",
        "ax.set_xlim(-1.2, 1.2)\n",
        "ax.set_ylim(-1.2, 1.2)\n",
        "\n",
        "# Remove the axis ticks and labels\n",
        "ax.axis('off')\n",
        "\n",
        "# Draw the clock face\n",
        "circle = plt.Circle((0, 0), 1, color='white', edgecolor='black')\n",
        "ax.add_patch(circle)\n",
        "\n",
        "# Draw the hour markers\n",
        "for i in range(12):\n",
        "    angle = np.radians(i * 30 - 90)\n",
        "    x = np.cos(angle) * 0.8\n",
        "    y = np.sin(angle) * 0.8\n",
        "    ax.text(x, y, str(i + 1), ha='center', va='center', fontsize=12)\n",
        "\n",
        "# Function to update the clock hands\n",
        "def update(i):\n",
        "    now = datetime.datetime.now()\n",
        "    hour = now.hour % 12\n",
        "    minute = now.minute\n",
        "    second = now.second\n",
        "\n",
        "    # Draw the hour hand\n",
        "    hour_angle = np.radians(hour * 30 + minute / 2 - 90)\n",
        "    hour_x = np.cos(hour_angle) * 0.5\n",
        "    hour_y = np.sin(hour_angle) * 0.5\n",
        "    hour_hand, = ax.plot([0, hour_x], [0, hour_y], linewidth=4, color='black')\n",
        "\n",
        "    # Draw the minute hand\n",
        "    minute_angle = np.radians(minute * 6 - 90)\n",
        "    minute_x = np.cos(minute_angle) * 0.7\n",
        "    minute_y = np.sin(minute_angle) * 0.7\n",
        "    minute_hand, = ax.plot([0, minute_x], [0, minute_y], linewidth=3, color='blue')\n",
        "\n",
        "    # Draw the second hand\n",
        "    second_angle = np.radians(second * 6 - 90)\n",
        "    second_x = np.cos(second_angle) * 0.9\n",
        "    second_y = np.sin(second_angle) * 0.9\n",
        "    second_hand, = ax.plot([0, second_x], [0, second_y], linewidth=2, color='red')\n",
        "\n",
        "    return hour_hand, minute_hand, second_hand\n",
        "\n",
        "# Create the animation\n",
        "ani = FuncAnimation(fig, update, interval=1000, blit=True)\n",
        "\n",
        "# Show the plot\n",
        "plt.show()"
      ],
      "metadata": {
        "colab": {
          "base_uri": "https://localhost:8080/",
          "height": 495
        },
        "id": "YAZ1QvzWrDEb",
        "outputId": "186f22c2-10e6-4002-8053-b1a5079fe2c6"
      },
      "execution_count": null,
      "outputs": [
        {
          "output_type": "stream",
          "name": "stderr",
          "text": [
            "<ipython-input-14-6ccc57880351>:21: UserWarning: Setting the 'color' property will override the edgecolor or facecolor properties.\n",
            "  circle = plt.Circle((0, 0), 1, color='white', edgecolor='black')\n",
            "<ipython-input-14-6ccc57880351>:59: UserWarning: frames=None which we can infer the length of, did not pass an explicit *save_count* and passed cache_frame_data=True.  To avoid a possibly unbounded cache, frame data caching has been disabled. To suppress this warning either pass `cache_frame_data=False` or `save_count=MAX_FRAMES`.\n",
            "  ani = FuncAnimation(fig, update, interval=1000, blit=True)\n"
          ]
        },
        {
          "output_type": "display_data",
          "data": {
            "text/plain": [
              "<Figure size 640x480 with 1 Axes>"
            ],
            "image/png": "[encoded data removed]"
          },
          "metadata": {}
        }
      ]
    },
    {
      "cell_type": "code",
      "source": [],
      "metadata": {
        "id": "O3P3mb_9sGK5"
      },
      "execution_count": null,
      "outputs": []
    }
  ]
}