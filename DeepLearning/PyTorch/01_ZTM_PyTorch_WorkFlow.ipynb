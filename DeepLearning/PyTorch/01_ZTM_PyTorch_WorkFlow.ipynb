{
  "nbformat": 4,
  "nbformat_minor": 0,
  "metadata": {
    "colab": {
      "provenance": []
    },
    "kernelspec": {
      "name": "python3",
      "display_name": "Python 3"
    },
    "language_info": {
      "name": "python"
    }
  },
  "cells": [
    {
      "cell_type": "markdown",
      "source": [
        "# 01_ZTM_PyTorch WorkFlow\n",
        "\n",
        "Let's explore an example PyTorch end-to-end workflow.\n",
        "\n",
        "Resoruces:\n",
        "* Ground truth notebook - https://github.com/mrdbourke/pytorch-deep-learning/blob/main/01_pytorch_workflow.ipynb\n",
        "* Book version of the notebook: https://www.learnpytorch.io/01_pytorch_workflow/"
      ],
      "metadata": {
        "id": "W0_UnzfW2bSD"
      }
    },
    {
      "cell_type": "code",
      "source": [
        "what_were_covering = { 1 : \"data (preparing and loading)\",\n",
        "                       2 : \"build model\",\n",
        "                       3 : \"fitting the model to data (training)\",\n",
        "                       4 : \"making predictions and evaluate a model (inference)\",\n",
        "                       5 : \"saving and loading a model\",\n",
        "                       6 : \"putting all together\"}\n",
        "what_were_covering"
      ],
      "metadata": {
        "colab": {
          "base_uri": "https://localhost:8080/"
        },
        "id": "oLzUgOEb3ERK",
        "outputId": "2b3a8833-0333-4c0f-a672-cf56ae86e0bf"
      },
      "execution_count": 1,
      "outputs": [
        {
          "output_type": "execute_result",
          "data": {
            "text/plain": [
              "{1: 'data (preparing and loading)',\n",
              " 2: 'build model',\n",
              " 3: 'fitting the model to data (training)',\n",
              " 4: 'making predictions and evaluate a model (inference)',\n",
              " 5: 'saving and loading a model',\n",
              " 6: 'putting all together'}"
            ]
          },
          "metadata": {},
          "execution_count": 1
        }
      ]
    },
    {
      "cell_type": "code",
      "source": [
        "import torch\n",
        "from torch import nn # nn Contains all of pytorch's building blocks for neural networks\n",
        "import matplotlib.pyplot as plt\n",
        "import numpy as np\n",
        "import pandas as pd\n",
        "\n",
        "# Check PyTorch version\n",
        "print(torch.__version__)"
      ],
      "metadata": {
        "colab": {
          "base_uri": "https://localhost:8080/"
        },
        "id": "VKBfNwEg4MD-",
        "outputId": "6c78064f-1d88-4687-e0fa-5dd63537ef0c"
      },
      "execution_count": 2,
      "outputs": [
        {
          "output_type": "stream",
          "name": "stdout",
          "text": [
            "2.2.1+cu121\n"
          ]
        }
      ]
    },
    {
      "cell_type": "markdown",
      "source": [
        "## 1. Data (Preparing and loading)\n",
        "Data can be almost anything.. in machine learning\n",
        "\n",
        "* Excel spreadsheet\n",
        "* Images of any kind\n",
        "* Videos (YouTube has lots of data..)\n",
        "* Audio like songs or podcasts\n",
        "* DNA\n",
        "* Text\n",
        "\n",
        "Machine learning is a game of two parts:\n",
        "1. Get into a numerical representation\n",
        "2. Build a model to learn patterns in that numerical representation\n",
        "\n",
        "To showcase this, let's create some *known* data using the linear regression formula.\n",
        "\n",
        "We'll use a linear regression formula to make a straight line with *known* **parameters.**"
      ],
      "metadata": {
        "id": "AU2_0Uq47SSj"
      }
    },
    {
      "cell_type": "code",
      "source": [
        "# Create *known* parameters\n",
        "weight = 0.7\n",
        "bias = 0.3\n",
        "\n",
        "# Create\n",
        "start = 0\n",
        "end = 1\n",
        "step = 0.02\n",
        "X = torch.arange(start, end, step).unsqueeze(dim = 1)\n",
        "y = weight * X + bias\n",
        "\n",
        "X[:10], X.shape"
      ],
      "metadata": {
        "colab": {
          "base_uri": "https://localhost:8080/"
        },
        "id": "WX7_hubN78x_",
        "outputId": "04b633c1-8194-4b94-bd7f-641d09920e3c"
      },
      "execution_count": 3,
      "outputs": [
        {
          "output_type": "execute_result",
          "data": {
            "text/plain": [
              "(tensor([[0.0000],\n",
              "         [0.0200],\n",
              "         [0.0400],\n",
              "         [0.0600],\n",
              "         [0.0800],\n",
              "         [0.1000],\n",
              "         [0.1200],\n",
              "         [0.1400],\n",
              "         [0.1600],\n",
              "         [0.1800]]),\n",
              " torch.Size([50, 1]))"
            ]
          },
          "metadata": {},
          "execution_count": 3
        }
      ]
    },
    {
      "cell_type": "code",
      "source": [
        "y[:10], y.shape"
      ],
      "metadata": {
        "colab": {
          "base_uri": "https://localhost:8080/"
        },
        "id": "-XukWG2c-Ij5",
        "outputId": "e6cd88ac-f084-4427-9b57-7208b5fa9a7c"
      },
      "execution_count": 4,
      "outputs": [
        {
          "output_type": "execute_result",
          "data": {
            "text/plain": [
              "(tensor([[0.3000],\n",
              "         [0.3140],\n",
              "         [0.3280],\n",
              "         [0.3420],\n",
              "         [0.3560],\n",
              "         [0.3700],\n",
              "         [0.3840],\n",
              "         [0.3980],\n",
              "         [0.4120],\n",
              "         [0.4260]]),\n",
              " torch.Size([50, 1]))"
            ]
          },
          "metadata": {},
          "execution_count": 4
        }
      ]
    },
    {
      "cell_type": "markdown",
      "source": [
        "### Splitting data into training and test sets (one of the most important concepts in machine learning in general)\n",
        "\n",
        "Let's create a training and test set with our data"
      ],
      "metadata": {
        "id": "lwWmWq6Q-W6R"
      }
    },
    {
      "cell_type": "code",
      "source": [
        "# Create a train/test split\n",
        "train_split = int(0.8 * len(X))\n",
        "\n",
        "X_train, y_train = X[:train_split], y[:train_split]\n",
        "X_test, y_test = X[train_split:], y[train_split:]\n",
        "\n",
        "len(X_train), len(y_train), len(X_test), len(y_test)"
      ],
      "metadata": {
        "colab": {
          "base_uri": "https://localhost:8080/"
        },
        "id": "QWoxWnJ-_i0B",
        "outputId": "a03a9941-ead7-4e77-93ee-50c871e592c6"
      },
      "execution_count": 5,
      "outputs": [
        {
          "output_type": "execute_result",
          "data": {
            "text/plain": [
              "(40, 40, 10, 10)"
            ]
          },
          "metadata": {},
          "execution_count": 5
        }
      ]
    },
    {
      "cell_type": "markdown",
      "source": [
        "How might we better visualize our data?\n",
        "\n",
        "This is where the data explorer's motto comes in!\n",
        "\n",
        "\"Visualize, visualize, visualize!\""
      ],
      "metadata": {
        "id": "BLtRY2NMAg4Y"
      }
    },
    {
      "cell_type": "code",
      "source": [
        "def plot_predictions(train_data = X_train,\n",
        "                     train_labels = y_train,\n",
        "                     test_data = X_test,\n",
        "                     test_labels = y_test,\n",
        "                     predictions = None):\n",
        "\n",
        "  \"\"\"\n",
        "  Plots the training data, test data and compares predictions.\n",
        "  \"\"\"\n",
        "  plt.figure(figsize = (10, 7))\n",
        "\n",
        "  # Plot training data in blue\n",
        "  plt.scatter(train_data, train_labels, c = 'b', s = 4, label = 'Training data')\n",
        "\n",
        "  # Plot test data in green\n",
        "  plt.scatter(test_data, test_labels, c = 'g', s = 4, label = 'Testing data')\n",
        "\n",
        "  # Are there prediction?\n",
        "  if predictions is not None:\n",
        "    # Plot the predictions if they exist\n",
        "    plt.scatter(test_data, predictions, c = 'r', s = 4 , label = 'Predictions')\n",
        "\n",
        "  # Show the legend\n",
        "  plt.legend(prop = {'size': 14});"
      ],
      "metadata": {
        "id": "rvyhd1BW_i4D"
      },
      "execution_count": 6,
      "outputs": []
    },
    {
      "cell_type": "code",
      "source": [
        "plot_predictions();"
      ],
      "metadata": {
        "colab": {
          "base_uri": "https://localhost:8080/",
          "height": 599
        },
        "id": "yE495dOb_i7b",
        "outputId": "339c045d-8e91-4f1a-8c04-bf8e7acca832"
      },
      "execution_count": 7,
      "outputs": [
        {
          "output_type": "display_data",
          "data": {
            "text/plain": [
              "<Figure size 1000x700 with 1 Axes>"
            ],
            "image/png": "[encoded data removed]"
          },
          "metadata": {}
        }
      ]
    },
    {
      "cell_type": "markdown",
      "source": [
        "## 2. Build Model\n",
        "\n",
        "Our first PyTorch model!\n",
        "\n",
        "This is very exciting.. let's do it..!\n",
        "\n",
        "What our model does?\n",
        "\n",
        "* Start with random values of weight and bias.\n",
        "* Look at training data and adjust the random values to better represent (or get closer to) the ideal values (the weight & bias values we used to create the data).\n",
        "\n",
        "How does it do so?\n",
        "\n",
        "Through two main algorithms:\n",
        "1. Gradient descent\n",
        "2. Backpropagation"
      ],
      "metadata": {
        "id": "ECyyJcHz_i-z"
      }
    },
    {
      "cell_type": "markdown",
      "source": [
        "* **def forward(self, x: torch.Tensor):** This declares a method named forward that takes two parameters:\n",
        "* **self:** This is a reference to the instance of the class itself. It is used to access variables or methods that belong to the class.\n",
        "* **x:** This is an input tensor (torch.Tensor) that the neural network will process.\n",
        "* **-> torch.Tensor:** This specifies the return type of the method. It indicates that the method will return a tensor (torch.Tensor) after processing the input.\n",
        "\n",
        "#### **nn.Parameter**\n",
        "\n",
        "In PyTorch, nn.Parameter is a class that is used to define parameters (tensors) that are learnable during the training process of a neural network. When you create an instance of nn.Parameter, it automatically registers the tensor as a parameter of the module, making it accessible to the optimizer for updating during training.\n",
        "\n",
        "Here's what nn.Parameter does:\n",
        "\n",
        "**Automatic Registration:** When you create an instance of nn.Parameter, it automatically registers the tensor as a parameter of the module. This means that the tensor will be included in the list of parameters that the optimizer will update during the training process.\n",
        "\n",
        "**Gradient Tracking:** nn.Parameter tensors have requires_grad attribute set to True by default. This means that gradients with respect to these parameters will be computed during the backward pass, allowing for automatic differentiation and gradient-based optimization.\n",
        "\n",
        "**Integration with Optimizers:** Since nn.Parameter tensors are automatically registered as parameters of the module, they are seamlessly integrated with PyTorch optimizers. This allows you to update the parameters using various optimization algorithms such as Stochastic Gradient Descent (SGD), Adam, RMSprop, etc."
      ],
      "metadata": {
        "id": "5NsbVxpBKwaX"
      }
    },
    {
      "cell_type": "markdown",
      "source": [
        "Because we inherited nn.Module class we need to set up our own forward pass method."
      ],
      "metadata": {
        "id": "PAAEhGJxR4Q-"
      }
    },
    {
      "cell_type": "code",
      "source": [
        "# Create linear rergession model class\n",
        "class LinearRegressionModel(nn.Module): # <- almost everything  in PyTorch inherits from nn.Module (Just tf.keras.Layers in tensorflow)\n",
        "  def __init__(self):\n",
        "    super().__init__()\n",
        "    self.weights = nn.Parameter(torch.randn(1, # <- Start with a random weight and try to adjust it to the ideal weight\n",
        "                                            requires_grad = True, # default True: Can this parameter be updated via gradient descent?\n",
        "                                            dtype = torch.float)) # default float32: <- PyTorch loves the datatype torch.float32\n",
        "\n",
        "    self.bias = nn.Parameter(torch.randn(1, # <- Start with a random weight and try to adjust it to the ideal weight\n",
        "                                         requires_grad = True, # default True: Can this parameter be updated via gradient descent?\n",
        "                                         dtype = torch.float)) # default float32: <- PyTorch loves the datatype torch.float32\n",
        "\n",
        "  # Forward method to define the computation in the model\n",
        "  def forward(self, x: torch.Tensor) -> torch.Tensor: # <- \"x\" is the input data\n",
        "    return self.weights * x + self.bias # this is the linear regression formula"
      ],
      "metadata": {
        "id": "Lq1fMRF9_jCC"
      },
      "execution_count": 8,
      "outputs": []
    },
    {
      "cell_type": "markdown",
      "source": [
        "### PyTorch model building essentials\n",
        "\n",
        "* **torch.nn -** contains all of the building blocks for computational graphs (a neural network can be considered a computational graph)\n",
        "* **torch.nn.Parameter -**  what parameters should our model try and learn, often a PyTorch layer from torch.nn will set these for us.\n",
        "* **torch.nn.Module -** The base class for all neural network modules, if you subclass it, you should overwrite forward().\n",
        "* **torch.optim -** this is where the optimizers in PyTorch live, they will help with gradient descent.\n",
        "* **def forward() -** All nn.Module subclasses require you to overwrite forward(), Thismethod describes what happens in the forward computations.\n",
        "* **torch.utils.data.Dataset -** Represents a map between key(label) and sample (features) pairs of your data. Such as images and their associated labels.\n",
        "* **torch.utils.data.DataLoader -** Creates a Python iterable over a torch Dataset(allows you to iterate over your data)."
      ],
      "metadata": {
        "id": "JJM5V5r__jFT"
      }
    },
    {
      "cell_type": "markdown",
      "source": [
        "### Checking the contents of our PyTorch model\n",
        "\n",
        "Now we've created a model, let's see what what's inside.\n",
        "\n",
        "So we can check out our model parameters or what's inside our model using `.parameters().`"
      ],
      "metadata": {
        "id": "b57yEYop_jIw"
      }
    },
    {
      "cell_type": "code",
      "source": [
        "# Create a random seed\n",
        "torch.manual_seed(42)\n",
        "\n",
        "# create an instance of the model (this is a subclass of nn.Module)\n",
        "model_0 = LinearRegressionModel()\n",
        "\n",
        "# Check out the model parameters\n",
        "list(model_0.parameters())"
      ],
      "metadata": {
        "colab": {
          "base_uri": "https://localhost:8080/"
        },
        "id": "aqpzDza3_jMJ",
        "outputId": "af6f3ee5-d86a-44eb-e4d4-329970f4e5dc"
      },
      "execution_count": 9,
      "outputs": [
        {
          "output_type": "execute_result",
          "data": {
            "text/plain": [
              "[Parameter containing:\n",
              " tensor([0.3367], requires_grad=True),\n",
              " Parameter containing:\n",
              " tensor([0.1288], requires_grad=True)]"
            ]
          },
          "metadata": {},
          "execution_count": 9
        }
      ]
    },
    {
      "cell_type": "code",
      "source": [
        "# List named parameters\n",
        "model_0.state_dict()"
      ],
      "metadata": {
        "colab": {
          "base_uri": "https://localhost:8080/"
        },
        "id": "dTq_qw1A_jRi",
        "outputId": "76dea0d0-0970-462d-ed40-c757eafc2663"
      },
      "execution_count": 10,
      "outputs": [
        {
          "output_type": "execute_result",
          "data": {
            "text/plain": [
              "OrderedDict([('weights', tensor([0.3367])), ('bias', tensor([0.1288]))])"
            ]
          },
          "metadata": {},
          "execution_count": 10
        }
      ]
    },
    {
      "cell_type": "markdown",
      "source": [
        "### Making Predictions using `torch.inference_model()`\n",
        "\n",
        "To check our model's predictive power, let's see how well it predicts `y_test` based on `X_test`.\n",
        "\n",
        "When we pass data through our model it's going to run it through the forward method."
      ],
      "metadata": {
        "id": "G4iJAhEe_jVE"
      }
    },
    {
      "cell_type": "markdown",
      "source": [
        "**with torch.inference_mode():** This line of code enters a context where inference mode is enabled. Inference mode is a mode in PyTorch where certain operations, such as dropout and batch normalization, behave differently compared to training mode. In inference mode, dropout layers are disabled, and batch normalization layers use precomputed running statistics instead of batch statistics.\n",
        "\n",
        "**y_preds = model_0(X_test):** Within the inference mode context, this line of code makes predictions using the model (model_0) on the test dataset (X_test). It passes the test dataset (X_test) through the model (model_0) to obtain the predicted output (y_preds)."
      ],
      "metadata": {
        "id": "zxY0k3isMqpI"
      }
    },
    {
      "cell_type": "code",
      "source": [
        "y_preds = model_0(X_test)\n",
        "y_preds"
      ],
      "metadata": {
        "colab": {
          "base_uri": "https://localhost:8080/"
        },
        "id": "bWNQQT3aNbyu",
        "outputId": "2767b370-9bdf-418d-a647-912efbe1767e"
      },
      "execution_count": 11,
      "outputs": [
        {
          "output_type": "execute_result",
          "data": {
            "text/plain": [
              "tensor([[0.3982],\n",
              "        [0.4049],\n",
              "        [0.4116],\n",
              "        [0.4184],\n",
              "        [0.4251],\n",
              "        [0.4318],\n",
              "        [0.4386],\n",
              "        [0.4453],\n",
              "        [0.4520],\n",
              "        [0.4588]], grad_fn=<AddBackward0>)"
            ]
          },
          "metadata": {},
          "execution_count": 11
        }
      ]
    },
    {
      "cell_type": "code",
      "source": [
        "# Make predictions with model\n",
        "with torch.inference_mode():\n",
        "  y_preds = model_0(X_test)\n",
        "\n",
        "# OR You can also do something similar to torch.no_grad\n",
        "with torch.no_grad():\n",
        "  y_preds = model_0(X_test)\n",
        "\n",
        "y_preds"
      ],
      "metadata": {
        "colab": {
          "base_uri": "https://localhost:8080/"
        },
        "id": "SyICBTsf_jXB",
        "outputId": "c368c471-6a47-42b9-a066-350c33c6361c"
      },
      "execution_count": 12,
      "outputs": [
        {
          "output_type": "execute_result",
          "data": {
            "text/plain": [
              "tensor([[0.3982],\n",
              "        [0.4049],\n",
              "        [0.4116],\n",
              "        [0.4184],\n",
              "        [0.4251],\n",
              "        [0.4318],\n",
              "        [0.4386],\n",
              "        [0.4453],\n",
              "        [0.4520],\n",
              "        [0.4588]])"
            ]
          },
          "metadata": {},
          "execution_count": 12
        }
      ]
    },
    {
      "cell_type": "code",
      "source": [
        "y_test"
      ],
      "metadata": {
        "colab": {
          "base_uri": "https://localhost:8080/"
        },
        "id": "1swPARSQ_jZl",
        "outputId": "c0fb636e-4d41-4b51-8811-aa7f4e427a2d"
      },
      "execution_count": 13,
      "outputs": [
        {
          "output_type": "execute_result",
          "data": {
            "text/plain": [
              "tensor([[0.8600],\n",
              "        [0.8740],\n",
              "        [0.8880],\n",
              "        [0.9020],\n",
              "        [0.9160],\n",
              "        [0.9300],\n",
              "        [0.9440],\n",
              "        [0.9580],\n",
              "        [0.9720],\n",
              "        [0.9860]])"
            ]
          },
          "metadata": {},
          "execution_count": 13
        }
      ]
    },
    {
      "cell_type": "code",
      "source": [
        "plot_predictions(predictions = y_preds)"
      ],
      "metadata": {
        "colab": {
          "base_uri": "https://localhost:8080/",
          "height": 599
        },
        "id": "R3NWssLj_jc0",
        "outputId": "5264f4a4-a040-457d-846c-d02300823f9d"
      },
      "execution_count": 14,
      "outputs": [
        {
          "output_type": "display_data",
          "data": {
            "text/plain": [
              "<Figure size 1000x700 with 1 Axes>"
            ],
            "image/png": "[encoded data removed]"
          },
          "metadata": {}
        }
      ]
    },
    {
      "cell_type": "markdown",
      "source": [
        "## 3. Train Model\n",
        "\n",
        "The whole idea of training is for a model to move from some *unknown* parameters (these may be random) to some *known* parameters.\n",
        "\n",
        "Or in other words from a poor representation of the data to a better representation of the data.\n",
        "\n",
        "One way to measure how poor or how wrong your models prediction are is to use loss functions.\n",
        "\n",
        "* Note: Loss function may also be called cost function or criterion in diffrent case. For our case, we're going to refer to it as a loss function.\n",
        "\n",
        "Things we need to train:\n",
        "\n",
        "* **Loss Function**: A function to measure how wrong your model's predictions are to the ideal outputs, lower the better.\n",
        "\n",
        "* **Optimizer** :  Takes into account the loss of a model and adjusts the model's parameters (e.g. weight & bias in our case to improve the loss function and specifically for PyTorch we need a training loop and a testing loop). https://pytorch.org/docs/stable/optim.html\n",
        "\n",
        " - Inside the optimizer you'll often have to set parameters:\n",
        "   * `params` - The model parameters you'd like to optimize, for example `params = model_0.parameters()`\n",
        "   * `lr` (learning rate) -  the learning rate is a hyperparameter that defines howbig/small the optimizer changes the parameters with each step( a small `lr` results in small changes, a large `lr` results in large changes)."
      ],
      "metadata": {
        "id": "jDUC6Jjo_jgO"
      }
    },
    {
      "cell_type": "code",
      "source": [
        "list(model_0.parameters())"
      ],
      "metadata": {
        "colab": {
          "base_uri": "https://localhost:8080/"
        },
        "id": "N-w7FwHl_jjp",
        "outputId": "59f9daab-d1d3-49c1-8587-21d297b5eb97"
      },
      "execution_count": 15,
      "outputs": [
        {
          "output_type": "execute_result",
          "data": {
            "text/plain": [
              "[Parameter containing:\n",
              " tensor([0.3367], requires_grad=True),\n",
              " Parameter containing:\n",
              " tensor([0.1288], requires_grad=True)]"
            ]
          },
          "metadata": {},
          "execution_count": 15
        }
      ]
    },
    {
      "cell_type": "code",
      "source": [
        "# Check out the models parameters ( a parameter is a value that the model sets itself)\n",
        "model_0.state_dict()"
      ],
      "metadata": {
        "colab": {
          "base_uri": "https://localhost:8080/"
        },
        "id": "TD4R_QHUQGsk",
        "outputId": "401f36e6-2152-4987-d949-d7a4f0d936d5"
      },
      "execution_count": 16,
      "outputs": [
        {
          "output_type": "execute_result",
          "data": {
            "text/plain": [
              "OrderedDict([('weights', tensor([0.3367])), ('bias', tensor([0.1288]))])"
            ]
          },
          "metadata": {},
          "execution_count": 16
        }
      ]
    },
    {
      "cell_type": "code",
      "source": [
        "# Setup a loss function\n",
        "loss_fn = nn.L1Loss()\n",
        "\n",
        "# Setup an Optimizer (stochastic gradient descent)\n",
        "optimizer = torch.optim.SGD(params = model_0.parameters(), # what parameters of the model needs to be improved\n",
        "                            lr = 0.01) # Learning rate = possibly the most important hyperparameter you can set."
      ],
      "metadata": {
        "id": "n9jSYnTrQLdI"
      },
      "execution_count": 17,
      "outputs": []
    },
    {
      "cell_type": "markdown",
      "source": [
        "## Building a training loop (and a testing loop) in PyTorch\n",
        "\n",
        "A couple of thing we need in a training loop:\n",
        "\n",
        "0. Loop through the data\n",
        "1. Forward pass (this involves data moving through our model's `forward()` functions) to make predictions on the data - also called forward propagation\n",
        "2. Calculate the loss (compare forward pass predictions to ground truth labels)\n",
        "3. Optimizer zero grad\n",
        "4. Loss Backward - move backward through the network to calculate the gradients of each of the parameters of our model with respect to the loss (**backporpagation**)\n",
        "5. Optimizer step - use the Optimizer to adjust our model parameters to try and improve the loss. (**gradient Descent**)                                  \n",
        "                 "
      ],
      "metadata": {
        "id": "RWiB6UfF_NWL"
      }
    },
    {
      "cell_type": "code",
      "source": [
        "with torch.no_grad():\n",
        "  param = list(model_0.parameters())\n",
        "\n",
        "param"
      ],
      "metadata": {
        "colab": {
          "base_uri": "https://localhost:8080/"
        },
        "id": "Aq__kPmxEMHb",
        "outputId": "55344b1e-019a-4f05-d85f-98419a41df17"
      },
      "execution_count": 18,
      "outputs": [
        {
          "output_type": "execute_result",
          "data": {
            "text/plain": [
              "[Parameter containing:\n",
              " tensor([0.3367], requires_grad=True),\n",
              " Parameter containing:\n",
              " tensor([0.1288], requires_grad=True)]"
            ]
          },
          "metadata": {},
          "execution_count": 18
        }
      ]
    },
    {
      "cell_type": "code",
      "source": [
        "list(model_0.parameters())"
      ],
      "metadata": {
        "colab": {
          "base_uri": "https://localhost:8080/"
        },
        "id": "7xYedcoyEXEy",
        "outputId": "85078bde-aff2-4a6f-82b5-b2effb2d7d92"
      },
      "execution_count": 19,
      "outputs": [
        {
          "output_type": "execute_result",
          "data": {
            "text/plain": [
              "[Parameter containing:\n",
              " tensor([0.3367], requires_grad=True),\n",
              " Parameter containing:\n",
              " tensor([0.1288], requires_grad=True)]"
            ]
          },
          "metadata": {},
          "execution_count": 19
        }
      ]
    },
    {
      "cell_type": "markdown",
      "source": [
        "### **`Zeroing the Optimizer Gradients`**\n",
        "\n",
        "Zeroing the optimizer gradients before each epoch is a crucial step in the training process to ensure that the gradients are calculated correctly for each batch and that they don't accumulate over multiple iterations. Here's why PyTorch zeros the optimizer gradients at the beginning of each epoch:\n",
        "\n",
        "**Accumulation of Gradients:** During backpropagation, gradients are computed for each parameter based on the loss function and the current input data. If gradients were not zeroed before each epoch, the gradients from the previous epoch would accumulate with the gradients computed in the current epoch. This accumulation could lead to incorrect updates of the model parameters and affect the training process negatively.\n",
        "\n",
        "**Consistent Updates:** Zeroing the gradients ensures that the optimizer starts with a clean slate for each batch or epoch. It helps maintain consistency in the training process and ensures that each parameter update is based only on the gradients computed from the current batch of data.\n",
        "\n",
        "**Preventing Stale Gradients:** Stale gradients, i.e., gradients that are outdated or no longer relevant, can occur if gradients are not zeroed before each epoch. By zeroing the gradients, PyTorch ensures that only the gradients computed from the most recent forward pass are used for parameter updates.\n",
        "\n",
        "**Avoiding Memory Issues:** Accumulating gradients over multiple epochs can lead to memory issues, especially when training on large datasets or with complex models. Zeroing the gradients helps prevent excessive memory usage by clearing the gradients from memory after each parameter update.\n",
        "\n",
        "In summary, zeroing the optimizer gradients before each epoch helps maintain the correctness and stability of the training process, prevents accumulation of stale gradients, and avoids memory issues during training."
      ],
      "metadata": {
        "id": "tA0k-dk3Jrs5"
      }
    },
    {
      "cell_type": "code",
      "source": [
        "torch.manual_seed(42)\n",
        "\n",
        "# An epoch is one loop through the data.. ( this is a hyperparameter because we set it ourselves)\n",
        "epochs = 200\n",
        "\n",
        "# Track different values\n",
        "epoch_count = []\n",
        "loss_values = []\n",
        "test_loss_values = []\n",
        "\n",
        "### Training\n",
        "# 0. Loop through the data\n",
        "for epoch in range(epochs):\n",
        "  # Set the model to training mode\n",
        "  model_0.train() # Train mode in PyTorch sets all parameters that require gradients\n",
        "\n",
        "  # 1. Forward pass on the training data using the forward() method inside\n",
        "  y_pred = model_0(X_train)\n",
        "\n",
        "  # 2. Calculate the loss (how different are the model's predictions to the true values)\n",
        "  loss = loss_fn(y_pred, y_train)\n",
        "  #print(f\"Loss: {loss}\")\n",
        "\n",
        "  # Optimizer zero gradients of the optimizer (they accumulate by default)\n",
        "  optimizer.zero_grad()\n",
        "\n",
        "  # 4. Perform backpropagation on the loss with respect to the parameters of the model\n",
        "  loss.backward()\n",
        "\n",
        "  # 5. Step the optimizer (perform gradient descent)\n",
        "  optimizer.step() # by default how the optimizer changes will accumulate through the loop so.. we have to zero them above in step 3 for the nest iteration of the loop\n",
        "\n",
        "  ### Testing\n",
        "  model_0.eval() # Turns off different setting in the model not needed for evaluation/testing (dropout, batchnorm layers)\n",
        "\n",
        "  # Gradient tracking is not needed in inference\n",
        "  with torch.inference_mode(): # Turns off gradient tracking & a couple more things behind the scenes\n",
        "  # with torch.no_grad(): # you may also see torch.no_grad() in PyTorch older versions\n",
        "    # 1. Do the forward pass\n",
        "    test_pred = model_0(X_test)\n",
        "\n",
        "    # 2. Calculate the loss\n",
        "    test_loss = loss_fn(test_pred, y_test)\n",
        "\n",
        "  # Print out what's happening\n",
        "  if epoch % 10==0:\n",
        "    epoch_count.append(epoch)\n",
        "    loss_values.append(loss)\n",
        "    test_loss_values.append(test_loss)\n",
        "\n",
        "    print(f\"Epoch: {epoch} | Test: {loss} | Test Loss: {test_loss}\")\n",
        "\n",
        "    # Print out model state_dict()\n",
        "    print(model_0.state_dict())"
      ],
      "metadata": {
        "colab": {
          "base_uri": "https://localhost:8080/"
        },
        "id": "hgDtidWNBsRF",
        "outputId": "9dc40d9d-21dd-4a1c-a467-ecaf5cfadcc2"
      },
      "execution_count": 20,
      "outputs": [
        {
          "output_type": "stream",
          "name": "stdout",
          "text": [
            "Epoch: 0 | Test: 0.31288138031959534 | Test Loss: 0.48106518387794495\n",
            "OrderedDict([('weights', tensor([0.3406])), ('bias', tensor([0.1388]))])\n",
            "Epoch: 10 | Test: 0.1976713240146637 | Test Loss: 0.3463551998138428\n",
            "OrderedDict([('weights', tensor([0.3796])), ('bias', tensor([0.2388]))])\n",
            "Epoch: 20 | Test: 0.08908725529909134 | Test Loss: 0.21729660034179688\n",
            "OrderedDict([('weights', tensor([0.4184])), ('bias', tensor([0.3333]))])\n",
            "Epoch: 30 | Test: 0.053148526698350906 | Test Loss: 0.14464017748832703\n",
            "OrderedDict([('weights', tensor([0.4512])), ('bias', tensor([0.3768]))])\n",
            "Epoch: 40 | Test: 0.04543796554207802 | Test Loss: 0.11360953003168106\n",
            "OrderedDict([('weights', tensor([0.4748])), ('bias', tensor([0.3868]))])\n",
            "Epoch: 50 | Test: 0.04167863354086876 | Test Loss: 0.09919948130846024\n",
            "OrderedDict([('weights', tensor([0.4938])), ('bias', tensor([0.3843]))])\n",
            "Epoch: 60 | Test: 0.03818932920694351 | Test Loss: 0.08886633068323135\n",
            "OrderedDict([('weights', tensor([0.5116])), ('bias', tensor([0.3788]))])\n",
            "Epoch: 70 | Test: 0.03476089984178543 | Test Loss: 0.0805937647819519\n",
            "OrderedDict([('weights', tensor([0.5288])), ('bias', tensor([0.3718]))])\n",
            "Epoch: 80 | Test: 0.03132382780313492 | Test Loss: 0.07232122868299484\n",
            "OrderedDict([('weights', tensor([0.5459])), ('bias', tensor([0.3648]))])\n",
            "Epoch: 90 | Test: 0.02788739837706089 | Test Loss: 0.06473556160926819\n",
            "OrderedDict([('weights', tensor([0.5629])), ('bias', tensor([0.3573]))])\n",
            "Epoch: 100 | Test: 0.024458957836031914 | Test Loss: 0.05646304413676262\n",
            "OrderedDict([('weights', tensor([0.5800])), ('bias', tensor([0.3503]))])\n",
            "Epoch: 110 | Test: 0.021020207554101944 | Test Loss: 0.04819049686193466\n",
            "OrderedDict([('weights', tensor([0.5972])), ('bias', tensor([0.3433]))])\n",
            "Epoch: 120 | Test: 0.01758546568453312 | Test Loss: 0.04060482233762741\n",
            "OrderedDict([('weights', tensor([0.6141])), ('bias', tensor([0.3358]))])\n",
            "Epoch: 130 | Test: 0.014155393466353416 | Test Loss: 0.03233227878808975\n",
            "OrderedDict([('weights', tensor([0.6313])), ('bias', tensor([0.3288]))])\n",
            "Epoch: 140 | Test: 0.010716589167714119 | Test Loss: 0.024059748277068138\n",
            "OrderedDict([('weights', tensor([0.6485])), ('bias', tensor([0.3218]))])\n",
            "Epoch: 150 | Test: 0.0072835334576666355 | Test Loss: 0.016474086791276932\n",
            "OrderedDict([('weights', tensor([0.6654])), ('bias', tensor([0.3143]))])\n",
            "Epoch: 160 | Test: 0.0038517764769494534 | Test Loss: 0.008201557211577892\n",
            "OrderedDict([('weights', tensor([0.6826])), ('bias', tensor([0.3073]))])\n",
            "Epoch: 170 | Test: 0.008932482451200485 | Test Loss: 0.005023092031478882\n",
            "OrderedDict([('weights', tensor([0.6951])), ('bias', tensor([0.2993]))])\n",
            "Epoch: 180 | Test: 0.008932482451200485 | Test Loss: 0.005023092031478882\n",
            "OrderedDict([('weights', tensor([0.6951])), ('bias', tensor([0.2993]))])\n",
            "Epoch: 190 | Test: 0.008932482451200485 | Test Loss: 0.005023092031478882\n",
            "OrderedDict([('weights', tensor([0.6951])), ('bias', tensor([0.2993]))])\n"
          ]
        }
      ]
    },
    {
      "cell_type": "code",
      "source": [
        "# Plot the loss curves\n",
        "plt.plot(epoch_count, torch.tensor(loss_values).numpy(), label = 'Train loss')\n",
        "plt.plot(epoch_count, test_loss_values, label = ' Test loss')\n",
        "plt.title(\"training and test loss curves\")\n",
        "plt.ylabel('Loss')\n",
        "plt.xlabel('Epochs')\n",
        "plt.legend()"
      ],
      "metadata": {
        "colab": {
          "base_uri": "https://localhost:8080/",
          "height": 489
        },
        "id": "XDlwVRusPyAF",
        "outputId": "bad7a002-3eb4-4360-cecd-c928b216cac5"
      },
      "execution_count": 21,
      "outputs": [
        {
          "output_type": "execute_result",
          "data": {
            "text/plain": [
              "<matplotlib.legend.Legend at 0x7e29e018ab30>"
            ]
          },
          "metadata": {},
          "execution_count": 21
        },
        {
          "output_type": "display_data",
          "data": {
            "text/plain": [
              "<Figure size 640x480 with 1 Axes>"
            ],
            "image/png": "[encoded data removed]"
          },
          "metadata": {}
        }
      ]
    },
    {
      "cell_type": "code",
      "source": [
        "model_0.state_dict()"
      ],
      "metadata": {
        "colab": {
          "base_uri": "https://localhost:8080/"
        },
        "id": "ibRLpe6NHafS",
        "outputId": "46d2a449-4ac7-4fcd-b0b5-a3b3faa73e7d"
      },
      "execution_count": 22,
      "outputs": [
        {
          "output_type": "execute_result",
          "data": {
            "text/plain": [
              "OrderedDict([('weights', tensor([0.6990])), ('bias', tensor([0.3093]))])"
            ]
          },
          "metadata": {},
          "execution_count": 22
        }
      ]
    },
    {
      "cell_type": "code",
      "source": [
        "with torch.inference_mode():\n",
        "  y_preds_new = model_0(X_test)"
      ],
      "metadata": {
        "id": "FqR2hCvaHadU"
      },
      "execution_count": 23,
      "outputs": []
    },
    {
      "cell_type": "code",
      "source": [
        "plot_predictions(predictions = y_preds)"
      ],
      "metadata": {
        "colab": {
          "base_uri": "https://localhost:8080/",
          "height": 599
        },
        "id": "Q5_HKcLGHaae",
        "outputId": "f0b31150-4c2a-4282-f7bf-926dada76ac5"
      },
      "execution_count": 24,
      "outputs": [
        {
          "output_type": "display_data",
          "data": {
            "text/plain": [
              "<Figure size 1000x700 with 1 Axes>"
            ],
            "image/png": "[encoded data removed]"
          },
          "metadata": {}
        }
      ]
    },
    {
      "cell_type": "code",
      "source": [
        "plot_predictions(predictions = y_preds_new)"
      ],
      "metadata": {
        "colab": {
          "base_uri": "https://localhost:8080/",
          "height": 599
        },
        "id": "-ONgEf72HaYt",
        "outputId": "869a43b8-3050-4a24-881c-d9cec1b93a7a"
      },
      "execution_count": 25,
      "outputs": [
        {
          "output_type": "display_data",
          "data": {
            "text/plain": [
              "<Figure size 1000x700 with 1 Axes>"
            ],
            "image/png": "[encoded data removed]"
          },
          "metadata": {}
        }
      ]
    },
    {
      "cell_type": "markdown",
      "source": [
        "## Saving a model in PyTorch\n",
        "\n",
        "There are three main methods you should know about for saving and loading models in PyTorch:\n",
        "1. `torch.save()` - allows you save a PyTorch object in python's pickle format\n",
        "2. `torch.load()` -  allows you to load a saved PyTorch object\n",
        "3. `torch.nn.Module.load_state_dict()` - this allows to load a model's saved state dictionary\n",
        "\n",
        "PyTorch save & load code tutorial : https://pytorch.org/tutorials/beginner/saving_loading_models.html"
      ],
      "metadata": {
        "id": "AQ3KDVCzHaVN"
      }
    },
    {
      "cell_type": "code",
      "source": [
        "# Saving our pytorch model\n",
        "from pathlib import Path\n",
        "\n",
        "# 1. Create models directory\n",
        "MODEL_PATH =  Path(\"models\")\n",
        "MODEL_PATH.mkdir(parents = True, exist_ok = True)\n",
        "\n",
        "# 2. Create model save path\n",
        "MODEL_NAME =  \"01_pytorch_workflow_model_0.pth\" # A common PyTorch convention is to save models using wither a .pt or .pth file extension\n",
        "MODEL_SAVE_PATH = MODEL_PATH / MODEL_NAME\n",
        "\n",
        "# 3. Save the model model_0.state_dict() - PyTorch recommended way\n",
        "print(f\"Saving model to : {MODEL_SAVE_PATH}\")\n",
        "torch.save(obj = model_0.state_dict(),\n",
        "           f = MODEL_SAVE_PATH)"
      ],
      "metadata": {
        "colab": {
          "base_uri": "https://localhost:8080/"
        },
        "id": "_h3BrHi9Br_i",
        "outputId": "5c30e531-84cb-4ecf-abe5-c84c39f5b90a"
      },
      "execution_count": 26,
      "outputs": [
        {
          "output_type": "stream",
          "name": "stdout",
          "text": [
            "Saving model to : models/01_pytorch_workflow_model_0.pth\n"
          ]
        }
      ]
    },
    {
      "cell_type": "code",
      "source": [
        "! ls -l models"
      ],
      "metadata": {
        "colab": {
          "base_uri": "https://localhost:8080/"
        },
        "id": "zq2KbfUEZO2k",
        "outputId": "ff44013d-79d3-4469-b4b8-6aaae9ff0ef0"
      },
      "execution_count": 27,
      "outputs": [
        {
          "output_type": "stream",
          "name": "stdout",
          "text": [
            "total 4\n",
            "-rw-r--r-- 1 root root 1680 Apr 20 15:40 01_pytorch_workflow_model_0.pth\n"
          ]
        }
      ]
    },
    {
      "cell_type": "markdown",
      "source": [
        "## Loading a PyTorch Model\n",
        "\n",
        "Since we saved our model's `state_dict()` rather the entire model, we'll create a new instance of our model class and load the saved `state_dict()` into that."
      ],
      "metadata": {
        "id": "Z4TBMhrOZ2h3"
      }
    },
    {
      "cell_type": "code",
      "source": [
        "model_0.state_dict()"
      ],
      "metadata": {
        "colab": {
          "base_uri": "https://localhost:8080/"
        },
        "id": "-UxoFv9Tb4GI",
        "outputId": "716fc856-92c5-4574-e021-1bf2eac3ba28"
      },
      "execution_count": 28,
      "outputs": [
        {
          "output_type": "execute_result",
          "data": {
            "text/plain": [
              "OrderedDict([('weights', tensor([0.6990])), ('bias', tensor([0.3093]))])"
            ]
          },
          "metadata": {},
          "execution_count": 28
        }
      ]
    },
    {
      "cell_type": "code",
      "source": [
        "# To load in a saved state_dict() we have to instantiate a new instance of our model class\n",
        "loaded_model_0 = LinearRegressionModel()\n",
        "\n",
        "# Load the saved state_dict() of model_0 (this will update the new instance with updated parameters)\n",
        "loaded_model_0.load_state_dict(torch.load(f = MODEL_SAVE_PATH))"
      ],
      "metadata": {
        "colab": {
          "base_uri": "https://localhost:8080/"
        },
        "id": "HFHsQ-_Mb4C5",
        "outputId": "98357990-9f4a-41a8-9ac9-f440fcaf118a"
      },
      "execution_count": 29,
      "outputs": [
        {
          "output_type": "execute_result",
          "data": {
            "text/plain": [
              "<All keys matched successfully>"
            ]
          },
          "metadata": {},
          "execution_count": 29
        }
      ]
    },
    {
      "cell_type": "code",
      "source": [
        "loaded_model_0.state_dict()"
      ],
      "metadata": {
        "colab": {
          "base_uri": "https://localhost:8080/"
        },
        "id": "Bg8o0bfDb4Ah",
        "outputId": "e0847023-241d-40e1-e50f-4ee926772910"
      },
      "execution_count": 30,
      "outputs": [
        {
          "output_type": "execute_result",
          "data": {
            "text/plain": [
              "OrderedDict([('weights', tensor([0.6990])), ('bias', tensor([0.3093]))])"
            ]
          },
          "metadata": {},
          "execution_count": 30
        }
      ]
    },
    {
      "cell_type": "code",
      "source": [
        "# Make some predictions with our loaded model\n",
        "loaded_model_0.eval()\n",
        "with torch.inference_mode():\n",
        "  loaded_model_preds = loaded_model_0(X_test)\n",
        "\n",
        "loaded_model_preds"
      ],
      "metadata": {
        "colab": {
          "base_uri": "https://localhost:8080/"
        },
        "id": "5N2kmrqMb381",
        "outputId": "5c5ce63b-d15b-4862-a3aa-882b80fe8780"
      },
      "execution_count": 31,
      "outputs": [
        {
          "output_type": "execute_result",
          "data": {
            "text/plain": [
              "tensor([[0.8685],\n",
              "        [0.8825],\n",
              "        [0.8965],\n",
              "        [0.9105],\n",
              "        [0.9245],\n",
              "        [0.9384],\n",
              "        [0.9524],\n",
              "        [0.9664],\n",
              "        [0.9804],\n",
              "        [0.9944]])"
            ]
          },
          "metadata": {},
          "execution_count": 31
        }
      ]
    },
    {
      "cell_type": "code",
      "source": [
        "# Make some models preds\n",
        "model_0.eval()\n",
        "with torch.inference_mode():\n",
        "  y_preds = model_0(X_test)"
      ],
      "metadata": {
        "id": "4B8IUMgLdKCe"
      },
      "execution_count": 32,
      "outputs": []
    },
    {
      "cell_type": "code",
      "source": [
        "# Compare loaded model preds with the original model preds\n",
        "y_preds == loaded_model_preds"
      ],
      "metadata": {
        "colab": {
          "base_uri": "https://localhost:8080/"
        },
        "id": "GzrhQ89nb35q",
        "outputId": "4846e8e1-5c3f-4fbc-e300-a347a9a85864"
      },
      "execution_count": 33,
      "outputs": [
        {
          "output_type": "execute_result",
          "data": {
            "text/plain": [
              "tensor([[True],\n",
              "        [True],\n",
              "        [True],\n",
              "        [True],\n",
              "        [True],\n",
              "        [True],\n",
              "        [True],\n",
              "        [True],\n",
              "        [True],\n",
              "        [True]])"
            ]
          },
          "metadata": {},
          "execution_count": 33
        }
      ]
    },
    {
      "cell_type": "markdown",
      "source": [
        "## 6. Putting it all together\n",
        "\n",
        "Let's go back through steps above and see it all in one place"
      ],
      "metadata": {
        "id": "tCICL4oqdD8A"
      }
    },
    {
      "cell_type": "code",
      "source": [
        "# Import PyTorch and Matplotlib\n",
        "import torch\n",
        "from torch import nn\n",
        "import matplotlib.pyplot as plt\n",
        "import numpy as np\n",
        "\n",
        "print(torch.__version__)"
      ],
      "metadata": {
        "colab": {
          "base_uri": "https://localhost:8080/"
        },
        "id": "3YyLbJPrK7EB",
        "outputId": "98229765-0063-48c7-dc49-323e4759243e"
      },
      "execution_count": 34,
      "outputs": [
        {
          "output_type": "stream",
          "name": "stdout",
          "text": [
            "2.2.1+cu121\n"
          ]
        }
      ]
    },
    {
      "cell_type": "markdown",
      "source": [
        "Create device agnostic code.\n",
        "\n",
        "This means if we've got access to a GPU, our code will use it (for potentially faster computing).\n",
        "\n",
        "If no GPU is available, the code will default to using CPU."
      ],
      "metadata": {
        "id": "dNF6PfcUK7K8"
      }
    },
    {
      "cell_type": "code",
      "source": [
        "# Setup device agnostic code\n",
        "device  = 'cuda' if torch.cuda.is_available() else 'cpu'\n",
        "print(f'Using device: {device}')"
      ],
      "metadata": {
        "colab": {
          "base_uri": "https://localhost:8080/"
        },
        "id": "FF7KYKCiLlv2",
        "outputId": "f4a84f2d-30ce-4530-8dda-929f5e2ffe55"
      },
      "execution_count": 36,
      "outputs": [
        {
          "output_type": "stream",
          "name": "stdout",
          "text": [
            "Using device: cpu\n"
          ]
        }
      ]
    },
    {
      "cell_type": "markdown",
      "source": [
        "### 6.1 Data"
      ],
      "metadata": {
        "id": "IxpgqdywK69L"
      }
    },
    {
      "cell_type": "code",
      "source": [
        "# Create some data using the linear regression formula of y = weight * X + bias\n",
        "weight = 0.8\n",
        "bias = 0.4\n",
        "\n",
        "# Create range values\n",
        "start = 0\n",
        "end = 1\n",
        "step = 0.02\n",
        "\n",
        "# Create X and y (features and labels)\n",
        "X = torch.arange(start, end, step).unsqueeze(dim = 1) # without unsqueeze, errors will pop up\n",
        "y = weight * X + bias\n",
        "X[:10], y[:10]"
      ],
      "metadata": {
        "colab": {
          "base_uri": "https://localhost:8080/"
        },
        "id": "L4SRTgCAL1pR",
        "outputId": "e675615e-a302-4b37-9670-fa15b38faa3d"
      },
      "execution_count": 42,
      "outputs": [
        {
          "output_type": "execute_result",
          "data": {
            "text/plain": [
              "(tensor([[0.0000],\n",
              "         [0.0200],\n",
              "         [0.0400],\n",
              "         [0.0600],\n",
              "         [0.0800],\n",
              "         [0.1000],\n",
              "         [0.1200],\n",
              "         [0.1400],\n",
              "         [0.1600],\n",
              "         [0.1800]]),\n",
              " tensor([[0.4000],\n",
              "         [0.4160],\n",
              "         [0.4320],\n",
              "         [0.4480],\n",
              "         [0.4640],\n",
              "         [0.4800],\n",
              "         [0.4960],\n",
              "         [0.5120],\n",
              "         [0.5280],\n",
              "         [0.5440]]))"
            ]
          },
          "metadata": {},
          "execution_count": 42
        }
      ]
    },
    {
      "cell_type": "code",
      "source": [
        "# Split the data\n",
        "train_split = int(0.8 * len(X))\n",
        "X_train, y_train = X[:train_split], y[:train_split]\n",
        "X_test, y_test = X[train_split:], y[train_split:]\n",
        "len(X_train), len(X_test), len(y_train), len(y_test)"
      ],
      "metadata": {
        "colab": {
          "base_uri": "https://localhost:8080/"
        },
        "id": "q9u41lufM-16",
        "outputId": "b6497331-0561-4f8a-f056-ae21ddbf2fbd"
      },
      "execution_count": 43,
      "outputs": [
        {
          "output_type": "execute_result",
          "data": {
            "text/plain": [
              "(40, 10, 40, 10)"
            ]
          },
          "metadata": {},
          "execution_count": 43
        }
      ]
    },
    {
      "cell_type": "code",
      "source": [
        "# Plot the data\n",
        "def plot_predictions(train_data = X_train,\n",
        "                     train_labels = y_train,\n",
        "                     test_data = X_test,\n",
        "                     test_labels = y_test,\n",
        "                     predictions = None):\n",
        "\n",
        "  \"\"\"\n",
        "  Plots the training data, test data and compares predictions.\n",
        "  \"\"\"\n",
        "  plt.figure(figsize = (10, 7))\n",
        "\n",
        "  # Plot training data in blue\n",
        "  plt.scatter(train_data, train_labels, c = 'b', s = 4, label = 'Training data')\n",
        "\n",
        "  # Plot test data in green\n",
        "  plt.scatter(test_data, test_labels, c = 'g', s = 4, label = 'Testing data')\n",
        "\n",
        "  # Are there prediction?\n",
        "  if predictions is not None:\n",
        "    # Plot the predictions if they exist\n",
        "    plt.scatter(test_data, predictions, c = 'r', s = 4 , label = 'Predictions')\n",
        "\n",
        "  # Show the legend\n",
        "  plt.legend(prop = {'size': 14});"
      ],
      "metadata": {
        "id": "GpEinNOANpvy"
      },
      "execution_count": 44,
      "outputs": []
    },
    {
      "cell_type": "code",
      "source": [
        "plot_predictions(X_train, y_train, X_test, y_test)"
      ],
      "metadata": {
        "colab": {
          "base_uri": "https://localhost:8080/",
          "height": 599
        },
        "id": "2Lcb-AklN3UI",
        "outputId": "a324a222-87ce-476a-b309-a7f4965f2a41"
      },
      "execution_count": 45,
      "outputs": [
        {
          "output_type": "display_data",
          "data": {
            "text/plain": [
              "<Figure size 1000x700 with 1 Axes>"
            ],
            "image/png": "[encoded data removed]"
          },
          "metadata": {}
        }
      ]
    },
    {
      "cell_type": "markdown",
      "source": [
        "## 6.2 Building a PyTorch Linear Model"
      ],
      "metadata": {
        "id": "6h6G0-49N9tR"
      }
    },
    {
      "cell_type": "code",
      "source": [
        "# Create a linear model by subclassing nn.Module\n",
        "class LinearRegression(nn.Module):\n",
        "  def __init__(self):\n",
        "    super().__init__()\n",
        "    self.weights = nn.Parameter(torch.randn(1,\n",
        "                                           dtype = torch.float,\n",
        "                                           requires_grad = True))\n",
        "\n",
        "    self.bias = nn.Parameter(torch.randn(1,\n",
        "                                         dtype = torch.float,\n",
        "                                         requires_grad = True))\n",
        "\n",
        "  def forward(self, x: torch.Tensor) -> torch.Tensor:\n",
        "    return self.weights * x + self.bias"
      ],
      "metadata": {
        "id": "dNReIyFLOSPj"
      },
      "execution_count": 46,
      "outputs": []
    },
    {
      "cell_type": "code",
      "source": [
        "model = LinearRegression()\n",
        "model"
      ],
      "metadata": {
        "colab": {
          "base_uri": "https://localhost:8080/"
        },
        "id": "qMG07bujOSVq",
        "outputId": "3411997d-6ef3-4b77-b6a5-b38f1f9aca0f"
      },
      "execution_count": 47,
      "outputs": [
        {
          "output_type": "execute_result",
          "data": {
            "text/plain": [
              "LinearRegression()"
            ]
          },
          "metadata": {},
          "execution_count": 47
        }
      ]
    },
    {
      "cell_type": "code",
      "source": [
        "with torch.inference_mode():\n",
        "  y_preds = model(X_train)"
      ],
      "metadata": {
        "id": "mddjuA3XP2xS"
      },
      "execution_count": null,
      "outputs": []
    },
    {
      "cell_type": "markdown",
      "source": [
        "Creating a Linear model using the predefined linear layer in `torch.nn.Linear`."
      ],
      "metadata": {
        "id": "sy5hMgfaSSsh"
      }
    },
    {
      "cell_type": "code",
      "source": [
        "# Create a Linear regression model by subclassing nn.Module\n",
        "class LinearRegressionModelV2(nn.Module):\n",
        "  def __init__(self):\n",
        "    super().__init__()\n",
        "    # Use nn.Linear() for creating the model parameters / also called linear transform, probing layer, fully connected layer, dense layer\n",
        "    self.linear_layer = nn.Linear(in_features = 1,\n",
        "                                  out_features = 1)\n",
        "\n",
        "  def forward(self, x:torch.Tensor) -> torch.Tensor:\n",
        "    return self.linear_layer(x)\n",
        "\n",
        "# set the manual seed\n",
        "torch.manual_seed(42)\n",
        "\n",
        "# Initialize the model\n",
        "model_1 = LinearRegressionModelV2()\n",
        "model_1, model_1.state_dict()"
      ],
      "metadata": {
        "colab": {
          "base_uri": "https://localhost:8080/"
        },
        "id": "rAeXK2ZCQCBp",
        "outputId": "d51db5cc-1a46-4db1-90b4-3deeeed4a41b"
      },
      "execution_count": 69,
      "outputs": [
        {
          "output_type": "execute_result",
          "data": {
            "text/plain": [
              "(LinearRegressionModelV2(\n",
              "   (linear_layer): Linear(in_features=1, out_features=1, bias=True)\n",
              " ),\n",
              " OrderedDict([('linear_layer.weight', tensor([[0.7645]])),\n",
              "              ('linear_layer.bias', tensor([0.8300]))]))"
            ]
          },
          "metadata": {},
          "execution_count": 69
        }
      ]
    },
    {
      "cell_type": "code",
      "source": [
        "# Check the model current device\n",
        "next(model_1.parameters()).device"
      ],
      "metadata": {
        "colab": {
          "base_uri": "https://localhost:8080/"
        },
        "id": "CxsHbAMgSoFa",
        "outputId": "ae8b5a70-ba4f-40fb-b814-c5f67b1e1c97"
      },
      "execution_count": 70,
      "outputs": [
        {
          "output_type": "execute_result",
          "data": {
            "text/plain": [
              "device(type='cpu')"
            ]
          },
          "metadata": {},
          "execution_count": 70
        }
      ]
    },
    {
      "cell_type": "code",
      "source": [
        "# Set the model to use the target device\n",
        "model_1.to(device)\n",
        "next(model_1.parameters()).device"
      ],
      "metadata": {
        "colab": {
          "base_uri": "https://localhost:8080/"
        },
        "id": "rzTVpb7mRuma",
        "outputId": "61cd1b23-834f-4072-dc19-11cf842b080a"
      },
      "execution_count": 71,
      "outputs": [
        {
          "output_type": "execute_result",
          "data": {
            "text/plain": [
              "device(type='cpu')"
            ]
          },
          "metadata": {},
          "execution_count": 71
        }
      ]
    },
    {
      "cell_type": "markdown",
      "source": [
        "### 6.3 Training\n",
        "\n",
        "For training we need:\n",
        "* Loss function\n",
        "* Optimizer\n",
        "* Training loop\n",
        "* Testing loop"
      ],
      "metadata": {
        "id": "tZrcJP1IS3hx"
      }
    },
    {
      "cell_type": "code",
      "source": [
        "# Setup the loss function\n",
        "loss_function = nn.L1Loss() # same as MAE\n",
        "\n",
        "# Setup the optimizer\n",
        "optimizer = torch.optim.SGD(params = model_1.parameters(),\n",
        "                            lr = 0.01)"
      ],
      "metadata": {
        "id": "1HLqQenHTc3L"
      },
      "execution_count": 72,
      "outputs": []
    },
    {
      "cell_type": "code",
      "source": [
        "# Let's write a training loop\n",
        "torch.manual_seed(42)\n",
        "\n",
        "epochs = 200\n",
        "\n",
        "# Put data on the target device (device agnostic code for data)\n",
        "X_train  = X_train.to(device)\n",
        "y_train = y_train.to(device)\n",
        "X_test = X_test.to(device)\n",
        "y_test = y_test.to(device)\n",
        "\n",
        "for epoch in range(epochs):\n",
        "  model_1.train()\n",
        "\n",
        "  # 1. Forward pass\n",
        "  y_preds = model_1(X_train)\n",
        "\n",
        "  # 2. Calculate the loss\n",
        "  loss = loss_function(y_preds, y_train)\n",
        "\n",
        "  # 3. Optimizer zero grad\n",
        "  optimizer.zero_grad()\n",
        "\n",
        "  # 4. Perform backpropagation\n",
        "  loss.backward()\n",
        "\n",
        "  # 5. Optimizer step\n",
        "  optimizer.step()\n",
        "\n",
        "  ### Testing\n",
        "  model_1.eval()\n",
        "\n",
        "  # 1. Forward pass\n",
        "  with torch.inference_mode():\n",
        "    test_preds = model_1(X_test)\n",
        "\n",
        "    test_loss = loss_function(test_preds, y_test)\n",
        "\n",
        "  # Print out whats happening\n",
        "  if epoch  % 10 == 0:\n",
        "    print(f\"Epoch: {epoch} | Loss: {loss} | Test Loss: {test_loss}\")"
      ],
      "metadata": {
        "colab": {
          "base_uri": "https://localhost:8080/"
        },
        "id": "DfDX5CnOTdEB",
        "outputId": "fa1f92c0-be4f-45ed-cde3-6c0dfde34640"
      },
      "execution_count": 73,
      "outputs": [
        {
          "output_type": "stream",
          "name": "stdout",
          "text": [
            "Epoch: 0 | Loss: 0.4161779284477234 | Test Loss: 0.38497620820999146\n",
            "Epoch: 10 | Loss: 0.30096808075904846 | Test Loss: 0.2502663731575012\n",
            "Epoch: 20 | Loss: 0.18575818836688995 | Test Loss: 0.11555655300617218\n",
            "Epoch: 30 | Loss: 0.07054831087589264 | Test Loss: 0.019153285771608353\n",
            "Epoch: 40 | Loss: 0.03352728486061096 | Test Loss: 0.06804587692022324\n",
            "Epoch: 50 | Loss: 0.029530202969908714 | Test Loss: 0.06738262623548508\n",
            "Epoch: 60 | Loss: 0.026068534702062607 | Test Loss: 0.06048385053873062\n",
            "Epoch: 70 | Loss: 0.022640090435743332 | Test Loss: 0.05221130698919296\n",
            "Epoch: 80 | Loss: 0.019201401621103287 | Test Loss: 0.0439387783408165\n",
            "Epoch: 90 | Loss: 0.015766603872179985 | Test Loss: 0.03635308891534805\n",
            "Epoch: 100 | Loss: 0.012336590327322483 | Test Loss: 0.02808058261871338\n",
            "Epoch: 110 | Loss: 0.008897785097360611 | Test Loss: 0.019808029755949974\n",
            "Epoch: 120 | Loss: 0.005464674439281225 | Test Loss: 0.012222373858094215\n",
            "Epoch: 130 | Loss: 0.0020361326169222593 | Test Loss: 0.003271854016929865\n",
            "Epoch: 140 | Loss: 0.0070450082421302795 | Test Loss: 0.002510643098503351\n",
            "Epoch: 150 | Loss: 0.0070450082421302795 | Test Loss: 0.002510643098503351\n",
            "Epoch: 160 | Loss: 0.0070450082421302795 | Test Loss: 0.002510643098503351\n",
            "Epoch: 170 | Loss: 0.0070450082421302795 | Test Loss: 0.002510643098503351\n",
            "Epoch: 180 | Loss: 0.0070450082421302795 | Test Loss: 0.002510643098503351\n",
            "Epoch: 190 | Loss: 0.0070450082421302795 | Test Loss: 0.002510643098503351\n"
          ]
        }
      ]
    },
    {
      "cell_type": "code",
      "source": [
        "model_1.state_dict()"
      ],
      "metadata": {
        "colab": {
          "base_uri": "https://localhost:8080/"
        },
        "id": "W6z_s6uSTdMK",
        "outputId": "0efe6b61-1dc5-4c97-ab63-b620a264af2a"
      },
      "execution_count": 74,
      "outputs": [
        {
          "output_type": "execute_result",
          "data": {
            "text/plain": [
              "OrderedDict([('linear_layer.weight', tensor([[0.7922]])),\n",
              "             ('linear_layer.bias', tensor([0.3960]))])"
            ]
          },
          "metadata": {},
          "execution_count": 74
        }
      ]
    },
    {
      "cell_type": "markdown",
      "source": [
        "### 6.4 Making and Evaluating predictions"
      ],
      "metadata": {
        "id": "JFVW4D3iWbbm"
      }
    },
    {
      "cell_type": "code",
      "source": [
        "# Turn the model in to evaluation mode\n",
        "model_1.eval()\n",
        "\n",
        "# Make some predictions\n",
        "with torch.inference_mode():\n",
        "  y_preds_new = model_1(X_test)"
      ],
      "metadata": {
        "id": "HgqAC02UTdQh"
      },
      "execution_count": 75,
      "outputs": []
    },
    {
      "cell_type": "code",
      "source": [
        "# Check out our model predictions visually\n",
        "plot_predictions(predictions = y_preds_new.cpu())"
      ],
      "metadata": {
        "colab": {
          "base_uri": "https://localhost:8080/",
          "height": 599
        },
        "id": "uI_m7e5wTdUC",
        "outputId": "3fdec7eb-48d5-4fd1-c05b-eaaa242ae8db"
      },
      "execution_count": 76,
      "outputs": [
        {
          "output_type": "display_data",
          "data": {
            "text/plain": [
              "<Figure size 1000x700 with 1 Axes>"
            ],
            "image/png": "[encoded data removed]"
          },
          "metadata": {}
        }
      ]
    },
    {
      "cell_type": "markdown",
      "source": [
        "### 6.5 Saving and Loading a trained model"
      ],
      "metadata": {
        "id": "xwe5QXDUTdXr"
      }
    },
    {
      "cell_type": "markdown",
      "source": [
        "**Path('models'):** This creates a Path object representing the directory named \"models\". The Path class is used to manipulate filesystem paths in an object-oriented way.\n",
        "\n",
        "**MODEL_PATH.mkdir(parents=True, exist_ok=True):** This line creates the directory specified by the Path object (MODEL_PATH). Here's what the arguments mean:\n",
        "\n",
        "* **parents=True:** This flag ensures that if any of the parent directories of \"models\" don't exist, they will be created recursively. For example, if the parent directory of \"models\" doesn't exist, it will be created along with \"models\".\n",
        "\n",
        "* **exist_ok=True:** This flag specifies whether the mkdir() operation should succeed if the directory already exists. When set to True, it allows the operation to proceed without raising an error if the directory already exists."
      ],
      "metadata": {
        "id": "VF04VkpuYHUO"
      }
    },
    {
      "cell_type": "code",
      "source": [
        "# Saving our pytorch model\n",
        "from pathlib import Path\n",
        "\n",
        "# 1. Create models directory\n",
        "MODEL_PATH = Path('models')\n",
        "MODEL_PATH.mkdir(parents = True,\n",
        "                 exist_ok = True) # see if the dir exists.\n",
        "\n",
        "# 2. Create model save path\n",
        "MODEL_NAME = '01_pytorch_workflow_model_1.pth'\n",
        "MODEL_SAVE_PATH = MODEL_PATH / MODEL_NAME\n",
        "\n",
        "# 3. Save the model state_dict()\n",
        "print(f\"Saving model to: {MODEL_SAVE_PATH}\")\n",
        "torch.save(obj = model_1.state_dict(),\n",
        "           f = MODEL_SAVE_PATH)"
      ],
      "metadata": {
        "colab": {
          "base_uri": "https://localhost:8080/"
        },
        "id": "b4Cf7FvqXR74",
        "outputId": "54e98f6a-82f5-48cb-eeb4-af99da730ae2"
      },
      "execution_count": 86,
      "outputs": [
        {
          "output_type": "stream",
          "name": "stdout",
          "text": [
            "Saving model to: models/01_pytorch_workflow_model_1.pth\n"
          ]
        }
      ]
    },
    {
      "cell_type": "code",
      "source": [
        "# Load a PyTorch model\n",
        "\n",
        "# Create a new instance of linear regression model V2\n",
        "loaded_model_1 = LinearRegressionModelV2()\n",
        "\n",
        "# Load the saved model_1 state dict()\n",
        "loaded_model_1.load_state_dict(torch.load(MODEL_SAVE_PATH))\n",
        "\n",
        "# Put the loaded model to the device\n",
        "loaded_model_1.to(device)"
      ],
      "metadata": {
        "colab": {
          "base_uri": "https://localhost:8080/"
        },
        "id": "l8oRP7XFYTIK",
        "outputId": "49ed71c2-7990-4352-ac5e-665efea0f655"
      },
      "execution_count": 87,
      "outputs": [
        {
          "output_type": "execute_result",
          "data": {
            "text/plain": [
              "LinearRegressionModelV2(\n",
              "  (linear_layer): Linear(in_features=1, out_features=1, bias=True)\n",
              ")"
            ]
          },
          "metadata": {},
          "execution_count": 87
        }
      ]
    },
    {
      "cell_type": "code",
      "source": [
        "next(loaded_model_1.parameters()).device"
      ],
      "metadata": {
        "colab": {
          "base_uri": "https://localhost:8080/"
        },
        "id": "MIOYxzRbXSC0",
        "outputId": "e6d69f96-bd2e-49cb-e1b7-6cddc7d77940"
      },
      "execution_count": 88,
      "outputs": [
        {
          "output_type": "execute_result",
          "data": {
            "text/plain": [
              "device(type='cpu')"
            ]
          },
          "metadata": {},
          "execution_count": 88
        }
      ]
    },
    {
      "cell_type": "code",
      "source": [
        "# Evaluate loaded model\n",
        "loaded_model_1.eval()\n",
        "with torch.inference_mode():\n",
        "  loaded_model_1_preds = loaded_model_1(X_test)\n",
        "y_preds_new == loaded_model_1_preds"
      ],
      "metadata": {
        "colab": {
          "base_uri": "https://localhost:8080/"
        },
        "id": "vfEkEEEYXSJy",
        "outputId": "9807aa31-d23e-4ef3-e44c-38e0d2789a5f"
      },
      "execution_count": 90,
      "outputs": [
        {
          "output_type": "execute_result",
          "data": {
            "text/plain": [
              "tensor([[True],\n",
              "        [True],\n",
              "        [True],\n",
              "        [True],\n",
              "        [True],\n",
              "        [True],\n",
              "        [True],\n",
              "        [True],\n",
              "        [True],\n",
              "        [True]])"
            ]
          },
          "metadata": {},
          "execution_count": 90
        }
      ]
    }
  ]
}