{
  "nbformat": 4,
  "nbformat_minor": 0,
  "metadata": {
    "colab": {
      "provenance": []
    },
    "kernelspec": {
      "name": "python3",
      "display_name": "Python 3"
    },
    "language_info": {
      "name": "python"
    }
  },
  "cells": [
    {
      "cell_type": "markdown",
      "source": [
        "# Introduction to Regression with Neural Networks in Tensorflow\n",
        "Predicting numerical variable based on ssome other input numbers."
      ],
      "metadata": {
        "id": "vdq_XdRfIKBG"
      }
    },
    {
      "cell_type": "code",
      "source": [
        "# Import Tensorflow\n",
        "import tensorflow as tf\n",
        "print(tf.__version__)"
      ],
      "metadata": {
        "colab": {
          "base_uri": "https://localhost:8080/"
        },
        "id": "Hh5VwOdRPGBD",
        "outputId": "fbf8b6e8-82ba-4714-e627-5e10658d5ea1"
      },
      "execution_count": null,
      "outputs": [
        {
          "output_type": "stream",
          "name": "stdout",
          "text": [
            "2.12.0\n"
          ]
        }
      ]
    },
    {
      "cell_type": "markdown",
      "source": [
        "## Let's create a data to view an fit"
      ],
      "metadata": {
        "id": "8w_VFFi-PF9J"
      }
    },
    {
      "cell_type": "code",
      "source": [
        "import numpy as np\n",
        "import matplotlib.pyplot as plt\n",
        "\n",
        "# Creating features\n",
        "X = np.array([-7.0, -4.0, -1.0, 2.0, 3.0, 5.0, 0.8, 11.0, 12.0, 14.0])\n",
        "\n",
        "y = np.array(X+10)\n",
        "\n",
        "plt.scatter(X, y);\n"
      ],
      "metadata": {
        "colab": {
          "base_uri": "https://localhost:8080/",
          "height": 435
        },
        "id": "_3kXKC-6PF7e",
        "outputId": "29c3230c-50ee-43d0-e0e3-992a76b2053e"
      },
      "execution_count": null,
      "outputs": [
        {
          "output_type": "display_data",
          "data": {
            "text/plain": [
              "<Figure size 640x480 with 1 Axes>"
            ],
            "image/png": "[encoded data removed]"
          },
          "metadata": {}
        }
      ]
    },
    {
      "cell_type": "markdown",
      "source": [
        "## Input and Output shapes"
      ],
      "metadata": {
        "id": "NjGl_BzcPF4B"
      }
    },
    {
      "cell_type": "code",
      "source": [
        "# Create a demo tensor for our housing price prediction problem\n",
        "house_info = tf.constant(['bedroom', 'bathroom', 'garage'])\n",
        "house_price = tf.constant(939700)\n",
        "\n",
        "house_info, house_price"
      ],
      "metadata": {
        "colab": {
          "base_uri": "https://localhost:8080/"
        },
        "id": "yzKI5GmMPF2H",
        "outputId": "446ede1c-98af-4cc3-f2c7-f91c583240d7"
      },
      "execution_count": null,
      "outputs": [
        {
          "output_type": "execute_result",
          "data": {
            "text/plain": [
              "(<tf.Tensor: shape=(3,), dtype=string, numpy=array([b'bedroom', b'bathroom', b'garage'], dtype=object)>,\n",
              " <tf.Tensor: shape=(), dtype=int32, numpy=939700>)"
            ]
          },
          "metadata": {},
          "execution_count": 3
        }
      ]
    },
    {
      "cell_type": "code",
      "source": [
        "X[0].ndim"
      ],
      "metadata": {
        "colab": {
          "base_uri": "https://localhost:8080/"
        },
        "id": "qAA0nqyaPFzC",
        "outputId": "0e0332eb-9d3a-430a-be0b-ef7eb96491ff"
      },
      "execution_count": null,
      "outputs": [
        {
          "output_type": "execute_result",
          "data": {
            "text/plain": [
              "0"
            ]
          },
          "metadata": {},
          "execution_count": 4
        }
      ]
    },
    {
      "cell_type": "code",
      "source": [
        "y[0].ndim"
      ],
      "metadata": {
        "colab": {
          "base_uri": "https://localhost:8080/"
        },
        "id": "ULOoZKTmPFw4",
        "outputId": "3b18215c-f35d-4bfb-8fd6-f1a3df8beac9"
      },
      "execution_count": null,
      "outputs": [
        {
          "output_type": "execute_result",
          "data": {
            "text/plain": [
              "0"
            ]
          },
          "metadata": {},
          "execution_count": 5
        }
      ]
    },
    {
      "cell_type": "code",
      "source": [
        "# Turn the data X,y into tensors\n",
        "X = tf.constant(X)\n",
        "y = tf.constant(y)\n",
        "X, y"
      ],
      "metadata": {
        "colab": {
          "base_uri": "https://localhost:8080/"
        },
        "id": "DSxCIidPPFtG",
        "outputId": "8620d1fe-a4dc-4327-84cd-617fb10ffb0b"
      },
      "execution_count": null,
      "outputs": [
        {
          "output_type": "execute_result",
          "data": {
            "text/plain": [
              "(<tf.Tensor: shape=(10,), dtype=float64, numpy=array([-7. , -4. , -1. ,  2. ,  3. ,  5. ,  0.8, 11. , 12. , 14. ])>,\n",
              " <tf.Tensor: shape=(10,), dtype=float64, numpy=array([ 3. ,  6. ,  9. , 12. , 13. , 15. , 10.8, 21. , 22. , 24. ])>)"
            ]
          },
          "metadata": {},
          "execution_count": 6
        }
      ]
    },
    {
      "cell_type": "code",
      "source": [
        "input_shape = X[0].shape\n",
        "output_shape = y[0].shape\n",
        "input_shape, output_shape"
      ],
      "metadata": {
        "colab": {
          "base_uri": "https://localhost:8080/"
        },
        "id": "yJ9fDbQEPFrN",
        "outputId": "87d36872-4297-4b4c-f1b6-e0149ad1971d"
      },
      "execution_count": null,
      "outputs": [
        {
          "output_type": "execute_result",
          "data": {
            "text/plain": [
              "(TensorShape([]), TensorShape([]))"
            ]
          },
          "metadata": {},
          "execution_count": 7
        }
      ]
    },
    {
      "cell_type": "markdown",
      "source": [
        "## Steps in modelling the TensorFlow model\n",
        "\n",
        "1. **Creating the model**: input and output building\n",
        "2. **Compiling the model**: loss, optimizer and evaluation metric\n",
        "3. **Fitting the model**\n",
        "4. **Evaluate the model** using the R2 score or RMSE score"
      ],
      "metadata": {
        "id": "WSQGpbAcPD2S"
      }
    },
    {
      "cell_type": "code",
      "source": [
        "# Set the random seed\n",
        "tf.random.set_seed(42)\n",
        "\n",
        "# Create a sequential model\n",
        "model = tf.keras.models.Sequential([\n",
        "    tf.keras.layers.Dense(1)\n",
        "])\n",
        "\n",
        "# Compile the model\n",
        "model.compile(loss = tf.keras.losses.MeanAbsoluteError(),\n",
        "              optimizer = tf.keras.optimizers.SGD(),\n",
        "              metrics = [tf.keras.metrics.MeanAbsoluteError()]) # metrics =['mae'] would work as well\n",
        "\n",
        "# Fit the model\n",
        "model.fit(tf.expand_dims(X, axis =-1), tf.expand_dims(y, axis =-1), epochs = 5)"
      ],
      "metadata": {
        "colab": {
          "base_uri": "https://localhost:8080/"
        },
        "id": "r57hYqBAPDyC",
        "outputId": "5740acc7-4065-4b68-bac1-27d5cdc46362"
      },
      "execution_count": null,
      "outputs": [
        {
          "output_type": "stream",
          "name": "stdout",
          "text": [
            "Epoch 1/5\n",
            "1/1 [==============================] - 1s 840ms/step - loss: 8.1133 - mean_absolute_error: 8.1133\n",
            "Epoch 2/5\n",
            "1/1 [==============================] - 0s 15ms/step - loss: 7.9751 - mean_absolute_error: 7.9751\n",
            "Epoch 3/5\n",
            "1/1 [==============================] - 0s 13ms/step - loss: 7.8370 - mean_absolute_error: 7.8370\n",
            "Epoch 4/5\n",
            "1/1 [==============================] - 0s 10ms/step - loss: 7.6988 - mean_absolute_error: 7.6988\n",
            "Epoch 5/5\n",
            "1/1 [==============================] - 0s 12ms/step - loss: 7.5606 - mean_absolute_error: 7.5606\n"
          ]
        },
        {
          "output_type": "execute_result",
          "data": {
            "text/plain": [
              "<keras.callbacks.History at 0x7905f9f35a80>"
            ]
          },
          "metadata": {},
          "execution_count": 8
        }
      ]
    },
    {
      "cell_type": "code",
      "source": [
        "# Try and make a prediction on the model\n",
        "y_pred = model.predict([17.0])\n",
        "y_pred"
      ],
      "metadata": {
        "colab": {
          "base_uri": "https://localhost:8080/"
        },
        "id": "mKjIBHuaTLCk",
        "outputId": "a32cf1d6-9591-408e-9259-c8d3277de489"
      },
      "execution_count": null,
      "outputs": [
        {
          "output_type": "stream",
          "name": "stdout",
          "text": [
            "1/1 [==============================] - 0s 142ms/step\n"
          ]
        },
        {
          "output_type": "execute_result",
          "data": {
            "text/plain": [
              "array([[29.052258]], dtype=float32)"
            ]
          },
          "metadata": {},
          "execution_count": 9
        }
      ]
    },
    {
      "cell_type": "markdown",
      "source": [
        "## Improving the model\n",
        "\n",
        "We can improve our model, by altering the steps we took to create a model:\n",
        "1. **Creating a model** - here we might ass more layers, increase hidden unit, change activation function of each layer\n",
        "\n",
        "2. **Compiling the model** - Might try to change the optimizer or by setting a learning rate,\n",
        "\n",
        "3. **Fitting the model** - Might want to increase the no of epochs\n",
        "\n"
      ],
      "metadata": {
        "id": "6wE4kXNlTK_0"
      }
    },
    {
      "cell_type": "code",
      "source": [
        "# Set random seed\n",
        "tf.random.set_seed(42)\n",
        "\n",
        "# Create the improved model\n",
        "model = tf.keras.models.Sequential([\n",
        "    tf.keras.layers.Dense(1)\n",
        "])\n",
        "\n",
        "# Compile the model\n",
        "model.compile(loss = tf.keras.losses.MeanAbsoluteError(),\n",
        "              optimizer = tf.keras.optimizers.SGD(),\n",
        "              metrics = ['mae'])\n",
        "\n",
        "# Fit the model\n",
        "model.fit(tf.expand_dims(X, axis= -1), tf.expand_dims(y, axis = -1), epochs = 100)"
      ],
      "metadata": {
        "colab": {
          "base_uri": "https://localhost:8080/"
        },
        "id": "UmGiOJATTK83",
        "outputId": "c3a6dce0-bd2b-48c9-d204-820a8bd4e81e"
      },
      "execution_count": null,
      "outputs": [
        {
          "output_type": "stream",
          "name": "stdout",
          "text": [
            "Epoch 1/100\n",
            "1/1 [==============================] - 1s 572ms/step - loss: 15.7085 - mae: 15.7085\n",
            "Epoch 2/100\n",
            "1/1 [==============================] - 0s 17ms/step - loss: 15.4541 - mae: 15.4541\n",
            "Epoch 3/100\n",
            "1/1 [==============================] - 0s 14ms/step - loss: 15.1997 - mae: 15.1997\n",
            "Epoch 4/100\n",
            "1/1 [==============================] - 0s 11ms/step - loss: 14.9826 - mae: 14.9826\n",
            "Epoch 5/100\n",
            "1/1 [==============================] - 0s 13ms/step - loss: 14.8444 - mae: 14.8444\n",
            "Epoch 6/100\n",
            "1/1 [==============================] - 0s 14ms/step - loss: 14.7063 - mae: 14.7063\n",
            "Epoch 7/100\n",
            "1/1 [==============================] - 0s 12ms/step - loss: 14.5681 - mae: 14.5681\n",
            "Epoch 8/100\n",
            "1/1 [==============================] - 0s 11ms/step - loss: 14.4300 - mae: 14.4300\n",
            "Epoch 9/100\n",
            "1/1 [==============================] - 0s 14ms/step - loss: 14.2918 - mae: 14.2918\n",
            "Epoch 10/100\n",
            "1/1 [==============================] - 0s 13ms/step - loss: 14.1536 - mae: 14.1536\n",
            "Epoch 11/100\n",
            "1/1 [==============================] - 0s 13ms/step - loss: 14.0155 - mae: 14.0155\n",
            "Epoch 12/100\n",
            "1/1 [==============================] - 0s 10ms/step - loss: 13.8773 - mae: 13.8773\n",
            "Epoch 13/100\n",
            "1/1 [==============================] - 0s 10ms/step - loss: 13.7391 - mae: 13.7391\n",
            "Epoch 14/100\n",
            "1/1 [==============================] - 0s 9ms/step - loss: 13.6010 - mae: 13.6010\n",
            "Epoch 15/100\n",
            "1/1 [==============================] - 0s 11ms/step - loss: 13.4628 - mae: 13.4628\n",
            "Epoch 16/100\n",
            "1/1 [==============================] - 0s 10ms/step - loss: 13.3246 - mae: 13.3246\n",
            "Epoch 17/100\n",
            "1/1 [==============================] - 0s 11ms/step - loss: 13.1865 - mae: 13.1865\n",
            "Epoch 18/100\n",
            "1/1 [==============================] - 0s 12ms/step - loss: 13.0483 - mae: 13.0483\n",
            "Epoch 19/100\n",
            "1/1 [==============================] - 0s 13ms/step - loss: 12.9102 - mae: 12.9102\n",
            "Epoch 20/100\n",
            "1/1 [==============================] - 0s 9ms/step - loss: 12.7720 - mae: 12.7720\n",
            "Epoch 21/100\n",
            "1/1 [==============================] - 0s 11ms/step - loss: 12.6338 - mae: 12.6338\n",
            "Epoch 22/100\n",
            "1/1 [==============================] - 0s 10ms/step - loss: 12.4957 - mae: 12.4957\n",
            "Epoch 23/100\n",
            "1/1 [==============================] - 0s 11ms/step - loss: 12.3575 - mae: 12.3575\n",
            "Epoch 24/100\n",
            "1/1 [==============================] - 0s 8ms/step - loss: 12.2193 - mae: 12.2193\n",
            "Epoch 25/100\n",
            "1/1 [==============================] - 0s 14ms/step - loss: 12.0812 - mae: 12.0812\n",
            "Epoch 26/100\n",
            "1/1 [==============================] - 0s 19ms/step - loss: 11.9430 - mae: 11.9430\n",
            "Epoch 27/100\n",
            "1/1 [==============================] - 0s 13ms/step - loss: 11.8048 - mae: 11.8048\n",
            "Epoch 28/100\n",
            "1/1 [==============================] - 0s 10ms/step - loss: 11.6667 - mae: 11.6667\n",
            "Epoch 29/100\n",
            "1/1 [==============================] - 0s 12ms/step - loss: 11.5285 - mae: 11.5285\n",
            "Epoch 30/100\n",
            "1/1 [==============================] - 0s 14ms/step - loss: 11.3903 - mae: 11.3903\n",
            "Epoch 31/100\n",
            "1/1 [==============================] - 0s 15ms/step - loss: 11.2522 - mae: 11.2522\n",
            "Epoch 32/100\n",
            "1/1 [==============================] - 0s 11ms/step - loss: 11.1140 - mae: 11.1140\n",
            "Epoch 33/100\n",
            "1/1 [==============================] - 0s 13ms/step - loss: 10.9759 - mae: 10.9759\n",
            "Epoch 34/100\n",
            "1/1 [==============================] - 0s 14ms/step - loss: 10.8377 - mae: 10.8377\n",
            "Epoch 35/100\n",
            "1/1 [==============================] - 0s 13ms/step - loss: 10.6995 - mae: 10.6995\n",
            "Epoch 36/100\n",
            "1/1 [==============================] - 0s 16ms/step - loss: 10.5614 - mae: 10.5614\n",
            "Epoch 37/100\n",
            "1/1 [==============================] - 0s 14ms/step - loss: 10.4232 - mae: 10.4232\n",
            "Epoch 38/100\n",
            "1/1 [==============================] - 0s 11ms/step - loss: 10.2850 - mae: 10.2850\n",
            "Epoch 39/100\n",
            "1/1 [==============================] - 0s 15ms/step - loss: 10.1469 - mae: 10.1469\n",
            "Epoch 40/100\n",
            "1/1 [==============================] - 0s 12ms/step - loss: 10.0087 - mae: 10.0087\n",
            "Epoch 41/100\n",
            "1/1 [==============================] - 0s 11ms/step - loss: 9.8705 - mae: 9.8705\n",
            "Epoch 42/100\n",
            "1/1 [==============================] - 0s 13ms/step - loss: 9.7324 - mae: 9.7324\n",
            "Epoch 43/100\n",
            "1/1 [==============================] - 0s 12ms/step - loss: 9.5942 - mae: 9.5942\n",
            "Epoch 44/100\n",
            "1/1 [==============================] - 0s 13ms/step - loss: 9.4561 - mae: 9.4561\n",
            "Epoch 45/100\n",
            "1/1 [==============================] - 0s 13ms/step - loss: 9.3179 - mae: 9.3179\n",
            "Epoch 46/100\n",
            "1/1 [==============================] - 0s 10ms/step - loss: 9.1797 - mae: 9.1797\n",
            "Epoch 47/100\n",
            "1/1 [==============================] - 0s 10ms/step - loss: 9.0416 - mae: 9.0416\n",
            "Epoch 48/100\n",
            "1/1 [==============================] - 0s 10ms/step - loss: 8.9034 - mae: 8.9034\n",
            "Epoch 49/100\n",
            "1/1 [==============================] - 0s 9ms/step - loss: 8.7652 - mae: 8.7652\n",
            "Epoch 50/100\n",
            "1/1 [==============================] - 0s 9ms/step - loss: 8.6271 - mae: 8.6271\n",
            "Epoch 51/100\n",
            "1/1 [==============================] - 0s 9ms/step - loss: 8.4889 - mae: 8.4889\n",
            "Epoch 52/100\n",
            "1/1 [==============================] - 0s 9ms/step - loss: 8.3507 - mae: 8.3507\n",
            "Epoch 53/100\n",
            "1/1 [==============================] - 0s 9ms/step - loss: 8.2126 - mae: 8.2126\n",
            "Epoch 54/100\n",
            "1/1 [==============================] - 0s 9ms/step - loss: 8.0744 - mae: 8.0744\n",
            "Epoch 55/100\n",
            "1/1 [==============================] - 0s 10ms/step - loss: 7.9363 - mae: 7.9363\n",
            "Epoch 56/100\n",
            "1/1 [==============================] - 0s 9ms/step - loss: 7.7981 - mae: 7.7981\n",
            "Epoch 57/100\n",
            "1/1 [==============================] - 0s 9ms/step - loss: 7.6599 - mae: 7.6599\n",
            "Epoch 58/100\n",
            "1/1 [==============================] - 0s 10ms/step - loss: 7.5218 - mae: 7.5218\n",
            "Epoch 59/100\n",
            "1/1 [==============================] - 0s 9ms/step - loss: 7.3836 - mae: 7.3836\n",
            "Epoch 60/100\n",
            "1/1 [==============================] - 0s 9ms/step - loss: 7.2454 - mae: 7.2454\n",
            "Epoch 61/100\n",
            "1/1 [==============================] - 0s 9ms/step - loss: 7.1073 - mae: 7.1073\n",
            "Epoch 62/100\n",
            "1/1 [==============================] - 0s 9ms/step - loss: 6.9880 - mae: 6.9880\n",
            "Epoch 63/100\n",
            "1/1 [==============================] - 0s 10ms/step - loss: 6.9756 - mae: 6.9756\n",
            "Epoch 64/100\n",
            "1/1 [==============================] - 0s 10ms/step - loss: 6.9631 - mae: 6.9631\n",
            "Epoch 65/100\n",
            "1/1 [==============================] - 0s 10ms/step - loss: 6.9506 - mae: 6.9506\n",
            "Epoch 66/100\n",
            "1/1 [==============================] - 0s 10ms/step - loss: 6.9381 - mae: 6.9381\n",
            "Epoch 67/100\n",
            "1/1 [==============================] - 0s 9ms/step - loss: 6.9256 - mae: 6.9256\n",
            "Epoch 68/100\n",
            "1/1 [==============================] - 0s 10ms/step - loss: 6.9131 - mae: 6.9131\n",
            "Epoch 69/100\n",
            "1/1 [==============================] - 0s 10ms/step - loss: 6.9006 - mae: 6.9006\n",
            "Epoch 70/100\n",
            "1/1 [==============================] - 0s 9ms/step - loss: 6.8882 - mae: 6.8882\n",
            "Epoch 71/100\n",
            "1/1 [==============================] - 0s 9ms/step - loss: 6.8757 - mae: 6.8757\n",
            "Epoch 72/100\n",
            "1/1 [==============================] - 0s 11ms/step - loss: 6.8632 - mae: 6.8632\n",
            "Epoch 73/100\n",
            "1/1 [==============================] - 0s 10ms/step - loss: 6.8507 - mae: 6.8507\n",
            "Epoch 74/100\n",
            "1/1 [==============================] - 0s 9ms/step - loss: 6.8382 - mae: 6.8382\n",
            "Epoch 75/100\n",
            "1/1 [==============================] - 0s 10ms/step - loss: 6.8377 - mae: 6.8377\n",
            "Epoch 76/100\n",
            "1/1 [==============================] - 0s 14ms/step - loss: 6.8336 - mae: 6.8336\n",
            "Epoch 77/100\n",
            "1/1 [==============================] - 0s 15ms/step - loss: 6.8211 - mae: 6.8211\n",
            "Epoch 78/100\n",
            "1/1 [==============================] - 0s 12ms/step - loss: 6.8235 - mae: 6.8235\n",
            "Epoch 79/100\n",
            "1/1 [==============================] - 0s 13ms/step - loss: 6.8164 - mae: 6.8164\n",
            "Epoch 80/100\n",
            "1/1 [==============================] - 0s 12ms/step - loss: 6.8040 - mae: 6.8040\n",
            "Epoch 81/100\n",
            "1/1 [==============================] - 0s 11ms/step - loss: 6.8093 - mae: 6.8093\n",
            "Epoch 82/100\n",
            "1/1 [==============================] - 0s 9ms/step - loss: 6.7993 - mae: 6.7993\n",
            "Epoch 83/100\n",
            "1/1 [==============================] - 0s 14ms/step - loss: 6.7873 - mae: 6.7873\n",
            "Epoch 84/100\n",
            "1/1 [==============================] - 0s 11ms/step - loss: 6.7947 - mae: 6.7947\n",
            "Epoch 85/100\n",
            "1/1 [==============================] - 0s 12ms/step - loss: 6.7822 - mae: 6.7822\n",
            "Epoch 86/100\n",
            "1/1 [==============================] - 0s 14ms/step - loss: 6.7731 - mae: 6.7731\n",
            "Epoch 87/100\n",
            "1/1 [==============================] - 0s 10ms/step - loss: 6.7775 - mae: 6.7775\n",
            "Epoch 88/100\n",
            "1/1 [==============================] - 0s 15ms/step - loss: 6.7651 - mae: 6.7651\n",
            "Epoch 89/100\n",
            "1/1 [==============================] - 0s 10ms/step - loss: 6.7590 - mae: 6.7590\n",
            "Epoch 90/100\n",
            "1/1 [==============================] - 0s 10ms/step - loss: 6.7604 - mae: 6.7604\n",
            "Epoch 91/100\n",
            "1/1 [==============================] - 0s 10ms/step - loss: 6.7479 - mae: 6.7479\n",
            "Epoch 92/100\n",
            "1/1 [==============================] - 0s 10ms/step - loss: 6.7448 - mae: 6.7448\n",
            "Epoch 93/100\n",
            "1/1 [==============================] - 0s 8ms/step - loss: 6.7433 - mae: 6.7433\n",
            "Epoch 94/100\n",
            "1/1 [==============================] - 0s 11ms/step - loss: 6.7308 - mae: 6.7308\n",
            "Epoch 95/100\n",
            "1/1 [==============================] - 0s 9ms/step - loss: 6.7306 - mae: 6.7306\n",
            "Epoch 96/100\n",
            "1/1 [==============================] - 0s 7ms/step - loss: 6.7261 - mae: 6.7261\n",
            "Epoch 97/100\n",
            "1/1 [==============================] - 0s 10ms/step - loss: 6.7137 - mae: 6.7137\n",
            "Epoch 98/100\n",
            "1/1 [==============================] - 0s 9ms/step - loss: 6.7165 - mae: 6.7165\n",
            "Epoch 99/100\n",
            "1/1 [==============================] - 0s 8ms/step - loss: 6.7090 - mae: 6.7090\n",
            "Epoch 100/100\n",
            "1/1 [==============================] - 0s 8ms/step - loss: 6.6965 - mae: 6.6965\n"
          ]
        },
        {
          "output_type": "execute_result",
          "data": {
            "text/plain": [
              "<keras.callbacks.History at 0x7905f9534040>"
            ]
          },
          "metadata": {},
          "execution_count": 10
        }
      ]
    },
    {
      "cell_type": "code",
      "source": [
        "y_pred = model.predict(X)\n",
        "y_pred"
      ],
      "metadata": {
        "colab": {
          "base_uri": "https://localhost:8080/"
        },
        "id": "IONDHseTTK6H",
        "outputId": "e7d40892-f3b7-44fd-acca-b080be3b83c6"
      },
      "execution_count": null,
      "outputs": [
        {
          "output_type": "stream",
          "name": "stdout",
          "text": [
            "1/1 [==============================] - 0s 90ms/step\n"
          ]
        },
        {
          "output_type": "execute_result",
          "data": {
            "text/plain": [
              "array([[-11.464728 ],\n",
              "       [ -6.1664157],\n",
              "       [ -0.8681039],\n",
              "       [  4.430208 ],\n",
              "       [  6.1963124],\n",
              "       [  9.728519 ],\n",
              "       [  2.3108833],\n",
              "       [ 20.325144 ],\n",
              "       [ 22.09125  ],\n",
              "       [ 25.623457 ]], dtype=float32)"
            ]
          },
          "metadata": {},
          "execution_count": 11
        }
      ]
    },
    {
      "cell_type": "code",
      "source": [
        "tf.reshape(y_pred, [10,])"
      ],
      "metadata": {
        "colab": {
          "base_uri": "https://localhost:8080/"
        },
        "id": "aO23PScrcGNn",
        "outputId": "a9d0b734-d588-4dee-ca1d-99f112e2b191"
      },
      "execution_count": null,
      "outputs": [
        {
          "output_type": "execute_result",
          "data": {
            "text/plain": [
              "<tf.Tensor: shape=(10,), dtype=float32, numpy=\n",
              "array([-11.464728 ,  -6.1664157,  -0.8681039,   4.430208 ,   6.1963124,\n",
              "         9.728519 ,   2.3108833,  20.325144 ,  22.09125  ,  25.623457 ],\n",
              "      dtype=float32)>"
            ]
          },
          "metadata": {},
          "execution_count": 12
        }
      ]
    },
    {
      "cell_type": "code",
      "source": [
        "num = list(range(len(y_pred)))\n",
        "\n",
        "plt.scatter(tf.reshape(y, [10,]), num,  color = 'lightblue')\n",
        "plt.scatter(tf.reshape(y_pred, [10,]), num,  color = 'salmon')\n",
        "\n",
        "plt.show()"
      ],
      "metadata": {
        "colab": {
          "base_uri": "https://localhost:8080/",
          "height": 430
        },
        "id": "mr9HricMTK0n",
        "outputId": "e64aa5c1-478e-4b6d-a412-b142a0da7772"
      },
      "execution_count": null,
      "outputs": [
        {
          "output_type": "display_data",
          "data": {
            "text/plain": [
              "<Figure size 640x480 with 1 Axes>"
            ],
            "image/png": "[encoded data removed]"
          },
          "metadata": {}
        }
      ]
    },
    {
      "cell_type": "code",
      "source": [
        "# Let's improve our model a bit more\n",
        "\n",
        "# Set random seed\n",
        "tf.random.set_seed(42)\n",
        "\n",
        "# Create the improved model\n",
        "model = tf.keras.models.Sequential([\n",
        "    tf.keras.layers.Dense(100, activation = 'relu'),\n",
        "    tf.keras.layers.Dense(100, activation = 'relu'),\n",
        "    tf.keras.layers.Dense(100, activation = 'relu'),\n",
        "    tf.keras.layers.Dense(1)\n",
        "])\n",
        "\n",
        "# Compile the model\n",
        "model.compile(loss = tf.keras.losses.MeanAbsoluteError(),\n",
        "              optimizer = tf.keras.optimizers.SGD(),\n",
        "              metrics = ['mae'])\n",
        "\n",
        "# Fit the model\n",
        "model.fit(tf.expand_dims(X, axis= -1), tf.expand_dims(y, axis = -1), epochs = 100)"
      ],
      "metadata": {
        "colab": {
          "base_uri": "https://localhost:8080/"
        },
        "id": "VwuoXcXLTKxv",
        "outputId": "bf230874-68f6-4473-a16f-cb3a6bbd84f9"
      },
      "execution_count": null,
      "outputs": [
        {
          "output_type": "stream",
          "name": "stdout",
          "text": [
            "Epoch 1/100\n",
            "1/1 [==============================] - 1s 1s/step - loss: 13.8905 - mae: 13.8905\n",
            "Epoch 2/100\n",
            "1/1 [==============================] - 0s 18ms/step - loss: 13.4089 - mae: 13.4089\n",
            "Epoch 3/100\n",
            "1/1 [==============================] - 0s 18ms/step - loss: 12.9605 - mae: 12.9605\n",
            "Epoch 4/100\n",
            "1/1 [==============================] - 0s 16ms/step - loss: 12.5173 - mae: 12.5173\n",
            "Epoch 5/100\n",
            "1/1 [==============================] - 0s 12ms/step - loss: 12.0614 - mae: 12.0614\n",
            "Epoch 6/100\n",
            "1/1 [==============================] - 0s 13ms/step - loss: 11.6176 - mae: 11.6176\n",
            "Epoch 7/100\n",
            "1/1 [==============================] - 0s 14ms/step - loss: 11.1427 - mae: 11.1427\n",
            "Epoch 8/100\n",
            "1/1 [==============================] - 0s 12ms/step - loss: 10.5884 - mae: 10.5884\n",
            "Epoch 9/100\n",
            "1/1 [==============================] - 0s 12ms/step - loss: 9.8832 - mae: 9.8832\n",
            "Epoch 10/100\n",
            "1/1 [==============================] - 0s 12ms/step - loss: 8.9779 - mae: 8.9779\n",
            "Epoch 11/100\n",
            "1/1 [==============================] - 0s 13ms/step - loss: 7.8035 - mae: 7.8035\n",
            "Epoch 12/100\n",
            "1/1 [==============================] - 0s 10ms/step - loss: 6.2228 - mae: 6.2228\n",
            "Epoch 13/100\n",
            "1/1 [==============================] - 0s 13ms/step - loss: 4.6502 - mae: 4.6502\n",
            "Epoch 14/100\n",
            "1/1 [==============================] - 0s 12ms/step - loss: 4.5962 - mae: 4.5962\n",
            "Epoch 15/100\n",
            "1/1 [==============================] - 0s 12ms/step - loss: 4.5808 - mae: 4.5808\n",
            "Epoch 16/100\n",
            "1/1 [==============================] - 0s 13ms/step - loss: 4.9265 - mae: 4.9265\n",
            "Epoch 17/100\n",
            "1/1 [==============================] - 0s 13ms/step - loss: 4.6374 - mae: 4.6374\n",
            "Epoch 18/100\n",
            "1/1 [==============================] - 0s 11ms/step - loss: 4.6550 - mae: 4.6550\n",
            "Epoch 19/100\n",
            "1/1 [==============================] - 0s 12ms/step - loss: 4.8677 - mae: 4.8677\n",
            "Epoch 20/100\n",
            "1/1 [==============================] - 0s 18ms/step - loss: 5.2473 - mae: 5.2473\n",
            "Epoch 21/100\n",
            "1/1 [==============================] - 0s 12ms/step - loss: 4.4105 - mae: 4.4105\n",
            "Epoch 22/100\n",
            "1/1 [==============================] - 0s 11ms/step - loss: 4.4253 - mae: 4.4253\n",
            "Epoch 23/100\n",
            "1/1 [==============================] - 0s 14ms/step - loss: 4.7846 - mae: 4.7846\n",
            "Epoch 24/100\n",
            "1/1 [==============================] - 0s 12ms/step - loss: 4.5791 - mae: 4.5791\n",
            "Epoch 25/100\n",
            "1/1 [==============================] - 0s 10ms/step - loss: 4.5057 - mae: 4.5057\n",
            "Epoch 26/100\n",
            "1/1 [==============================] - 0s 12ms/step - loss: 4.9149 - mae: 4.9149\n",
            "Epoch 27/100\n",
            "1/1 [==============================] - 0s 12ms/step - loss: 5.0508 - mae: 5.0508\n",
            "Epoch 28/100\n",
            "1/1 [==============================] - 0s 14ms/step - loss: 4.3483 - mae: 4.3483\n",
            "Epoch 29/100\n",
            "1/1 [==============================] - 0s 11ms/step - loss: 4.7543 - mae: 4.7543\n",
            "Epoch 30/100\n",
            "1/1 [==============================] - 0s 11ms/step - loss: 4.4985 - mae: 4.4985\n",
            "Epoch 31/100\n",
            "1/1 [==============================] - 0s 12ms/step - loss: 4.4833 - mae: 4.4833\n",
            "Epoch 32/100\n",
            "1/1 [==============================] - 0s 10ms/step - loss: 4.8092 - mae: 4.8092\n",
            "Epoch 33/100\n",
            "1/1 [==============================] - 0s 10ms/step - loss: 5.0724 - mae: 5.0724\n",
            "Epoch 34/100\n",
            "1/1 [==============================] - 0s 10ms/step - loss: 4.2841 - mae: 4.2841\n",
            "Epoch 35/100\n",
            "1/1 [==============================] - 0s 10ms/step - loss: 4.3105 - mae: 4.3105\n",
            "Epoch 36/100\n",
            "1/1 [==============================] - 0s 10ms/step - loss: 4.6494 - mae: 4.6494\n",
            "Epoch 37/100\n",
            "1/1 [==============================] - 0s 11ms/step - loss: 4.4529 - mae: 4.4529\n",
            "Epoch 38/100\n",
            "1/1 [==============================] - 0s 12ms/step - loss: 4.3920 - mae: 4.3920\n",
            "Epoch 39/100\n",
            "1/1 [==============================] - 0s 14ms/step - loss: 4.7656 - mae: 4.7656\n",
            "Epoch 40/100\n",
            "1/1 [==============================] - 0s 16ms/step - loss: 4.9439 - mae: 4.9439\n",
            "Epoch 41/100\n",
            "1/1 [==============================] - 0s 12ms/step - loss: 4.2098 - mae: 4.2098\n",
            "Epoch 42/100\n",
            "1/1 [==============================] - 0s 12ms/step - loss: 4.2665 - mae: 4.2665\n",
            "Epoch 43/100\n",
            "1/1 [==============================] - 0s 14ms/step - loss: 4.5451 - mae: 4.5451\n",
            "Epoch 44/100\n",
            "1/1 [==============================] - 0s 10ms/step - loss: 4.4074 - mae: 4.4074\n",
            "Epoch 45/100\n",
            "1/1 [==============================] - 0s 10ms/step - loss: 5.1671 - mae: 5.1671\n",
            "Epoch 46/100\n",
            "1/1 [==============================] - 0s 12ms/step - loss: 4.2412 - mae: 4.2412\n",
            "Epoch 47/100\n",
            "1/1 [==============================] - 0s 10ms/step - loss: 4.7982 - mae: 4.7982\n",
            "Epoch 48/100\n",
            "1/1 [==============================] - 0s 12ms/step - loss: 4.7840 - mae: 4.7840\n",
            "Epoch 49/100\n",
            "1/1 [==============================] - 0s 10ms/step - loss: 4.1675 - mae: 4.1675\n",
            "Epoch 50/100\n",
            "1/1 [==============================] - 0s 12ms/step - loss: 4.5268 - mae: 4.5268\n",
            "Epoch 51/100\n",
            "1/1 [==============================] - 0s 10ms/step - loss: 4.2982 - mae: 4.2982\n",
            "Epoch 52/100\n",
            "1/1 [==============================] - 0s 10ms/step - loss: 4.2906 - mae: 4.2906\n",
            "Epoch 53/100\n",
            "1/1 [==============================] - 0s 12ms/step - loss: 4.5651 - mae: 4.5651\n",
            "Epoch 54/100\n",
            "1/1 [==============================] - 0s 12ms/step - loss: 4.8538 - mae: 4.8538\n",
            "Epoch 55/100\n",
            "1/1 [==============================] - 0s 11ms/step - loss: 4.0797 - mae: 4.0797\n",
            "Epoch 56/100\n",
            "1/1 [==============================] - 0s 9ms/step - loss: 4.0776 - mae: 4.0776\n",
            "Epoch 57/100\n",
            "1/1 [==============================] - 0s 14ms/step - loss: 4.4842 - mae: 4.4842\n",
            "Epoch 58/100\n",
            "1/1 [==============================] - 0s 16ms/step - loss: 4.2026 - mae: 4.2026\n",
            "Epoch 59/100\n",
            "1/1 [==============================] - 0s 11ms/step - loss: 4.2564 - mae: 4.2564\n",
            "Epoch 60/100\n",
            "1/1 [==============================] - 0s 10ms/step - loss: 4.4402 - mae: 4.4402\n",
            "Epoch 61/100\n",
            "1/1 [==============================] - 0s 12ms/step - loss: 4.8625 - mae: 4.8625\n",
            "Epoch 62/100\n",
            "1/1 [==============================] - 0s 11ms/step - loss: 4.0159 - mae: 4.0159\n",
            "Epoch 63/100\n",
            "1/1 [==============================] - 0s 10ms/step - loss: 3.9946 - mae: 3.9946\n",
            "Epoch 64/100\n",
            "1/1 [==============================] - 0s 12ms/step - loss: 4.0067 - mae: 4.0067\n",
            "Epoch 65/100\n",
            "1/1 [==============================] - 0s 10ms/step - loss: 4.3913 - mae: 4.3913\n",
            "Epoch 66/100\n",
            "1/1 [==============================] - 0s 12ms/step - loss: 4.1274 - mae: 4.1274\n",
            "Epoch 67/100\n",
            "1/1 [==============================] - 0s 11ms/step - loss: 4.1699 - mae: 4.1699\n",
            "Epoch 68/100\n",
            "1/1 [==============================] - 0s 9ms/step - loss: 4.3579 - mae: 4.3579\n",
            "Epoch 69/100\n",
            "1/1 [==============================] - 0s 14ms/step - loss: 4.7490 - mae: 4.7490\n",
            "Epoch 70/100\n",
            "1/1 [==============================] - 0s 9ms/step - loss: 3.9274 - mae: 3.9274\n",
            "Epoch 71/100\n",
            "1/1 [==============================] - 0s 10ms/step - loss: 3.9069 - mae: 3.9069\n",
            "Epoch 72/100\n",
            "1/1 [==============================] - 0s 12ms/step - loss: 3.9150 - mae: 3.9150\n",
            "Epoch 73/100\n",
            "1/1 [==============================] - 0s 12ms/step - loss: 4.3059 - mae: 4.3059\n",
            "Epoch 74/100\n",
            "1/1 [==============================] - 0s 11ms/step - loss: 4.0255 - mae: 4.0255\n",
            "Epoch 75/100\n",
            "1/1 [==============================] - 0s 11ms/step - loss: 4.1009 - mae: 4.1009\n",
            "Epoch 76/100\n",
            "1/1 [==============================] - 0s 10ms/step - loss: 4.2323 - mae: 4.2323\n",
            "Epoch 77/100\n",
            "1/1 [==============================] - 0s 11ms/step - loss: 4.7171 - mae: 4.7171\n",
            "Epoch 78/100\n",
            "1/1 [==============================] - 0s 12ms/step - loss: 3.8618 - mae: 3.8618\n",
            "Epoch 79/100\n",
            "1/1 [==============================] - 0s 12ms/step - loss: 4.5309 - mae: 4.5309\n",
            "Epoch 80/100\n",
            "1/1 [==============================] - 0s 10ms/step - loss: 4.4169 - mae: 4.4169\n",
            "Epoch 81/100\n",
            "1/1 [==============================] - 0s 13ms/step - loss: 3.8188 - mae: 3.8188\n",
            "Epoch 82/100\n",
            "1/1 [==============================] - 0s 13ms/step - loss: 4.2070 - mae: 4.2070\n",
            "Epoch 83/100\n",
            "1/1 [==============================] - 0s 12ms/step - loss: 3.9213 - mae: 3.9213\n",
            "Epoch 84/100\n",
            "1/1 [==============================] - 0s 10ms/step - loss: 4.0120 - mae: 4.0120\n",
            "Epoch 85/100\n",
            "1/1 [==============================] - 0s 12ms/step - loss: 4.1061 - mae: 4.1061\n",
            "Epoch 86/100\n",
            "1/1 [==============================] - 0s 10ms/step - loss: 4.6063 - mae: 4.6063\n",
            "Epoch 87/100\n",
            "1/1 [==============================] - 0s 9ms/step - loss: 3.7637 - mae: 3.7637\n",
            "Epoch 88/100\n",
            "1/1 [==============================] - 0s 12ms/step - loss: 4.4140 - mae: 4.4140\n",
            "Epoch 89/100\n",
            "1/1 [==============================] - 0s 11ms/step - loss: 4.3560 - mae: 4.3560\n",
            "Epoch 90/100\n",
            "1/1 [==============================] - 0s 11ms/step - loss: 3.6849 - mae: 3.6849\n",
            "Epoch 91/100\n",
            "1/1 [==============================] - 0s 10ms/step - loss: 3.7165 - mae: 3.7165\n",
            "Epoch 92/100\n",
            "1/1 [==============================] - 0s 12ms/step - loss: 4.0688 - mae: 4.0688\n",
            "Epoch 93/100\n",
            "1/1 [==============================] - 0s 13ms/step - loss: 3.8071 - mae: 3.8071\n",
            "Epoch 94/100\n",
            "1/1 [==============================] - 0s 15ms/step - loss: 3.8880 - mae: 3.8880\n",
            "Epoch 95/100\n",
            "1/1 [==============================] - 0s 12ms/step - loss: 3.9874 - mae: 3.9874\n",
            "Epoch 96/100\n",
            "1/1 [==============================] - 0s 13ms/step - loss: 4.4870 - mae: 4.4870\n",
            "Epoch 97/100\n",
            "1/1 [==============================] - 0s 12ms/step - loss: 3.6578 - mae: 3.6578\n",
            "Epoch 98/100\n",
            "1/1 [==============================] - 0s 12ms/step - loss: 4.2606 - mae: 4.2606\n",
            "Epoch 99/100\n",
            "1/1 [==============================] - 0s 13ms/step - loss: 4.2266 - mae: 4.2266\n",
            "Epoch 100/100\n",
            "1/1 [==============================] - 0s 11ms/step - loss: 3.5542 - mae: 3.5542\n"
          ]
        },
        {
          "output_type": "execute_result",
          "data": {
            "text/plain": [
              "<keras.callbacks.History at 0x7905f9e9c970>"
            ]
          },
          "metadata": {},
          "execution_count": 14
        }
      ]
    },
    {
      "cell_type": "code",
      "source": [
        "X"
      ],
      "metadata": {
        "colab": {
          "base_uri": "https://localhost:8080/"
        },
        "id": "d5FKLzGugP9d",
        "outputId": "32984407-289e-4e7b-eeb4-d6f257f60d1f"
      },
      "execution_count": null,
      "outputs": [
        {
          "output_type": "execute_result",
          "data": {
            "text/plain": [
              "<tf.Tensor: shape=(10,), dtype=float64, numpy=array([-7. , -4. , -1. ,  2. ,  3. ,  5. ,  0.8, 11. , 12. , 14. ])>"
            ]
          },
          "metadata": {},
          "execution_count": 15
        }
      ]
    },
    {
      "cell_type": "code",
      "source": [
        "y"
      ],
      "metadata": {
        "colab": {
          "base_uri": "https://localhost:8080/"
        },
        "id": "TNgLO6QKgYfH",
        "outputId": "389b222e-9561-4249-dee0-39c02585da2b"
      },
      "execution_count": null,
      "outputs": [
        {
          "output_type": "execute_result",
          "data": {
            "text/plain": [
              "<tf.Tensor: shape=(10,), dtype=float64, numpy=array([ 3. ,  6. ,  9. , 12. , 13. , 15. , 10.8, 21. , 22. , 24. ])>"
            ]
          },
          "metadata": {},
          "execution_count": 16
        }
      ]
    },
    {
      "cell_type": "code",
      "source": [
        "model.predict(X)"
      ],
      "metadata": {
        "colab": {
          "base_uri": "https://localhost:8080/"
        },
        "id": "nU2XBFUJga9K",
        "outputId": "1faf803a-9a19-482f-8c08-80adc7ee7d82"
      },
      "execution_count": null,
      "outputs": [
        {
          "output_type": "stream",
          "name": "stdout",
          "text": [
            "1/1 [==============================] - 0s 148ms/step\n"
          ]
        },
        {
          "output_type": "execute_result",
          "data": {
            "text/plain": [
              "array([[ 3.1317897],\n",
              "       [ 2.4584246],\n",
              "       [ 1.9035488],\n",
              "       [ 5.842693 ],\n",
              "       [ 7.440041 ],\n",
              "       [10.634735 ],\n",
              "       [ 3.9171362],\n",
              "       [20.218822 ],\n",
              "       [21.81617  ],\n",
              "       [25.010866 ]], dtype=float32)"
            ]
          },
          "metadata": {},
          "execution_count": 17
        }
      ]
    },
    {
      "cell_type": "code",
      "source": [
        "num = list(range(len(y_pred)))\n",
        "\n",
        "plt.scatter(tf.reshape(y, [10,]), num,  color = 'lightblue')\n",
        "plt.scatter(tf.reshape(model.predict(X), [10,]), num,  color = 'salmon')\n",
        "\n",
        "plt.show()"
      ],
      "metadata": {
        "colab": {
          "base_uri": "https://localhost:8080/",
          "height": 447
        },
        "id": "TDfWucrcTKuz",
        "outputId": "a5a5c38d-4124-472a-d01c-e9b85bacbb37"
      },
      "execution_count": null,
      "outputs": [
        {
          "output_type": "stream",
          "name": "stdout",
          "text": [
            "1/1 [==============================] - 0s 40ms/step\n"
          ]
        },
        {
          "output_type": "display_data",
          "data": {
            "text/plain": [
              "<Figure size 640x480 with 1 Axes>"
            ],
            "image/png": "[encoded data removed]"
          },
          "metadata": {}
        }
      ]
    },
    {
      "cell_type": "code",
      "source": [
        "# Let's improve our model a bit more\n",
        "\n",
        "# Set random seed\n",
        "tf.random.set_seed(42)\n",
        "\n",
        "# Create the improved model\n",
        "model = tf.keras.models.Sequential([\n",
        "    tf.keras.layers.Dense(100, activation = 'relu'),\n",
        "    tf.keras.layers.Dense(100, activation = 'relu'),\n",
        "    tf.keras.layers.Dense(100, activation = 'relu'),\n",
        "    tf.keras.layers.Dense(1)\n",
        "])\n",
        "\n",
        "# Compile the model\n",
        "model.compile(loss = tf.keras.losses.MeanAbsoluteError(),\n",
        "              optimizer = tf.keras.optimizers.Adam(learning_rate = 0.1),\n",
        "              metrics = ['mae'])\n",
        "\n",
        "# Fit the model\n",
        "result = model.fit(tf.expand_dims(X, axis= -1), tf.expand_dims(y, axis = -1), epochs = 100, verbose = 1)"
      ],
      "metadata": {
        "colab": {
          "base_uri": "https://localhost:8080/"
        },
        "id": "TrEXQB5oTKsN",
        "outputId": "3cc6f8ef-a6b3-4899-c3e1-5f40b3120ec3"
      },
      "execution_count": null,
      "outputs": [
        {
          "output_type": "stream",
          "name": "stdout",
          "text": [
            "Epoch 1/100\n",
            "1/1 [==============================] - 4s 4s/step - loss: 13.9313 - mae: 13.9313\n",
            "Epoch 2/100\n",
            "1/1 [==============================] - 0s 13ms/step - loss: 45.6631 - mae: 45.6631\n",
            "Epoch 3/100\n",
            "1/1 [==============================] - 0s 20ms/step - loss: 13.3326 - mae: 13.3326\n",
            "Epoch 4/100\n",
            "1/1 [==============================] - 0s 24ms/step - loss: 13.8591 - mae: 13.8591\n",
            "Epoch 5/100\n",
            "1/1 [==============================] - 0s 17ms/step - loss: 12.6162 - mae: 12.6162\n",
            "Epoch 6/100\n",
            "1/1 [==============================] - 0s 29ms/step - loss: 11.0038 - mae: 11.0038\n",
            "Epoch 7/100\n",
            "1/1 [==============================] - 0s 34ms/step - loss: 5.3738 - mae: 5.3738\n",
            "Epoch 8/100\n",
            "1/1 [==============================] - 0s 24ms/step - loss: 6.1328 - mae: 6.1328\n",
            "Epoch 9/100\n",
            "1/1 [==============================] - 0s 46ms/step - loss: 10.2450 - mae: 10.2450\n",
            "Epoch 10/100\n",
            "1/1 [==============================] - 0s 18ms/step - loss: 7.8083 - mae: 7.8083\n",
            "Epoch 11/100\n",
            "1/1 [==============================] - 0s 17ms/step - loss: 8.0041 - mae: 8.0041\n",
            "Epoch 12/100\n",
            "1/1 [==============================] - 0s 16ms/step - loss: 5.4066 - mae: 5.4066\n",
            "Epoch 13/100\n",
            "1/1 [==============================] - 0s 16ms/step - loss: 7.5481 - mae: 7.5481\n",
            "Epoch 14/100\n",
            "1/1 [==============================] - 0s 21ms/step - loss: 8.1385 - mae: 8.1385\n",
            "Epoch 15/100\n",
            "1/1 [==============================] - 0s 21ms/step - loss: 5.9849 - mae: 5.9849\n",
            "Epoch 16/100\n",
            "1/1 [==============================] - 0s 20ms/step - loss: 5.2810 - mae: 5.2810\n",
            "Epoch 17/100\n",
            "1/1 [==============================] - 0s 24ms/step - loss: 5.4851 - mae: 5.4851\n",
            "Epoch 18/100\n",
            "1/1 [==============================] - 0s 23ms/step - loss: 2.5749 - mae: 2.5749\n",
            "Epoch 19/100\n",
            "1/1 [==============================] - 0s 39ms/step - loss: 4.2332 - mae: 4.2332\n",
            "Epoch 20/100\n",
            "1/1 [==============================] - 0s 35ms/step - loss: 3.9697 - mae: 3.9697\n",
            "Epoch 21/100\n",
            "1/1 [==============================] - 0s 35ms/step - loss: 2.3555 - mae: 2.3555\n",
            "Epoch 22/100\n",
            "1/1 [==============================] - 0s 14ms/step - loss: 3.0809 - mae: 3.0809\n",
            "Epoch 23/100\n",
            "1/1 [==============================] - 0s 32ms/step - loss: 1.1246 - mae: 1.1246\n",
            "Epoch 24/100\n",
            "1/1 [==============================] - 0s 20ms/step - loss: 2.8549 - mae: 2.8549\n",
            "Epoch 25/100\n",
            "1/1 [==============================] - 0s 37ms/step - loss: 3.2404 - mae: 3.2404\n",
            "Epoch 26/100\n",
            "1/1 [==============================] - 0s 18ms/step - loss: 2.0607 - mae: 2.0607\n",
            "Epoch 27/100\n",
            "1/1 [==============================] - 0s 25ms/step - loss: 2.1169 - mae: 2.1169\n",
            "Epoch 28/100\n",
            "1/1 [==============================] - 0s 22ms/step - loss: 2.8566 - mae: 2.8566\n",
            "Epoch 29/100\n",
            "1/1 [==============================] - 0s 22ms/step - loss: 1.0925 - mae: 1.0925\n",
            "Epoch 30/100\n",
            "1/1 [==============================] - 0s 39ms/step - loss: 2.4830 - mae: 2.4830\n",
            "Epoch 31/100\n",
            "1/1 [==============================] - 0s 23ms/step - loss: 2.6827 - mae: 2.6827\n",
            "Epoch 32/100\n",
            "1/1 [==============================] - 0s 32ms/step - loss: 1.1455 - mae: 1.1455\n",
            "Epoch 33/100\n",
            "1/1 [==============================] - 0s 32ms/step - loss: 3.2264 - mae: 3.2264\n",
            "Epoch 34/100\n",
            "1/1 [==============================] - 0s 21ms/step - loss: 3.8366 - mae: 3.8366\n",
            "Epoch 35/100\n",
            "1/1 [==============================] - 0s 17ms/step - loss: 1.4917 - mae: 1.4917\n",
            "Epoch 36/100\n",
            "1/1 [==============================] - 0s 29ms/step - loss: 2.6213 - mae: 2.6213\n",
            "Epoch 37/100\n",
            "1/1 [==============================] - 0s 18ms/step - loss: 3.9728 - mae: 3.9728\n",
            "Epoch 38/100\n",
            "1/1 [==============================] - 0s 23ms/step - loss: 4.1509 - mae: 4.1509\n",
            "Epoch 39/100\n",
            "1/1 [==============================] - 0s 20ms/step - loss: 3.4237 - mae: 3.4237\n",
            "Epoch 40/100\n",
            "1/1 [==============================] - 0s 21ms/step - loss: 1.7698 - mae: 1.7698\n",
            "Epoch 41/100\n",
            "1/1 [==============================] - 0s 25ms/step - loss: 2.0234 - mae: 2.0234\n",
            "Epoch 42/100\n",
            "1/1 [==============================] - 0s 19ms/step - loss: 3.1183 - mae: 3.1183\n",
            "Epoch 43/100\n",
            "1/1 [==============================] - 0s 20ms/step - loss: 1.9559 - mae: 1.9559\n",
            "Epoch 44/100\n",
            "1/1 [==============================] - 0s 22ms/step - loss: 1.2933 - mae: 1.2933\n",
            "Epoch 45/100\n",
            "1/1 [==============================] - 0s 25ms/step - loss: 2.1061 - mae: 2.1061\n",
            "Epoch 46/100\n",
            "1/1 [==============================] - 0s 28ms/step - loss: 1.9946 - mae: 1.9946\n",
            "Epoch 47/100\n",
            "1/1 [==============================] - 0s 30ms/step - loss: 1.0329 - mae: 1.0329\n",
            "Epoch 48/100\n",
            "1/1 [==============================] - 0s 31ms/step - loss: 1.9027 - mae: 1.9027\n",
            "Epoch 49/100\n",
            "1/1 [==============================] - 0s 22ms/step - loss: 2.4100 - mae: 2.4100\n",
            "Epoch 50/100\n",
            "1/1 [==============================] - 0s 26ms/step - loss: 1.1874 - mae: 1.1874\n",
            "Epoch 51/100\n",
            "1/1 [==============================] - 0s 22ms/step - loss: 1.6609 - mae: 1.6609\n",
            "Epoch 52/100\n",
            "1/1 [==============================] - 0s 25ms/step - loss: 2.4687 - mae: 2.4687\n",
            "Epoch 53/100\n",
            "1/1 [==============================] - 0s 23ms/step - loss: 2.3220 - mae: 2.3220\n",
            "Epoch 54/100\n",
            "1/1 [==============================] - 0s 21ms/step - loss: 1.2873 - mae: 1.2873\n",
            "Epoch 55/100\n",
            "1/1 [==============================] - 0s 23ms/step - loss: 1.5236 - mae: 1.5236\n",
            "Epoch 56/100\n",
            "1/1 [==============================] - 0s 38ms/step - loss: 2.1638 - mae: 2.1638\n",
            "Epoch 57/100\n",
            "1/1 [==============================] - 0s 16ms/step - loss: 1.2751 - mae: 1.2751\n",
            "Epoch 58/100\n",
            "1/1 [==============================] - 0s 24ms/step - loss: 1.2650 - mae: 1.2650\n",
            "Epoch 59/100\n",
            "1/1 [==============================] - 0s 18ms/step - loss: 1.8758 - mae: 1.8758\n",
            "Epoch 60/100\n",
            "1/1 [==============================] - 0s 19ms/step - loss: 1.5454 - mae: 1.5454\n",
            "Epoch 61/100\n",
            "1/1 [==============================] - 0s 20ms/step - loss: 0.3854 - mae: 0.3854\n",
            "Epoch 62/100\n",
            "1/1 [==============================] - 0s 26ms/step - loss: 2.1739 - mae: 2.1739\n",
            "Epoch 63/100\n",
            "1/1 [==============================] - 0s 24ms/step - loss: 2.4889 - mae: 2.4889\n",
            "Epoch 64/100\n",
            "1/1 [==============================] - 0s 23ms/step - loss: 1.3123 - mae: 1.3123\n",
            "Epoch 65/100\n",
            "1/1 [==============================] - 0s 22ms/step - loss: 1.3754 - mae: 1.3754\n",
            "Epoch 66/100\n",
            "1/1 [==============================] - 0s 21ms/step - loss: 2.1640 - mae: 2.1640\n",
            "Epoch 67/100\n",
            "1/1 [==============================] - 0s 22ms/step - loss: 2.0771 - mae: 2.0771\n",
            "Epoch 68/100\n",
            "1/1 [==============================] - 0s 28ms/step - loss: 1.1898 - mae: 1.1898\n",
            "Epoch 69/100\n",
            "1/1 [==============================] - 0s 23ms/step - loss: 1.2782 - mae: 1.2782\n",
            "Epoch 70/100\n",
            "1/1 [==============================] - 0s 22ms/step - loss: 1.8711 - mae: 1.8711\n",
            "Epoch 71/100\n",
            "1/1 [==============================] - 0s 33ms/step - loss: 1.1221 - mae: 1.1221\n",
            "Epoch 72/100\n",
            "1/1 [==============================] - 0s 26ms/step - loss: 1.1640 - mae: 1.1640\n",
            "Epoch 73/100\n",
            "1/1 [==============================] - 0s 26ms/step - loss: 1.6842 - mae: 1.6842\n",
            "Epoch 74/100\n",
            "1/1 [==============================] - 0s 25ms/step - loss: 1.3509 - mae: 1.3509\n",
            "Epoch 75/100\n",
            "1/1 [==============================] - 0s 25ms/step - loss: 0.4355 - mae: 0.4355\n",
            "Epoch 76/100\n",
            "1/1 [==============================] - 0s 23ms/step - loss: 0.5462 - mae: 0.5462\n",
            "Epoch 77/100\n",
            "1/1 [==============================] - 0s 24ms/step - loss: 0.9366 - mae: 0.9366\n",
            "Epoch 78/100\n",
            "1/1 [==============================] - 0s 23ms/step - loss: 0.8971 - mae: 0.8971\n",
            "Epoch 79/100\n",
            "1/1 [==============================] - 0s 26ms/step - loss: 0.5712 - mae: 0.5712\n",
            "Epoch 80/100\n",
            "1/1 [==============================] - 0s 23ms/step - loss: 0.3421 - mae: 0.3421\n",
            "Epoch 81/100\n",
            "1/1 [==============================] - 0s 28ms/step - loss: 1.2227 - mae: 1.2227\n",
            "Epoch 82/100\n",
            "1/1 [==============================] - 0s 65ms/step - loss: 1.2358 - mae: 1.2358\n",
            "Epoch 83/100\n",
            "1/1 [==============================] - 0s 28ms/step - loss: 0.4035 - mae: 0.4035\n",
            "Epoch 84/100\n",
            "1/1 [==============================] - 0s 27ms/step - loss: 2.0398 - mae: 2.0398\n",
            "Epoch 85/100\n",
            "1/1 [==============================] - 0s 36ms/step - loss: 2.5857 - mae: 2.5857\n",
            "Epoch 86/100\n",
            "1/1 [==============================] - 0s 12ms/step - loss: 1.7213 - mae: 1.7213\n",
            "Epoch 87/100\n",
            "1/1 [==============================] - 0s 20ms/step - loss: 0.6741 - mae: 0.6741\n",
            "Epoch 88/100\n",
            "1/1 [==============================] - 0s 11ms/step - loss: 1.2548 - mae: 1.2548\n",
            "Epoch 89/100\n",
            "1/1 [==============================] - 0s 11ms/step - loss: 0.9816 - mae: 0.9816\n",
            "Epoch 90/100\n",
            "1/1 [==============================] - 0s 19ms/step - loss: 0.7472 - mae: 0.7472\n",
            "Epoch 91/100\n",
            "1/1 [==============================] - 0s 27ms/step - loss: 0.8796 - mae: 0.8796\n",
            "Epoch 92/100\n",
            "1/1 [==============================] - 0s 20ms/step - loss: 0.5663 - mae: 0.5663\n",
            "Epoch 93/100\n",
            "1/1 [==============================] - 0s 28ms/step - loss: 0.4374 - mae: 0.4374\n",
            "Epoch 94/100\n",
            "1/1 [==============================] - 0s 24ms/step - loss: 1.0987 - mae: 1.0987\n",
            "Epoch 95/100\n",
            "1/1 [==============================] - 0s 20ms/step - loss: 0.9476 - mae: 0.9476\n",
            "Epoch 96/100\n",
            "1/1 [==============================] - 0s 29ms/step - loss: 0.7252 - mae: 0.7252\n",
            "Epoch 97/100\n",
            "1/1 [==============================] - 0s 17ms/step - loss: 0.8222 - mae: 0.8222\n",
            "Epoch 98/100\n",
            "1/1 [==============================] - 0s 28ms/step - loss: 0.5171 - mae: 0.5171\n",
            "Epoch 99/100\n",
            "1/1 [==============================] - 0s 27ms/step - loss: 0.4319 - mae: 0.4319\n",
            "Epoch 100/100\n",
            "1/1 [==============================] - 0s 23ms/step - loss: 0.3793 - mae: 0.3793\n"
          ]
        }
      ]
    },
    {
      "cell_type": "code",
      "source": [
        "num = list(range(len(y_pred)))\n",
        "\n",
        "plt.scatter(tf.reshape(y, [10,]), num,  color = 'lightblue')\n",
        "plt.scatter(tf.reshape(model.predict(X), [10,]), num,  color = 'salmon')\n",
        "\n",
        "plt.show()"
      ],
      "metadata": {
        "colab": {
          "base_uri": "https://localhost:8080/",
          "height": 447
        },
        "id": "DOVckmy-gq6o",
        "outputId": "2f7fd354-43be-4f90-f8d8-b528e2d58aeb"
      },
      "execution_count": null,
      "outputs": [
        {
          "output_type": "stream",
          "name": "stdout",
          "text": [
            "1/1 [==============================] - 0s 139ms/step\n"
          ]
        },
        {
          "output_type": "display_data",
          "data": {
            "text/plain": [
              "<Figure size 640x480 with 1 Axes>"
            ],
            "image/png": "[encoded data removed]"
          },
          "metadata": {}
        }
      ]
    },
    {
      "cell_type": "markdown",
      "source": [
        "## Evaluate the model"
      ],
      "metadata": {
        "id": "iTB5kF86higG"
      }
    },
    {
      "cell_type": "code",
      "source": [
        "model.evaluate(X,y)"
      ],
      "metadata": {
        "colab": {
          "base_uri": "https://localhost:8080/"
        },
        "id": "ecjmQv60h_9H",
        "outputId": "d0d2b95d-d3dc-42d6-f457-30d69391bd5f"
      },
      "execution_count": null,
      "outputs": [
        {
          "output_type": "stream",
          "name": "stdout",
          "text": [
            "1/1 [==============================] - 0s 322ms/step - loss: 0.5794 - mae: 0.5794\n"
          ]
        },
        {
          "output_type": "execute_result",
          "data": {
            "text/plain": [
              "[0.5794317126274109, 0.5794317126274109]"
            ]
          },
          "metadata": {},
          "execution_count": 21
        }
      ]
    },
    {
      "cell_type": "code",
      "source": [
        "plt.plot(result.history['loss'], color = 'blue')\n",
        "plt.plot(result.history['mae'], color = 'salmon')\n",
        "plt.show()"
      ],
      "metadata": {
        "colab": {
          "base_uri": "https://localhost:8080/",
          "height": 430
        },
        "id": "dxbYhXY6h_6N",
        "outputId": "398af5b9-faf8-4baf-e6ac-f3800ecd8277"
      },
      "execution_count": null,
      "outputs": [
        {
          "output_type": "display_data",
          "data": {
            "text/plain": [
              "<Figure size 640x480 with 1 Axes>"
            ],
            "image/png": "[encoded data removed]"
          },
          "metadata": {}
        }
      ]
    },
    {
      "cell_type": "markdown",
      "source": [
        "## Lets make a bigger dataset"
      ],
      "metadata": {
        "id": "vIM_POy-p8oV"
      }
    },
    {
      "cell_type": "code",
      "source": [
        "## Make a bigger dataset\n",
        "X = tf.range(-100, 100, 4)\n",
        "X"
      ],
      "metadata": {
        "colab": {
          "base_uri": "https://localhost:8080/"
        },
        "id": "OYVhnz--jIbp",
        "outputId": "432775c9-ee3d-413f-fee0-515f20cf2d3a"
      },
      "execution_count": null,
      "outputs": [
        {
          "output_type": "execute_result",
          "data": {
            "text/plain": [
              "<tf.Tensor: shape=(50,), dtype=int32, numpy=\n",
              "array([-100,  -96,  -92,  -88,  -84,  -80,  -76,  -72,  -68,  -64,  -60,\n",
              "        -56,  -52,  -48,  -44,  -40,  -36,  -32,  -28,  -24,  -20,  -16,\n",
              "        -12,   -8,   -4,    0,    4,    8,   12,   16,   20,   24,   28,\n",
              "         32,   36,   40,   44,   48,   52,   56,   60,   64,   68,   72,\n",
              "         76,   80,   84,   88,   92,   96], dtype=int32)>"
            ]
          },
          "metadata": {},
          "execution_count": 23
        }
      ]
    },
    {
      "cell_type": "code",
      "source": [
        "y = X + 10\n",
        "y"
      ],
      "metadata": {
        "colab": {
          "base_uri": "https://localhost:8080/"
        },
        "id": "JNjkBMLnkBJn",
        "outputId": "5246c34a-1aaf-4a93-ddf4-0b686954f356"
      },
      "execution_count": null,
      "outputs": [
        {
          "output_type": "execute_result",
          "data": {
            "text/plain": [
              "<tf.Tensor: shape=(50,), dtype=int32, numpy=\n",
              "array([-90, -86, -82, -78, -74, -70, -66, -62, -58, -54, -50, -46, -42,\n",
              "       -38, -34, -30, -26, -22, -18, -14, -10,  -6,  -2,   2,   6,  10,\n",
              "        14,  18,  22,  26,  30,  34,  38,  42,  46,  50,  54,  58,  62,\n",
              "        66,  70,  74,  78,  82,  86,  90,  94,  98, 102, 106], dtype=int32)>"
            ]
          },
          "metadata": {},
          "execution_count": 24
        }
      ]
    },
    {
      "cell_type": "code",
      "source": [
        "plt.scatter(X, y)\n",
        "plt.show()"
      ],
      "metadata": {
        "colab": {
          "base_uri": "https://localhost:8080/",
          "height": 430
        },
        "id": "dQVZZwCNkFOL",
        "outputId": "2413084a-6c17-4b00-d99b-2e2200eadbe3"
      },
      "execution_count": null,
      "outputs": [
        {
          "output_type": "display_data",
          "data": {
            "text/plain": [
              "<Figure size 640x480 with 1 Axes>"
            ],
            "image/png": "[encoded data removed]"
          },
          "metadata": {}
        }
      ]
    },
    {
      "cell_type": "code",
      "source": [
        "X_train = X[:40]\n",
        "y_train = y[:40]\n",
        "\n",
        "X_test = X[40:]\n",
        "y_test = y[40:]\n",
        "\n",
        "len(X_train), len(X_test), len(y_train), len(y_test)"
      ],
      "metadata": {
        "colab": {
          "base_uri": "https://localhost:8080/"
        },
        "id": "5TLRVAZplAG0",
        "outputId": "58af4688-22b2-4829-b89d-c3307619ea2b"
      },
      "execution_count": null,
      "outputs": [
        {
          "output_type": "execute_result",
          "data": {
            "text/plain": [
              "(40, 10, 40, 10)"
            ]
          },
          "metadata": {},
          "execution_count": 26
        }
      ]
    },
    {
      "cell_type": "code",
      "source": [
        "X_train.shape, y_train.shape"
      ],
      "metadata": {
        "colab": {
          "base_uri": "https://localhost:8080/"
        },
        "id": "k-zr52Top1RW",
        "outputId": "b03ca834-b186-4030-d240-baa5610aee12"
      },
      "execution_count": null,
      "outputs": [
        {
          "output_type": "execute_result",
          "data": {
            "text/plain": [
              "(TensorShape([40]), TensorShape([40]))"
            ]
          },
          "metadata": {},
          "execution_count": 27
        }
      ]
    },
    {
      "cell_type": "markdown",
      "source": [
        "### Visualizing the data\n",
        "\n",
        "Now we've got out train and test data ..... let's visualize it"
      ],
      "metadata": {
        "id": "ilpbLBBMndy7"
      }
    },
    {
      "cell_type": "code",
      "source": [
        "plt.figure(figsize=(10,7))\n",
        "\n",
        "plt.scatter(X_train, y_train, c = 'b', label = 'Training data')\n",
        "plt.scatter(X_test, y_test, c = 'g', label = 'Testing data')\n",
        "plt.legend()\n",
        "plt.show()"
      ],
      "metadata": {
        "colab": {
          "base_uri": "https://localhost:8080/",
          "height": 599
        },
        "id": "PK2juQLunwXg",
        "outputId": "4228f73b-0340-46d1-b652-360498ae0816"
      },
      "execution_count": null,
      "outputs": [
        {
          "output_type": "display_data",
          "data": {
            "text/plain": [
              "<Figure size 1000x700 with 1 Axes>"
            ],
            "image/png": "[encoded data removed]"
          },
          "metadata": {}
        }
      ]
    },
    {
      "cell_type": "markdown",
      "source": [
        "Let's have a look at how to build a neural network for this kind of data\n"
      ],
      "metadata": {
        "id": "aPVC2HiuoBAm"
      }
    },
    {
      "cell_type": "code",
      "source": [
        "# 1. Create the model\n",
        "model = tf.keras.models.Sequential([\n",
        "    tf.keras.layers.Dense(1)\n",
        "])\n",
        "\n",
        "# Compile the data\n",
        "model.compile(loss = tf.keras.losses.MeanAbsoluteError(),\n",
        "              optimizer = tf.keras.optimizers.SGD(),\n",
        "              metrics = [tf.keras.metrics.MeanAbsoluteError()])\n",
        "\n",
        "# Fit the model\n",
        "#model.fit(X_train, y_train, epochs = 100)"
      ],
      "metadata": {
        "id": "A9PkriXMpEge"
      },
      "execution_count": null,
      "outputs": []
    },
    {
      "cell_type": "code",
      "source": [
        "# Let's create a model which builds automatically by defining the input shape of the tensor\n",
        "\n",
        "# 1. Create the model\n",
        "model = tf.keras.models.Sequential([\n",
        "    tf.keras.layers.Dense(10, input_shape = [1], name = 'input_layer'),\n",
        "    tf.keras.layers.Dense(100, activation = 'relu'),\n",
        "    tf.keras.layers.Dense(100, activation = 'relu'),\n",
        "    tf.keras.layers.Dense(100, activation = 'relu'),\n",
        "    tf.keras.layers.Dense(1, name = 'output_layer')\n",
        "])\n",
        "\n",
        "# Compile the data\n",
        "model.compile(loss = tf.keras.losses.MeanAbsoluteError(),\n",
        "              optimizer = tf.keras.optimizers.Adam(lr = 0.1),\n",
        "              metrics = [tf.keras.metrics.MeanAbsoluteError()])\n",
        "\n",
        "# Fit the model\n",
        "#model.fit(X_train, y_train, epochs = 100)"
      ],
      "metadata": {
        "colab": {
          "base_uri": "https://localhost:8080/"
        },
        "id": "yN_l5FpLqE3t",
        "outputId": "ce47380b-8982-4489-8674-387ba09c13f5"
      },
      "execution_count": null,
      "outputs": [
        {
          "output_type": "stream",
          "name": "stderr",
          "text": [
            "WARNING:absl:`lr` is deprecated in Keras optimizer, please use `learning_rate` or use the legacy optimizer, e.g.,tf.keras.optimizers.legacy.Adam.\n"
          ]
        }
      ]
    },
    {
      "cell_type": "code",
      "source": [
        "model.summary()"
      ],
      "metadata": {
        "colab": {
          "base_uri": "https://localhost:8080/"
        },
        "id": "P0bOwfaLqtvw",
        "outputId": "e9a5ce0f-83d2-4a8e-a46d-876f6ae6b212"
      },
      "execution_count": null,
      "outputs": [
        {
          "output_type": "stream",
          "name": "stdout",
          "text": [
            "Model: \"sequential_5\"\n",
            "_________________________________________________________________\n",
            " Layer (type)                Output Shape              Param #   \n",
            "=================================================================\n",
            " input_layer (Dense)         (None, 10)                20        \n",
            "                                                                 \n",
            " dense_11 (Dense)            (None, 100)               1100      \n",
            "                                                                 \n",
            " dense_12 (Dense)            (None, 100)               10100     \n",
            "                                                                 \n",
            " dense_13 (Dense)            (None, 100)               10100     \n",
            "                                                                 \n",
            " output_layer (Dense)        (None, 1)                 101       \n",
            "                                                                 \n",
            "=================================================================\n",
            "Total params: 21,421\n",
            "Trainable params: 21,421\n",
            "Non-trainable params: 0\n",
            "_________________________________________________________________\n"
          ]
        }
      ]
    },
    {
      "cell_type": "code",
      "source": [
        "tf.keras.utils.plot_model(model, to_file='model.png', show_shapes = True)"
      ],
      "metadata": {
        "colab": {
          "base_uri": "https://localhost:8080/",
          "height": 644
        },
        "id": "Qx8sRD4Rqhh8",
        "outputId": "7ae4a353-a3eb-45ad-fefe-5363c336aa84"
      },
      "execution_count": null,
      "outputs": [
        {
          "output_type": "execute_result",
          "data": {
            "image/png": "[encoded data removed]",
            "text/plain": [
              "<IPython.core.display.Image object>"
            ]
          },
          "metadata": {},
          "execution_count": 32
        }
      ]
    },
    {
      "cell_type": "code",
      "source": [
        "model.fit(X_train, y_train, epochs = 100)"
      ],
      "metadata": {
        "colab": {
          "base_uri": "https://localhost:8080/"
        },
        "id": "ERWjATLeqxL3",
        "outputId": "6a2044cc-d459-4f5f-f35d-866b4f75fd69"
      },
      "execution_count": null,
      "outputs": [
        {
          "output_type": "stream",
          "name": "stdout",
          "text": [
            "Epoch 1/100\n",
            "2/2 [==============================] - 2s 9ms/step - loss: 39.2174 - mean_absolute_error: 39.2174\n",
            "Epoch 2/100\n",
            "2/2 [==============================] - 0s 9ms/step - loss: 34.4212 - mean_absolute_error: 34.4212\n",
            "Epoch 3/100\n",
            "2/2 [==============================] - 0s 9ms/step - loss: 30.1876 - mean_absolute_error: 30.1876\n",
            "Epoch 4/100\n",
            "2/2 [==============================] - 0s 9ms/step - loss: 25.7454 - mean_absolute_error: 25.7454\n",
            "Epoch 5/100\n",
            "2/2 [==============================] - 0s 9ms/step - loss: 21.0640 - mean_absolute_error: 21.0640\n",
            "Epoch 6/100\n",
            "2/2 [==============================] - 0s 9ms/step - loss: 16.0047 - mean_absolute_error: 16.0047\n",
            "Epoch 7/100\n",
            "2/2 [==============================] - 0s 9ms/step - loss: 11.1715 - mean_absolute_error: 11.1715\n",
            "Epoch 8/100\n",
            "2/2 [==============================] - 0s 11ms/step - loss: 10.9810 - mean_absolute_error: 10.9810\n",
            "Epoch 9/100\n",
            "2/2 [==============================] - 0s 13ms/step - loss: 9.7405 - mean_absolute_error: 9.7405\n",
            "Epoch 10/100\n",
            "2/2 [==============================] - 0s 13ms/step - loss: 6.2325 - mean_absolute_error: 6.2325\n",
            "Epoch 11/100\n",
            "2/2 [==============================] - 0s 12ms/step - loss: 4.3275 - mean_absolute_error: 4.3275\n",
            "Epoch 12/100\n",
            "2/2 [==============================] - 0s 13ms/step - loss: 6.0340 - mean_absolute_error: 6.0340\n",
            "Epoch 13/100\n",
            "2/2 [==============================] - 0s 14ms/step - loss: 6.4915 - mean_absolute_error: 6.4915\n",
            "Epoch 14/100\n",
            "2/2 [==============================] - 0s 11ms/step - loss: 6.0017 - mean_absolute_error: 6.0017\n",
            "Epoch 15/100\n",
            "2/2 [==============================] - 0s 13ms/step - loss: 5.5277 - mean_absolute_error: 5.5277\n",
            "Epoch 16/100\n",
            "2/2 [==============================] - 0s 18ms/step - loss: 4.8411 - mean_absolute_error: 4.8411\n",
            "Epoch 17/100\n",
            "2/2 [==============================] - 0s 10ms/step - loss: 3.9951 - mean_absolute_error: 3.9951\n",
            "Epoch 18/100\n",
            "2/2 [==============================] - 0s 13ms/step - loss: 5.0698 - mean_absolute_error: 5.0698\n",
            "Epoch 19/100\n",
            "2/2 [==============================] - 0s 19ms/step - loss: 5.8049 - mean_absolute_error: 5.8049\n",
            "Epoch 20/100\n",
            "2/2 [==============================] - 0s 12ms/step - loss: 5.6805 - mean_absolute_error: 5.6805\n",
            "Epoch 21/100\n",
            "2/2 [==============================] - 0s 12ms/step - loss: 4.9378 - mean_absolute_error: 4.9378\n",
            "Epoch 22/100\n",
            "2/2 [==============================] - 0s 10ms/step - loss: 4.1578 - mean_absolute_error: 4.1578\n",
            "Epoch 23/100\n",
            "2/2 [==============================] - 0s 9ms/step - loss: 4.8054 - mean_absolute_error: 4.8054\n",
            "Epoch 24/100\n",
            "2/2 [==============================] - 0s 11ms/step - loss: 4.8701 - mean_absolute_error: 4.8701\n",
            "Epoch 25/100\n",
            "2/2 [==============================] - 0s 11ms/step - loss: 4.9376 - mean_absolute_error: 4.9376\n",
            "Epoch 26/100\n",
            "2/2 [==============================] - 0s 11ms/step - loss: 4.8720 - mean_absolute_error: 4.8720\n",
            "Epoch 27/100\n",
            "2/2 [==============================] - 0s 11ms/step - loss: 4.5581 - mean_absolute_error: 4.5581\n",
            "Epoch 28/100\n",
            "2/2 [==============================] - 0s 11ms/step - loss: 4.1610 - mean_absolute_error: 4.1610\n",
            "Epoch 29/100\n",
            "2/2 [==============================] - 0s 11ms/step - loss: 4.0143 - mean_absolute_error: 4.0143\n",
            "Epoch 30/100\n",
            "2/2 [==============================] - 0s 10ms/step - loss: 4.2237 - mean_absolute_error: 4.2237\n",
            "Epoch 31/100\n",
            "2/2 [==============================] - 0s 9ms/step - loss: 4.4728 - mean_absolute_error: 4.4728\n",
            "Epoch 32/100\n",
            "2/2 [==============================] - 0s 10ms/step - loss: 4.1518 - mean_absolute_error: 4.1518\n",
            "Epoch 33/100\n",
            "2/2 [==============================] - 0s 10ms/step - loss: 4.0226 - mean_absolute_error: 4.0226\n",
            "Epoch 34/100\n",
            "2/2 [==============================] - 0s 10ms/step - loss: 4.1962 - mean_absolute_error: 4.1962\n",
            "Epoch 35/100\n",
            "2/2 [==============================] - 0s 11ms/step - loss: 4.2804 - mean_absolute_error: 4.2804\n",
            "Epoch 36/100\n",
            "2/2 [==============================] - 0s 11ms/step - loss: 4.3088 - mean_absolute_error: 4.3088\n",
            "Epoch 37/100\n",
            "2/2 [==============================] - 0s 18ms/step - loss: 4.2524 - mean_absolute_error: 4.2524\n",
            "Epoch 38/100\n",
            "2/2 [==============================] - 0s 10ms/step - loss: 4.1093 - mean_absolute_error: 4.1093\n",
            "Epoch 39/100\n",
            "2/2 [==============================] - 0s 29ms/step - loss: 3.9851 - mean_absolute_error: 3.9851\n",
            "Epoch 40/100\n",
            "2/2 [==============================] - 0s 20ms/step - loss: 3.9435 - mean_absolute_error: 3.9435\n",
            "Epoch 41/100\n",
            "2/2 [==============================] - 0s 17ms/step - loss: 3.9218 - mean_absolute_error: 3.9218\n",
            "Epoch 42/100\n",
            "2/2 [==============================] - 0s 24ms/step - loss: 3.8664 - mean_absolute_error: 3.8664\n",
            "Epoch 43/100\n",
            "2/2 [==============================] - 0s 23ms/step - loss: 3.8831 - mean_absolute_error: 3.8831\n",
            "Epoch 44/100\n",
            "2/2 [==============================] - 0s 15ms/step - loss: 3.9314 - mean_absolute_error: 3.9314\n",
            "Epoch 45/100\n",
            "2/2 [==============================] - 0s 15ms/step - loss: 3.9373 - mean_absolute_error: 3.9373\n",
            "Epoch 46/100\n",
            "2/2 [==============================] - 0s 17ms/step - loss: 4.0118 - mean_absolute_error: 4.0118\n",
            "Epoch 47/100\n",
            "2/2 [==============================] - 0s 23ms/step - loss: 3.8972 - mean_absolute_error: 3.8972\n",
            "Epoch 48/100\n",
            "2/2 [==============================] - 0s 16ms/step - loss: 3.8523 - mean_absolute_error: 3.8523\n",
            "Epoch 49/100\n",
            "2/2 [==============================] - 0s 13ms/step - loss: 3.8152 - mean_absolute_error: 3.8152\n",
            "Epoch 50/100\n",
            "2/2 [==============================] - 0s 15ms/step - loss: 3.7731 - mean_absolute_error: 3.7731\n",
            "Epoch 51/100\n",
            "2/2 [==============================] - 0s 20ms/step - loss: 3.8695 - mean_absolute_error: 3.8695\n",
            "Epoch 52/100\n",
            "2/2 [==============================] - 0s 14ms/step - loss: 3.9236 - mean_absolute_error: 3.9236\n",
            "Epoch 53/100\n",
            "2/2 [==============================] - 0s 13ms/step - loss: 3.7649 - mean_absolute_error: 3.7649\n",
            "Epoch 54/100\n",
            "2/2 [==============================] - 0s 16ms/step - loss: 3.6919 - mean_absolute_error: 3.6919\n",
            "Epoch 55/100\n",
            "2/2 [==============================] - 0s 13ms/step - loss: 3.7609 - mean_absolute_error: 3.7609\n",
            "Epoch 56/100\n",
            "2/2 [==============================] - 0s 21ms/step - loss: 3.8086 - mean_absolute_error: 3.8086\n",
            "Epoch 57/100\n",
            "2/2 [==============================] - 0s 19ms/step - loss: 3.7203 - mean_absolute_error: 3.7203\n",
            "Epoch 58/100\n",
            "2/2 [==============================] - 0s 16ms/step - loss: 3.6685 - mean_absolute_error: 3.6685\n",
            "Epoch 59/100\n",
            "2/2 [==============================] - 0s 19ms/step - loss: 3.6863 - mean_absolute_error: 3.6863\n",
            "Epoch 60/100\n",
            "2/2 [==============================] - 0s 19ms/step - loss: 3.6684 - mean_absolute_error: 3.6684\n",
            "Epoch 61/100\n",
            "2/2 [==============================] - 0s 13ms/step - loss: 3.6755 - mean_absolute_error: 3.6755\n",
            "Epoch 62/100\n",
            "2/2 [==============================] - 0s 12ms/step - loss: 3.6585 - mean_absolute_error: 3.6585\n",
            "Epoch 63/100\n",
            "2/2 [==============================] - 0s 14ms/step - loss: 3.6285 - mean_absolute_error: 3.6285\n",
            "Epoch 64/100\n",
            "2/2 [==============================] - 0s 15ms/step - loss: 3.5994 - mean_absolute_error: 3.5994\n",
            "Epoch 65/100\n",
            "2/2 [==============================] - 0s 8ms/step - loss: 3.5720 - mean_absolute_error: 3.5720\n",
            "Epoch 66/100\n",
            "2/2 [==============================] - 0s 12ms/step - loss: 3.5598 - mean_absolute_error: 3.5598\n",
            "Epoch 67/100\n",
            "2/2 [==============================] - 0s 16ms/step - loss: 3.5522 - mean_absolute_error: 3.5522\n",
            "Epoch 68/100\n",
            "2/2 [==============================] - 0s 15ms/step - loss: 3.5441 - mean_absolute_error: 3.5441\n",
            "Epoch 69/100\n",
            "2/2 [==============================] - 0s 14ms/step - loss: 3.5845 - mean_absolute_error: 3.5845\n",
            "Epoch 70/100\n",
            "2/2 [==============================] - 0s 11ms/step - loss: 3.6790 - mean_absolute_error: 3.6790\n",
            "Epoch 71/100\n",
            "2/2 [==============================] - 0s 16ms/step - loss: 3.5256 - mean_absolute_error: 3.5256\n",
            "Epoch 72/100\n",
            "2/2 [==============================] - 0s 15ms/step - loss: 3.5340 - mean_absolute_error: 3.5340\n",
            "Epoch 73/100\n",
            "2/2 [==============================] - 0s 19ms/step - loss: 3.6243 - mean_absolute_error: 3.6243\n",
            "Epoch 74/100\n",
            "2/2 [==============================] - 0s 16ms/step - loss: 3.6285 - mean_absolute_error: 3.6285\n",
            "Epoch 75/100\n",
            "2/2 [==============================] - 0s 12ms/step - loss: 3.4503 - mean_absolute_error: 3.4503\n",
            "Epoch 76/100\n",
            "2/2 [==============================] - 0s 26ms/step - loss: 3.5828 - mean_absolute_error: 3.5828\n",
            "Epoch 77/100\n",
            "2/2 [==============================] - 0s 17ms/step - loss: 3.7140 - mean_absolute_error: 3.7140\n",
            "Epoch 78/100\n",
            "2/2 [==============================] - 0s 25ms/step - loss: 3.4443 - mean_absolute_error: 3.4443\n",
            "Epoch 79/100\n",
            "2/2 [==============================] - 0s 29ms/step - loss: 3.5377 - mean_absolute_error: 3.5377\n",
            "Epoch 80/100\n",
            "2/2 [==============================] - 0s 28ms/step - loss: 3.6931 - mean_absolute_error: 3.6931\n",
            "Epoch 81/100\n",
            "2/2 [==============================] - 0s 16ms/step - loss: 3.4241 - mean_absolute_error: 3.4241\n",
            "Epoch 82/100\n",
            "2/2 [==============================] - 0s 24ms/step - loss: 4.1967 - mean_absolute_error: 4.1967\n",
            "Epoch 83/100\n",
            "2/2 [==============================] - 0s 21ms/step - loss: 4.2694 - mean_absolute_error: 4.2694\n",
            "Epoch 84/100\n",
            "2/2 [==============================] - 0s 20ms/step - loss: 3.6087 - mean_absolute_error: 3.6087\n",
            "Epoch 85/100\n",
            "2/2 [==============================] - 0s 12ms/step - loss: 3.5919 - mean_absolute_error: 3.5919\n",
            "Epoch 86/100\n",
            "2/2 [==============================] - 0s 16ms/step - loss: 3.7923 - mean_absolute_error: 3.7923\n",
            "Epoch 87/100\n",
            "2/2 [==============================] - 0s 10ms/step - loss: 3.3679 - mean_absolute_error: 3.3679\n",
            "Epoch 88/100\n",
            "2/2 [==============================] - 0s 8ms/step - loss: 3.3273 - mean_absolute_error: 3.3273\n",
            "Epoch 89/100\n",
            "2/2 [==============================] - 0s 20ms/step - loss: 3.2133 - mean_absolute_error: 3.2133\n",
            "Epoch 90/100\n",
            "2/2 [==============================] - 0s 24ms/step - loss: 3.5407 - mean_absolute_error: 3.5407\n",
            "Epoch 91/100\n",
            "2/2 [==============================] - 0s 26ms/step - loss: 3.2536 - mean_absolute_error: 3.2536\n",
            "Epoch 92/100\n",
            "2/2 [==============================] - 0s 14ms/step - loss: 3.7007 - mean_absolute_error: 3.7007\n",
            "Epoch 93/100\n",
            "2/2 [==============================] - 0s 30ms/step - loss: 3.4703 - mean_absolute_error: 3.4703\n",
            "Epoch 94/100\n",
            "2/2 [==============================] - 0s 13ms/step - loss: 3.3370 - mean_absolute_error: 3.3370\n",
            "Epoch 95/100\n",
            "2/2 [==============================] - 0s 18ms/step - loss: 3.2415 - mean_absolute_error: 3.2415\n",
            "Epoch 96/100\n",
            "2/2 [==============================] - 0s 13ms/step - loss: 3.7743 - mean_absolute_error: 3.7743\n",
            "Epoch 97/100\n",
            "2/2 [==============================] - 0s 18ms/step - loss: 4.1579 - mean_absolute_error: 4.1579\n",
            "Epoch 98/100\n",
            "2/2 [==============================] - 0s 13ms/step - loss: 3.4567 - mean_absolute_error: 3.4567\n",
            "Epoch 99/100\n",
            "2/2 [==============================] - 0s 22ms/step - loss: 3.3321 - mean_absolute_error: 3.3321\n",
            "Epoch 100/100\n",
            "2/2 [==============================] - 0s 14ms/step - loss: 3.3989 - mean_absolute_error: 3.3989\n"
          ]
        },
        {
          "output_type": "execute_result",
          "data": {
            "text/plain": [
              "<keras.callbacks.History at 0x7905f95a4a00>"
            ]
          },
          "metadata": {},
          "execution_count": 33
        }
      ]
    },
    {
      "cell_type": "markdown",
      "source": [
        "## Visualizing the model predictions\n",
        "\n",
        "To visualize predictions, it's a good idea to plot them against the ground truth values.\n",
        "\n",
        "`y_test / y_true`\n",
        "\n",
        "And,\n",
        "\n",
        "`y_pred`"
      ],
      "metadata": {
        "id": "CXFQ95JCLz1_"
      }
    },
    {
      "cell_type": "code",
      "source": [
        "y_pred = model.predict(X_test)\n",
        "y_pred"
      ],
      "metadata": {
        "colab": {
          "base_uri": "https://localhost:8080/"
        },
        "id": "SFoFkZfNOG6x",
        "outputId": "1ea1e647-faad-4f76-91a0-8d9482d0676b"
      },
      "execution_count": null,
      "outputs": [
        {
          "output_type": "stream",
          "name": "stderr",
          "text": [
            "WARNING:tensorflow:5 out of the last 6 calls to <function Model.make_predict_function.<locals>.predict_function at 0x7905fa4a65f0> triggered tf.function retracing. Tracing is expensive and the excessive number of tracings could be due to (1) creating @tf.function repeatedly in a loop, (2) passing tensors with different shapes, (3) passing Python objects instead of tensors. For (1), please define your @tf.function outside of the loop. For (2), @tf.function has reduce_retracing=True option that can avoid unnecessary retracing. For (3), please refer to https://www.tensorflow.org/guide/function#controlling_retracing and https://www.tensorflow.org/api_docs/python/tf/function for  more details.\n"
          ]
        },
        {
          "output_type": "stream",
          "name": "stdout",
          "text": [
            "1/1 [==============================] - 0s 392ms/step\n"
          ]
        },
        {
          "output_type": "execute_result",
          "data": {
            "text/plain": [
              "array([[ 73.33743 ],\n",
              "       [ 78.05074 ],\n",
              "       [ 82.76407 ],\n",
              "       [ 87.47737 ],\n",
              "       [ 92.19068 ],\n",
              "       [ 96.904015],\n",
              "       [101.61733 ],\n",
              "       [106.330635],\n",
              "       [111.04397 ],\n",
              "       [115.757286]], dtype=float32)"
            ]
          },
          "metadata": {},
          "execution_count": 34
        }
      ]
    },
    {
      "cell_type": "code",
      "source": [
        "y_test"
      ],
      "metadata": {
        "colab": {
          "base_uri": "https://localhost:8080/"
        },
        "id": "MCVvuLJSOHFg",
        "outputId": "1a67c24d-5181-4c09-998b-0f5b8f239b39"
      },
      "execution_count": null,
      "outputs": [
        {
          "output_type": "execute_result",
          "data": {
            "text/plain": [
              "<tf.Tensor: shape=(10,), dtype=int32, numpy=array([ 70,  74,  78,  82,  86,  90,  94,  98, 102, 106], dtype=int32)>"
            ]
          },
          "metadata": {},
          "execution_count": 35
        }
      ]
    },
    {
      "cell_type": "markdown",
      "source": [
        "## Creating the plotting function"
      ],
      "metadata": {
        "id": "3goDCFh7OHPa"
      }
    },
    {
      "cell_type": "code",
      "source": [
        "def plot_predictions(train_data = X_train,\n",
        "                     train_labels = y_train,\n",
        "                     test_data = X_test,\n",
        "                     test_labels = y_test,\n",
        "                     predictions = y_pred):\n",
        "  \"\"\"\n",
        "  Plots training data, test data and compares the predictions to the ground truth\n",
        "  \"\"\"\n",
        "  #1. Plot the training data\n",
        "  plt.scatter(train_data ,train_labels , c = 'b', label = 'Training data')\n",
        "  #2. Plot the testing data\n",
        "  plt.scatter(test_data, test_labels, c = 'g', label = 'Testing data')\n",
        "  #3. Plot models prediction in red\n",
        "  plt.scatter(test_data, predictions, c= 'r', label = 'Predictions')\n",
        "  #Show the legends\n",
        "  plt.legend()"
      ],
      "metadata": {
        "id": "fimZEvpIOHXr",
        "colab": {
          "base_uri": "https://localhost:8080/",
          "height": 245
        },
        "outputId": "872c226d-a78b-4a04-dde0-6cd084bc4dd4"
      },
      "execution_count": null,
      "outputs": [
        {
          "output_type": "error",
          "ename": "NameError",
          "evalue": "ignored",
          "traceback": [
            "\u001b[0;31m---------------------------------------------------------------------------\u001b[0m",
            "\u001b[0;31mNameError\u001b[0m                                 Traceback (most recent call last)",
            "\u001b[0;32m<ipython-input-20-fe93485d294d>\u001b[0m in \u001b[0;36m<cell line: 1>\u001b[0;34m()\u001b[0m\n\u001b[1;32m      3\u001b[0m                      \u001b[0mtest_data\u001b[0m \u001b[0;34m=\u001b[0m \u001b[0mX_test\u001b[0m\u001b[0;34m,\u001b[0m\u001b[0;34m\u001b[0m\u001b[0;34m\u001b[0m\u001b[0m\n\u001b[1;32m      4\u001b[0m                      \u001b[0mtest_labels\u001b[0m \u001b[0;34m=\u001b[0m \u001b[0my_test\u001b[0m\u001b[0;34m,\u001b[0m\u001b[0;34m\u001b[0m\u001b[0;34m\u001b[0m\u001b[0m\n\u001b[0;32m----> 5\u001b[0;31m                      predictions = y_pred):\n\u001b[0m\u001b[1;32m      6\u001b[0m   \"\"\"\n\u001b[1;32m      7\u001b[0m   \u001b[0mPlots\u001b[0m \u001b[0mtraining\u001b[0m \u001b[0mdata\u001b[0m\u001b[0;34m,\u001b[0m \u001b[0mtest\u001b[0m \u001b[0mdata\u001b[0m \u001b[0;32mand\u001b[0m \u001b[0mcompares\u001b[0m \u001b[0mthe\u001b[0m \u001b[0mpredictions\u001b[0m \u001b[0mto\u001b[0m \u001b[0mthe\u001b[0m \u001b[0mground\u001b[0m \u001b[0mtruth\u001b[0m\u001b[0;34m\u001b[0m\u001b[0;34m\u001b[0m\u001b[0m\n",
            "\u001b[0;31mNameError\u001b[0m: name 'y_pred' is not defined"
          ]
        }
      ]
    },
    {
      "cell_type": "code",
      "source": [
        "plot_predictions(train_data = X_train,\n",
        "                 train_labels = y_train,\n",
        "                 test_data = X_test,\n",
        "                 test_labels = y_test,\n",
        "                 predictions = y_pred)"
      ],
      "metadata": {
        "colab": {
          "base_uri": "https://localhost:8080/",
          "height": 430
        },
        "id": "lixXucGPOHgp",
        "outputId": "0295eaa3-8b37-4dd8-a615-52af33013189"
      },
      "execution_count": null,
      "outputs": [
        {
          "output_type": "display_data",
          "data": {
            "text/plain": [
              "<Figure size 640x480 with 1 Axes>"
            ],
            "image/png": "[encoded data removed]"
          },
          "metadata": {}
        }
      ]
    },
    {
      "cell_type": "code",
      "source": [
        "# Evaluate the model onthe test\n",
        "model.evaluate(X_test, y_test)"
      ],
      "metadata": {
        "colab": {
          "base_uri": "https://localhost:8080/"
        },
        "id": "7wV91FuJOHo3",
        "outputId": "2b9ea208-e506-4e9f-95d0-ad4542affa4b"
      },
      "execution_count": null,
      "outputs": [
        {
          "output_type": "stream",
          "name": "stdout",
          "text": [
            "1/1 [==============================] - 1s 540ms/step - loss: 6.5474 - mean_absolute_error: 6.5474\n"
          ]
        },
        {
          "output_type": "execute_result",
          "data": {
            "text/plain": [
              "[6.547354698181152, 6.547354698181152]"
            ]
          },
          "metadata": {},
          "execution_count": 38
        }
      ]
    },
    {
      "cell_type": "code",
      "source": [
        "y_pred.dtype"
      ],
      "metadata": {
        "colab": {
          "base_uri": "https://localhost:8080/"
        },
        "id": "4VDvhE7eWwGd",
        "outputId": "0da8faf1-3618-4daa-e04d-58d251c68b27"
      },
      "execution_count": null,
      "outputs": [
        {
          "output_type": "execute_result",
          "data": {
            "text/plain": [
              "dtype('float32')"
            ]
          },
          "metadata": {},
          "execution_count": 39
        }
      ]
    },
    {
      "cell_type": "code",
      "source": [
        "y_pred = tf.constant(y_pred)"
      ],
      "metadata": {
        "id": "Kn0ZkVEuWyet"
      },
      "execution_count": null,
      "outputs": []
    },
    {
      "cell_type": "code",
      "source": [
        "y_test, y_pred"
      ],
      "metadata": {
        "colab": {
          "base_uri": "https://localhost:8080/"
        },
        "id": "xx1BittuU6N5",
        "outputId": "01389d33-1cf5-4948-df0e-ed70af70e75c"
      },
      "execution_count": null,
      "outputs": [
        {
          "output_type": "execute_result",
          "data": {
            "text/plain": [
              "(<tf.Tensor: shape=(10,), dtype=int32, numpy=array([ 70,  74,  78,  82,  86,  90,  94,  98, 102, 106], dtype=int32)>,\n",
              " <tf.Tensor: shape=(10, 1), dtype=float32, numpy=\n",
              " array([[ 73.33743 ],\n",
              "        [ 78.05074 ],\n",
              "        [ 82.76407 ],\n",
              "        [ 87.47737 ],\n",
              "        [ 92.19068 ],\n",
              "        [ 96.904015],\n",
              "        [101.61733 ],\n",
              "        [106.330635],\n",
              "        [111.04397 ],\n",
              "        [115.757286]], dtype=float32)>)"
            ]
          },
          "metadata": {},
          "execution_count": 41
        }
      ]
    },
    {
      "cell_type": "code",
      "source": [
        "# Calculate the mean squared error\n",
        "MSE = tf.keras.metrics.mean_squared_error(y_true = y_test, y_pred = tf.squeeze(y_pred))\n",
        "MSE"
      ],
      "metadata": {
        "colab": {
          "base_uri": "https://localhost:8080/"
        },
        "id": "_9BXuxYdOHyP",
        "outputId": "640ddd23-4c25-439a-e4d9-6055a0860a55"
      },
      "execution_count": null,
      "outputs": [
        {
          "output_type": "execute_result",
          "data": {
            "text/plain": [
              "<tf.Tensor: shape=(), dtype=float32, numpy=47.06561>"
            ]
          },
          "metadata": {},
          "execution_count": 42
        }
      ]
    },
    {
      "cell_type": "code",
      "source": [
        "MAE = tf.keras.metrics.mean_absolute_error(y_true = y_test, y_pred = tf.squeeze(y_pred))\n",
        "MAE"
      ],
      "metadata": {
        "colab": {
          "base_uri": "https://localhost:8080/"
        },
        "id": "5ZSlePufOH7v",
        "outputId": "7c46ac28-5c5d-450d-b0e2-fbf9c39a3337"
      },
      "execution_count": null,
      "outputs": [
        {
          "output_type": "execute_result",
          "data": {
            "text/plain": [
              "<tf.Tensor: shape=(), dtype=float32, numpy=6.5473533>"
            ]
          },
          "metadata": {},
          "execution_count": 43
        }
      ]
    },
    {
      "cell_type": "code",
      "source": [
        "tf.keras.losses.huber(y_true = y_test, y_pred = tf.squeeze(y_pred))"
      ],
      "metadata": {
        "colab": {
          "base_uri": "https://localhost:8080/"
        },
        "id": "x2TGE29jOIFk",
        "outputId": "455d9703-7b92-4617-948a-c5c1e59c0f06"
      },
      "execution_count": null,
      "outputs": [
        {
          "output_type": "execute_result",
          "data": {
            "text/plain": [
              "<tf.Tensor: shape=(), dtype=float32, numpy=6.0473533>"
            ]
          },
          "metadata": {},
          "execution_count": 44
        }
      ]
    },
    {
      "cell_type": "code",
      "source": [
        "def mae(y_true, y_pred):\n",
        "  return tf.keras.losses.mean_absolute_error(y_true = y_true,\n",
        "                                             y_pred = tf.squeeze(y_pred))\n",
        "\n",
        "def mse(y_true, y_test):\n",
        "  return tf.keras.losses.mean_squared_error(y_true = y_true,\n",
        "                                            y_pred = tf.squeeze(y_pred))"
      ],
      "metadata": {
        "id": "QSBrWCHjOIOh"
      },
      "execution_count": null,
      "outputs": []
    },
    {
      "cell_type": "markdown",
      "source": [
        "## Running experiments to improve our model\n",
        "\n",
        "Top three to tweak the peformance of your model\n",
        "1. Get more data\n",
        "2. Make model larger by adding more layers and units to the model\n",
        "3. Train for longer by increasing the number of epochs\n",
        "\n",
        "Let's do 3 modelling steps:\n",
        "1. `model_1`  same as original,1 layer, trained for 100 epochs\n",
        "2. `model_2` - same as original, 2 layers, trained for 100 epochs\n",
        "3. `model_3` - same as original, 2 layers, trained for 500 epochs"
      ],
      "metadata": {
        "id": "fIqWFRT1X5ZM"
      }
    },
    {
      "cell_type": "markdown",
      "source": [
        "### Creating the model_1"
      ],
      "metadata": {
        "id": "k9wmPrTQaNQk"
      }
    },
    {
      "cell_type": "code",
      "source": [
        "# Creating the model_1\n",
        "tf.random.set_seed(42)\n",
        "\n",
        "model_1 = tf.keras.models.Sequential([\n",
        "    tf.keras.layers.Dense(1, input_shape = [1])\n",
        "])\n",
        "\n",
        "model_1.compile(loss = ['mae'],\n",
        "           optimizer = tf.keras.optimizers.SGD(),\n",
        "           metrics = ['mae'])\n",
        "\n",
        "model_1.fit(X_train, y_train , epochs = 100)"
      ],
      "metadata": {
        "colab": {
          "base_uri": "https://localhost:8080/"
        },
        "id": "Ba8wUL34X0by",
        "outputId": "8e24df44-7706-4b5f-a9ab-810d05b503d6"
      },
      "execution_count": null,
      "outputs": [
        {
          "output_type": "stream",
          "name": "stdout",
          "text": [
            "Epoch 1/100\n",
            "2/2 [==============================] - 1s 15ms/step - loss: 95.9184 - mae: 95.9184\n",
            "Epoch 2/100\n",
            "2/2 [==============================] - 0s 12ms/step - loss: 60.4629 - mae: 60.4629\n",
            "Epoch 3/100\n",
            "2/2 [==============================] - 0s 10ms/step - loss: 23.4599 - mae: 23.4599\n",
            "Epoch 4/100\n",
            "2/2 [==============================] - 0s 11ms/step - loss: 12.4928 - mae: 12.4928\n",
            "Epoch 5/100\n",
            "2/2 [==============================] - 0s 11ms/step - loss: 11.5431 - mae: 11.5431\n",
            "Epoch 6/100\n",
            "2/2 [==============================] - 0s 9ms/step - loss: 10.6445 - mae: 10.6445\n",
            "Epoch 7/100\n",
            "2/2 [==============================] - 0s 9ms/step - loss: 9.5986 - mae: 9.5986\n",
            "Epoch 8/100\n",
            "2/2 [==============================] - 0s 9ms/step - loss: 9.0438 - mae: 9.0438\n",
            "Epoch 9/100\n",
            "2/2 [==============================] - 0s 19ms/step - loss: 17.8837 - mae: 17.8837\n",
            "Epoch 10/100\n",
            "2/2 [==============================] - 0s 11ms/step - loss: 9.6516 - mae: 9.6516\n",
            "Epoch 11/100\n",
            "2/2 [==============================] - 0s 8ms/step - loss: 8.2351 - mae: 8.2351\n",
            "Epoch 12/100\n",
            "2/2 [==============================] - 0s 11ms/step - loss: 10.3129 - mae: 10.3129\n",
            "Epoch 13/100\n",
            "2/2 [==============================] - 0s 12ms/step - loss: 12.0735 - mae: 12.0735\n",
            "Epoch 14/100\n",
            "2/2 [==============================] - 0s 13ms/step - loss: 13.9457 - mae: 13.9457\n",
            "Epoch 15/100\n",
            "2/2 [==============================] - 0s 14ms/step - loss: 11.3382 - mae: 11.3382\n",
            "Epoch 16/100\n",
            "2/2 [==============================] - 0s 11ms/step - loss: 8.5912 - mae: 8.5912\n",
            "Epoch 17/100\n",
            "2/2 [==============================] - 0s 12ms/step - loss: 13.7253 - mae: 13.7253\n",
            "Epoch 18/100\n",
            "2/2 [==============================] - 0s 8ms/step - loss: 11.5691 - mae: 11.5691\n",
            "Epoch 19/100\n",
            "2/2 [==============================] - 0s 8ms/step - loss: 17.8393 - mae: 17.8393\n",
            "Epoch 20/100\n",
            "2/2 [==============================] - 0s 12ms/step - loss: 14.9745 - mae: 14.9745\n",
            "Epoch 21/100\n",
            "2/2 [==============================] - 0s 7ms/step - loss: 10.8619 - mae: 10.8619\n",
            "Epoch 22/100\n",
            "2/2 [==============================] - 0s 8ms/step - loss: 8.6130 - mae: 8.6130\n",
            "Epoch 23/100\n",
            "2/2 [==============================] - 0s 12ms/step - loss: 9.7425 - mae: 9.7425\n",
            "Epoch 24/100\n",
            "2/2 [==============================] - 0s 12ms/step - loss: 10.9712 - mae: 10.9712\n",
            "Epoch 25/100\n",
            "2/2 [==============================] - 0s 10ms/step - loss: 9.1835 - mae: 9.1835\n",
            "Epoch 26/100\n",
            "2/2 [==============================] - 0s 11ms/step - loss: 13.2077 - mae: 13.2077\n",
            "Epoch 27/100\n",
            "2/2 [==============================] - 0s 10ms/step - loss: 10.6845 - mae: 10.6845\n",
            "Epoch 28/100\n",
            "2/2 [==============================] - 0s 9ms/step - loss: 12.9014 - mae: 12.9014\n",
            "Epoch 29/100\n",
            "2/2 [==============================] - 0s 13ms/step - loss: 9.5338 - mae: 9.5338\n",
            "Epoch 30/100\n",
            "2/2 [==============================] - 0s 11ms/step - loss: 16.4164 - mae: 16.4164\n",
            "Epoch 31/100\n",
            "2/2 [==============================] - 0s 13ms/step - loss: 23.5939 - mae: 23.5939\n",
            "Epoch 32/100\n",
            "2/2 [==============================] - 0s 11ms/step - loss: 7.6370 - mae: 7.6370\n",
            "Epoch 33/100\n",
            "2/2 [==============================] - 0s 21ms/step - loss: 9.3338 - mae: 9.3338\n",
            "Epoch 34/100\n",
            "2/2 [==============================] - 0s 16ms/step - loss: 13.7094 - mae: 13.7094\n",
            "Epoch 35/100\n",
            "2/2 [==============================] - 0s 10ms/step - loss: 11.1747 - mae: 11.1747\n",
            "Epoch 36/100\n",
            "2/2 [==============================] - 0s 10ms/step - loss: 13.3872 - mae: 13.3872\n",
            "Epoch 37/100\n",
            "2/2 [==============================] - 0s 10ms/step - loss: 9.4813 - mae: 9.4813\n",
            "Epoch 38/100\n",
            "2/2 [==============================] - 0s 14ms/step - loss: 10.1363 - mae: 10.1363\n",
            "Epoch 39/100\n",
            "2/2 [==============================] - 0s 10ms/step - loss: 10.2268 - mae: 10.2268\n",
            "Epoch 40/100\n",
            "2/2 [==============================] - 0s 10ms/step - loss: 10.9672 - mae: 10.9672\n",
            "Epoch 41/100\n",
            "2/2 [==============================] - 0s 13ms/step - loss: 7.9560 - mae: 7.9560\n",
            "Epoch 42/100\n",
            "2/2 [==============================] - 0s 11ms/step - loss: 10.0932 - mae: 10.0932\n",
            "Epoch 43/100\n",
            "2/2 [==============================] - 0s 9ms/step - loss: 8.7157 - mae: 8.7157\n",
            "Epoch 44/100\n",
            "2/2 [==============================] - 0s 12ms/step - loss: 12.1824 - mae: 12.1824\n",
            "Epoch 45/100\n",
            "2/2 [==============================] - 0s 12ms/step - loss: 13.8566 - mae: 13.8566\n",
            "Epoch 46/100\n",
            "2/2 [==============================] - 0s 12ms/step - loss: 8.5203 - mae: 8.5203\n",
            "Epoch 47/100\n",
            "2/2 [==============================] - 0s 10ms/step - loss: 9.1373 - mae: 9.1373\n",
            "Epoch 48/100\n",
            "2/2 [==============================] - 0s 8ms/step - loss: 10.6149 - mae: 10.6149\n",
            "Epoch 49/100\n",
            "2/2 [==============================] - 0s 18ms/step - loss: 7.7560 - mae: 7.7560\n",
            "Epoch 50/100\n",
            "2/2 [==============================] - 0s 18ms/step - loss: 9.5380 - mae: 9.5380\n",
            "Epoch 51/100\n",
            "2/2 [==============================] - 0s 14ms/step - loss: 9.1760 - mae: 9.1760\n",
            "Epoch 52/100\n",
            "2/2 [==============================] - 0s 11ms/step - loss: 16.3139 - mae: 16.3139\n",
            "Epoch 53/100\n",
            "2/2 [==============================] - 0s 30ms/step - loss: 14.1725 - mae: 14.1725\n",
            "Epoch 54/100\n",
            "2/2 [==============================] - 0s 13ms/step - loss: 21.2000 - mae: 21.2000\n",
            "Epoch 55/100\n",
            "2/2 [==============================] - 0s 10ms/step - loss: 16.3570 - mae: 16.3570\n",
            "Epoch 56/100\n",
            "2/2 [==============================] - 0s 12ms/step - loss: 10.0391 - mae: 10.0391\n",
            "Epoch 57/100\n",
            "2/2 [==============================] - 0s 11ms/step - loss: 9.9609 - mae: 9.9609\n",
            "Epoch 58/100\n",
            "2/2 [==============================] - 0s 11ms/step - loss: 9.2253 - mae: 9.2253\n",
            "Epoch 59/100\n",
            "2/2 [==============================] - 0s 26ms/step - loss: 8.4251 - mae: 8.4251\n",
            "Epoch 60/100\n",
            "2/2 [==============================] - 0s 14ms/step - loss: 9.4953 - mae: 9.4953\n",
            "Epoch 61/100\n",
            "2/2 [==============================] - 0s 11ms/step - loss: 11.4266 - mae: 11.4266\n",
            "Epoch 62/100\n",
            "2/2 [==============================] - 0s 11ms/step - loss: 11.7481 - mae: 11.7481\n",
            "Epoch 63/100\n",
            "2/2 [==============================] - 0s 10ms/step - loss: 7.0971 - mae: 7.0971\n",
            "Epoch 64/100\n",
            "2/2 [==============================] - 0s 14ms/step - loss: 17.0246 - mae: 17.0246\n",
            "Epoch 65/100\n",
            "2/2 [==============================] - 0s 10ms/step - loss: 12.5100 - mae: 12.5100\n",
            "Epoch 66/100\n",
            "2/2 [==============================] - 0s 13ms/step - loss: 13.0772 - mae: 13.0772\n",
            "Epoch 67/100\n",
            "2/2 [==============================] - 0s 10ms/step - loss: 8.0990 - mae: 8.0990\n",
            "Epoch 68/100\n",
            "2/2 [==============================] - 0s 9ms/step - loss: 10.2350 - mae: 10.2350\n",
            "Epoch 69/100\n",
            "2/2 [==============================] - 0s 9ms/step - loss: 12.4256 - mae: 12.4256\n",
            "Epoch 70/100\n",
            "2/2 [==============================] - 0s 10ms/step - loss: 9.0568 - mae: 9.0568\n",
            "Epoch 71/100\n",
            "2/2 [==============================] - 0s 10ms/step - loss: 10.0400 - mae: 10.0400\n",
            "Epoch 72/100\n",
            "2/2 [==============================] - 0s 9ms/step - loss: 10.0589 - mae: 10.0589\n",
            "Epoch 73/100\n",
            "2/2 [==============================] - 0s 18ms/step - loss: 12.5997 - mae: 12.5997\n",
            "Epoch 74/100\n",
            "2/2 [==============================] - 0s 14ms/step - loss: 10.4447 - mae: 10.4447\n",
            "Epoch 75/100\n",
            "2/2 [==============================] - 0s 10ms/step - loss: 9.7268 - mae: 9.7268\n",
            "Epoch 76/100\n",
            "2/2 [==============================] - 0s 10ms/step - loss: 11.2226 - mae: 11.2226\n",
            "Epoch 77/100\n",
            "2/2 [==============================] - 0s 11ms/step - loss: 8.3684 - mae: 8.3684\n",
            "Epoch 78/100\n",
            "2/2 [==============================] - 0s 10ms/step - loss: 9.1186 - mae: 9.1186\n",
            "Epoch 79/100\n",
            "2/2 [==============================] - 0s 9ms/step - loss: 19.5770 - mae: 19.5770\n",
            "Epoch 80/100\n",
            "2/2 [==============================] - 0s 10ms/step - loss: 14.8619 - mae: 14.8619\n",
            "Epoch 81/100\n",
            "2/2 [==============================] - 0s 10ms/step - loss: 9.0717 - mae: 9.0717\n",
            "Epoch 82/100\n",
            "2/2 [==============================] - 0s 8ms/step - loss: 12.9981 - mae: 12.9981\n",
            "Epoch 83/100\n",
            "2/2 [==============================] - 0s 19ms/step - loss: 7.9276 - mae: 7.9276\n",
            "Epoch 84/100\n",
            "2/2 [==============================] - 0s 15ms/step - loss: 7.7233 - mae: 7.7233\n",
            "Epoch 85/100\n",
            "2/2 [==============================] - 0s 17ms/step - loss: 10.0827 - mae: 10.0827\n",
            "Epoch 86/100\n",
            "2/2 [==============================] - 0s 29ms/step - loss: 9.2840 - mae: 9.2840\n",
            "Epoch 87/100\n",
            "2/2 [==============================] - 0s 20ms/step - loss: 12.0719 - mae: 12.0719\n",
            "Epoch 88/100\n",
            "2/2 [==============================] - 0s 34ms/step - loss: 10.6937 - mae: 10.6937\n",
            "Epoch 89/100\n",
            "2/2 [==============================] - 0s 15ms/step - loss: 7.2943 - mae: 7.2943\n",
            "Epoch 90/100\n",
            "2/2 [==============================] - 0s 23ms/step - loss: 12.8371 - mae: 12.8371\n",
            "Epoch 91/100\n",
            "2/2 [==============================] - 0s 11ms/step - loss: 7.5108 - mae: 7.5108\n",
            "Epoch 92/100\n",
            "2/2 [==============================] - 0s 10ms/step - loss: 6.7762 - mae: 6.7762\n",
            "Epoch 93/100\n",
            "2/2 [==============================] - 0s 10ms/step - loss: 11.9870 - mae: 11.9870\n",
            "Epoch 94/100\n",
            "2/2 [==============================] - 0s 8ms/step - loss: 8.9169 - mae: 8.9169\n",
            "Epoch 95/100\n",
            "2/2 [==============================] - 0s 8ms/step - loss: 7.7542 - mae: 7.7542\n",
            "Epoch 96/100\n",
            "2/2 [==============================] - 0s 7ms/step - loss: 6.7776 - mae: 6.7776\n",
            "Epoch 97/100\n",
            "2/2 [==============================] - 0s 8ms/step - loss: 8.6713 - mae: 8.6713\n",
            "Epoch 98/100\n",
            "2/2 [==============================] - 0s 10ms/step - loss: 9.4087 - mae: 9.4087\n",
            "Epoch 99/100\n",
            "2/2 [==============================] - 0s 9ms/step - loss: 9.1457 - mae: 9.1457\n",
            "Epoch 100/100\n",
            "2/2 [==============================] - 0s 8ms/step - loss: 10.4989 - mae: 10.4989\n"
          ]
        },
        {
          "output_type": "execute_result",
          "data": {
            "text/plain": [
              "<keras.callbacks.History at 0x7905fa0bbcd0>"
            ]
          },
          "metadata": {},
          "execution_count": 46
        }
      ]
    },
    {
      "cell_type": "code",
      "source": [
        "y_pred_1 = model_1.predict(X_test)\n",
        "plot_predictions(X_train, y_train, X_test, y_test, y_pred_1)"
      ],
      "metadata": {
        "colab": {
          "base_uri": "https://localhost:8080/",
          "height": 485
        },
        "id": "UuR9mG5mZVe2",
        "outputId": "1f3a1d42-6eea-4022-c991-068e74d93dae"
      },
      "execution_count": null,
      "outputs": [
        {
          "output_type": "stream",
          "name": "stderr",
          "text": [
            "WARNING:tensorflow:6 out of the last 7 calls to <function Model.make_predict_function.<locals>.predict_function at 0x7905fa492290> triggered tf.function retracing. Tracing is expensive and the excessive number of tracings could be due to (1) creating @tf.function repeatedly in a loop, (2) passing tensors with different shapes, (3) passing Python objects instead of tensors. For (1), please define your @tf.function outside of the loop. For (2), @tf.function has reduce_retracing=True option that can avoid unnecessary retracing. For (3), please refer to https://www.tensorflow.org/guide/function#controlling_retracing and https://www.tensorflow.org/api_docs/python/tf/function for  more details.\n"
          ]
        },
        {
          "output_type": "stream",
          "name": "stdout",
          "text": [
            "1/1 [==============================] - 0s 96ms/step\n"
          ]
        },
        {
          "output_type": "display_data",
          "data": {
            "text/plain": [
              "<Figure size 640x480 with 1 Axes>"
            ],
            "image/png": "[encoded data removed]"
          },
          "metadata": {}
        }
      ]
    },
    {
      "cell_type": "code",
      "source": [
        "mae_1 = mae(y_test, y_pred_1)\n",
        "mse_1 = mse(y_test,y_pred_1)\n",
        "print(np.array(mae_1))\n",
        "print(np.array(mse_1))"
      ],
      "metadata": {
        "colab": {
          "base_uri": "https://localhost:8080/"
        },
        "id": "9_fFA06tkyM5",
        "outputId": "d7462b65-4350-467d-e51a-63973c1c5cca"
      },
      "execution_count": null,
      "outputs": [
        {
          "output_type": "stream",
          "name": "stdout",
          "text": [
            "15.020655\n",
            "47.06561\n"
          ]
        }
      ]
    },
    {
      "cell_type": "markdown",
      "source": [
        "### Creating model_2"
      ],
      "metadata": {
        "id": "7E5G-edVagUp"
      }
    },
    {
      "cell_type": "code",
      "source": [
        "# Create model_2\n",
        "tf.random.set_seed(42)\n",
        "\n",
        "# Setting up the model\n",
        "model_2 = tf.keras.models.Sequential([\n",
        "    tf.keras.layers.Dense(100, input_shape = [1], activation = 'relu'),\n",
        "    tf.keras.layers.Dense(1)\n",
        "])\n",
        "\n",
        "# Compiling the model\n",
        "model_2.compile(loss = tf.keras.losses.MeanAbsoluteError(),\n",
        "                optimizer = tf.keras.optimizers.SGD(),\n",
        "                metrics = [tf.keras.metrics.MeanAbsoluteError()])\n",
        "\n",
        "# Fitting the model\n",
        "model_2.fit(X_train, y_train, epochs = 100, verbose = True)"
      ],
      "metadata": {
        "colab": {
          "base_uri": "https://localhost:8080/"
        },
        "id": "LP6KfcuufCn6",
        "outputId": "7f0eec16-e388-40c4-a20a-9d2c37b86015"
      },
      "execution_count": null,
      "outputs": [
        {
          "output_type": "stream",
          "name": "stdout",
          "text": [
            "Epoch 1/100\n",
            "2/2 [==============================] - 1s 20ms/step - loss: 39.3029 - mean_absolute_error: 39.3029\n",
            "Epoch 2/100\n",
            "2/2 [==============================] - 0s 19ms/step - loss: 21.3737 - mean_absolute_error: 21.3737\n",
            "Epoch 3/100\n",
            "2/2 [==============================] - 0s 11ms/step - loss: 16.5472 - mean_absolute_error: 16.5472\n",
            "Epoch 4/100\n",
            "2/2 [==============================] - 0s 11ms/step - loss: 7.9721 - mean_absolute_error: 7.9721\n",
            "Epoch 5/100\n",
            "2/2 [==============================] - 0s 13ms/step - loss: 10.9214 - mean_absolute_error: 10.9214\n",
            "Epoch 6/100\n",
            "2/2 [==============================] - 0s 9ms/step - loss: 8.7835 - mean_absolute_error: 8.7835\n",
            "Epoch 7/100\n",
            "2/2 [==============================] - 0s 10ms/step - loss: 14.2377 - mean_absolute_error: 14.2377\n",
            "Epoch 8/100\n",
            "2/2 [==============================] - 0s 17ms/step - loss: 7.0225 - mean_absolute_error: 7.0225\n",
            "Epoch 9/100\n",
            "2/2 [==============================] - 0s 23ms/step - loss: 22.8655 - mean_absolute_error: 22.8655\n",
            "Epoch 10/100\n",
            "2/2 [==============================] - 0s 13ms/step - loss: 11.5779 - mean_absolute_error: 11.5779\n",
            "Epoch 11/100\n",
            "2/2 [==============================] - 0s 7ms/step - loss: 9.9330 - mean_absolute_error: 9.9330\n",
            "Epoch 12/100\n",
            "2/2 [==============================] - 0s 17ms/step - loss: 20.0164 - mean_absolute_error: 20.0164\n",
            "Epoch 13/100\n",
            "2/2 [==============================] - 0s 7ms/step - loss: 6.5236 - mean_absolute_error: 6.5236\n",
            "Epoch 14/100\n",
            "2/2 [==============================] - 0s 8ms/step - loss: 18.7324 - mean_absolute_error: 18.7324\n",
            "Epoch 15/100\n",
            "2/2 [==============================] - 0s 7ms/step - loss: 8.1301 - mean_absolute_error: 8.1301\n",
            "Epoch 16/100\n",
            "2/2 [==============================] - 0s 13ms/step - loss: 10.7940 - mean_absolute_error: 10.7940\n",
            "Epoch 17/100\n",
            "2/2 [==============================] - 0s 16ms/step - loss: 15.9714 - mean_absolute_error: 15.9714\n",
            "Epoch 18/100\n",
            "2/2 [==============================] - 0s 13ms/step - loss: 11.6862 - mean_absolute_error: 11.6862\n",
            "Epoch 19/100\n",
            "2/2 [==============================] - 0s 9ms/step - loss: 9.4953 - mean_absolute_error: 9.4953\n",
            "Epoch 20/100\n",
            "2/2 [==============================] - 0s 8ms/step - loss: 5.3164 - mean_absolute_error: 5.3164\n",
            "Epoch 21/100\n",
            "2/2 [==============================] - 0s 9ms/step - loss: 12.4379 - mean_absolute_error: 12.4379\n",
            "Epoch 22/100\n",
            "2/2 [==============================] - 0s 9ms/step - loss: 18.5698 - mean_absolute_error: 18.5698\n",
            "Epoch 23/100\n",
            "2/2 [==============================] - 0s 9ms/step - loss: 9.0506 - mean_absolute_error: 9.0506\n",
            "Epoch 24/100\n",
            "2/2 [==============================] - 0s 10ms/step - loss: 11.6567 - mean_absolute_error: 11.6567\n",
            "Epoch 25/100\n",
            "2/2 [==============================] - 0s 9ms/step - loss: 16.6017 - mean_absolute_error: 16.6017\n",
            "Epoch 26/100\n",
            "2/2 [==============================] - 0s 13ms/step - loss: 17.8272 - mean_absolute_error: 17.8272\n",
            "Epoch 27/100\n",
            "2/2 [==============================] - 0s 9ms/step - loss: 12.7893 - mean_absolute_error: 12.7893\n",
            "Epoch 28/100\n",
            "2/2 [==============================] - 0s 12ms/step - loss: 12.1648 - mean_absolute_error: 12.1648\n",
            "Epoch 29/100\n",
            "2/2 [==============================] - 0s 10ms/step - loss: 5.1967 - mean_absolute_error: 5.1967\n",
            "Epoch 30/100\n",
            "2/2 [==============================] - 0s 9ms/step - loss: 22.7827 - mean_absolute_error: 22.7827\n",
            "Epoch 31/100\n",
            "2/2 [==============================] - 0s 19ms/step - loss: 9.7345 - mean_absolute_error: 9.7345\n",
            "Epoch 32/100\n",
            "2/2 [==============================] - 0s 8ms/step - loss: 11.7659 - mean_absolute_error: 11.7659\n",
            "Epoch 33/100\n",
            "2/2 [==============================] - 0s 8ms/step - loss: 8.5164 - mean_absolute_error: 8.5164\n",
            "Epoch 34/100\n",
            "2/2 [==============================] - 0s 14ms/step - loss: 15.0299 - mean_absolute_error: 15.0299\n",
            "Epoch 35/100\n",
            "2/2 [==============================] - 0s 24ms/step - loss: 7.6759 - mean_absolute_error: 7.6759\n",
            "Epoch 36/100\n",
            "2/2 [==============================] - 0s 27ms/step - loss: 17.8459 - mean_absolute_error: 17.8459\n",
            "Epoch 37/100\n",
            "2/2 [==============================] - 0s 14ms/step - loss: 7.2887 - mean_absolute_error: 7.2887\n",
            "Epoch 38/100\n",
            "2/2 [==============================] - 0s 12ms/step - loss: 12.0013 - mean_absolute_error: 12.0013\n",
            "Epoch 39/100\n",
            "2/2 [==============================] - 0s 24ms/step - loss: 15.2910 - mean_absolute_error: 15.2910\n",
            "Epoch 40/100\n",
            "2/2 [==============================] - 0s 12ms/step - loss: 12.9679 - mean_absolute_error: 12.9679\n",
            "Epoch 41/100\n",
            "2/2 [==============================] - 0s 43ms/step - loss: 6.7422 - mean_absolute_error: 6.7422\n",
            "Epoch 42/100\n",
            "2/2 [==============================] - 0s 24ms/step - loss: 11.6758 - mean_absolute_error: 11.6758\n",
            "Epoch 43/100\n",
            "2/2 [==============================] - 0s 19ms/step - loss: 9.3773 - mean_absolute_error: 9.3773\n",
            "Epoch 44/100\n",
            "2/2 [==============================] - 0s 13ms/step - loss: 23.2989 - mean_absolute_error: 23.2989\n",
            "Epoch 45/100\n",
            "2/2 [==============================] - 0s 25ms/step - loss: 13.7479 - mean_absolute_error: 13.7479\n",
            "Epoch 46/100\n",
            "2/2 [==============================] - 0s 18ms/step - loss: 6.3174 - mean_absolute_error: 6.3174\n",
            "Epoch 47/100\n",
            "2/2 [==============================] - 0s 28ms/step - loss: 8.5806 - mean_absolute_error: 8.5806\n",
            "Epoch 48/100\n",
            "2/2 [==============================] - 0s 11ms/step - loss: 10.7543 - mean_absolute_error: 10.7543\n",
            "Epoch 49/100\n",
            "2/2 [==============================] - 0s 12ms/step - loss: 9.4837 - mean_absolute_error: 9.4837\n",
            "Epoch 50/100\n",
            "2/2 [==============================] - 0s 19ms/step - loss: 12.6141 - mean_absolute_error: 12.6141\n",
            "Epoch 51/100\n",
            "2/2 [==============================] - 0s 10ms/step - loss: 9.2270 - mean_absolute_error: 9.2270\n",
            "Epoch 52/100\n",
            "2/2 [==============================] - 0s 11ms/step - loss: 18.5567 - mean_absolute_error: 18.5567\n",
            "Epoch 53/100\n",
            "2/2 [==============================] - 0s 11ms/step - loss: 8.3222 - mean_absolute_error: 8.3222\n",
            "Epoch 54/100\n",
            "2/2 [==============================] - 0s 12ms/step - loss: 14.0552 - mean_absolute_error: 14.0552\n",
            "Epoch 55/100\n",
            "2/2 [==============================] - 0s 12ms/step - loss: 21.4859 - mean_absolute_error: 21.4859\n",
            "Epoch 56/100\n",
            "2/2 [==============================] - 0s 12ms/step - loss: 12.9491 - mean_absolute_error: 12.9491\n",
            "Epoch 57/100\n",
            "2/2 [==============================] - 0s 11ms/step - loss: 6.8360 - mean_absolute_error: 6.8360\n",
            "Epoch 58/100\n",
            "2/2 [==============================] - 0s 21ms/step - loss: 6.6391 - mean_absolute_error: 6.6391\n",
            "Epoch 59/100\n",
            "2/2 [==============================] - 0s 18ms/step - loss: 12.7698 - mean_absolute_error: 12.7698\n",
            "Epoch 60/100\n",
            "2/2 [==============================] - 0s 25ms/step - loss: 11.5481 - mean_absolute_error: 11.5481\n",
            "Epoch 61/100\n",
            "2/2 [==============================] - 0s 15ms/step - loss: 14.9035 - mean_absolute_error: 14.9035\n",
            "Epoch 62/100\n",
            "2/2 [==============================] - 0s 12ms/step - loss: 7.6884 - mean_absolute_error: 7.6884\n",
            "Epoch 63/100\n",
            "2/2 [==============================] - 0s 12ms/step - loss: 7.4268 - mean_absolute_error: 7.4268\n",
            "Epoch 64/100\n",
            "2/2 [==============================] - 0s 11ms/step - loss: 16.1250 - mean_absolute_error: 16.1250\n",
            "Epoch 65/100\n",
            "2/2 [==============================] - 0s 11ms/step - loss: 13.3075 - mean_absolute_error: 13.3075\n",
            "Epoch 66/100\n",
            "2/2 [==============================] - 0s 14ms/step - loss: 11.3736 - mean_absolute_error: 11.3736\n",
            "Epoch 67/100\n",
            "2/2 [==============================] - 0s 10ms/step - loss: 5.7937 - mean_absolute_error: 5.7937\n",
            "Epoch 68/100\n",
            "2/2 [==============================] - 0s 10ms/step - loss: 11.5419 - mean_absolute_error: 11.5419\n",
            "Epoch 69/100\n",
            "2/2 [==============================] - 0s 10ms/step - loss: 19.2178 - mean_absolute_error: 19.2178\n",
            "Epoch 70/100\n",
            "2/2 [==============================] - 0s 10ms/step - loss: 9.1439 - mean_absolute_error: 9.1439\n",
            "Epoch 71/100\n",
            "2/2 [==============================] - 0s 10ms/step - loss: 9.6072 - mean_absolute_error: 9.6072\n",
            "Epoch 72/100\n",
            "2/2 [==============================] - 0s 10ms/step - loss: 12.0570 - mean_absolute_error: 12.0570\n",
            "Epoch 73/100\n",
            "2/2 [==============================] - 0s 10ms/step - loss: 11.1255 - mean_absolute_error: 11.1255\n",
            "Epoch 74/100\n",
            "2/2 [==============================] - 0s 10ms/step - loss: 24.5742 - mean_absolute_error: 24.5742\n",
            "Epoch 75/100\n",
            "2/2 [==============================] - 0s 10ms/step - loss: 7.8727 - mean_absolute_error: 7.8727\n",
            "Epoch 76/100\n",
            "2/2 [==============================] - 0s 11ms/step - loss: 9.3356 - mean_absolute_error: 9.3356\n",
            "Epoch 77/100\n",
            "2/2 [==============================] - 0s 14ms/step - loss: 10.8099 - mean_absolute_error: 10.8099\n",
            "Epoch 78/100\n",
            "2/2 [==============================] - 0s 10ms/step - loss: 14.3897 - mean_absolute_error: 14.3897\n",
            "Epoch 79/100\n",
            "2/2 [==============================] - 0s 12ms/step - loss: 19.2341 - mean_absolute_error: 19.2341\n",
            "Epoch 80/100\n",
            "2/2 [==============================] - 0s 11ms/step - loss: 12.9893 - mean_absolute_error: 12.9893\n",
            "Epoch 81/100\n",
            "2/2 [==============================] - 0s 24ms/step - loss: 7.6893 - mean_absolute_error: 7.6893\n",
            "Epoch 82/100\n",
            "2/2 [==============================] - 0s 18ms/step - loss: 9.3523 - mean_absolute_error: 9.3523\n",
            "Epoch 83/100\n",
            "2/2 [==============================] - 0s 22ms/step - loss: 10.7928 - mean_absolute_error: 10.7928\n",
            "Epoch 84/100\n",
            "2/2 [==============================] - 0s 16ms/step - loss: 7.4380 - mean_absolute_error: 7.4380\n",
            "Epoch 85/100\n",
            "2/2 [==============================] - 0s 10ms/step - loss: 16.6945 - mean_absolute_error: 16.6945\n",
            "Epoch 86/100\n",
            "2/2 [==============================] - 0s 12ms/step - loss: 13.7861 - mean_absolute_error: 13.7861\n",
            "Epoch 87/100\n",
            "2/2 [==============================] - 0s 11ms/step - loss: 11.5307 - mean_absolute_error: 11.5307\n",
            "Epoch 88/100\n",
            "2/2 [==============================] - 0s 19ms/step - loss: 9.7301 - mean_absolute_error: 9.7301\n",
            "Epoch 89/100\n",
            "2/2 [==============================] - 0s 10ms/step - loss: 7.2759 - mean_absolute_error: 7.2759\n",
            "Epoch 90/100\n",
            "2/2 [==============================] - 0s 14ms/step - loss: 15.3972 - mean_absolute_error: 15.3972\n",
            "Epoch 91/100\n",
            "2/2 [==============================] - 0s 10ms/step - loss: 12.1032 - mean_absolute_error: 12.1032\n",
            "Epoch 92/100\n",
            "2/2 [==============================] - 0s 10ms/step - loss: 9.6651 - mean_absolute_error: 9.6651\n",
            "Epoch 93/100\n",
            "2/2 [==============================] - 0s 15ms/step - loss: 8.9960 - mean_absolute_error: 8.9960\n",
            "Epoch 94/100\n",
            "2/2 [==============================] - 0s 17ms/step - loss: 12.2368 - mean_absolute_error: 12.2368\n",
            "Epoch 95/100\n",
            "2/2 [==============================] - 0s 10ms/step - loss: 11.2865 - mean_absolute_error: 11.2865\n",
            "Epoch 96/100\n",
            "2/2 [==============================] - 0s 10ms/step - loss: 5.9059 - mean_absolute_error: 5.9059\n",
            "Epoch 97/100\n",
            "2/2 [==============================] - 0s 12ms/step - loss: 12.0694 - mean_absolute_error: 12.0694\n",
            "Epoch 98/100\n",
            "2/2 [==============================] - 0s 13ms/step - loss: 12.1009 - mean_absolute_error: 12.1009\n",
            "Epoch 99/100\n",
            "2/2 [==============================] - 0s 16ms/step - loss: 12.4258 - mean_absolute_error: 12.4258\n",
            "Epoch 100/100\n",
            "2/2 [==============================] - 0s 28ms/step - loss: 12.1372 - mean_absolute_error: 12.1372\n"
          ]
        },
        {
          "output_type": "execute_result",
          "data": {
            "text/plain": [
              "<keras.callbacks.History at 0x7905f9d635e0>"
            ]
          },
          "metadata": {},
          "execution_count": 49
        }
      ]
    },
    {
      "cell_type": "code",
      "source": [
        "y_pred_2 = model_2.predict(X_test)"
      ],
      "metadata": {
        "colab": {
          "base_uri": "https://localhost:8080/"
        },
        "id": "z4NuNhGtfCyL",
        "outputId": "53f87647-8eed-405f-d0d8-eff98917297a"
      },
      "execution_count": null,
      "outputs": [
        {
          "output_type": "stream",
          "name": "stdout",
          "text": [
            "1/1 [==============================] - 0s 84ms/step\n"
          ]
        }
      ]
    },
    {
      "cell_type": "code",
      "source": [
        "plot_predictions(X_train,y_train,X_test,y_test,y_pred_2)"
      ],
      "metadata": {
        "colab": {
          "base_uri": "https://localhost:8080/",
          "height": 430
        },
        "id": "Tca3R3NqfDI1",
        "outputId": "9007af7f-e297-469b-8592-45dcedf6c277"
      },
      "execution_count": null,
      "outputs": [
        {
          "output_type": "display_data",
          "data": {
            "text/plain": [
              "<Figure size 640x480 with 1 Axes>"
            ],
            "image/png": "[encoded data removed]"
          },
          "metadata": {}
        }
      ]
    },
    {
      "cell_type": "code",
      "source": [
        "mae_2 = mae(y_test, y_pred_2)\n",
        "mse_2 = mse(y_test,y_pred_2)\n",
        "print(np.array(mae_2))\n",
        "print(np.array(mse_2))"
      ],
      "metadata": {
        "colab": {
          "base_uri": "https://localhost:8080/"
        },
        "id": "P_a11KC5fDO8",
        "outputId": "da9a01b4-b2b3-45ab-ae51-e64099c92ef4"
      },
      "execution_count": null,
      "outputs": [
        {
          "output_type": "stream",
          "name": "stdout",
          "text": [
            "12.629549\n",
            "47.06561\n"
          ]
        }
      ]
    },
    {
      "cell_type": "markdown",
      "source": [
        "### Creating the model_3"
      ],
      "metadata": {
        "id": "T9FXFc80fDUB"
      }
    },
    {
      "cell_type": "code",
      "source": [
        "# create model_3\n",
        "tf.random.set_seed(42)\n",
        "\n",
        "# Setting up model_3\n",
        "model_3 = tf.keras.models.Sequential([\n",
        "    tf.keras.layers.Dense(100, input_shape = [1]),\n",
        "    tf.keras.layers.Dense(100, activation='relu'),\n",
        "    tf.keras.layers.Dense(100, activation='relu'),\n",
        "    tf.keras.layers.Dense(100, activation='relu'),\n",
        "    tf.keras.layers.Dense(100, activation='relu'),\n",
        "    tf.keras.layers.Dense(1)\n",
        "])\n",
        "\n",
        "# Compiling the model\n",
        "model_3.compile(loss = 'mae',\n",
        "                optimizer = tf.keras.optimizers.Adam(lr = 0.01),\n",
        "                metrics = ['mae'])\n",
        "\n",
        "# Fitting the model\n",
        "model_3.fit(X_train, y_train, epochs = 500)"
      ],
      "metadata": {
        "colab": {
          "base_uri": "https://localhost:8080/"
        },
        "id": "dZjTvLGrfDXw",
        "outputId": "5605931f-5dee-4a12-8055-dfceb6e0f96a"
      },
      "execution_count": null,
      "outputs": [
        {
          "output_type": "stream",
          "name": "stderr",
          "text": [
            "WARNING:absl:`lr` is deprecated in Keras optimizer, please use `learning_rate` or use the legacy optimizer, e.g.,tf.keras.optimizers.legacy.Adam.\n"
          ]
        },
        {
          "output_type": "stream",
          "name": "stdout",
          "text": [
            "Epoch 1/500\n",
            "2/2 [==============================] - 2s 13ms/step - loss: 39.6333 - mae: 39.6333\n",
            "Epoch 2/500\n",
            "2/2 [==============================] - 0s 9ms/step - loss: 36.0153 - mae: 36.0153\n",
            "Epoch 3/500\n",
            "2/2 [==============================] - 0s 9ms/step - loss: 32.7330 - mae: 32.7330\n",
            "Epoch 4/500\n",
            "2/2 [==============================] - 0s 8ms/step - loss: 28.5006 - mae: 28.5006\n",
            "Epoch 5/500\n",
            "2/2 [==============================] - 0s 8ms/step - loss: 23.0614 - mae: 23.0614\n",
            "Epoch 6/500\n",
            "2/2 [==============================] - 0s 8ms/step - loss: 16.2145 - mae: 16.2145\n",
            "Epoch 7/500\n",
            "2/2 [==============================] - 0s 7ms/step - loss: 10.5568 - mae: 10.5568\n",
            "Epoch 8/500\n",
            "2/2 [==============================] - 0s 8ms/step - loss: 11.9475 - mae: 11.9475\n",
            "Epoch 9/500\n",
            "2/2 [==============================] - 0s 9ms/step - loss: 6.0975 - mae: 6.0975\n",
            "Epoch 10/500\n",
            "2/2 [==============================] - 0s 9ms/step - loss: 6.6612 - mae: 6.6612\n",
            "Epoch 11/500\n",
            "2/2 [==============================] - 0s 8ms/step - loss: 8.5686 - mae: 8.5686\n",
            "Epoch 12/500\n",
            "2/2 [==============================] - 0s 8ms/step - loss: 7.1232 - mae: 7.1232\n",
            "Epoch 13/500\n",
            "2/2 [==============================] - 0s 9ms/step - loss: 4.7150 - mae: 4.7150\n",
            "Epoch 14/500\n",
            "2/2 [==============================] - 0s 11ms/step - loss: 6.2601 - mae: 6.2601\n",
            "Epoch 15/500\n",
            "2/2 [==============================] - 0s 7ms/step - loss: 7.1328 - mae: 7.1328\n",
            "Epoch 16/500\n",
            "2/2 [==============================] - 0s 7ms/step - loss: 5.2278 - mae: 5.2278\n",
            "Epoch 17/500\n",
            "2/2 [==============================] - 0s 9ms/step - loss: 5.0962 - mae: 5.0962\n",
            "Epoch 18/500\n",
            "2/2 [==============================] - 0s 9ms/step - loss: 6.0631 - mae: 6.0631\n",
            "Epoch 19/500\n",
            "2/2 [==============================] - 0s 8ms/step - loss: 5.9157 - mae: 5.9157\n",
            "Epoch 20/500\n",
            "2/2 [==============================] - 0s 8ms/step - loss: 5.3955 - mae: 5.3955\n",
            "Epoch 21/500\n",
            "2/2 [==============================] - 0s 8ms/step - loss: 4.7042 - mae: 4.7042\n",
            "Epoch 22/500\n",
            "2/2 [==============================] - 0s 9ms/step - loss: 5.3885 - mae: 5.3885\n",
            "Epoch 23/500\n",
            "2/2 [==============================] - 0s 9ms/step - loss: 4.5066 - mae: 4.5066\n",
            "Epoch 24/500\n",
            "2/2 [==============================] - 0s 9ms/step - loss: 4.8318 - mae: 4.8318\n",
            "Epoch 25/500\n",
            "2/2 [==============================] - 0s 9ms/step - loss: 4.8391 - mae: 4.8391\n",
            "Epoch 26/500\n",
            "2/2 [==============================] - 0s 7ms/step - loss: 4.2642 - mae: 4.2642\n",
            "Epoch 27/500\n",
            "2/2 [==============================] - 0s 8ms/step - loss: 4.0399 - mae: 4.0399\n",
            "Epoch 28/500\n",
            "2/2 [==============================] - 0s 8ms/step - loss: 4.2271 - mae: 4.2271\n",
            "Epoch 29/500\n",
            "2/2 [==============================] - 0s 8ms/step - loss: 4.3395 - mae: 4.3395\n",
            "Epoch 30/500\n",
            "2/2 [==============================] - 0s 9ms/step - loss: 4.3059 - mae: 4.3059\n",
            "Epoch 31/500\n",
            "2/2 [==============================] - 0s 10ms/step - loss: 4.1625 - mae: 4.1625\n",
            "Epoch 32/500\n",
            "2/2 [==============================] - 0s 11ms/step - loss: 4.4654 - mae: 4.4654\n",
            "Epoch 33/500\n",
            "2/2 [==============================] - 0s 8ms/step - loss: 4.2272 - mae: 4.2272\n",
            "Epoch 34/500\n",
            "2/2 [==============================] - 0s 8ms/step - loss: 4.1424 - mae: 4.1424\n",
            "Epoch 35/500\n",
            "2/2 [==============================] - 0s 8ms/step - loss: 4.0249 - mae: 4.0249\n",
            "Epoch 36/500\n",
            "2/2 [==============================] - 0s 8ms/step - loss: 4.0886 - mae: 4.0886\n",
            "Epoch 37/500\n",
            "2/2 [==============================] - 0s 7ms/step - loss: 4.0684 - mae: 4.0684\n",
            "Epoch 38/500\n",
            "2/2 [==============================] - 0s 8ms/step - loss: 3.8444 - mae: 3.8444\n",
            "Epoch 39/500\n",
            "2/2 [==============================] - 0s 7ms/step - loss: 4.0228 - mae: 4.0228\n",
            "Epoch 40/500\n",
            "2/2 [==============================] - 0s 7ms/step - loss: 4.1692 - mae: 4.1692\n",
            "Epoch 41/500\n",
            "2/2 [==============================] - 0s 8ms/step - loss: 4.0552 - mae: 4.0552\n",
            "Epoch 42/500\n",
            "2/2 [==============================] - 0s 8ms/step - loss: 3.9395 - mae: 3.9395\n",
            "Epoch 43/500\n",
            "2/2 [==============================] - 0s 8ms/step - loss: 4.0406 - mae: 4.0406\n",
            "Epoch 44/500\n",
            "2/2 [==============================] - 0s 11ms/step - loss: 4.0630 - mae: 4.0630\n",
            "Epoch 45/500\n",
            "2/2 [==============================] - 0s 8ms/step - loss: 3.8607 - mae: 3.8607\n",
            "Epoch 46/500\n",
            "2/2 [==============================] - 0s 8ms/step - loss: 4.0663 - mae: 4.0663\n",
            "Epoch 47/500\n",
            "2/2 [==============================] - 0s 8ms/step - loss: 4.1448 - mae: 4.1448\n",
            "Epoch 48/500\n",
            "2/2 [==============================] - 0s 8ms/step - loss: 3.9945 - mae: 3.9945\n",
            "Epoch 49/500\n",
            "2/2 [==============================] - 0s 8ms/step - loss: 3.8100 - mae: 3.8100\n",
            "Epoch 50/500\n",
            "2/2 [==============================] - 0s 8ms/step - loss: 3.8364 - mae: 3.8364\n",
            "Epoch 51/500\n",
            "2/2 [==============================] - 0s 8ms/step - loss: 3.8219 - mae: 3.8219\n",
            "Epoch 52/500\n",
            "2/2 [==============================] - 0s 9ms/step - loss: 3.7594 - mae: 3.7594\n",
            "Epoch 53/500\n",
            "2/2 [==============================] - 0s 8ms/step - loss: 3.7500 - mae: 3.7500\n",
            "Epoch 54/500\n",
            "2/2 [==============================] - 0s 10ms/step - loss: 3.9109 - mae: 3.9109\n",
            "Epoch 55/500\n",
            "2/2 [==============================] - 0s 9ms/step - loss: 3.8511 - mae: 3.8511\n",
            "Epoch 56/500\n",
            "2/2 [==============================] - 0s 9ms/step - loss: 3.7118 - mae: 3.7118\n",
            "Epoch 57/500\n",
            "2/2 [==============================] - 0s 8ms/step - loss: 4.1431 - mae: 4.1431\n",
            "Epoch 58/500\n",
            "2/2 [==============================] - 0s 7ms/step - loss: 3.9930 - mae: 3.9930\n",
            "Epoch 59/500\n",
            "2/2 [==============================] - 0s 8ms/step - loss: 3.8117 - mae: 3.8117\n",
            "Epoch 60/500\n",
            "2/2 [==============================] - 0s 9ms/step - loss: 4.2278 - mae: 4.2278\n",
            "Epoch 61/500\n",
            "2/2 [==============================] - 0s 8ms/step - loss: 4.1119 - mae: 4.1119\n",
            "Epoch 62/500\n",
            "2/2 [==============================] - 0s 8ms/step - loss: 3.7166 - mae: 3.7166\n",
            "Epoch 63/500\n",
            "2/2 [==============================] - 0s 8ms/step - loss: 3.6728 - mae: 3.6728\n",
            "Epoch 64/500\n",
            "2/2 [==============================] - 0s 8ms/step - loss: 4.2914 - mae: 4.2914\n",
            "Epoch 65/500\n",
            "2/2 [==============================] - 0s 7ms/step - loss: 4.0880 - mae: 4.0880\n",
            "Epoch 66/500\n",
            "2/2 [==============================] - 0s 11ms/step - loss: 3.8633 - mae: 3.8633\n",
            "Epoch 67/500\n",
            "2/2 [==============================] - 0s 8ms/step - loss: 4.1580 - mae: 4.1580\n",
            "Epoch 68/500\n",
            "2/2 [==============================] - 0s 9ms/step - loss: 3.8312 - mae: 3.8312\n",
            "Epoch 69/500\n",
            "2/2 [==============================] - 0s 10ms/step - loss: 3.7456 - mae: 3.7456\n",
            "Epoch 70/500\n",
            "2/2 [==============================] - 0s 8ms/step - loss: 3.6509 - mae: 3.6509\n",
            "Epoch 71/500\n",
            "2/2 [==============================] - 0s 9ms/step - loss: 3.4582 - mae: 3.4582\n",
            "Epoch 72/500\n",
            "2/2 [==============================] - 0s 7ms/step - loss: 3.8870 - mae: 3.8870\n",
            "Epoch 73/500\n",
            "2/2 [==============================] - 0s 7ms/step - loss: 3.6242 - mae: 3.6242\n",
            "Epoch 74/500\n",
            "2/2 [==============================] - 0s 8ms/step - loss: 3.4956 - mae: 3.4956\n",
            "Epoch 75/500\n",
            "2/2 [==============================] - 0s 8ms/step - loss: 3.7917 - mae: 3.7917\n",
            "Epoch 76/500\n",
            "2/2 [==============================] - 0s 7ms/step - loss: 3.8637 - mae: 3.8637\n",
            "Epoch 77/500\n",
            "2/2 [==============================] - 0s 8ms/step - loss: 3.6229 - mae: 3.6229\n",
            "Epoch 78/500\n",
            "2/2 [==============================] - 0s 8ms/step - loss: 3.4429 - mae: 3.4429\n",
            "Epoch 79/500\n",
            "2/2 [==============================] - 0s 8ms/step - loss: 3.3688 - mae: 3.3688\n",
            "Epoch 80/500\n",
            "2/2 [==============================] - 0s 7ms/step - loss: 3.3789 - mae: 3.3789\n",
            "Epoch 81/500\n",
            "2/2 [==============================] - 0s 8ms/step - loss: 3.3500 - mae: 3.3500\n",
            "Epoch 82/500\n",
            "2/2 [==============================] - 0s 8ms/step - loss: 3.5053 - mae: 3.5053\n",
            "Epoch 83/500\n",
            "2/2 [==============================] - 0s 8ms/step - loss: 3.6613 - mae: 3.6613\n",
            "Epoch 84/500\n",
            "2/2 [==============================] - 0s 8ms/step - loss: 3.4340 - mae: 3.4340\n",
            "Epoch 85/500\n",
            "2/2 [==============================] - 0s 13ms/step - loss: 3.3568 - mae: 3.3568\n",
            "Epoch 86/500\n",
            "2/2 [==============================] - 0s 10ms/step - loss: 3.4536 - mae: 3.4536\n",
            "Epoch 87/500\n",
            "2/2 [==============================] - 0s 12ms/step - loss: 3.2711 - mae: 3.2711\n",
            "Epoch 88/500\n",
            "2/2 [==============================] - 0s 8ms/step - loss: 3.4428 - mae: 3.4428\n",
            "Epoch 89/500\n",
            "2/2 [==============================] - 0s 10ms/step - loss: 3.4497 - mae: 3.4497\n",
            "Epoch 90/500\n",
            "2/2 [==============================] - 0s 8ms/step - loss: 3.3033 - mae: 3.3033\n",
            "Epoch 91/500\n",
            "2/2 [==============================] - 0s 8ms/step - loss: 3.0934 - mae: 3.0934\n",
            "Epoch 92/500\n",
            "2/2 [==============================] - 0s 8ms/step - loss: 3.3359 - mae: 3.3359\n",
            "Epoch 93/500\n",
            "2/2 [==============================] - 0s 8ms/step - loss: 3.5538 - mae: 3.5538\n",
            "Epoch 94/500\n",
            "2/2 [==============================] - 0s 8ms/step - loss: 3.3990 - mae: 3.3990\n",
            "Epoch 95/500\n",
            "2/2 [==============================] - 0s 7ms/step - loss: 3.3390 - mae: 3.3390\n",
            "Epoch 96/500\n",
            "2/2 [==============================] - 0s 7ms/step - loss: 3.0883 - mae: 3.0883\n",
            "Epoch 97/500\n",
            "2/2 [==============================] - 0s 8ms/step - loss: 3.1203 - mae: 3.1203\n",
            "Epoch 98/500\n",
            "2/2 [==============================] - 0s 8ms/step - loss: 3.2228 - mae: 3.2228\n",
            "Epoch 99/500\n",
            "2/2 [==============================] - 0s 8ms/step - loss: 3.0388 - mae: 3.0388\n",
            "Epoch 100/500\n",
            "2/2 [==============================] - 0s 8ms/step - loss: 3.1042 - mae: 3.1042\n",
            "Epoch 101/500\n",
            "2/2 [==============================] - 0s 9ms/step - loss: 3.2582 - mae: 3.2582\n",
            "Epoch 102/500\n",
            "2/2 [==============================] - 0s 8ms/step - loss: 2.9715 - mae: 2.9715\n",
            "Epoch 103/500\n",
            "2/2 [==============================] - 0s 8ms/step - loss: 3.0271 - mae: 3.0271\n",
            "Epoch 104/500\n",
            "2/2 [==============================] - 0s 8ms/step - loss: 2.8569 - mae: 2.8569\n",
            "Epoch 105/500\n",
            "2/2 [==============================] - 0s 8ms/step - loss: 3.0281 - mae: 3.0281\n",
            "Epoch 106/500\n",
            "2/2 [==============================] - 0s 7ms/step - loss: 2.8723 - mae: 2.8723\n",
            "Epoch 107/500\n",
            "2/2 [==============================] - 0s 10ms/step - loss: 2.7813 - mae: 2.7813\n",
            "Epoch 108/500\n",
            "2/2 [==============================] - 0s 9ms/step - loss: 2.8327 - mae: 2.8327\n",
            "Epoch 109/500\n",
            "2/2 [==============================] - 0s 8ms/step - loss: 2.7864 - mae: 2.7864\n",
            "Epoch 110/500\n",
            "2/2 [==============================] - 0s 10ms/step - loss: 2.8172 - mae: 2.8172\n",
            "Epoch 111/500\n",
            "2/2 [==============================] - 0s 8ms/step - loss: 2.9895 - mae: 2.9895\n",
            "Epoch 112/500\n",
            "2/2 [==============================] - 0s 8ms/step - loss: 3.8001 - mae: 3.8001\n",
            "Epoch 113/500\n",
            "2/2 [==============================] - 0s 8ms/step - loss: 2.9599 - mae: 2.9599\n",
            "Epoch 114/500\n",
            "2/2 [==============================] - 0s 8ms/step - loss: 3.1955 - mae: 3.1955\n",
            "Epoch 115/500\n",
            "2/2 [==============================] - 0s 9ms/step - loss: 2.5838 - mae: 2.5838\n",
            "Epoch 116/500\n",
            "2/2 [==============================] - 0s 8ms/step - loss: 2.4319 - mae: 2.4319\n",
            "Epoch 117/500\n",
            "2/2 [==============================] - 0s 8ms/step - loss: 2.4750 - mae: 2.4750\n",
            "Epoch 118/500\n",
            "2/2 [==============================] - 0s 8ms/step - loss: 2.3487 - mae: 2.3487\n",
            "Epoch 119/500\n",
            "2/2 [==============================] - 0s 8ms/step - loss: 2.2331 - mae: 2.2331\n",
            "Epoch 120/500\n",
            "2/2 [==============================] - 0s 8ms/step - loss: 3.4030 - mae: 3.4030\n",
            "Epoch 121/500\n",
            "2/2 [==============================] - 0s 8ms/step - loss: 3.5979 - mae: 3.5979\n",
            "Epoch 122/500\n",
            "2/2 [==============================] - 0s 8ms/step - loss: 2.6935 - mae: 2.6935\n",
            "Epoch 123/500\n",
            "2/2 [==============================] - 0s 8ms/step - loss: 3.2920 - mae: 3.2920\n",
            "Epoch 124/500\n",
            "2/2 [==============================] - 0s 7ms/step - loss: 2.2692 - mae: 2.2692\n",
            "Epoch 125/500\n",
            "2/2 [==============================] - 0s 8ms/step - loss: 2.0579 - mae: 2.0579\n",
            "Epoch 126/500\n",
            "2/2 [==============================] - 0s 8ms/step - loss: 2.0354 - mae: 2.0354\n",
            "Epoch 127/500\n",
            "2/2 [==============================] - 0s 8ms/step - loss: 2.1442 - mae: 2.1442\n",
            "Epoch 128/500\n",
            "2/2 [==============================] - 0s 8ms/step - loss: 2.3078 - mae: 2.3078\n",
            "Epoch 129/500\n",
            "2/2 [==============================] - 0s 8ms/step - loss: 2.0397 - mae: 2.0397\n",
            "Epoch 130/500\n",
            "2/2 [==============================] - 0s 8ms/step - loss: 2.1146 - mae: 2.1146\n",
            "Epoch 131/500\n",
            "2/2 [==============================] - 0s 9ms/step - loss: 1.9906 - mae: 1.9906\n",
            "Epoch 132/500\n",
            "2/2 [==============================] - 0s 11ms/step - loss: 2.2829 - mae: 2.2829\n",
            "Epoch 133/500\n",
            "2/2 [==============================] - 0s 8ms/step - loss: 2.8560 - mae: 2.8560\n",
            "Epoch 134/500\n",
            "2/2 [==============================] - 0s 10ms/step - loss: 2.3108 - mae: 2.3108\n",
            "Epoch 135/500\n",
            "2/2 [==============================] - 0s 9ms/step - loss: 1.8891 - mae: 1.8891\n",
            "Epoch 136/500\n",
            "2/2 [==============================] - 0s 9ms/step - loss: 1.6861 - mae: 1.6861\n",
            "Epoch 137/500\n",
            "2/2 [==============================] - 0s 9ms/step - loss: 1.6371 - mae: 1.6371\n",
            "Epoch 138/500\n",
            "2/2 [==============================] - 0s 9ms/step - loss: 3.0319 - mae: 3.0319\n",
            "Epoch 139/500\n",
            "2/2 [==============================] - 0s 11ms/step - loss: 1.4201 - mae: 1.4201\n",
            "Epoch 140/500\n",
            "2/2 [==============================] - 0s 11ms/step - loss: 1.7782 - mae: 1.7782\n",
            "Epoch 141/500\n",
            "2/2 [==============================] - 0s 9ms/step - loss: 1.5209 - mae: 1.5209\n",
            "Epoch 142/500\n",
            "2/2 [==============================] - 0s 8ms/step - loss: 1.6766 - mae: 1.6766\n",
            "Epoch 143/500\n",
            "2/2 [==============================] - 0s 8ms/step - loss: 1.3143 - mae: 1.3143\n",
            "Epoch 144/500\n",
            "2/2 [==============================] - 0s 9ms/step - loss: 2.8993 - mae: 2.8993\n",
            "Epoch 145/500\n",
            "2/2 [==============================] - 0s 8ms/step - loss: 1.7833 - mae: 1.7833\n",
            "Epoch 146/500\n",
            "2/2 [==============================] - 0s 8ms/step - loss: 2.5151 - mae: 2.5151\n",
            "Epoch 147/500\n",
            "2/2 [==============================] - 0s 8ms/step - loss: 1.7208 - mae: 1.7208\n",
            "Epoch 148/500\n",
            "2/2 [==============================] - 0s 8ms/step - loss: 1.8034 - mae: 1.8034\n",
            "Epoch 149/500\n",
            "2/2 [==============================] - 0s 8ms/step - loss: 1.4922 - mae: 1.4922\n",
            "Epoch 150/500\n",
            "2/2 [==============================] - 0s 8ms/step - loss: 1.0170 - mae: 1.0170\n",
            "Epoch 151/500\n",
            "2/2 [==============================] - 0s 8ms/step - loss: 1.5623 - mae: 1.5623\n",
            "Epoch 152/500\n",
            "2/2 [==============================] - 0s 9ms/step - loss: 1.0774 - mae: 1.0774\n",
            "Epoch 153/500\n",
            "2/2 [==============================] - 0s 8ms/step - loss: 1.9175 - mae: 1.9175\n",
            "Epoch 154/500\n",
            "2/2 [==============================] - 0s 8ms/step - loss: 0.8683 - mae: 0.8683\n",
            "Epoch 155/500\n",
            "2/2 [==============================] - 0s 9ms/step - loss: 1.6023 - mae: 1.6023\n",
            "Epoch 156/500\n",
            "2/2 [==============================] - 0s 9ms/step - loss: 3.8909 - mae: 3.8909\n",
            "Epoch 157/500\n",
            "2/2 [==============================] - 0s 8ms/step - loss: 3.5273 - mae: 3.5273\n",
            "Epoch 158/500\n",
            "2/2 [==============================] - 0s 9ms/step - loss: 2.4245 - mae: 2.4245\n",
            "Epoch 159/500\n",
            "2/2 [==============================] - 0s 8ms/step - loss: 3.8387 - mae: 3.8387\n",
            "Epoch 160/500\n",
            "2/2 [==============================] - 0s 8ms/step - loss: 1.8143 - mae: 1.8143\n",
            "Epoch 161/500\n",
            "2/2 [==============================] - 0s 8ms/step - loss: 3.2040 - mae: 3.2040\n",
            "Epoch 162/500\n",
            "2/2 [==============================] - 0s 9ms/step - loss: 2.9569 - mae: 2.9569\n",
            "Epoch 163/500\n",
            "2/2 [==============================] - 0s 9ms/step - loss: 1.3303 - mae: 1.3303\n",
            "Epoch 164/500\n",
            "2/2 [==============================] - 0s 8ms/step - loss: 3.6884 - mae: 3.6884\n",
            "Epoch 165/500\n",
            "2/2 [==============================] - 0s 8ms/step - loss: 2.7072 - mae: 2.7072\n",
            "Epoch 166/500\n",
            "2/2 [==============================] - 0s 9ms/step - loss: 1.4363 - mae: 1.4363\n",
            "Epoch 167/500\n",
            "2/2 [==============================] - 0s 9ms/step - loss: 2.9405 - mae: 2.9405\n",
            "Epoch 168/500\n",
            "2/2 [==============================] - 0s 9ms/step - loss: 2.5306 - mae: 2.5306\n",
            "Epoch 169/500\n",
            "2/2 [==============================] - 0s 9ms/step - loss: 1.2127 - mae: 1.2127\n",
            "Epoch 170/500\n",
            "2/2 [==============================] - 0s 8ms/step - loss: 2.6759 - mae: 2.6759\n",
            "Epoch 171/500\n",
            "2/2 [==============================] - 0s 9ms/step - loss: 2.4324 - mae: 2.4324\n",
            "Epoch 172/500\n",
            "2/2 [==============================] - 0s 9ms/step - loss: 0.9981 - mae: 0.9981\n",
            "Epoch 173/500\n",
            "2/2 [==============================] - 0s 9ms/step - loss: 2.8221 - mae: 2.8221\n",
            "Epoch 174/500\n",
            "2/2 [==============================] - 0s 8ms/step - loss: 3.3845 - mae: 3.3845\n",
            "Epoch 175/500\n",
            "2/2 [==============================] - 0s 9ms/step - loss: 3.1546 - mae: 3.1546\n",
            "Epoch 176/500\n",
            "2/2 [==============================] - 0s 9ms/step - loss: 2.8398 - mae: 2.8398\n",
            "Epoch 177/500\n",
            "2/2 [==============================] - 0s 9ms/step - loss: 1.3195 - mae: 1.3195\n",
            "Epoch 178/500\n",
            "2/2 [==============================] - 0s 9ms/step - loss: 1.9068 - mae: 1.9068\n",
            "Epoch 179/500\n",
            "2/2 [==============================] - 0s 9ms/step - loss: 1.6747 - mae: 1.6747\n",
            "Epoch 180/500\n",
            "2/2 [==============================] - 0s 9ms/step - loss: 1.1978 - mae: 1.1978\n",
            "Epoch 181/500\n",
            "2/2 [==============================] - 0s 9ms/step - loss: 1.6820 - mae: 1.6820\n",
            "Epoch 182/500\n",
            "2/2 [==============================] - 0s 9ms/step - loss: 1.6329 - mae: 1.6329\n",
            "Epoch 183/500\n",
            "2/2 [==============================] - 0s 8ms/step - loss: 1.2725 - mae: 1.2725\n",
            "Epoch 184/500\n",
            "2/2 [==============================] - 0s 9ms/step - loss: 3.3838 - mae: 3.3838\n",
            "Epoch 185/500\n",
            "2/2 [==============================] - 0s 9ms/step - loss: 2.9060 - mae: 2.9060\n",
            "Epoch 186/500\n",
            "2/2 [==============================] - 0s 9ms/step - loss: 2.3441 - mae: 2.3441\n",
            "Epoch 187/500\n",
            "2/2 [==============================] - 0s 9ms/step - loss: 3.6746 - mae: 3.6746\n",
            "Epoch 188/500\n",
            "2/2 [==============================] - 0s 8ms/step - loss: 1.0734 - mae: 1.0734\n",
            "Epoch 189/500\n",
            "2/2 [==============================] - 0s 9ms/step - loss: 4.0737 - mae: 4.0737\n",
            "Epoch 190/500\n",
            "2/2 [==============================] - 0s 8ms/step - loss: 4.7145 - mae: 4.7145\n",
            "Epoch 191/500\n",
            "2/2 [==============================] - 0s 11ms/step - loss: 2.0775 - mae: 2.0775\n",
            "Epoch 192/500\n",
            "2/2 [==============================] - 0s 8ms/step - loss: 2.5913 - mae: 2.5913\n",
            "Epoch 193/500\n",
            "2/2 [==============================] - 0s 10ms/step - loss: 2.3616 - mae: 2.3616\n",
            "Epoch 194/500\n",
            "2/2 [==============================] - 0s 10ms/step - loss: 1.8460 - mae: 1.8460\n",
            "Epoch 195/500\n",
            "2/2 [==============================] - 0s 11ms/step - loss: 2.3256 - mae: 2.3256\n",
            "Epoch 196/500\n",
            "2/2 [==============================] - 0s 9ms/step - loss: 1.5019 - mae: 1.5019\n",
            "Epoch 197/500\n",
            "2/2 [==============================] - 0s 9ms/step - loss: 2.4456 - mae: 2.4456\n",
            "Epoch 198/500\n",
            "2/2 [==============================] - 0s 9ms/step - loss: 2.1935 - mae: 2.1935\n",
            "Epoch 199/500\n",
            "2/2 [==============================] - 0s 9ms/step - loss: 1.6676 - mae: 1.6676\n",
            "Epoch 200/500\n",
            "2/2 [==============================] - 0s 8ms/step - loss: 1.2769 - mae: 1.2769\n",
            "Epoch 201/500\n",
            "2/2 [==============================] - 0s 8ms/step - loss: 1.9680 - mae: 1.9680\n",
            "Epoch 202/500\n",
            "2/2 [==============================] - 0s 9ms/step - loss: 1.1766 - mae: 1.1766\n",
            "Epoch 203/500\n",
            "2/2 [==============================] - 0s 7ms/step - loss: 1.0810 - mae: 1.0810\n",
            "Epoch 204/500\n",
            "2/2 [==============================] - 0s 9ms/step - loss: 1.0271 - mae: 1.0271\n",
            "Epoch 205/500\n",
            "2/2 [==============================] - 0s 8ms/step - loss: 1.2006 - mae: 1.2006\n",
            "Epoch 206/500\n",
            "2/2 [==============================] - 0s 8ms/step - loss: 1.1529 - mae: 1.1529\n",
            "Epoch 207/500\n",
            "2/2 [==============================] - 0s 16ms/step - loss: 1.0966 - mae: 1.0966\n",
            "Epoch 208/500\n",
            "2/2 [==============================] - 0s 11ms/step - loss: 1.2930 - mae: 1.2930\n",
            "Epoch 209/500\n",
            "2/2 [==============================] - 0s 9ms/step - loss: 0.9688 - mae: 0.9688\n",
            "Epoch 210/500\n",
            "2/2 [==============================] - 0s 9ms/step - loss: 1.3236 - mae: 1.3236\n",
            "Epoch 211/500\n",
            "2/2 [==============================] - 0s 9ms/step - loss: 1.5647 - mae: 1.5647\n",
            "Epoch 212/500\n",
            "2/2 [==============================] - 0s 9ms/step - loss: 1.1924 - mae: 1.1924\n",
            "Epoch 213/500\n",
            "2/2 [==============================] - 0s 9ms/step - loss: 1.9194 - mae: 1.9194\n",
            "Epoch 214/500\n",
            "2/2 [==============================] - 0s 9ms/step - loss: 2.0507 - mae: 2.0507\n",
            "Epoch 215/500\n",
            "2/2 [==============================] - 0s 9ms/step - loss: 1.7175 - mae: 1.7175\n",
            "Epoch 216/500\n",
            "2/2 [==============================] - 0s 8ms/step - loss: 0.7076 - mae: 0.7076\n",
            "Epoch 217/500\n",
            "2/2 [==============================] - 0s 9ms/step - loss: 1.9279 - mae: 1.9279\n",
            "Epoch 218/500\n",
            "2/2 [==============================] - 0s 9ms/step - loss: 1.5320 - mae: 1.5320\n",
            "Epoch 219/500\n",
            "2/2 [==============================] - 0s 9ms/step - loss: 0.6723 - mae: 0.6723\n",
            "Epoch 220/500\n",
            "2/2 [==============================] - 0s 9ms/step - loss: 0.9657 - mae: 0.9657\n",
            "Epoch 221/500\n",
            "2/2 [==============================] - 0s 9ms/step - loss: 1.6147 - mae: 1.6147\n",
            "Epoch 222/500\n",
            "2/2 [==============================] - 0s 9ms/step - loss: 0.8383 - mae: 0.8383\n",
            "Epoch 223/500\n",
            "2/2 [==============================] - 0s 9ms/step - loss: 2.8312 - mae: 2.8312\n",
            "Epoch 224/500\n",
            "2/2 [==============================] - 0s 9ms/step - loss: 2.1785 - mae: 2.1785\n",
            "Epoch 225/500\n",
            "2/2 [==============================] - 0s 8ms/step - loss: 1.2739 - mae: 1.2739\n",
            "Epoch 226/500\n",
            "2/2 [==============================] - 0s 8ms/step - loss: 1.4960 - mae: 1.4960\n",
            "Epoch 227/500\n",
            "2/2 [==============================] - 0s 8ms/step - loss: 1.2165 - mae: 1.2165\n",
            "Epoch 228/500\n",
            "2/2 [==============================] - 0s 8ms/step - loss: 1.9902 - mae: 1.9902\n",
            "Epoch 229/500\n",
            "2/2 [==============================] - 0s 8ms/step - loss: 0.9643 - mae: 0.9643\n",
            "Epoch 230/500\n",
            "2/2 [==============================] - 0s 9ms/step - loss: 1.3981 - mae: 1.3981\n",
            "Epoch 231/500\n",
            "2/2 [==============================] - 0s 8ms/step - loss: 1.4449 - mae: 1.4449\n",
            "Epoch 232/500\n",
            "2/2 [==============================] - 0s 8ms/step - loss: 1.5580 - mae: 1.5580\n",
            "Epoch 233/500\n",
            "2/2 [==============================] - 0s 9ms/step - loss: 1.3253 - mae: 1.3253\n",
            "Epoch 234/500\n",
            "2/2 [==============================] - 0s 9ms/step - loss: 1.3359 - mae: 1.3359\n",
            "Epoch 235/500\n",
            "2/2 [==============================] - 0s 9ms/step - loss: 0.7675 - mae: 0.7675\n",
            "Epoch 236/500\n",
            "2/2 [==============================] - 0s 9ms/step - loss: 0.6129 - mae: 0.6129\n",
            "Epoch 237/500\n",
            "2/2 [==============================] - 0s 11ms/step - loss: 0.4311 - mae: 0.4311\n",
            "Epoch 238/500\n",
            "2/2 [==============================] - 0s 7ms/step - loss: 0.8924 - mae: 0.8924\n",
            "Epoch 239/500\n",
            "2/2 [==============================] - 0s 7ms/step - loss: 0.6401 - mae: 0.6401\n",
            "Epoch 240/500\n",
            "2/2 [==============================] - 0s 8ms/step - loss: 0.4607 - mae: 0.4607\n",
            "Epoch 241/500\n",
            "2/2 [==============================] - 0s 10ms/step - loss: 0.8299 - mae: 0.8299\n",
            "Epoch 242/500\n",
            "2/2 [==============================] - 0s 8ms/step - loss: 0.5411 - mae: 0.5411\n",
            "Epoch 243/500\n",
            "2/2 [==============================] - 0s 8ms/step - loss: 1.0476 - mae: 1.0476\n",
            "Epoch 244/500\n",
            "2/2 [==============================] - 0s 8ms/step - loss: 1.3831 - mae: 1.3831\n",
            "Epoch 245/500\n",
            "2/2 [==============================] - 0s 8ms/step - loss: 0.7780 - mae: 0.7780\n",
            "Epoch 246/500\n",
            "2/2 [==============================] - 0s 8ms/step - loss: 0.7093 - mae: 0.7093\n",
            "Epoch 247/500\n",
            "2/2 [==============================] - 0s 9ms/step - loss: 0.9618 - mae: 0.9618\n",
            "Epoch 248/500\n",
            "2/2 [==============================] - 0s 15ms/step - loss: 0.7267 - mae: 0.7267\n",
            "Epoch 249/500\n",
            "2/2 [==============================] - 0s 9ms/step - loss: 0.5085 - mae: 0.5085\n",
            "Epoch 250/500\n",
            "2/2 [==============================] - 0s 9ms/step - loss: 0.8559 - mae: 0.8559\n",
            "Epoch 251/500\n",
            "2/2 [==============================] - 0s 9ms/step - loss: 0.7561 - mae: 0.7561\n",
            "Epoch 252/500\n",
            "2/2 [==============================] - 0s 9ms/step - loss: 0.7482 - mae: 0.7482\n",
            "Epoch 253/500\n",
            "2/2 [==============================] - 0s 8ms/step - loss: 0.5859 - mae: 0.5859\n",
            "Epoch 254/500\n",
            "2/2 [==============================] - 0s 8ms/step - loss: 1.4614 - mae: 1.4614\n",
            "Epoch 255/500\n",
            "2/2 [==============================] - 0s 8ms/step - loss: 1.2723 - mae: 1.2723\n",
            "Epoch 256/500\n",
            "2/2 [==============================] - 0s 11ms/step - loss: 1.0974 - mae: 1.0974\n",
            "Epoch 257/500\n",
            "2/2 [==============================] - 0s 8ms/step - loss: 1.3762 - mae: 1.3762\n",
            "Epoch 258/500\n",
            "2/2 [==============================] - 0s 9ms/step - loss: 0.9267 - mae: 0.9267\n",
            "Epoch 259/500\n",
            "2/2 [==============================] - 0s 9ms/step - loss: 1.1569 - mae: 1.1569\n",
            "Epoch 260/500\n",
            "2/2 [==============================] - 0s 10ms/step - loss: 0.3808 - mae: 0.3808\n",
            "Epoch 261/500\n",
            "2/2 [==============================] - 0s 9ms/step - loss: 0.5726 - mae: 0.5726\n",
            "Epoch 262/500\n",
            "2/2 [==============================] - 0s 9ms/step - loss: 0.5943 - mae: 0.5943\n",
            "Epoch 263/500\n",
            "2/2 [==============================] - 0s 9ms/step - loss: 0.5321 - mae: 0.5321\n",
            "Epoch 264/500\n",
            "2/2 [==============================] - 0s 9ms/step - loss: 0.5788 - mae: 0.5788\n",
            "Epoch 265/500\n",
            "2/2 [==============================] - 0s 8ms/step - loss: 0.4719 - mae: 0.4719\n",
            "Epoch 266/500\n",
            "2/2 [==============================] - 0s 9ms/step - loss: 0.7305 - mae: 0.7305\n",
            "Epoch 267/500\n",
            "2/2 [==============================] - 0s 8ms/step - loss: 1.0904 - mae: 1.0904\n",
            "Epoch 268/500\n",
            "2/2 [==============================] - 0s 9ms/step - loss: 0.6027 - mae: 0.6027\n",
            "Epoch 269/500\n",
            "2/2 [==============================] - 0s 9ms/step - loss: 1.0785 - mae: 1.0785\n",
            "Epoch 270/500\n",
            "2/2 [==============================] - 0s 9ms/step - loss: 1.2636 - mae: 1.2636\n",
            "Epoch 271/500\n",
            "2/2 [==============================] - 0s 9ms/step - loss: 1.5762 - mae: 1.5762\n",
            "Epoch 272/500\n",
            "2/2 [==============================] - 0s 9ms/step - loss: 0.7765 - mae: 0.7765\n",
            "Epoch 273/500\n",
            "2/2 [==============================] - 0s 9ms/step - loss: 1.2281 - mae: 1.2281\n",
            "Epoch 274/500\n",
            "2/2 [==============================] - 0s 9ms/step - loss: 0.9179 - mae: 0.9179\n",
            "Epoch 275/500\n",
            "2/2 [==============================] - 0s 9ms/step - loss: 0.6224 - mae: 0.6224\n",
            "Epoch 276/500\n",
            "2/2 [==============================] - 0s 8ms/step - loss: 0.7764 - mae: 0.7764\n",
            "Epoch 277/500\n",
            "2/2 [==============================] - 0s 9ms/step - loss: 0.9691 - mae: 0.9691\n",
            "Epoch 278/500\n",
            "2/2 [==============================] - 0s 8ms/step - loss: 1.1917 - mae: 1.1917\n",
            "Epoch 279/500\n",
            "2/2 [==============================] - 0s 8ms/step - loss: 1.5753 - mae: 1.5753\n",
            "Epoch 280/500\n",
            "2/2 [==============================] - 0s 9ms/step - loss: 1.2334 - mae: 1.2334\n",
            "Epoch 281/500\n",
            "2/2 [==============================] - 0s 9ms/step - loss: 1.1829 - mae: 1.1829\n",
            "Epoch 282/500\n",
            "2/2 [==============================] - 0s 8ms/step - loss: 0.4848 - mae: 0.4848\n",
            "Epoch 283/500\n",
            "2/2 [==============================] - 0s 8ms/step - loss: 1.0264 - mae: 1.0264\n",
            "Epoch 284/500\n",
            "2/2 [==============================] - 0s 8ms/step - loss: 0.6493 - mae: 0.6493\n",
            "Epoch 285/500\n",
            "2/2 [==============================] - 0s 8ms/step - loss: 1.0268 - mae: 1.0268\n",
            "Epoch 286/500\n",
            "2/2 [==============================] - 0s 8ms/step - loss: 0.6613 - mae: 0.6613\n",
            "Epoch 287/500\n",
            "2/2 [==============================] - 0s 9ms/step - loss: 0.7722 - mae: 0.7722\n",
            "Epoch 288/500\n",
            "2/2 [==============================] - 0s 9ms/step - loss: 0.6136 - mae: 0.6136\n",
            "Epoch 289/500\n",
            "2/2 [==============================] - 0s 9ms/step - loss: 1.1548 - mae: 1.1548\n",
            "Epoch 290/500\n",
            "2/2 [==============================] - 0s 8ms/step - loss: 0.9241 - mae: 0.9241\n",
            "Epoch 291/500\n",
            "2/2 [==============================] - 0s 9ms/step - loss: 0.6157 - mae: 0.6157\n",
            "Epoch 292/500\n",
            "2/2 [==============================] - 0s 8ms/step - loss: 0.5039 - mae: 0.5039\n",
            "Epoch 293/500\n",
            "2/2 [==============================] - 0s 9ms/step - loss: 0.9121 - mae: 0.9121\n",
            "Epoch 294/500\n",
            "2/2 [==============================] - 0s 8ms/step - loss: 1.2027 - mae: 1.2027\n",
            "Epoch 295/500\n",
            "2/2 [==============================] - 0s 8ms/step - loss: 0.6533 - mae: 0.6533\n",
            "Epoch 296/500\n",
            "2/2 [==============================] - 0s 8ms/step - loss: 0.9011 - mae: 0.9011\n",
            "Epoch 297/500\n",
            "2/2 [==============================] - 0s 8ms/step - loss: 0.5140 - mae: 0.5140\n",
            "Epoch 298/500\n",
            "2/2 [==============================] - 0s 8ms/step - loss: 0.8034 - mae: 0.8034\n",
            "Epoch 299/500\n",
            "2/2 [==============================] - 0s 8ms/step - loss: 0.5607 - mae: 0.5607\n",
            "Epoch 300/500\n",
            "2/2 [==============================] - 0s 8ms/step - loss: 0.8331 - mae: 0.8331\n",
            "Epoch 301/500\n",
            "2/2 [==============================] - 0s 13ms/step - loss: 0.6560 - mae: 0.6560\n",
            "Epoch 302/500\n",
            "2/2 [==============================] - 0s 9ms/step - loss: 0.1864 - mae: 0.1864\n",
            "Epoch 303/500\n",
            "2/2 [==============================] - 0s 8ms/step - loss: 0.2795 - mae: 0.2795\n",
            "Epoch 304/500\n",
            "2/2 [==============================] - 0s 8ms/step - loss: 0.5280 - mae: 0.5280\n",
            "Epoch 305/500\n",
            "2/2 [==============================] - 0s 9ms/step - loss: 0.4541 - mae: 0.4541\n",
            "Epoch 306/500\n",
            "2/2 [==============================] - 0s 8ms/step - loss: 1.1103 - mae: 1.1103\n",
            "Epoch 307/500\n",
            "2/2 [==============================] - 0s 9ms/step - loss: 1.1538 - mae: 1.1538\n",
            "Epoch 308/500\n",
            "2/2 [==============================] - 0s 9ms/step - loss: 1.3176 - mae: 1.3176\n",
            "Epoch 309/500\n",
            "2/2 [==============================] - 0s 9ms/step - loss: 1.7025 - mae: 1.7025\n",
            "Epoch 310/500\n",
            "2/2 [==============================] - 0s 10ms/step - loss: 1.6860 - mae: 1.6860\n",
            "Epoch 311/500\n",
            "2/2 [==============================] - 0s 11ms/step - loss: 0.7885 - mae: 0.7885\n",
            "Epoch 312/500\n",
            "2/2 [==============================] - 0s 11ms/step - loss: 1.7453 - mae: 1.7453\n",
            "Epoch 313/500\n",
            "2/2 [==============================] - 0s 8ms/step - loss: 1.8896 - mae: 1.8896\n",
            "Epoch 314/500\n",
            "2/2 [==============================] - 0s 9ms/step - loss: 2.0634 - mae: 2.0634\n",
            "Epoch 315/500\n",
            "2/2 [==============================] - 0s 9ms/step - loss: 1.3803 - mae: 1.3803\n",
            "Epoch 316/500\n",
            "2/2 [==============================] - 0s 8ms/step - loss: 3.2216 - mae: 3.2216\n",
            "Epoch 317/500\n",
            "2/2 [==============================] - 0s 9ms/step - loss: 1.7854 - mae: 1.7854\n",
            "Epoch 318/500\n",
            "2/2 [==============================] - 0s 9ms/step - loss: 1.5914 - mae: 1.5914\n",
            "Epoch 319/500\n",
            "2/2 [==============================] - 0s 9ms/step - loss: 2.0254 - mae: 2.0254\n",
            "Epoch 320/500\n",
            "2/2 [==============================] - 0s 9ms/step - loss: 2.3491 - mae: 2.3491\n",
            "Epoch 321/500\n",
            "2/2 [==============================] - 0s 9ms/step - loss: 0.9867 - mae: 0.9867\n",
            "Epoch 322/500\n",
            "2/2 [==============================] - 0s 9ms/step - loss: 1.3454 - mae: 1.3454\n",
            "Epoch 323/500\n",
            "2/2 [==============================] - 0s 9ms/step - loss: 0.5563 - mae: 0.5563\n",
            "Epoch 324/500\n",
            "2/2 [==============================] - 0s 9ms/step - loss: 1.6746 - mae: 1.6746\n",
            "Epoch 325/500\n",
            "2/2 [==============================] - 0s 9ms/step - loss: 0.7130 - mae: 0.7130\n",
            "Epoch 326/500\n",
            "2/2 [==============================] - 0s 8ms/step - loss: 1.0284 - mae: 1.0284\n",
            "Epoch 327/500\n",
            "2/2 [==============================] - 0s 8ms/step - loss: 0.3635 - mae: 0.3635\n",
            "Epoch 328/500\n",
            "2/2 [==============================] - 0s 8ms/step - loss: 0.9714 - mae: 0.9714\n",
            "Epoch 329/500\n",
            "2/2 [==============================] - 0s 8ms/step - loss: 0.8243 - mae: 0.8243\n",
            "Epoch 330/500\n",
            "2/2 [==============================] - 0s 8ms/step - loss: 0.6279 - mae: 0.6279\n",
            "Epoch 331/500\n",
            "2/2 [==============================] - 0s 8ms/step - loss: 0.8925 - mae: 0.8925\n",
            "Epoch 332/500\n",
            "2/2 [==============================] - 0s 8ms/step - loss: 0.5091 - mae: 0.5091\n",
            "Epoch 333/500\n",
            "2/2 [==============================] - 0s 8ms/step - loss: 0.2414 - mae: 0.2414\n",
            "Epoch 334/500\n",
            "2/2 [==============================] - 0s 8ms/step - loss: 0.2705 - mae: 0.2705\n",
            "Epoch 335/500\n",
            "2/2 [==============================] - 0s 8ms/step - loss: 0.4507 - mae: 0.4507\n",
            "Epoch 336/500\n",
            "2/2 [==============================] - 0s 9ms/step - loss: 0.7915 - mae: 0.7915\n",
            "Epoch 337/500\n",
            "2/2 [==============================] - 0s 9ms/step - loss: 0.3061 - mae: 0.3061\n",
            "Epoch 338/500\n",
            "2/2 [==============================] - 0s 8ms/step - loss: 0.5707 - mae: 0.5707\n",
            "Epoch 339/500\n",
            "2/2 [==============================] - 0s 9ms/step - loss: 0.4030 - mae: 0.4030\n",
            "Epoch 340/500\n",
            "2/2 [==============================] - 0s 9ms/step - loss: 0.5242 - mae: 0.5242\n",
            "Epoch 341/500\n",
            "2/2 [==============================] - 0s 9ms/step - loss: 0.3723 - mae: 0.3723\n",
            "Epoch 342/500\n",
            "2/2 [==============================] - 0s 9ms/step - loss: 0.5203 - mae: 0.5203\n",
            "Epoch 343/500\n",
            "2/2 [==============================] - 0s 9ms/step - loss: 0.4190 - mae: 0.4190\n",
            "Epoch 344/500\n",
            "2/2 [==============================] - 0s 11ms/step - loss: 0.4873 - mae: 0.4873\n",
            "Epoch 345/500\n",
            "2/2 [==============================] - 0s 9ms/step - loss: 0.6142 - mae: 0.6142\n",
            "Epoch 346/500\n",
            "2/2 [==============================] - 0s 8ms/step - loss: 0.6495 - mae: 0.6495\n",
            "Epoch 347/500\n",
            "2/2 [==============================] - 0s 8ms/step - loss: 0.1591 - mae: 0.1591\n",
            "Epoch 348/500\n",
            "2/2 [==============================] - 0s 8ms/step - loss: 0.3185 - mae: 0.3185\n",
            "Epoch 349/500\n",
            "2/2 [==============================] - 0s 8ms/step - loss: 0.5763 - mae: 0.5763\n",
            "Epoch 350/500\n",
            "2/2 [==============================] - 0s 8ms/step - loss: 0.3362 - mae: 0.3362\n",
            "Epoch 351/500\n",
            "2/2 [==============================] - 0s 8ms/step - loss: 1.4257 - mae: 1.4257\n",
            "Epoch 352/500\n",
            "2/2 [==============================] - 0s 8ms/step - loss: 1.0812 - mae: 1.0812\n",
            "Epoch 353/500\n",
            "2/2 [==============================] - 0s 8ms/step - loss: 1.2397 - mae: 1.2397\n",
            "Epoch 354/500\n",
            "2/2 [==============================] - 0s 10ms/step - loss: 0.6450 - mae: 0.6450\n",
            "Epoch 355/500\n",
            "2/2 [==============================] - 0s 14ms/step - loss: 1.3647 - mae: 1.3647\n",
            "Epoch 356/500\n",
            "2/2 [==============================] - 0s 9ms/step - loss: 1.2830 - mae: 1.2830\n",
            "Epoch 357/500\n",
            "2/2 [==============================] - 0s 9ms/step - loss: 1.2256 - mae: 1.2256\n",
            "Epoch 358/500\n",
            "2/2 [==============================] - 0s 8ms/step - loss: 0.8811 - mae: 0.8811\n",
            "Epoch 359/500\n",
            "2/2 [==============================] - 0s 8ms/step - loss: 1.7218 - mae: 1.7218\n",
            "Epoch 360/500\n",
            "2/2 [==============================] - 0s 9ms/step - loss: 0.8246 - mae: 0.8246\n",
            "Epoch 361/500\n",
            "2/2 [==============================] - 0s 8ms/step - loss: 1.1658 - mae: 1.1658\n",
            "Epoch 362/500\n",
            "2/2 [==============================] - 0s 8ms/step - loss: 0.9194 - mae: 0.9194\n",
            "Epoch 363/500\n",
            "2/2 [==============================] - 0s 9ms/step - loss: 0.7180 - mae: 0.7180\n",
            "Epoch 364/500\n",
            "2/2 [==============================] - 0s 9ms/step - loss: 0.5203 - mae: 0.5203\n",
            "Epoch 365/500\n",
            "2/2 [==============================] - 0s 8ms/step - loss: 0.5289 - mae: 0.5289\n",
            "Epoch 366/500\n",
            "2/2 [==============================] - 0s 9ms/step - loss: 0.6388 - mae: 0.6388\n",
            "Epoch 367/500\n",
            "2/2 [==============================] - 0s 12ms/step - loss: 1.0454 - mae: 1.0454\n",
            "Epoch 368/500\n",
            "2/2 [==============================] - 0s 9ms/step - loss: 0.8473 - mae: 0.8473\n",
            "Epoch 369/500\n",
            "2/2 [==============================] - 0s 8ms/step - loss: 1.2107 - mae: 1.2107\n",
            "Epoch 370/500\n",
            "2/2 [==============================] - 0s 8ms/step - loss: 0.9737 - mae: 0.9737\n",
            "Epoch 371/500\n",
            "2/2 [==============================] - 0s 8ms/step - loss: 0.4955 - mae: 0.4955\n",
            "Epoch 372/500\n",
            "2/2 [==============================] - 0s 8ms/step - loss: 1.8086 - mae: 1.8086\n",
            "Epoch 373/500\n",
            "2/2 [==============================] - 0s 8ms/step - loss: 1.0574 - mae: 1.0574\n",
            "Epoch 374/500\n",
            "2/2 [==============================] - 0s 8ms/step - loss: 0.6377 - mae: 0.6377\n",
            "Epoch 375/500\n",
            "2/2 [==============================] - 0s 8ms/step - loss: 1.4579 - mae: 1.4579\n",
            "Epoch 376/500\n",
            "2/2 [==============================] - 0s 8ms/step - loss: 0.6198 - mae: 0.6198\n",
            "Epoch 377/500\n",
            "2/2 [==============================] - 0s 8ms/step - loss: 1.6161 - mae: 1.6161\n",
            "Epoch 378/500\n",
            "2/2 [==============================] - 0s 8ms/step - loss: 1.4868 - mae: 1.4868\n",
            "Epoch 379/500\n",
            "2/2 [==============================] - 0s 8ms/step - loss: 1.7743 - mae: 1.7743\n",
            "Epoch 380/500\n",
            "2/2 [==============================] - 0s 8ms/step - loss: 1.0488 - mae: 1.0488\n",
            "Epoch 381/500\n",
            "2/2 [==============================] - 0s 8ms/step - loss: 2.0282 - mae: 2.0282\n",
            "Epoch 382/500\n",
            "2/2 [==============================] - 0s 8ms/step - loss: 1.1958 - mae: 1.1958\n",
            "Epoch 383/500\n",
            "2/2 [==============================] - 0s 8ms/step - loss: 0.9426 - mae: 0.9426\n",
            "Epoch 384/500\n",
            "2/2 [==============================] - 0s 10ms/step - loss: 1.0093 - mae: 1.0093\n",
            "Epoch 385/500\n",
            "2/2 [==============================] - 0s 8ms/step - loss: 0.5731 - mae: 0.5731\n",
            "Epoch 386/500\n",
            "2/2 [==============================] - 0s 15ms/step - loss: 0.6426 - mae: 0.6426\n",
            "Epoch 387/500\n",
            "2/2 [==============================] - 0s 10ms/step - loss: 0.4811 - mae: 0.4811\n",
            "Epoch 388/500\n",
            "2/2 [==============================] - 0s 8ms/step - loss: 0.8380 - mae: 0.8380\n",
            "Epoch 389/500\n",
            "2/2 [==============================] - 0s 8ms/step - loss: 0.3161 - mae: 0.3161\n",
            "Epoch 390/500\n",
            "2/2 [==============================] - 0s 8ms/step - loss: 1.7006 - mae: 1.7006\n",
            "Epoch 391/500\n",
            "2/2 [==============================] - 0s 8ms/step - loss: 1.5248 - mae: 1.5248\n",
            "Epoch 392/500\n",
            "2/2 [==============================] - 0s 8ms/step - loss: 1.1649 - mae: 1.1649\n",
            "Epoch 393/500\n",
            "2/2 [==============================] - 0s 8ms/step - loss: 0.4806 - mae: 0.4806\n",
            "Epoch 394/500\n",
            "2/2 [==============================] - 0s 8ms/step - loss: 0.4273 - mae: 0.4273\n",
            "Epoch 395/500\n",
            "2/2 [==============================] - 0s 9ms/step - loss: 0.4434 - mae: 0.4434\n",
            "Epoch 396/500\n",
            "2/2 [==============================] - 0s 8ms/step - loss: 0.7086 - mae: 0.7086\n",
            "Epoch 397/500\n",
            "2/2 [==============================] - 0s 8ms/step - loss: 0.6078 - mae: 0.6078\n",
            "Epoch 398/500\n",
            "2/2 [==============================] - 0s 8ms/step - loss: 0.6721 - mae: 0.6721\n",
            "Epoch 399/500\n",
            "2/2 [==============================] - 0s 8ms/step - loss: 0.2521 - mae: 0.2521\n",
            "Epoch 400/500\n",
            "2/2 [==============================] - 0s 8ms/step - loss: 0.5938 - mae: 0.5938\n",
            "Epoch 401/500\n",
            "2/2 [==============================] - 0s 8ms/step - loss: 0.6826 - mae: 0.6826\n",
            "Epoch 402/500\n",
            "2/2 [==============================] - 0s 8ms/step - loss: 0.9523 - mae: 0.9523\n",
            "Epoch 403/500\n",
            "2/2 [==============================] - 0s 8ms/step - loss: 0.6174 - mae: 0.6174\n",
            "Epoch 404/500\n",
            "2/2 [==============================] - 0s 8ms/step - loss: 0.5008 - mae: 0.5008\n",
            "Epoch 405/500\n",
            "2/2 [==============================] - 0s 8ms/step - loss: 0.2773 - mae: 0.2773\n",
            "Epoch 406/500\n",
            "2/2 [==============================] - 0s 8ms/step - loss: 1.0617 - mae: 1.0617\n",
            "Epoch 407/500\n",
            "2/2 [==============================] - 0s 7ms/step - loss: 1.2205 - mae: 1.2205\n",
            "Epoch 408/500\n",
            "2/2 [==============================] - 0s 8ms/step - loss: 0.8515 - mae: 0.8515\n",
            "Epoch 409/500\n",
            "2/2 [==============================] - 0s 8ms/step - loss: 1.1207 - mae: 1.1207\n",
            "Epoch 410/500\n",
            "2/2 [==============================] - 0s 9ms/step - loss: 0.8661 - mae: 0.8661\n",
            "Epoch 411/500\n",
            "2/2 [==============================] - 0s 11ms/step - loss: 0.2655 - mae: 0.2655\n",
            "Epoch 412/500\n",
            "2/2 [==============================] - 0s 8ms/step - loss: 0.4285 - mae: 0.4285\n",
            "Epoch 413/500\n",
            "2/2 [==============================] - 0s 11ms/step - loss: 0.6437 - mae: 0.6437\n",
            "Epoch 414/500\n",
            "2/2 [==============================] - 0s 8ms/step - loss: 0.5594 - mae: 0.5594\n",
            "Epoch 415/500\n",
            "2/2 [==============================] - 0s 8ms/step - loss: 0.7950 - mae: 0.7950\n",
            "Epoch 416/500\n",
            "2/2 [==============================] - 0s 9ms/step - loss: 0.3661 - mae: 0.3661\n",
            "Epoch 417/500\n",
            "2/2 [==============================] - 0s 9ms/step - loss: 0.7438 - mae: 0.7438\n",
            "Epoch 418/500\n",
            "2/2 [==============================] - 0s 13ms/step - loss: 0.7378 - mae: 0.7378\n",
            "Epoch 419/500\n",
            "2/2 [==============================] - 0s 11ms/step - loss: 0.2679 - mae: 0.2679\n",
            "Epoch 420/500\n",
            "2/2 [==============================] - 0s 8ms/step - loss: 0.7986 - mae: 0.7986\n",
            "Epoch 421/500\n",
            "2/2 [==============================] - 0s 11ms/step - loss: 0.5900 - mae: 0.5900\n",
            "Epoch 422/500\n",
            "2/2 [==============================] - 0s 11ms/step - loss: 0.4828 - mae: 0.4828\n",
            "Epoch 423/500\n",
            "2/2 [==============================] - 0s 10ms/step - loss: 0.8875 - mae: 0.8875\n",
            "Epoch 424/500\n",
            "2/2 [==============================] - 0s 9ms/step - loss: 0.4959 - mae: 0.4959\n",
            "Epoch 425/500\n",
            "2/2 [==============================] - 0s 8ms/step - loss: 1.1040 - mae: 1.1040\n",
            "Epoch 426/500\n",
            "2/2 [==============================] - 0s 8ms/step - loss: 1.4916 - mae: 1.4916\n",
            "Epoch 427/500\n",
            "2/2 [==============================] - 0s 11ms/step - loss: 1.6997 - mae: 1.6997\n",
            "Epoch 428/500\n",
            "2/2 [==============================] - 0s 9ms/step - loss: 1.7260 - mae: 1.7260\n",
            "Epoch 429/500\n",
            "2/2 [==============================] - 0s 8ms/step - loss: 1.0153 - mae: 1.0153\n",
            "Epoch 430/500\n",
            "2/2 [==============================] - 0s 8ms/step - loss: 0.7716 - mae: 0.7716\n",
            "Epoch 431/500\n",
            "2/2 [==============================] - 0s 8ms/step - loss: 2.0987 - mae: 2.0987\n",
            "Epoch 432/500\n",
            "2/2 [==============================] - 0s 8ms/step - loss: 1.6646 - mae: 1.6646\n",
            "Epoch 433/500\n",
            "2/2 [==============================] - 0s 8ms/step - loss: 1.2954 - mae: 1.2954\n",
            "Epoch 434/500\n",
            "2/2 [==============================] - 0s 8ms/step - loss: 1.9243 - mae: 1.9243\n",
            "Epoch 435/500\n",
            "2/2 [==============================] - 0s 8ms/step - loss: 1.0628 - mae: 1.0628\n",
            "Epoch 436/500\n",
            "2/2 [==============================] - 0s 8ms/step - loss: 0.8848 - mae: 0.8848\n",
            "Epoch 437/500\n",
            "2/2 [==============================] - 0s 7ms/step - loss: 2.3460 - mae: 2.3460\n",
            "Epoch 438/500\n",
            "2/2 [==============================] - 0s 8ms/step - loss: 1.9806 - mae: 1.9806\n",
            "Epoch 439/500\n",
            "2/2 [==============================] - 0s 7ms/step - loss: 1.0196 - mae: 1.0196\n",
            "Epoch 440/500\n",
            "2/2 [==============================] - 0s 8ms/step - loss: 2.2155 - mae: 2.2155\n",
            "Epoch 441/500\n",
            "2/2 [==============================] - 0s 8ms/step - loss: 0.7839 - mae: 0.7839\n",
            "Epoch 442/500\n",
            "2/2 [==============================] - 0s 9ms/step - loss: 1.3917 - mae: 1.3917\n",
            "Epoch 443/500\n",
            "2/2 [==============================] - 0s 11ms/step - loss: 0.6231 - mae: 0.6231\n",
            "Epoch 444/500\n",
            "2/2 [==============================] - 0s 8ms/step - loss: 0.7609 - mae: 0.7609\n",
            "Epoch 445/500\n",
            "2/2 [==============================] - 0s 10ms/step - loss: 0.5261 - mae: 0.5261\n",
            "Epoch 446/500\n",
            "2/2 [==============================] - 0s 10ms/step - loss: 0.4000 - mae: 0.4000\n",
            "Epoch 447/500\n",
            "2/2 [==============================] - 0s 11ms/step - loss: 0.8968 - mae: 0.8968\n",
            "Epoch 448/500\n",
            "2/2 [==============================] - 0s 10ms/step - loss: 1.2753 - mae: 1.2753\n",
            "Epoch 449/500\n",
            "2/2 [==============================] - 0s 10ms/step - loss: 0.6201 - mae: 0.6201\n",
            "Epoch 450/500\n",
            "2/2 [==============================] - 0s 8ms/step - loss: 1.1566 - mae: 1.1566\n",
            "Epoch 451/500\n",
            "2/2 [==============================] - 0s 8ms/step - loss: 0.5487 - mae: 0.5487\n",
            "Epoch 452/500\n",
            "2/2 [==============================] - 0s 9ms/step - loss: 0.6666 - mae: 0.6666\n",
            "Epoch 453/500\n",
            "2/2 [==============================] - 0s 9ms/step - loss: 0.5909 - mae: 0.5909\n",
            "Epoch 454/500\n",
            "2/2 [==============================] - 0s 8ms/step - loss: 0.3277 - mae: 0.3277\n",
            "Epoch 455/500\n",
            "2/2 [==============================] - 0s 8ms/step - loss: 0.5995 - mae: 0.5995\n",
            "Epoch 456/500\n",
            "2/2 [==============================] - 0s 10ms/step - loss: 0.5558 - mae: 0.5558\n",
            "Epoch 457/500\n",
            "2/2 [==============================] - 0s 8ms/step - loss: 0.7859 - mae: 0.7859\n",
            "Epoch 458/500\n",
            "2/2 [==============================] - 0s 9ms/step - loss: 0.4506 - mae: 0.4506\n",
            "Epoch 459/500\n",
            "2/2 [==============================] - 0s 7ms/step - loss: 0.7896 - mae: 0.7896\n",
            "Epoch 460/500\n",
            "2/2 [==============================] - 0s 8ms/step - loss: 1.2078 - mae: 1.2078\n",
            "Epoch 461/500\n",
            "2/2 [==============================] - 0s 9ms/step - loss: 0.8604 - mae: 0.8604\n",
            "Epoch 462/500\n",
            "2/2 [==============================] - 0s 12ms/step - loss: 1.3603 - mae: 1.3603\n",
            "Epoch 463/500\n",
            "2/2 [==============================] - 0s 10ms/step - loss: 0.5537 - mae: 0.5537\n",
            "Epoch 464/500\n",
            "2/2 [==============================] - 0s 15ms/step - loss: 0.8105 - mae: 0.8105\n",
            "Epoch 465/500\n",
            "2/2 [==============================] - 0s 9ms/step - loss: 1.0295 - mae: 1.0295\n",
            "Epoch 466/500\n",
            "2/2 [==============================] - 0s 9ms/step - loss: 0.6000 - mae: 0.6000\n",
            "Epoch 467/500\n",
            "2/2 [==============================] - 0s 9ms/step - loss: 0.3999 - mae: 0.3999\n",
            "Epoch 468/500\n",
            "2/2 [==============================] - 0s 9ms/step - loss: 0.5633 - mae: 0.5633\n",
            "Epoch 469/500\n",
            "2/2 [==============================] - 0s 11ms/step - loss: 0.5894 - mae: 0.5894\n",
            "Epoch 470/500\n",
            "2/2 [==============================] - 0s 9ms/step - loss: 0.4837 - mae: 0.4837\n",
            "Epoch 471/500\n",
            "2/2 [==============================] - 0s 12ms/step - loss: 0.4626 - mae: 0.4626\n",
            "Epoch 472/500\n",
            "2/2 [==============================] - 0s 9ms/step - loss: 1.2786 - mae: 1.2786\n",
            "Epoch 473/500\n",
            "2/2 [==============================] - 0s 11ms/step - loss: 0.6452 - mae: 0.6452\n",
            "Epoch 474/500\n",
            "2/2 [==============================] - 0s 11ms/step - loss: 0.8463 - mae: 0.8463\n",
            "Epoch 475/500\n",
            "2/2 [==============================] - 0s 8ms/step - loss: 1.3121 - mae: 1.3121\n",
            "Epoch 476/500\n",
            "2/2 [==============================] - 0s 8ms/step - loss: 1.1663 - mae: 1.1663\n",
            "Epoch 477/500\n",
            "2/2 [==============================] - 0s 10ms/step - loss: 0.7872 - mae: 0.7872\n",
            "Epoch 478/500\n",
            "2/2 [==============================] - 0s 9ms/step - loss: 1.1542 - mae: 1.1542\n",
            "Epoch 479/500\n",
            "2/2 [==============================] - 0s 9ms/step - loss: 1.1939 - mae: 1.1939\n",
            "Epoch 480/500\n",
            "2/2 [==============================] - 0s 8ms/step - loss: 0.6856 - mae: 0.6856\n",
            "Epoch 481/500\n",
            "2/2 [==============================] - 0s 8ms/step - loss: 0.8718 - mae: 0.8718\n",
            "Epoch 482/500\n",
            "2/2 [==============================] - 0s 8ms/step - loss: 0.8544 - mae: 0.8544\n",
            "Epoch 483/500\n",
            "2/2 [==============================] - 0s 8ms/step - loss: 0.4318 - mae: 0.4318\n",
            "Epoch 484/500\n",
            "2/2 [==============================] - 0s 9ms/step - loss: 0.5768 - mae: 0.5768\n",
            "Epoch 485/500\n",
            "2/2 [==============================] - 0s 8ms/step - loss: 0.8368 - mae: 0.8368\n",
            "Epoch 486/500\n",
            "2/2 [==============================] - 0s 9ms/step - loss: 1.1933 - mae: 1.1933\n",
            "Epoch 487/500\n",
            "2/2 [==============================] - 0s 9ms/step - loss: 1.1615 - mae: 1.1615\n",
            "Epoch 488/500\n",
            "2/2 [==============================] - 0s 9ms/step - loss: 0.2726 - mae: 0.2726\n",
            "Epoch 489/500\n",
            "2/2 [==============================] - 0s 9ms/step - loss: 1.1493 - mae: 1.1493\n",
            "Epoch 490/500\n",
            "2/2 [==============================] - 0s 7ms/step - loss: 0.9306 - mae: 0.9306\n",
            "Epoch 491/500\n",
            "2/2 [==============================] - 0s 9ms/step - loss: 0.9816 - mae: 0.9816\n",
            "Epoch 492/500\n",
            "2/2 [==============================] - 0s 8ms/step - loss: 0.9675 - mae: 0.9675\n",
            "Epoch 493/500\n",
            "2/2 [==============================] - 0s 10ms/step - loss: 1.0390 - mae: 1.0390\n",
            "Epoch 494/500\n",
            "2/2 [==============================] - 0s 9ms/step - loss: 1.0778 - mae: 1.0778\n",
            "Epoch 495/500\n",
            "2/2 [==============================] - 0s 9ms/step - loss: 2.3387 - mae: 2.3387\n",
            "Epoch 496/500\n",
            "2/2 [==============================] - 0s 9ms/step - loss: 1.2259 - mae: 1.2259\n",
            "Epoch 497/500\n",
            "2/2 [==============================] - 0s 12ms/step - loss: 1.6256 - mae: 1.6256\n",
            "Epoch 498/500\n",
            "2/2 [==============================] - 0s 7ms/step - loss: 1.5951 - mae: 1.5951\n",
            "Epoch 499/500\n",
            "2/2 [==============================] - 0s 9ms/step - loss: 0.7127 - mae: 0.7127\n",
            "Epoch 500/500\n",
            "2/2 [==============================] - 0s 8ms/step - loss: 2.0724 - mae: 2.0724\n"
          ]
        },
        {
          "output_type": "execute_result",
          "data": {
            "text/plain": [
              "<keras.callbacks.History at 0x7905fa72f460>"
            ]
          },
          "metadata": {},
          "execution_count": 53
        }
      ]
    },
    {
      "cell_type": "code",
      "source": [
        "y_pred_3 = model_3.predict(X_test)"
      ],
      "metadata": {
        "colab": {
          "base_uri": "https://localhost:8080/"
        },
        "id": "a6e1StXefDaR",
        "outputId": "9c348259-22fc-47b3-be72-a55b47365fde"
      },
      "execution_count": null,
      "outputs": [
        {
          "output_type": "stream",
          "name": "stdout",
          "text": [
            "1/1 [==============================] - 0s 142ms/step\n"
          ]
        }
      ]
    },
    {
      "cell_type": "code",
      "source": [
        "plot_predictions(X_train,y_train, X_test,y_test,y_pred_3)"
      ],
      "metadata": {
        "colab": {
          "base_uri": "https://localhost:8080/",
          "height": 430
        },
        "id": "5P0dL1pVfDdz",
        "outputId": "dcf61dbd-c6eb-49ed-e276-ef38663366a8"
      },
      "execution_count": null,
      "outputs": [
        {
          "output_type": "display_data",
          "data": {
            "text/plain": [
              "<Figure size 640x480 with 1 Axes>"
            ],
            "image/png": "[encoded data removed]"
          },
          "metadata": {}
        }
      ]
    },
    {
      "cell_type": "code",
      "source": [
        "mae_3 = mae(y_test,y_pred_3)\n",
        "mse_3 = mse(y_test,y_pred_3)\n",
        "mae_3,mse_3"
      ],
      "metadata": {
        "colab": {
          "base_uri": "https://localhost:8080/"
        },
        "id": "sEXrko7LjdHF",
        "outputId": "1b41405b-b8dc-4931-d14e-1095dc9e84b4"
      },
      "execution_count": null,
      "outputs": [
        {
          "output_type": "execute_result",
          "data": {
            "text/plain": [
              "(<tf.Tensor: shape=(), dtype=float32, numpy=3.230191>,\n",
              " <tf.Tensor: shape=(), dtype=float32, numpy=47.06561>)"
            ]
          },
          "metadata": {},
          "execution_count": 56
        }
      ]
    },
    {
      "cell_type": "markdown",
      "source": [
        "## Comparing the experiments\n",
        "\n",
        "start small and then increase the scale slowly."
      ],
      "metadata": {
        "id": "clioGcBDjtlg"
      }
    },
    {
      "cell_type": "code",
      "source": [
        "# Let's compare our model's results using a pandas DataFrame\n",
        "import pandas as pd\n",
        "\n",
        "model_results = [['model_1', mae_1.numpy(), mse_1.numpy()],\n",
        "                 ['model_2', mae_2.numpy(), mse_2.numpy()],\n",
        "                 ['model_3', mae_3.numpy(), mse_3.numpy()]]\n",
        "\n",
        "all_results = pd.DataFrame(model_results, columns=['model', 'mae', 'mse'])\n",
        "all_results"
      ],
      "metadata": {
        "colab": {
          "base_uri": "https://localhost:8080/",
          "height": 143
        },
        "id": "obdsGlRYkJpx",
        "outputId": "f65a698a-39ed-4722-9845-6e56034d70b6"
      },
      "execution_count": null,
      "outputs": [
        {
          "output_type": "execute_result",
          "data": {
            "text/plain": [
              "     model        mae        mse\n",
              "0  model_1  15.020655  47.065609\n",
              "1  model_2  12.629549  47.065609\n",
              "2  model_3   3.230191  47.065609"
            ],
            "text/html": [
              "\n",
              "  <div id=\"df-d8dc0c9e-ef73-4f0c-b6cc-bd0e287d695c\" class=\"colab-df-container\">\n",
              "    <div>\n",
              "<style scoped>\n",
              "    .dataframe tbody tr th:only-of-type {\n",
              "        vertical-align: middle;\n",
              "    }\n",
              "\n",
              "    .dataframe tbody tr th {\n",
              "        vertical-align: top;\n",
              "    }\n",
              "\n",
              "    .dataframe thead th {\n",
              "        text-align: right;\n",
              "    }\n",
              "</style>\n",
              "<table border=\"1\" class=\"dataframe\">\n",
              "  <thead>\n",
              "    <tr style=\"text-align: right;\">\n",
              "      <th></th>\n",
              "      <th>model</th>\n",
              "      <th>mae</th>\n",
              "      <th>mse</th>\n",
              "    </tr>\n",
              "  </thead>\n",
              "  <tbody>\n",
              "    <tr>\n",
              "      <th>0</th>\n",
              "      <td>model_1</td>\n",
              "      <td>15.020655</td>\n",
              "      <td>47.065609</td>\n",
              "    </tr>\n",
              "    <tr>\n",
              "      <th>1</th>\n",
              "      <td>model_2</td>\n",
              "      <td>12.629549</td>\n",
              "      <td>47.065609</td>\n",
              "    </tr>\n",
              "    <tr>\n",
              "      <th>2</th>\n",
              "      <td>model_3</td>\n",
              "      <td>3.230191</td>\n",
              "      <td>47.065609</td>\n",
              "    </tr>\n",
              "  </tbody>\n",
              "</table>\n",
              "</div>\n",
              "    <div class=\"colab-df-buttons\">\n",
              "\n",
              "  <div class=\"colab-df-container\">\n",
              "    <button class=\"colab-df-convert\" onclick=\"convertToInteractive('df-d8dc0c9e-ef73-4f0c-b6cc-bd0e287d695c')\"\n",
              "            title=\"Convert this dataframe to an interactive table.\"\n",
              "            style=\"display:none;\">\n",
              "\n",
              "  <svg xmlns=\"http://www.w3.org/2000/svg\" height=\"24px\" viewBox=\"0 -960 960 960\">\n",
              "    <path d=\"M120-120v-720h720v720H120Zm60-500h600v-160H180v160Zm220 220h160v-160H400v160Zm0 220h160v-160H400v160ZM180-400h160v-160H180v160Zm440 0h160v-160H620v160ZM180-180h160v-160H180v160Zm440 0h160v-160H620v160Z\"/>\n",
              "  </svg>\n",
              "    </button>\n",
              "\n",
              "  <style>\n",
              "    .colab-df-container {\n",
              "      display:flex;\n",
              "      gap: 12px;\n",
              "    }\n",
              "\n",
              "    .colab-df-convert {\n",
              "      background-color: #E8F0FE;\n",
              "      border: none;\n",
              "      border-radius: 50%;\n",
              "      cursor: pointer;\n",
              "      display: none;\n",
              "      fill: #1967D2;\n",
              "      height: 32px;\n",
              "      padding: 0 0 0 0;\n",
              "      width: 32px;\n",
              "    }\n",
              "\n",
              "    .colab-df-convert:hover {\n",
              "      background-color: #E2EBFA;\n",
              "      box-shadow: 0px 1px 2px rgba(60, 64, 67, 0.3), 0px 1px 3px 1px rgba(60, 64, 67, 0.15);\n",
              "      fill: #174EA6;\n",
              "    }\n",
              "\n",
              "    .colab-df-buttons div {\n",
              "      margin-bottom: 4px;\n",
              "    }\n",
              "\n",
              "    [theme=dark] .colab-df-convert {\n",
              "      background-color: #3B4455;\n",
              "      fill: #D2E3FC;\n",
              "    }\n",
              "\n",
              "    [theme=dark] .colab-df-convert:hover {\n",
              "      background-color: #434B5C;\n",
              "      box-shadow: 0px 1px 3px 1px rgba(0, 0, 0, 0.15);\n",
              "      filter: drop-shadow(0px 1px 2px rgba(0, 0, 0, 0.3));\n",
              "      fill: #FFFFFF;\n",
              "    }\n",
              "  </style>\n",
              "\n",
              "    <script>\n",
              "      const buttonEl =\n",
              "        document.querySelector('#df-d8dc0c9e-ef73-4f0c-b6cc-bd0e287d695c button.colab-df-convert');\n",
              "      buttonEl.style.display =\n",
              "        google.colab.kernel.accessAllowed ? 'block' : 'none';\n",
              "\n",
              "      async function convertToInteractive(key) {\n",
              "        const element = document.querySelector('#df-d8dc0c9e-ef73-4f0c-b6cc-bd0e287d695c');\n",
              "        const dataTable =\n",
              "          await google.colab.kernel.invokeFunction('convertToInteractive',\n",
              "                                                    [key], {});\n",
              "        if (!dataTable) return;\n",
              "\n",
              "        const docLinkHtml = 'Like what you see? Visit the ' +\n",
              "          '<a target=\"_blank\" href=https://colab.research.google.com/notebooks/data_table.ipynb>data table notebook</a>'\n",
              "          + ' to learn more about interactive tables.';\n",
              "        element.innerHTML = '';\n",
              "        dataTable['output_type'] = 'display_data';\n",
              "        await google.colab.output.renderOutput(dataTable, element);\n",
              "        const docLink = document.createElement('div');\n",
              "        docLink.innerHTML = docLinkHtml;\n",
              "        element.appendChild(docLink);\n",
              "      }\n",
              "    </script>\n",
              "  </div>\n",
              "\n",
              "\n",
              "<div id=\"df-1e50d769-cf88-4af0-9b70-c91fc05b7795\">\n",
              "  <button class=\"colab-df-quickchart\" onclick=\"quickchart('df-1e50d769-cf88-4af0-9b70-c91fc05b7795')\"\n",
              "            title=\"Suggest charts.\"\n",
              "            style=\"display:none;\">\n",
              "\n",
              "<svg xmlns=\"http://www.w3.org/2000/svg\" height=\"24px\"viewBox=\"0 0 24 24\"\n",
              "     width=\"24px\">\n",
              "    <g>\n",
              "        <path d=\"M19 3H5c-1.1 0-2 .9-2 2v14c0 1.1.9 2 2 2h14c1.1 0 2-.9 2-2V5c0-1.1-.9-2-2-2zM9 17H7v-7h2v7zm4 0h-2V7h2v10zm4 0h-2v-4h2v4z\"/>\n",
              "    </g>\n",
              "</svg>\n",
              "  </button>\n",
              "\n",
              "<style>\n",
              "  .colab-df-quickchart {\n",
              "    background-color: #E8F0FE;\n",
              "    border: none;\n",
              "    border-radius: 50%;\n",
              "    cursor: pointer;\n",
              "    display: none;\n",
              "    fill: #1967D2;\n",
              "    height: 32px;\n",
              "    padding: 0 0 0 0;\n",
              "    width: 32px;\n",
              "  }\n",
              "\n",
              "  .colab-df-quickchart:hover {\n",
              "    background-color: #E2EBFA;\n",
              "    box-shadow: 0px 1px 2px rgba(60, 64, 67, 0.3), 0px 1px 3px 1px rgba(60, 64, 67, 0.15);\n",
              "    fill: #174EA6;\n",
              "  }\n",
              "\n",
              "  [theme=dark] .colab-df-quickchart {\n",
              "    background-color: #3B4455;\n",
              "    fill: #D2E3FC;\n",
              "  }\n",
              "\n",
              "  [theme=dark] .colab-df-quickchart:hover {\n",
              "    background-color: #434B5C;\n",
              "    box-shadow: 0px 1px 3px 1px rgba(0, 0, 0, 0.15);\n",
              "    filter: drop-shadow(0px 1px 2px rgba(0, 0, 0, 0.3));\n",
              "    fill: #FFFFFF;\n",
              "  }\n",
              "</style>\n",
              "\n",
              "  <script>\n",
              "    async function quickchart(key) {\n",
              "      const charts = await google.colab.kernel.invokeFunction(\n",
              "          'suggestCharts', [key], {});\n",
              "    }\n",
              "    (() => {\n",
              "      let quickchartButtonEl =\n",
              "        document.querySelector('#df-1e50d769-cf88-4af0-9b70-c91fc05b7795 button');\n",
              "      quickchartButtonEl.style.display =\n",
              "        google.colab.kernel.accessAllowed ? 'block' : 'none';\n",
              "    })();\n",
              "  </script>\n",
              "</div>\n",
              "    </div>\n",
              "  </div>\n"
            ]
          },
          "metadata": {},
          "execution_count": 57
        }
      ]
    },
    {
      "cell_type": "code",
      "source": [
        "model_3.summary()"
      ],
      "metadata": {
        "colab": {
          "base_uri": "https://localhost:8080/"
        },
        "id": "wIi26thYkrB_",
        "outputId": "e99eb3e9-ad8c-4504-871e-740811bc0da8"
      },
      "execution_count": null,
      "outputs": [
        {
          "output_type": "stream",
          "name": "stdout",
          "text": [
            "Model: \"sequential_8\"\n",
            "_________________________________________________________________\n",
            " Layer (type)                Output Shape              Param #   \n",
            "=================================================================\n",
            " dense_17 (Dense)            (None, 100)               200       \n",
            "                                                                 \n",
            " dense_18 (Dense)            (None, 100)               10100     \n",
            "                                                                 \n",
            " dense_19 (Dense)            (None, 100)               10100     \n",
            "                                                                 \n",
            " dense_20 (Dense)            (None, 100)               10100     \n",
            "                                                                 \n",
            " dense_21 (Dense)            (None, 100)               10100     \n",
            "                                                                 \n",
            " dense_22 (Dense)            (None, 1)                 101       \n",
            "                                                                 \n",
            "=================================================================\n",
            "Total params: 40,701\n",
            "Trainable params: 40,701\n",
            "Non-trainable params: 0\n",
            "_________________________________________________________________\n"
          ]
        }
      ]
    },
    {
      "cell_type": "markdown",
      "source": [
        "## Saving model\n",
        "\n",
        "There are3 two ways to save a model:\n",
        "1. The SavedModel format\n",
        "2. The HDF5 format (.h5 extension): Hierarchical Data Format\n"
      ],
      "metadata": {
        "id": "kWO4Jeo9llc6"
      }
    },
    {
      "cell_type": "code",
      "source": [
        "# save a model using the SavedModel format\n",
        "\n",
        "model_3.save('best_model_SavedModel')"
      ],
      "metadata": {
        "colab": {
          "base_uri": "https://localhost:8080/"
        },
        "id": "tEbQnJ6OLsVD",
        "outputId": "502f6f4f-10a4-44fe-fcac-5c1698830e61"
      },
      "execution_count": null,
      "outputs": [
        {
          "output_type": "stream",
          "name": "stderr",
          "text": [
            "WARNING:absl:Found untraced functions such as _update_step_xla while saving (showing 1 of 1). These functions will not be directly callable after loading.\n"
          ]
        }
      ]
    },
    {
      "cell_type": "code",
      "source": [
        "# Savign the model using the HDF5 format\n",
        "model_3.save('best_model_HDF5_format.h5')"
      ],
      "metadata": {
        "id": "P7U_zt8aMghd"
      },
      "execution_count": null,
      "outputs": []
    },
    {
      "cell_type": "markdown",
      "source": [
        "## Loading the saved model"
      ],
      "metadata": {
        "id": "SdXf-hoCNMw4"
      }
    },
    {
      "cell_type": "code",
      "source": [
        "# load the SavedModel format model\n",
        "loaded_SavedModel_format = tf.keras.models.load_model('/content/best_model_SavedModel')\n",
        "loaded_SavedModel_format.summary()"
      ],
      "metadata": {
        "colab": {
          "base_uri": "https://localhost:8080/"
        },
        "id": "1zTZErieNkGC",
        "outputId": "1a443204-712e-4133-d520-7acb88519080"
      },
      "execution_count": null,
      "outputs": [
        {
          "output_type": "stream",
          "name": "stdout",
          "text": [
            "Model: \"sequential_8\"\n",
            "_________________________________________________________________\n",
            " Layer (type)                Output Shape              Param #   \n",
            "=================================================================\n",
            " dense_17 (Dense)            (None, 100)               200       \n",
            "                                                                 \n",
            " dense_18 (Dense)            (None, 100)               10100     \n",
            "                                                                 \n",
            " dense_19 (Dense)            (None, 100)               10100     \n",
            "                                                                 \n",
            " dense_20 (Dense)            (None, 100)               10100     \n",
            "                                                                 \n",
            " dense_21 (Dense)            (None, 100)               10100     \n",
            "                                                                 \n",
            " dense_22 (Dense)            (None, 1)                 101       \n",
            "                                                                 \n",
            "=================================================================\n",
            "Total params: 40,701\n",
            "Trainable params: 40,701\n",
            "Non-trainable params: 0\n",
            "_________________________________________________________________\n"
          ]
        }
      ]
    },
    {
      "cell_type": "code",
      "source": [
        "model_3.summary()"
      ],
      "metadata": {
        "colab": {
          "base_uri": "https://localhost:8080/"
        },
        "id": "FRIVRtUYNkOW",
        "outputId": "55033ae8-f8e1-422c-9e9b-3cf4e1217dcc"
      },
      "execution_count": null,
      "outputs": [
        {
          "output_type": "stream",
          "name": "stdout",
          "text": [
            "Model: \"sequential_8\"\n",
            "_________________________________________________________________\n",
            " Layer (type)                Output Shape              Param #   \n",
            "=================================================================\n",
            " dense_17 (Dense)            (None, 100)               200       \n",
            "                                                                 \n",
            " dense_18 (Dense)            (None, 100)               10100     \n",
            "                                                                 \n",
            " dense_19 (Dense)            (None, 100)               10100     \n",
            "                                                                 \n",
            " dense_20 (Dense)            (None, 100)               10100     \n",
            "                                                                 \n",
            " dense_21 (Dense)            (None, 100)               10100     \n",
            "                                                                 \n",
            " dense_22 (Dense)            (None, 1)                 101       \n",
            "                                                                 \n",
            "=================================================================\n",
            "Total params: 40,701\n",
            "Trainable params: 40,701\n",
            "Non-trainable params: 0\n",
            "_________________________________________________________________\n"
          ]
        }
      ]
    },
    {
      "cell_type": "code",
      "source": [
        "# Compare model_3 predictions with SavedModel format model predictions\n",
        "model_3_preds = model_3.predict(X_test)\n",
        "loaded_SavedModel_preds = loaded_SavedModel_format.predict(X_test)"
      ],
      "metadata": {
        "colab": {
          "base_uri": "https://localhost:8080/"
        },
        "id": "e40KFtGONkSb",
        "outputId": "2002a06c-39ce-4e74-9a3d-562d6b6a9f9a"
      },
      "execution_count": null,
      "outputs": [
        {
          "output_type": "stream",
          "name": "stdout",
          "text": [
            "1/1 [==============================] - 0s 54ms/step\n",
            "1/1 [==============================] - 0s 153ms/step\n"
          ]
        }
      ]
    },
    {
      "cell_type": "code",
      "source": [
        "model_3_preds == loaded_SavedModel_preds"
      ],
      "metadata": {
        "colab": {
          "base_uri": "https://localhost:8080/"
        },
        "id": "2JJkdc6sNkVe",
        "outputId": "c47f13b3-207b-49a4-f4ee-474a8682d9bc"
      },
      "execution_count": null,
      "outputs": [
        {
          "output_type": "execute_result",
          "data": {
            "text/plain": [
              "array([[ True],\n",
              "       [ True],\n",
              "       [ True],\n",
              "       [ True],\n",
              "       [ True],\n",
              "       [ True],\n",
              "       [ True],\n",
              "       [ True],\n",
              "       [ True],\n",
              "       [ True]])"
            ]
          },
          "metadata": {},
          "execution_count": 69
        }
      ]
    },
    {
      "cell_type": "code",
      "source": [
        "# Loading the model using the .h5 format\n",
        "loaded_h5_model = tf.keras.models.load_model('/content/best_model_HDF5_format.h5')\n",
        "loaded_h5_model.summary()"
      ],
      "metadata": {
        "colab": {
          "base_uri": "https://localhost:8080/"
        },
        "id": "nm5rlVziNkYh",
        "outputId": "8d4a506b-ca21-4a50-9d81-6e89db29344e"
      },
      "execution_count": null,
      "outputs": [
        {
          "output_type": "stream",
          "name": "stdout",
          "text": [
            "Model: \"sequential_8\"\n",
            "_________________________________________________________________\n",
            " Layer (type)                Output Shape              Param #   \n",
            "=================================================================\n",
            " dense_17 (Dense)            (None, 100)               200       \n",
            "                                                                 \n",
            " dense_18 (Dense)            (None, 100)               10100     \n",
            "                                                                 \n",
            " dense_19 (Dense)            (None, 100)               10100     \n",
            "                                                                 \n",
            " dense_20 (Dense)            (None, 100)               10100     \n",
            "                                                                 \n",
            " dense_21 (Dense)            (None, 100)               10100     \n",
            "                                                                 \n",
            " dense_22 (Dense)            (None, 1)                 101       \n",
            "                                                                 \n",
            "=================================================================\n",
            "Total params: 40,701\n",
            "Trainable params: 40,701\n",
            "Non-trainable params: 0\n",
            "_________________________________________________________________\n"
          ]
        }
      ]
    },
    {
      "cell_type": "code",
      "source": [
        "model_3.summary()"
      ],
      "metadata": {
        "id": "vtq_U3YFNkmO"
      },
      "execution_count": null,
      "outputs": []
    },
    {
      "cell_type": "code",
      "source": [
        "y_preds_3 = model_3.predict(X_test)\n",
        "loaded_model_h5_preds = loaded_h5_model.predict(X_test)\n",
        "y_preds_3 == loaded_model_h5_preds"
      ],
      "metadata": {
        "colab": {
          "base_uri": "https://localhost:8080/",
          "height": 210
        },
        "id": "SHYgj4TYNkqV",
        "outputId": "7202712f-1549-4bf0-f0bf-64ff76ad2db6"
      },
      "execution_count": null,
      "outputs": [
        {
          "output_type": "error",
          "ename": "NameError",
          "evalue": "ignored",
          "traceback": [
            "\u001b[0;31m---------------------------------------------------------------------------\u001b[0m",
            "\u001b[0;31mNameError\u001b[0m                                 Traceback (most recent call last)",
            "\u001b[0;32m<ipython-input-2-d789d138884a>\u001b[0m in \u001b[0;36m<cell line: 1>\u001b[0;34m()\u001b[0m\n\u001b[0;32m----> 1\u001b[0;31m \u001b[0my_preds_3\u001b[0m \u001b[0;34m=\u001b[0m \u001b[0mmodel_3\u001b[0m\u001b[0;34m.\u001b[0m\u001b[0mpredict\u001b[0m\u001b[0;34m(\u001b[0m\u001b[0mX_test\u001b[0m\u001b[0;34m)\u001b[0m\u001b[0;34m\u001b[0m\u001b[0;34m\u001b[0m\u001b[0m\n\u001b[0m\u001b[1;32m      2\u001b[0m \u001b[0mloaded_model_h5_preds\u001b[0m \u001b[0;34m=\u001b[0m \u001b[0mloaded_h5_model\u001b[0m\u001b[0;34m.\u001b[0m\u001b[0mpredict\u001b[0m\u001b[0;34m(\u001b[0m\u001b[0mX_test\u001b[0m\u001b[0;34m)\u001b[0m\u001b[0;34m\u001b[0m\u001b[0;34m\u001b[0m\u001b[0m\n\u001b[1;32m      3\u001b[0m \u001b[0my_preds_3\u001b[0m \u001b[0;34m==\u001b[0m \u001b[0mloaded_model_h5_preds\u001b[0m\u001b[0;34m\u001b[0m\u001b[0;34m\u001b[0m\u001b[0m\n",
            "\u001b[0;31mNameError\u001b[0m: name 'model_3' is not defined"
          ]
        }
      ]
    },
    {
      "cell_type": "markdown",
      "source": [
        "## Downloading the file from google colab\n",
        "\n",
        "1. Download the files manually from the left pane\n",
        "2. Download it via code\n",
        "3. Save the file to google drive"
      ],
      "metadata": {
        "id": "9mG81dE-Nks0"
      }
    },
    {
      "cell_type": "code",
      "source": [
        "# from google.colab import files\n",
        "# files.download('/content/best_model_HDF5_format.h5')"
      ],
      "metadata": {
        "id": "9psAMDErNkw-"
      },
      "execution_count": null,
      "outputs": []
    },
    {
      "cell_type": "code",
      "source": [
        "!cp /content/best_model_HDF5_format.h5 /content/drive/MyDrive/TENSORFLOW_2.0/TF_DEV_2.0_UDEMY_ZTM"
      ],
      "metadata": {
        "colab": {
          "base_uri": "https://localhost:8080/"
        },
        "id": "WdL0cA_WNk10",
        "outputId": "8467bf39-65fb-4466-f700-8df2df24727f"
      },
      "execution_count": null,
      "outputs": [
        {
          "output_type": "stream",
          "name": "stdout",
          "text": [
            "cp: cannot stat '/content/best_model_HDF5_format.h5': No such file or directory\n"
          ]
        }
      ]
    },
    {
      "cell_type": "markdown",
      "source": [
        "# A Larger Example\n",
        "\n",
        "Predicting the medical costs using Linear Regression with Neural Networks"
      ],
      "metadata": {
        "id": "3qINBdhxNk5-"
      }
    },
    {
      "cell_type": "code",
      "source": [
        "# Import required libraries\n",
        "import tensorflow as tf\n",
        "import pandas as pd\n",
        "import matplotlib.pyplot as plt"
      ],
      "metadata": {
        "id": "849Lo29SNk_Y"
      },
      "execution_count": null,
      "outputs": []
    },
    {
      "cell_type": "code",
      "source": [
        "insurance = pd.read_csv('https://raw.githubusercontent.com/stedy/Machine-Learning-with-R-datasets/master/insurance.csv') # Turn data available on github to RAW\n",
        "insurance.head()"
      ],
      "metadata": {
        "colab": {
          "base_uri": "https://localhost:8080/",
          "height": 206
        },
        "id": "kzkbV1vFNlEy",
        "outputId": "cc497376-5367-4cae-937b-f6e88a4634a9"
      },
      "execution_count": null,
      "outputs": [
        {
          "output_type": "execute_result",
          "data": {
            "text/plain": [
              "   age     sex     bmi  children smoker     region      charges\n",
              "0   19  female  27.900         0    yes  southwest  16884.92400\n",
              "1   18    male  33.770         1     no  southeast   1725.55230\n",
              "2   28    male  33.000         3     no  southeast   4449.46200\n",
              "3   33    male  22.705         0     no  northwest  21984.47061\n",
              "4   32    male  28.880         0     no  northwest   3866.85520"
            ],
            "text/html": [
              "\n",
              "  <div id=\"df-bd087d58-f951-4490-83bc-c09340e65b74\" class=\"colab-df-container\">\n",
              "    <div>\n",
              "<style scoped>\n",
              "    .dataframe tbody tr th:only-of-type {\n",
              "        vertical-align: middle;\n",
              "    }\n",
              "\n",
              "    .dataframe tbody tr th {\n",
              "        vertical-align: top;\n",
              "    }\n",
              "\n",
              "    .dataframe thead th {\n",
              "        text-align: right;\n",
              "    }\n",
              "</style>\n",
              "<table border=\"1\" class=\"dataframe\">\n",
              "  <thead>\n",
              "    <tr style=\"text-align: right;\">\n",
              "      <th></th>\n",
              "      <th>age</th>\n",
              "      <th>sex</th>\n",
              "      <th>bmi</th>\n",
              "      <th>children</th>\n",
              "      <th>smoker</th>\n",
              "      <th>region</th>\n",
              "      <th>charges</th>\n",
              "    </tr>\n",
              "  </thead>\n",
              "  <tbody>\n",
              "    <tr>\n",
              "      <th>0</th>\n",
              "      <td>19</td>\n",
              "      <td>female</td>\n",
              "      <td>27.900</td>\n",
              "      <td>0</td>\n",
              "      <td>yes</td>\n",
              "      <td>southwest</td>\n",
              "      <td>16884.92400</td>\n",
              "    </tr>\n",
              "    <tr>\n",
              "      <th>1</th>\n",
              "      <td>18</td>\n",
              "      <td>male</td>\n",
              "      <td>33.770</td>\n",
              "      <td>1</td>\n",
              "      <td>no</td>\n",
              "      <td>southeast</td>\n",
              "      <td>1725.55230</td>\n",
              "    </tr>\n",
              "    <tr>\n",
              "      <th>2</th>\n",
              "      <td>28</td>\n",
              "      <td>male</td>\n",
              "      <td>33.000</td>\n",
              "      <td>3</td>\n",
              "      <td>no</td>\n",
              "      <td>southeast</td>\n",
              "      <td>4449.46200</td>\n",
              "    </tr>\n",
              "    <tr>\n",
              "      <th>3</th>\n",
              "      <td>33</td>\n",
              "      <td>male</td>\n",
              "      <td>22.705</td>\n",
              "      <td>0</td>\n",
              "      <td>no</td>\n",
              "      <td>northwest</td>\n",
              "      <td>21984.47061</td>\n",
              "    </tr>\n",
              "    <tr>\n",
              "      <th>4</th>\n",
              "      <td>32</td>\n",
              "      <td>male</td>\n",
              "      <td>28.880</td>\n",
              "      <td>0</td>\n",
              "      <td>no</td>\n",
              "      <td>northwest</td>\n",
              "      <td>3866.85520</td>\n",
              "    </tr>\n",
              "  </tbody>\n",
              "</table>\n",
              "</div>\n",
              "    <div class=\"colab-df-buttons\">\n",
              "\n",
              "  <div class=\"colab-df-container\">\n",
              "    <button class=\"colab-df-convert\" onclick=\"convertToInteractive('df-bd087d58-f951-4490-83bc-c09340e65b74')\"\n",
              "            title=\"Convert this dataframe to an interactive table.\"\n",
              "            style=\"display:none;\">\n",
              "\n",
              "  <svg xmlns=\"http://www.w3.org/2000/svg\" height=\"24px\" viewBox=\"0 -960 960 960\">\n",
              "    <path d=\"M120-120v-720h720v720H120Zm60-500h600v-160H180v160Zm220 220h160v-160H400v160Zm0 220h160v-160H400v160ZM180-400h160v-160H180v160Zm440 0h160v-160H620v160ZM180-180h160v-160H180v160Zm440 0h160v-160H620v160Z\"/>\n",
              "  </svg>\n",
              "    </button>\n",
              "\n",
              "  <style>\n",
              "    .colab-df-container {\n",
              "      display:flex;\n",
              "      gap: 12px;\n",
              "    }\n",
              "\n",
              "    .colab-df-convert {\n",
              "      background-color: #E8F0FE;\n",
              "      border: none;\n",
              "      border-radius: 50%;\n",
              "      cursor: pointer;\n",
              "      display: none;\n",
              "      fill: #1967D2;\n",
              "      height: 32px;\n",
              "      padding: 0 0 0 0;\n",
              "      width: 32px;\n",
              "    }\n",
              "\n",
              "    .colab-df-convert:hover {\n",
              "      background-color: #E2EBFA;\n",
              "      box-shadow: 0px 1px 2px rgba(60, 64, 67, 0.3), 0px 1px 3px 1px rgba(60, 64, 67, 0.15);\n",
              "      fill: #174EA6;\n",
              "    }\n",
              "\n",
              "    .colab-df-buttons div {\n",
              "      margin-bottom: 4px;\n",
              "    }\n",
              "\n",
              "    [theme=dark] .colab-df-convert {\n",
              "      background-color: #3B4455;\n",
              "      fill: #D2E3FC;\n",
              "    }\n",
              "\n",
              "    [theme=dark] .colab-df-convert:hover {\n",
              "      background-color: #434B5C;\n",
              "      box-shadow: 0px 1px 3px 1px rgba(0, 0, 0, 0.15);\n",
              "      filter: drop-shadow(0px 1px 2px rgba(0, 0, 0, 0.3));\n",
              "      fill: #FFFFFF;\n",
              "    }\n",
              "  </style>\n",
              "\n",
              "    <script>\n",
              "      const buttonEl =\n",
              "        document.querySelector('#df-bd087d58-f951-4490-83bc-c09340e65b74 button.colab-df-convert');\n",
              "      buttonEl.style.display =\n",
              "        google.colab.kernel.accessAllowed ? 'block' : 'none';\n",
              "\n",
              "      async function convertToInteractive(key) {\n",
              "        const element = document.querySelector('#df-bd087d58-f951-4490-83bc-c09340e65b74');\n",
              "        const dataTable =\n",
              "          await google.colab.kernel.invokeFunction('convertToInteractive',\n",
              "                                                    [key], {});\n",
              "        if (!dataTable) return;\n",
              "\n",
              "        const docLinkHtml = 'Like what you see? Visit the ' +\n",
              "          '<a target=\"_blank\" href=https://colab.research.google.com/notebooks/data_table.ipynb>data table notebook</a>'\n",
              "          + ' to learn more about interactive tables.';\n",
              "        element.innerHTML = '';\n",
              "        dataTable['output_type'] = 'display_data';\n",
              "        await google.colab.output.renderOutput(dataTable, element);\n",
              "        const docLink = document.createElement('div');\n",
              "        docLink.innerHTML = docLinkHtml;\n",
              "        element.appendChild(docLink);\n",
              "      }\n",
              "    </script>\n",
              "  </div>\n",
              "\n",
              "\n",
              "<div id=\"df-2e50d51f-c619-4175-bb44-d24f43de530a\">\n",
              "  <button class=\"colab-df-quickchart\" onclick=\"quickchart('df-2e50d51f-c619-4175-bb44-d24f43de530a')\"\n",
              "            title=\"Suggest charts.\"\n",
              "            style=\"display:none;\">\n",
              "\n",
              "<svg xmlns=\"http://www.w3.org/2000/svg\" height=\"24px\"viewBox=\"0 0 24 24\"\n",
              "     width=\"24px\">\n",
              "    <g>\n",
              "        <path d=\"M19 3H5c-1.1 0-2 .9-2 2v14c0 1.1.9 2 2 2h14c1.1 0 2-.9 2-2V5c0-1.1-.9-2-2-2zM9 17H7v-7h2v7zm4 0h-2V7h2v10zm4 0h-2v-4h2v4z\"/>\n",
              "    </g>\n",
              "</svg>\n",
              "  </button>\n",
              "\n",
              "<style>\n",
              "  .colab-df-quickchart {\n",
              "    background-color: #E8F0FE;\n",
              "    border: none;\n",
              "    border-radius: 50%;\n",
              "    cursor: pointer;\n",
              "    display: none;\n",
              "    fill: #1967D2;\n",
              "    height: 32px;\n",
              "    padding: 0 0 0 0;\n",
              "    width: 32px;\n",
              "  }\n",
              "\n",
              "  .colab-df-quickchart:hover {\n",
              "    background-color: #E2EBFA;\n",
              "    box-shadow: 0px 1px 2px rgba(60, 64, 67, 0.3), 0px 1px 3px 1px rgba(60, 64, 67, 0.15);\n",
              "    fill: #174EA6;\n",
              "  }\n",
              "\n",
              "  [theme=dark] .colab-df-quickchart {\n",
              "    background-color: #3B4455;\n",
              "    fill: #D2E3FC;\n",
              "  }\n",
              "\n",
              "  [theme=dark] .colab-df-quickchart:hover {\n",
              "    background-color: #434B5C;\n",
              "    box-shadow: 0px 1px 3px 1px rgba(0, 0, 0, 0.15);\n",
              "    filter: drop-shadow(0px 1px 2px rgba(0, 0, 0, 0.3));\n",
              "    fill: #FFFFFF;\n",
              "  }\n",
              "</style>\n",
              "\n",
              "  <script>\n",
              "    async function quickchart(key) {\n",
              "      const charts = await google.colab.kernel.invokeFunction(\n",
              "          'suggestCharts', [key], {});\n",
              "    }\n",
              "    (() => {\n",
              "      let quickchartButtonEl =\n",
              "        document.querySelector('#df-2e50d51f-c619-4175-bb44-d24f43de530a button');\n",
              "      quickchartButtonEl.style.display =\n",
              "        google.colab.kernel.accessAllowed ? 'block' : 'none';\n",
              "    })();\n",
              "  </script>\n",
              "</div>\n",
              "    </div>\n",
              "  </div>\n"
            ]
          },
          "metadata": {},
          "execution_count": 7
        }
      ]
    },
    {
      "cell_type": "code",
      "source": [
        "insurance.info()"
      ],
      "metadata": {
        "colab": {
          "base_uri": "https://localhost:8080/"
        },
        "id": "sCS_sUm1NlH5",
        "outputId": "791c1091-faae-42a6-b67d-ebf7de3aceac"
      },
      "execution_count": null,
      "outputs": [
        {
          "output_type": "stream",
          "name": "stdout",
          "text": [
            "<class 'pandas.core.frame.DataFrame'>\n",
            "RangeIndex: 1338 entries, 0 to 1337\n",
            "Data columns (total 7 columns):\n",
            " #   Column    Non-Null Count  Dtype  \n",
            "---  ------    --------------  -----  \n",
            " 0   age       1338 non-null   int64  \n",
            " 1   sex       1338 non-null   object \n",
            " 2   bmi       1338 non-null   float64\n",
            " 3   children  1338 non-null   int64  \n",
            " 4   smoker    1338 non-null   object \n",
            " 5   region    1338 non-null   object \n",
            " 6   charges   1338 non-null   float64\n",
            "dtypes: float64(2), int64(2), object(3)\n",
            "memory usage: 73.3+ KB\n"
          ]
        }
      ]
    },
    {
      "cell_type": "code",
      "source": [
        "# Let's try one hot encoding for the categorical columns\n",
        "insurance_one_hot = pd.get_dummies(insurance)\n",
        "insurance_one_hot.head()"
      ],
      "metadata": {
        "colab": {
          "base_uri": "https://localhost:8080/",
          "height": 206
        },
        "id": "zHbQTNidNlKv",
        "outputId": "1c1d5ec9-69e8-4422-f721-c1aa384b39fe"
      },
      "execution_count": null,
      "outputs": [
        {
          "output_type": "execute_result",
          "data": {
            "text/plain": [
              "   age     bmi  children      charges  sex_female  sex_male  smoker_no  \\\n",
              "0   19  27.900         0  16884.92400           1         0          0   \n",
              "1   18  33.770         1   1725.55230           0         1          1   \n",
              "2   28  33.000         3   4449.46200           0         1          1   \n",
              "3   33  22.705         0  21984.47061           0         1          1   \n",
              "4   32  28.880         0   3866.85520           0         1          1   \n",
              "\n",
              "   smoker_yes  region_northeast  region_northwest  region_southeast  \\\n",
              "0           1                 0                 0                 0   \n",
              "1           0                 0                 0                 1   \n",
              "2           0                 0                 0                 1   \n",
              "3           0                 0                 1                 0   \n",
              "4           0                 0                 1                 0   \n",
              "\n",
              "   region_southwest  \n",
              "0                 1  \n",
              "1                 0  \n",
              "2                 0  \n",
              "3                 0  \n",
              "4                 0  "
            ],
            "text/html": [
              "\n",
              "  <div id=\"df-f8cf5fb8-3d58-42cc-8c17-1895d58f7a46\" class=\"colab-df-container\">\n",
              "    <div>\n",
              "<style scoped>\n",
              "    .dataframe tbody tr th:only-of-type {\n",
              "        vertical-align: middle;\n",
              "    }\n",
              "\n",
              "    .dataframe tbody tr th {\n",
              "        vertical-align: top;\n",
              "    }\n",
              "\n",
              "    .dataframe thead th {\n",
              "        text-align: right;\n",
              "    }\n",
              "</style>\n",
              "<table border=\"1\" class=\"dataframe\">\n",
              "  <thead>\n",
              "    <tr style=\"text-align: right;\">\n",
              "      <th></th>\n",
              "      <th>age</th>\n",
              "      <th>bmi</th>\n",
              "      <th>children</th>\n",
              "      <th>charges</th>\n",
              "      <th>sex_female</th>\n",
              "      <th>sex_male</th>\n",
              "      <th>smoker_no</th>\n",
              "      <th>smoker_yes</th>\n",
              "      <th>region_northeast</th>\n",
              "      <th>region_northwest</th>\n",
              "      <th>region_southeast</th>\n",
              "      <th>region_southwest</th>\n",
              "    </tr>\n",
              "  </thead>\n",
              "  <tbody>\n",
              "    <tr>\n",
              "      <th>0</th>\n",
              "      <td>19</td>\n",
              "      <td>27.900</td>\n",
              "      <td>0</td>\n",
              "      <td>16884.92400</td>\n",
              "      <td>1</td>\n",
              "      <td>0</td>\n",
              "      <td>0</td>\n",
              "      <td>1</td>\n",
              "      <td>0</td>\n",
              "      <td>0</td>\n",
              "      <td>0</td>\n",
              "      <td>1</td>\n",
              "    </tr>\n",
              "    <tr>\n",
              "      <th>1</th>\n",
              "      <td>18</td>\n",
              "      <td>33.770</td>\n",
              "      <td>1</td>\n",
              "      <td>1725.55230</td>\n",
              "      <td>0</td>\n",
              "      <td>1</td>\n",
              "      <td>1</td>\n",
              "      <td>0</td>\n",
              "      <td>0</td>\n",
              "      <td>0</td>\n",
              "      <td>1</td>\n",
              "      <td>0</td>\n",
              "    </tr>\n",
              "    <tr>\n",
              "      <th>2</th>\n",
              "      <td>28</td>\n",
              "      <td>33.000</td>\n",
              "      <td>3</td>\n",
              "      <td>4449.46200</td>\n",
              "      <td>0</td>\n",
              "      <td>1</td>\n",
              "      <td>1</td>\n",
              "      <td>0</td>\n",
              "      <td>0</td>\n",
              "      <td>0</td>\n",
              "      <td>1</td>\n",
              "      <td>0</td>\n",
              "    </tr>\n",
              "    <tr>\n",
              "      <th>3</th>\n",
              "      <td>33</td>\n",
              "      <td>22.705</td>\n",
              "      <td>0</td>\n",
              "      <td>21984.47061</td>\n",
              "      <td>0</td>\n",
              "      <td>1</td>\n",
              "      <td>1</td>\n",
              "      <td>0</td>\n",
              "      <td>0</td>\n",
              "      <td>1</td>\n",
              "      <td>0</td>\n",
              "      <td>0</td>\n",
              "    </tr>\n",
              "    <tr>\n",
              "      <th>4</th>\n",
              "      <td>32</td>\n",
              "      <td>28.880</td>\n",
              "      <td>0</td>\n",
              "      <td>3866.85520</td>\n",
              "      <td>0</td>\n",
              "      <td>1</td>\n",
              "      <td>1</td>\n",
              "      <td>0</td>\n",
              "      <td>0</td>\n",
              "      <td>1</td>\n",
              "      <td>0</td>\n",
              "      <td>0</td>\n",
              "    </tr>\n",
              "  </tbody>\n",
              "</table>\n",
              "</div>\n",
              "    <div class=\"colab-df-buttons\">\n",
              "\n",
              "  <div class=\"colab-df-container\">\n",
              "    <button class=\"colab-df-convert\" onclick=\"convertToInteractive('df-f8cf5fb8-3d58-42cc-8c17-1895d58f7a46')\"\n",
              "            title=\"Convert this dataframe to an interactive table.\"\n",
              "            style=\"display:none;\">\n",
              "\n",
              "  <svg xmlns=\"http://www.w3.org/2000/svg\" height=\"24px\" viewBox=\"0 -960 960 960\">\n",
              "    <path d=\"M120-120v-720h720v720H120Zm60-500h600v-160H180v160Zm220 220h160v-160H400v160Zm0 220h160v-160H400v160ZM180-400h160v-160H180v160Zm440 0h160v-160H620v160ZM180-180h160v-160H180v160Zm440 0h160v-160H620v160Z\"/>\n",
              "  </svg>\n",
              "    </button>\n",
              "\n",
              "  <style>\n",
              "    .colab-df-container {\n",
              "      display:flex;\n",
              "      gap: 12px;\n",
              "    }\n",
              "\n",
              "    .colab-df-convert {\n",
              "      background-color: #E8F0FE;\n",
              "      border: none;\n",
              "      border-radius: 50%;\n",
              "      cursor: pointer;\n",
              "      display: none;\n",
              "      fill: #1967D2;\n",
              "      height: 32px;\n",
              "      padding: 0 0 0 0;\n",
              "      width: 32px;\n",
              "    }\n",
              "\n",
              "    .colab-df-convert:hover {\n",
              "      background-color: #E2EBFA;\n",
              "      box-shadow: 0px 1px 2px rgba(60, 64, 67, 0.3), 0px 1px 3px 1px rgba(60, 64, 67, 0.15);\n",
              "      fill: #174EA6;\n",
              "    }\n",
              "\n",
              "    .colab-df-buttons div {\n",
              "      margin-bottom: 4px;\n",
              "    }\n",
              "\n",
              "    [theme=dark] .colab-df-convert {\n",
              "      background-color: #3B4455;\n",
              "      fill: #D2E3FC;\n",
              "    }\n",
              "\n",
              "    [theme=dark] .colab-df-convert:hover {\n",
              "      background-color: #434B5C;\n",
              "      box-shadow: 0px 1px 3px 1px rgba(0, 0, 0, 0.15);\n",
              "      filter: drop-shadow(0px 1px 2px rgba(0, 0, 0, 0.3));\n",
              "      fill: #FFFFFF;\n",
              "    }\n",
              "  </style>\n",
              "\n",
              "    <script>\n",
              "      const buttonEl =\n",
              "        document.querySelector('#df-f8cf5fb8-3d58-42cc-8c17-1895d58f7a46 button.colab-df-convert');\n",
              "      buttonEl.style.display =\n",
              "        google.colab.kernel.accessAllowed ? 'block' : 'none';\n",
              "\n",
              "      async function convertToInteractive(key) {\n",
              "        const element = document.querySelector('#df-f8cf5fb8-3d58-42cc-8c17-1895d58f7a46');\n",
              "        const dataTable =\n",
              "          await google.colab.kernel.invokeFunction('convertToInteractive',\n",
              "                                                    [key], {});\n",
              "        if (!dataTable) return;\n",
              "\n",
              "        const docLinkHtml = 'Like what you see? Visit the ' +\n",
              "          '<a target=\"_blank\" href=https://colab.research.google.com/notebooks/data_table.ipynb>data table notebook</a>'\n",
              "          + ' to learn more about interactive tables.';\n",
              "        element.innerHTML = '';\n",
              "        dataTable['output_type'] = 'display_data';\n",
              "        await google.colab.output.renderOutput(dataTable, element);\n",
              "        const docLink = document.createElement('div');\n",
              "        docLink.innerHTML = docLinkHtml;\n",
              "        element.appendChild(docLink);\n",
              "      }\n",
              "    </script>\n",
              "  </div>\n",
              "\n",
              "\n",
              "<div id=\"df-58c13d34-3138-42f1-bc61-66ba2d109823\">\n",
              "  <button class=\"colab-df-quickchart\" onclick=\"quickchart('df-58c13d34-3138-42f1-bc61-66ba2d109823')\"\n",
              "            title=\"Suggest charts.\"\n",
              "            style=\"display:none;\">\n",
              "\n",
              "<svg xmlns=\"http://www.w3.org/2000/svg\" height=\"24px\"viewBox=\"0 0 24 24\"\n",
              "     width=\"24px\">\n",
              "    <g>\n",
              "        <path d=\"M19 3H5c-1.1 0-2 .9-2 2v14c0 1.1.9 2 2 2h14c1.1 0 2-.9 2-2V5c0-1.1-.9-2-2-2zM9 17H7v-7h2v7zm4 0h-2V7h2v10zm4 0h-2v-4h2v4z\"/>\n",
              "    </g>\n",
              "</svg>\n",
              "  </button>\n",
              "\n",
              "<style>\n",
              "  .colab-df-quickchart {\n",
              "    background-color: #E8F0FE;\n",
              "    border: none;\n",
              "    border-radius: 50%;\n",
              "    cursor: pointer;\n",
              "    display: none;\n",
              "    fill: #1967D2;\n",
              "    height: 32px;\n",
              "    padding: 0 0 0 0;\n",
              "    width: 32px;\n",
              "  }\n",
              "\n",
              "  .colab-df-quickchart:hover {\n",
              "    background-color: #E2EBFA;\n",
              "    box-shadow: 0px 1px 2px rgba(60, 64, 67, 0.3), 0px 1px 3px 1px rgba(60, 64, 67, 0.15);\n",
              "    fill: #174EA6;\n",
              "  }\n",
              "\n",
              "  [theme=dark] .colab-df-quickchart {\n",
              "    background-color: #3B4455;\n",
              "    fill: #D2E3FC;\n",
              "  }\n",
              "\n",
              "  [theme=dark] .colab-df-quickchart:hover {\n",
              "    background-color: #434B5C;\n",
              "    box-shadow: 0px 1px 3px 1px rgba(0, 0, 0, 0.15);\n",
              "    filter: drop-shadow(0px 1px 2px rgba(0, 0, 0, 0.3));\n",
              "    fill: #FFFFFF;\n",
              "  }\n",
              "</style>\n",
              "\n",
              "  <script>\n",
              "    async function quickchart(key) {\n",
              "      const charts = await google.colab.kernel.invokeFunction(\n",
              "          'suggestCharts', [key], {});\n",
              "    }\n",
              "    (() => {\n",
              "      let quickchartButtonEl =\n",
              "        document.querySelector('#df-58c13d34-3138-42f1-bc61-66ba2d109823 button');\n",
              "      quickchartButtonEl.style.display =\n",
              "        google.colab.kernel.accessAllowed ? 'block' : 'none';\n",
              "    })();\n",
              "  </script>\n",
              "</div>\n",
              "    </div>\n",
              "  </div>\n"
            ]
          },
          "metadata": {},
          "execution_count": 9
        }
      ]
    },
    {
      "cell_type": "code",
      "source": [
        "# Create X & y (features and labels)\n",
        "\n",
        "X = insurance_one_hot.drop('charges', axis = 1)\n",
        "y = insurance_one_hot.charges"
      ],
      "metadata": {
        "id": "NoZEhY__XoqE"
      },
      "execution_count": null,
      "outputs": []
    },
    {
      "cell_type": "code",
      "source": [
        "N,d = X.shape\n",
        "N, d"
      ],
      "metadata": {
        "colab": {
          "base_uri": "https://localhost:8080/"
        },
        "id": "ToLA734bZfD2",
        "outputId": "c8f81600-e4e3-47fe-82a7-07697dbc87d4"
      },
      "execution_count": null,
      "outputs": [
        {
          "output_type": "execute_result",
          "data": {
            "text/plain": [
              "(1338, 11)"
            ]
          },
          "metadata": {},
          "execution_count": 11
        }
      ]
    },
    {
      "cell_type": "code",
      "source": [
        "# Creating Train and test set\n",
        "from sklearn.model_selection import train_test_split\n",
        "X_train, X_test, y_train, y_test = train_test_split(X, y, test_size = 0.2, random_state = 42)"
      ],
      "metadata": {
        "id": "OBGIkRREZ99d"
      },
      "execution_count": null,
      "outputs": []
    },
    {
      "cell_type": "code",
      "source": [
        "X_train.shape"
      ],
      "metadata": {
        "colab": {
          "base_uri": "https://localhost:8080/"
        },
        "id": "-2eI_v2DbkGU",
        "outputId": "5c0960ac-f20d-4d80-8a16-25ec9a56962c"
      },
      "execution_count": null,
      "outputs": [
        {
          "output_type": "execute_result",
          "data": {
            "text/plain": [
              "(1070, 11)"
            ]
          },
          "metadata": {},
          "execution_count": 13
        }
      ]
    },
    {
      "cell_type": "code",
      "source": [
        "# Build a Linear regression Neural Network\n",
        "# 1. Set Seed\n",
        "tf.random.set_seed(42)\n",
        "\n",
        "# 2. Setting up the model\n",
        "insurance_model = tf.keras.models.Sequential([\n",
        "    tf.keras.layers.Dense(10),\n",
        "    tf.keras.layers.Dense(1)])\n",
        "\n",
        "# 3. Compile the model\n",
        "insurance_model.compile(loss = 'mae',\n",
        "                         optimizer = tf.keras.optimizers.SGD(),\n",
        "                         metrics = ['mae'])\n",
        "\n",
        "# 4. Fit the model\n",
        "insurance_model.fit(X_train, y_train, epochs = 100)\n"
      ],
      "metadata": {
        "colab": {
          "base_uri": "https://localhost:8080/"
        },
        "id": "XORJOvu6YUxE",
        "outputId": "cea30275-fe23-4fd2-f76f-102568d4459d"
      },
      "execution_count": null,
      "outputs": [
        {
          "output_type": "stream",
          "name": "stdout",
          "text": [
            "Epoch 1/100\n",
            "34/34 [==============================] - 1s 1ms/step - loss: 8535.4023 - mae: 8535.4023\n",
            "Epoch 2/100\n",
            "34/34 [==============================] - 0s 931us/step - loss: 7887.2065 - mae: 7887.2065\n",
            "Epoch 3/100\n",
            "34/34 [==============================] - 0s 931us/step - loss: 7531.9653 - mae: 7531.9653\n",
            "Epoch 4/100\n",
            "34/34 [==============================] - 0s 1ms/step - loss: 7692.1250 - mae: 7692.1250\n",
            "Epoch 5/100\n",
            "34/34 [==============================] - 0s 900us/step - loss: 7748.5259 - mae: 7748.5259\n",
            "Epoch 6/100\n",
            "34/34 [==============================] - 0s 1ms/step - loss: 7619.2397 - mae: 7619.2397\n",
            "Epoch 7/100\n",
            "34/34 [==============================] - 0s 970us/step - loss: 7651.2686 - mae: 7651.2686\n",
            "Epoch 8/100\n",
            "34/34 [==============================] - 0s 1ms/step - loss: 7752.2300 - mae: 7752.2300\n",
            "Epoch 9/100\n",
            "34/34 [==============================] - 0s 922us/step - loss: 7512.7563 - mae: 7512.7563\n",
            "Epoch 10/100\n",
            "34/34 [==============================] - 0s 991us/step - loss: 7761.5889 - mae: 7761.5889\n",
            "Epoch 11/100\n",
            "34/34 [==============================] - 0s 985us/step - loss: 7440.8047 - mae: 7440.8047\n",
            "Epoch 12/100\n",
            "34/34 [==============================] - 0s 1ms/step - loss: 7656.4780 - mae: 7656.4780\n",
            "Epoch 13/100\n",
            "34/34 [==============================] - 0s 1ms/step - loss: 7561.6479 - mae: 7561.6479\n",
            "Epoch 14/100\n",
            "34/34 [==============================] - 0s 1ms/step - loss: 7753.7749 - mae: 7753.7749\n",
            "Epoch 15/100\n",
            "34/34 [==============================] - 0s 969us/step - loss: 7649.6455 - mae: 7649.6455\n",
            "Epoch 16/100\n",
            "34/34 [==============================] - 0s 971us/step - loss: 7704.5938 - mae: 7704.5938\n",
            "Epoch 17/100\n",
            "34/34 [==============================] - 0s 1ms/step - loss: 7640.6748 - mae: 7640.6748\n",
            "Epoch 18/100\n",
            "34/34 [==============================] - 0s 1ms/step - loss: 7820.0923 - mae: 7820.0923\n",
            "Epoch 19/100\n",
            "34/34 [==============================] - 0s 1ms/step - loss: 7599.3291 - mae: 7599.3291\n",
            "Epoch 20/100\n",
            "34/34 [==============================] - 0s 939us/step - loss: 7902.1328 - mae: 7902.1328\n",
            "Epoch 21/100\n",
            "34/34 [==============================] - 0s 929us/step - loss: 7568.1089 - mae: 7568.1089\n",
            "Epoch 22/100\n",
            "34/34 [==============================] - 0s 1ms/step - loss: 7773.7466 - mae: 7773.7466\n",
            "Epoch 23/100\n",
            "34/34 [==============================] - 0s 1ms/step - loss: 7657.9795 - mae: 7657.9790\n",
            "Epoch 24/100\n",
            "34/34 [==============================] - 0s 1ms/step - loss: 7530.1069 - mae: 7530.1069\n",
            "Epoch 25/100\n",
            "34/34 [==============================] - 0s 942us/step - loss: 7552.1230 - mae: 7552.1230\n",
            "Epoch 26/100\n",
            "34/34 [==============================] - 0s 1ms/step - loss: 7701.4072 - mae: 7701.4072\n",
            "Epoch 27/100\n",
            "34/34 [==============================] - 0s 1ms/step - loss: 7691.1787 - mae: 7691.1787\n",
            "Epoch 28/100\n",
            "34/34 [==============================] - 0s 1ms/step - loss: 7421.6865 - mae: 7421.6865\n",
            "Epoch 29/100\n",
            "34/34 [==============================] - 0s 981us/step - loss: 7691.1299 - mae: 7691.1299\n",
            "Epoch 30/100\n",
            "34/34 [==============================] - 0s 1ms/step - loss: 7505.3745 - mae: 7505.3745\n",
            "Epoch 31/100\n",
            "34/34 [==============================] - 0s 982us/step - loss: 7721.9058 - mae: 7721.9058\n",
            "Epoch 32/100\n",
            "34/34 [==============================] - 0s 920us/step - loss: 7424.0225 - mae: 7424.0225\n",
            "Epoch 33/100\n",
            "34/34 [==============================] - 0s 1ms/step - loss: 7444.5044 - mae: 7444.5044\n",
            "Epoch 34/100\n",
            "34/34 [==============================] - 0s 884us/step - loss: 7497.7319 - mae: 7497.7319\n",
            "Epoch 35/100\n",
            "34/34 [==============================] - 0s 935us/step - loss: 7599.4873 - mae: 7599.4873\n",
            "Epoch 36/100\n",
            "34/34 [==============================] - 0s 998us/step - loss: 7565.9185 - mae: 7565.9185\n",
            "Epoch 37/100\n",
            "34/34 [==============================] - 0s 946us/step - loss: 7541.1577 - mae: 7541.1577\n",
            "Epoch 38/100\n",
            "34/34 [==============================] - 0s 907us/step - loss: 7406.7959 - mae: 7406.7959\n",
            "Epoch 39/100\n",
            "34/34 [==============================] - 0s 989us/step - loss: 7536.9395 - mae: 7536.9395\n",
            "Epoch 40/100\n",
            "34/34 [==============================] - 0s 955us/step - loss: 7376.0376 - mae: 7376.0376\n",
            "Epoch 41/100\n",
            "34/34 [==============================] - 0s 987us/step - loss: 7730.4404 - mae: 7730.4404\n",
            "Epoch 42/100\n",
            "34/34 [==============================] - 0s 863us/step - loss: 7315.6821 - mae: 7315.6821\n",
            "Epoch 43/100\n",
            "34/34 [==============================] - 0s 896us/step - loss: 7609.0161 - mae: 7609.0161\n",
            "Epoch 44/100\n",
            "34/34 [==============================] - 0s 881us/step - loss: 7456.1328 - mae: 7456.1328\n",
            "Epoch 45/100\n",
            "34/34 [==============================] - 0s 903us/step - loss: 7524.7866 - mae: 7524.7866\n",
            "Epoch 46/100\n",
            "34/34 [==============================] - 0s 921us/step - loss: 7406.9346 - mae: 7406.9346\n",
            "Epoch 47/100\n",
            "34/34 [==============================] - 0s 917us/step - loss: 7496.1797 - mae: 7496.1797\n",
            "Epoch 48/100\n",
            "34/34 [==============================] - 0s 970us/step - loss: 7460.8892 - mae: 7460.8892\n",
            "Epoch 49/100\n",
            "34/34 [==============================] - 0s 1ms/step - loss: 7558.2256 - mae: 7558.2256\n",
            "Epoch 50/100\n",
            "34/34 [==============================] - 0s 1ms/step - loss: 7488.0459 - mae: 7488.0459\n",
            "Epoch 51/100\n",
            "34/34 [==============================] - 0s 1ms/step - loss: 7363.4082 - mae: 7363.4082\n",
            "Epoch 52/100\n",
            "34/34 [==============================] - 0s 1ms/step - loss: 7549.2544 - mae: 7549.2544\n",
            "Epoch 53/100\n",
            "34/34 [==============================] - 0s 1ms/step - loss: 7569.4644 - mae: 7569.4644\n",
            "Epoch 54/100\n",
            "34/34 [==============================] - 0s 1ms/step - loss: 7288.6763 - mae: 7288.6763\n",
            "Epoch 55/100\n",
            "34/34 [==============================] - 0s 925us/step - loss: 7387.8091 - mae: 7387.8091\n",
            "Epoch 56/100\n",
            "34/34 [==============================] - 0s 876us/step - loss: 7385.0498 - mae: 7385.0498\n",
            "Epoch 57/100\n",
            "34/34 [==============================] - 0s 891us/step - loss: 7382.1821 - mae: 7382.1821\n",
            "Epoch 58/100\n",
            "34/34 [==============================] - 0s 971us/step - loss: 7566.9048 - mae: 7566.9048\n",
            "Epoch 59/100\n",
            "34/34 [==============================] - 0s 1ms/step - loss: 7683.8979 - mae: 7683.8979\n",
            "Epoch 60/100\n",
            "34/34 [==============================] - 0s 1ms/step - loss: 7360.3354 - mae: 7360.3354\n",
            "Epoch 61/100\n",
            "34/34 [==============================] - 0s 942us/step - loss: 7433.0776 - mae: 7433.0776\n",
            "Epoch 62/100\n",
            "34/34 [==============================] - 0s 911us/step - loss: 7258.8647 - mae: 7258.8647\n",
            "Epoch 63/100\n",
            "34/34 [==============================] - 0s 899us/step - loss: 7373.4697 - mae: 7373.4697\n",
            "Epoch 64/100\n",
            "34/34 [==============================] - 0s 847us/step - loss: 7328.4390 - mae: 7328.4390\n",
            "Epoch 65/100\n",
            "34/34 [==============================] - 0s 881us/step - loss: 7421.1426 - mae: 7421.1426\n",
            "Epoch 66/100\n",
            "34/34 [==============================] - 0s 889us/step - loss: 7531.0503 - mae: 7531.0503\n",
            "Epoch 67/100\n",
            "34/34 [==============================] - 0s 945us/step - loss: 7348.4780 - mae: 7348.4780\n",
            "Epoch 68/100\n",
            "34/34 [==============================] - 0s 895us/step - loss: 7436.5273 - mae: 7436.5273\n",
            "Epoch 69/100\n",
            "34/34 [==============================] - 0s 984us/step - loss: 7383.2305 - mae: 7383.2305\n",
            "Epoch 70/100\n",
            "34/34 [==============================] - 0s 1ms/step - loss: 7539.6338 - mae: 7539.6338\n",
            "Epoch 71/100\n",
            "34/34 [==============================] - 0s 943us/step - loss: 7211.1685 - mae: 7211.1685\n",
            "Epoch 72/100\n",
            "34/34 [==============================] - 0s 938us/step - loss: 7257.2446 - mae: 7257.2446\n",
            "Epoch 73/100\n",
            "34/34 [==============================] - 0s 949us/step - loss: 7343.4199 - mae: 7343.4199\n",
            "Epoch 74/100\n",
            "34/34 [==============================] - 0s 972us/step - loss: 7394.0386 - mae: 7394.0386\n",
            "Epoch 75/100\n",
            "34/34 [==============================] - 0s 1ms/step - loss: 7105.0342 - mae: 7105.0342\n",
            "Epoch 76/100\n",
            "34/34 [==============================] - 0s 1ms/step - loss: 7235.9160 - mae: 7235.9160\n",
            "Epoch 77/100\n",
            "34/34 [==============================] - 0s 1ms/step - loss: 7271.1289 - mae: 7271.1289\n",
            "Epoch 78/100\n",
            "34/34 [==============================] - 0s 1ms/step - loss: 7081.0586 - mae: 7081.0586\n",
            "Epoch 79/100\n",
            "34/34 [==============================] - 0s 1ms/step - loss: 7472.1704 - mae: 7472.1704\n",
            "Epoch 80/100\n",
            "34/34 [==============================] - 0s 1ms/step - loss: 7097.9561 - mae: 7097.9561\n",
            "Epoch 81/100\n",
            "34/34 [==============================] - 0s 1ms/step - loss: 7211.9976 - mae: 7211.9976\n",
            "Epoch 82/100\n",
            "34/34 [==============================] - 0s 1ms/step - loss: 7170.9023 - mae: 7170.9023\n",
            "Epoch 83/100\n",
            "34/34 [==============================] - 0s 1ms/step - loss: 7230.2373 - mae: 7230.2373\n",
            "Epoch 84/100\n",
            "34/34 [==============================] - 0s 1ms/step - loss: 7338.7148 - mae: 7338.7148\n",
            "Epoch 85/100\n",
            "34/34 [==============================] - 0s 1ms/step - loss: 7352.3110 - mae: 7352.3110\n",
            "Epoch 86/100\n",
            "34/34 [==============================] - 0s 1ms/step - loss: 7504.3735 - mae: 7504.3735\n",
            "Epoch 87/100\n",
            "34/34 [==============================] - 0s 1ms/step - loss: 7205.7158 - mae: 7205.7158\n",
            "Epoch 88/100\n",
            "34/34 [==============================] - 0s 1ms/step - loss: 7318.1895 - mae: 7318.1895\n",
            "Epoch 89/100\n",
            "34/34 [==============================] - 0s 1ms/step - loss: 7310.5337 - mae: 7310.5337\n",
            "Epoch 90/100\n",
            "34/34 [==============================] - 0s 1ms/step - loss: 7325.9688 - mae: 7325.9688\n",
            "Epoch 91/100\n",
            "34/34 [==============================] - 0s 1ms/step - loss: 7149.4629 - mae: 7149.4629\n",
            "Epoch 92/100\n",
            "34/34 [==============================] - 0s 1ms/step - loss: 7363.9014 - mae: 7363.9014\n",
            "Epoch 93/100\n",
            "34/34 [==============================] - 0s 1ms/step - loss: 7461.7544 - mae: 7461.7544\n",
            "Epoch 94/100\n",
            "34/34 [==============================] - 0s 1ms/step - loss: 7197.7046 - mae: 7197.7046\n",
            "Epoch 95/100\n",
            "34/34 [==============================] - 0s 1ms/step - loss: 7459.4419 - mae: 7459.4419\n",
            "Epoch 96/100\n",
            "34/34 [==============================] - 0s 1ms/step - loss: 7218.2876 - mae: 7218.2876\n",
            "Epoch 97/100\n",
            "34/34 [==============================] - 0s 1ms/step - loss: 7121.0312 - mae: 7121.0312\n",
            "Epoch 98/100\n",
            "34/34 [==============================] - 0s 1ms/step - loss: 7356.4453 - mae: 7356.4453\n",
            "Epoch 99/100\n",
            "34/34 [==============================] - 0s 1ms/step - loss: 7154.8340 - mae: 7154.8340\n",
            "Epoch 100/100\n",
            "34/34 [==============================] - 0s 1ms/step - loss: 7104.5962 - mae: 7104.5962\n"
          ]
        },
        {
          "output_type": "execute_result",
          "data": {
            "text/plain": [
              "<keras.callbacks.History at 0x79a2c0c66980>"
            ]
          },
          "metadata": {},
          "execution_count": 14
        }
      ]
    },
    {
      "cell_type": "code",
      "source": [
        "insurance_model.evaluate(X_test,y_test)"
      ],
      "metadata": {
        "colab": {
          "base_uri": "https://localhost:8080/"
        },
        "id": "TWpqZ7reazyB",
        "outputId": "10501144-1ba7-4f45-fec7-4bd48d008dba"
      },
      "execution_count": null,
      "outputs": [
        {
          "output_type": "stream",
          "name": "stdout",
          "text": [
            "9/9 [==============================] - 0s 2ms/step - loss: 8255.8877 - mae: 8255.8877\n"
          ]
        },
        {
          "output_type": "execute_result",
          "data": {
            "text/plain": [
              "[8255.8876953125, 8255.8876953125]"
            ]
          },
          "metadata": {},
          "execution_count": 15
        }
      ]
    },
    {
      "cell_type": "markdown",
      "source": [
        "### Experiments to improve the model\n",
        "\n",
        "1. Add extra layer with more hidden units\n",
        "2. Train for longer\n",
        "3. Adhoc own experiments"
      ],
      "metadata": {
        "id": "MRFOFWAReVtj"
      }
    },
    {
      "cell_type": "markdown",
      "source": [
        "Right now it looks like our model didn't quite performed well.. Let's improve our model"
      ],
      "metadata": {
        "id": "dYP32V54dnUu"
      }
    },
    {
      "cell_type": "code",
      "source": [
        "# Improved model_1\n",
        "# 1. Set Seed\n",
        "tf.random.set_seed(42)\n",
        "\n",
        "# 2. Setting up the model\n",
        "insurance_model_1 = tf.keras.models.Sequential([\n",
        "    tf.keras.layers.Dense(100),\n",
        "    tf.keras.layers.Dense(10),\n",
        "    tf.keras.layers.Dense(1)\n",
        "])\n",
        "\n",
        "# 3. Compile the model\n",
        "insurance_model_1.compile(loss = 'mae',\n",
        "                         optimizer = tf.keras.optimizers.Adam(),\n",
        "                         metrics = ['mae'])\n",
        "\n",
        "# 4. Fit the model\n",
        "insurance_model_1.fit(X_train, y_train, epochs = 100, verbose = 1)"
      ],
      "metadata": {
        "colab": {
          "base_uri": "https://localhost:8080/"
        },
        "id": "nRTrdcVoeLue",
        "outputId": "3041f476-82a0-47d8-9798-4a499af9dc1f"
      },
      "execution_count": null,
      "outputs": [
        {
          "output_type": "stream",
          "name": "stdout",
          "text": [
            "Epoch 1/100\n",
            "34/34 [==============================] - 1s 1ms/step - loss: 13305.0215 - mae: 13305.0215\n",
            "Epoch 2/100\n",
            "34/34 [==============================] - 0s 1ms/step - loss: 13163.7070 - mae: 13163.7070\n",
            "Epoch 3/100\n",
            "34/34 [==============================] - 0s 1ms/step - loss: 12857.9424 - mae: 12857.9424\n",
            "Epoch 4/100\n",
            "34/34 [==============================] - 0s 1ms/step - loss: 12240.4883 - mae: 12240.4883\n",
            "Epoch 5/100\n",
            "34/34 [==============================] - 0s 1ms/step - loss: 11170.0850 - mae: 11170.0850\n",
            "Epoch 6/100\n",
            "34/34 [==============================] - 0s 1ms/step - loss: 9727.0723 - mae: 9727.0723\n",
            "Epoch 7/100\n",
            "34/34 [==============================] - 0s 1ms/step - loss: 8328.8398 - mae: 8328.8398\n",
            "Epoch 8/100\n",
            "34/34 [==============================] - 0s 1ms/step - loss: 7575.3867 - mae: 7575.3867\n",
            "Epoch 9/100\n",
            "34/34 [==============================] - 0s 1ms/step - loss: 7428.8296 - mae: 7428.8296\n",
            "Epoch 10/100\n",
            "34/34 [==============================] - 0s 1ms/step - loss: 7406.5591 - mae: 7406.5591\n",
            "Epoch 11/100\n",
            "34/34 [==============================] - 0s 2ms/step - loss: 7387.6387 - mae: 7387.6387\n",
            "Epoch 12/100\n",
            "34/34 [==============================] - 0s 2ms/step - loss: 7366.1104 - mae: 7366.1104\n",
            "Epoch 13/100\n",
            "34/34 [==============================] - 0s 1ms/step - loss: 7345.9746 - mae: 7345.9746\n",
            "Epoch 14/100\n",
            "34/34 [==============================] - 0s 1ms/step - loss: 7323.8745 - mae: 7323.8745\n",
            "Epoch 15/100\n",
            "34/34 [==============================] - 0s 1ms/step - loss: 7304.9062 - mae: 7304.9062\n",
            "Epoch 16/100\n",
            "34/34 [==============================] - 0s 1ms/step - loss: 7283.0015 - mae: 7283.0015\n",
            "Epoch 17/100\n",
            "34/34 [==============================] - 0s 1ms/step - loss: 7262.6865 - mae: 7262.6865\n",
            "Epoch 18/100\n",
            "34/34 [==============================] - 0s 2ms/step - loss: 7239.1089 - mae: 7239.1089\n",
            "Epoch 19/100\n",
            "34/34 [==============================] - 0s 1ms/step - loss: 7216.4648 - mae: 7216.4648\n",
            "Epoch 20/100\n",
            "34/34 [==============================] - 0s 1ms/step - loss: 7192.5898 - mae: 7192.5898\n",
            "Epoch 21/100\n",
            "34/34 [==============================] - 0s 1ms/step - loss: 7173.7446 - mae: 7173.7446\n",
            "Epoch 22/100\n",
            "34/34 [==============================] - 0s 1ms/step - loss: 7145.0317 - mae: 7145.0317\n",
            "Epoch 23/100\n",
            "34/34 [==============================] - 0s 1ms/step - loss: 7119.3760 - mae: 7119.3760\n",
            "Epoch 24/100\n",
            "34/34 [==============================] - 0s 1ms/step - loss: 7093.3032 - mae: 7093.3032\n",
            "Epoch 25/100\n",
            "34/34 [==============================] - 0s 1ms/step - loss: 7074.3477 - mae: 7074.3477\n",
            "Epoch 26/100\n",
            "34/34 [==============================] - 0s 1ms/step - loss: 7041.2427 - mae: 7041.2427\n",
            "Epoch 27/100\n",
            "34/34 [==============================] - 0s 1ms/step - loss: 7011.8584 - mae: 7011.8584\n",
            "Epoch 28/100\n",
            "34/34 [==============================] - 0s 1ms/step - loss: 6982.4736 - mae: 6982.4736\n",
            "Epoch 29/100\n",
            "34/34 [==============================] - 0s 1ms/step - loss: 6953.0728 - mae: 6953.0728\n",
            "Epoch 30/100\n",
            "34/34 [==============================] - 0s 1ms/step - loss: 6924.1621 - mae: 6924.1621\n",
            "Epoch 31/100\n",
            "34/34 [==============================] - 0s 1ms/step - loss: 6892.3022 - mae: 6892.3022\n",
            "Epoch 32/100\n",
            "34/34 [==============================] - 0s 1ms/step - loss: 6863.0879 - mae: 6863.0879\n",
            "Epoch 33/100\n",
            "34/34 [==============================] - 0s 1ms/step - loss: 6830.2881 - mae: 6830.2881\n",
            "Epoch 34/100\n",
            "34/34 [==============================] - 0s 1ms/step - loss: 6797.6094 - mae: 6797.6094\n",
            "Epoch 35/100\n",
            "34/34 [==============================] - 0s 1ms/step - loss: 6762.0767 - mae: 6762.0767\n",
            "Epoch 36/100\n",
            "34/34 [==============================] - 0s 1ms/step - loss: 6727.4639 - mae: 6727.4639\n",
            "Epoch 37/100\n",
            "34/34 [==============================] - 0s 1ms/step - loss: 6690.1387 - mae: 6690.1387\n",
            "Epoch 38/100\n",
            "34/34 [==============================] - 0s 1ms/step - loss: 6659.8896 - mae: 6659.8896\n",
            "Epoch 39/100\n",
            "34/34 [==============================] - 0s 1ms/step - loss: 6621.5327 - mae: 6621.5327\n",
            "Epoch 40/100\n",
            "34/34 [==============================] - 0s 1ms/step - loss: 6587.1709 - mae: 6587.1709\n",
            "Epoch 41/100\n",
            "34/34 [==============================] - 0s 1ms/step - loss: 6556.8999 - mae: 6556.8999\n",
            "Epoch 42/100\n",
            "34/34 [==============================] - 0s 1ms/step - loss: 6534.3154 - mae: 6534.3154\n",
            "Epoch 43/100\n",
            "34/34 [==============================] - 0s 1ms/step - loss: 6508.7583 - mae: 6508.7583\n",
            "Epoch 44/100\n",
            "34/34 [==============================] - 0s 1ms/step - loss: 6486.7056 - mae: 6486.7056\n",
            "Epoch 45/100\n",
            "34/34 [==============================] - 0s 1ms/step - loss: 6478.6362 - mae: 6478.6362\n",
            "Epoch 46/100\n",
            "34/34 [==============================] - 0s 1ms/step - loss: 6459.2100 - mae: 6459.2100\n",
            "Epoch 47/100\n",
            "34/34 [==============================] - 0s 1ms/step - loss: 6443.1143 - mae: 6443.1143\n",
            "Epoch 48/100\n",
            "34/34 [==============================] - 0s 1ms/step - loss: 6429.3794 - mae: 6429.3794\n",
            "Epoch 49/100\n",
            "34/34 [==============================] - 0s 1ms/step - loss: 6417.0063 - mae: 6417.0063\n",
            "Epoch 50/100\n",
            "34/34 [==============================] - 0s 1ms/step - loss: 6402.8159 - mae: 6402.8159\n",
            "Epoch 51/100\n",
            "34/34 [==============================] - 0s 1ms/step - loss: 6389.5874 - mae: 6389.5874\n",
            "Epoch 52/100\n",
            "34/34 [==============================] - 0s 1ms/step - loss: 6378.0542 - mae: 6378.0542\n",
            "Epoch 53/100\n",
            "34/34 [==============================] - 0s 1ms/step - loss: 6363.1177 - mae: 6363.1177\n",
            "Epoch 54/100\n",
            "34/34 [==============================] - 0s 2ms/step - loss: 6349.4893 - mae: 6349.4893\n",
            "Epoch 55/100\n",
            "34/34 [==============================] - 0s 1ms/step - loss: 6335.6465 - mae: 6335.6465\n",
            "Epoch 56/100\n",
            "34/34 [==============================] - 0s 1ms/step - loss: 6321.9170 - mae: 6321.9170\n",
            "Epoch 57/100\n",
            "34/34 [==============================] - 0s 1ms/step - loss: 6308.5776 - mae: 6308.5776\n",
            "Epoch 58/100\n",
            "34/34 [==============================] - 0s 1ms/step - loss: 6294.7583 - mae: 6294.7583\n",
            "Epoch 59/100\n",
            "34/34 [==============================] - 0s 1ms/step - loss: 6278.9600 - mae: 6278.9600\n",
            "Epoch 60/100\n",
            "34/34 [==============================] - 0s 1ms/step - loss: 6268.5742 - mae: 6268.5742\n",
            "Epoch 61/100\n",
            "34/34 [==============================] - 0s 1ms/step - loss: 6248.4214 - mae: 6248.4214\n",
            "Epoch 62/100\n",
            "34/34 [==============================] - 0s 1ms/step - loss: 6235.9678 - mae: 6235.9678\n",
            "Epoch 63/100\n",
            "34/34 [==============================] - 0s 1ms/step - loss: 6217.3789 - mae: 6217.3789\n",
            "Epoch 64/100\n",
            "34/34 [==============================] - 0s 1ms/step - loss: 6199.9780 - mae: 6199.9780\n",
            "Epoch 65/100\n",
            "34/34 [==============================] - 0s 1ms/step - loss: 6182.7861 - mae: 6182.7861\n",
            "Epoch 66/100\n",
            "34/34 [==============================] - 0s 1ms/step - loss: 6165.2319 - mae: 6165.2319\n",
            "Epoch 67/100\n",
            "34/34 [==============================] - 0s 1ms/step - loss: 6152.1904 - mae: 6152.1904\n",
            "Epoch 68/100\n",
            "34/34 [==============================] - 0s 1ms/step - loss: 6129.7954 - mae: 6129.7954\n",
            "Epoch 69/100\n",
            "34/34 [==============================] - 0s 1ms/step - loss: 6112.9644 - mae: 6112.9644\n",
            "Epoch 70/100\n",
            "34/34 [==============================] - 0s 1ms/step - loss: 6092.2617 - mae: 6092.2617\n",
            "Epoch 71/100\n",
            "34/34 [==============================] - 0s 1ms/step - loss: 6072.2671 - mae: 6072.2671\n",
            "Epoch 72/100\n",
            "34/34 [==============================] - 0s 1ms/step - loss: 6053.3062 - mae: 6053.3062\n",
            "Epoch 73/100\n",
            "34/34 [==============================] - 0s 1ms/step - loss: 6037.9517 - mae: 6037.9517\n",
            "Epoch 74/100\n",
            "34/34 [==============================] - 0s 1ms/step - loss: 6009.7773 - mae: 6009.7773\n",
            "Epoch 75/100\n",
            "34/34 [==============================] - 0s 1ms/step - loss: 5987.4268 - mae: 5987.4268\n",
            "Epoch 76/100\n",
            "34/34 [==============================] - 0s 1ms/step - loss: 5973.6040 - mae: 5973.6040\n",
            "Epoch 77/100\n",
            "34/34 [==============================] - 0s 1ms/step - loss: 5939.8521 - mae: 5939.8521\n",
            "Epoch 78/100\n",
            "34/34 [==============================] - 0s 1ms/step - loss: 5915.9487 - mae: 5915.9487\n",
            "Epoch 79/100\n",
            "34/34 [==============================] - 0s 1ms/step - loss: 5890.9839 - mae: 5890.9839\n",
            "Epoch 80/100\n",
            "34/34 [==============================] - 0s 1ms/step - loss: 5862.6997 - mae: 5862.6997\n",
            "Epoch 81/100\n",
            "34/34 [==============================] - 0s 1ms/step - loss: 5836.6255 - mae: 5836.6255\n",
            "Epoch 82/100\n",
            "34/34 [==============================] - 0s 1ms/step - loss: 5807.0669 - mae: 5807.0669\n",
            "Epoch 83/100\n",
            "34/34 [==============================] - 0s 1ms/step - loss: 5779.1509 - mae: 5779.1509\n",
            "Epoch 84/100\n",
            "34/34 [==============================] - 0s 1ms/step - loss: 5744.5718 - mae: 5744.5718\n",
            "Epoch 85/100\n",
            "34/34 [==============================] - 0s 1ms/step - loss: 5718.9766 - mae: 5718.9766\n",
            "Epoch 86/100\n",
            "34/34 [==============================] - 0s 1ms/step - loss: 5683.4038 - mae: 5683.4038\n",
            "Epoch 87/100\n",
            "34/34 [==============================] - 0s 1ms/step - loss: 5644.3389 - mae: 5644.3389\n",
            "Epoch 88/100\n",
            "34/34 [==============================] - 0s 1ms/step - loss: 5608.4302 - mae: 5608.4302\n",
            "Epoch 89/100\n",
            "34/34 [==============================] - 0s 1ms/step - loss: 5569.8037 - mae: 5569.8037\n",
            "Epoch 90/100\n",
            "34/34 [==============================] - 0s 1ms/step - loss: 5527.0928 - mae: 5527.0928\n",
            "Epoch 91/100\n",
            "34/34 [==============================] - 0s 1ms/step - loss: 5489.6226 - mae: 5489.6226\n",
            "Epoch 92/100\n",
            "34/34 [==============================] - 0s 1ms/step - loss: 5439.4937 - mae: 5439.4937\n",
            "Epoch 93/100\n",
            "34/34 [==============================] - 0s 1ms/step - loss: 5396.5400 - mae: 5396.5400\n",
            "Epoch 94/100\n",
            "34/34 [==============================] - 0s 1ms/step - loss: 5348.3931 - mae: 5348.3931\n",
            "Epoch 95/100\n",
            "34/34 [==============================] - 0s 1ms/step - loss: 5296.3965 - mae: 5296.3965\n",
            "Epoch 96/100\n",
            "34/34 [==============================] - 0s 1ms/step - loss: 5249.4375 - mae: 5249.4375\n",
            "Epoch 97/100\n",
            "34/34 [==============================] - 0s 1ms/step - loss: 5194.3096 - mae: 5194.3096\n",
            "Epoch 98/100\n",
            "34/34 [==============================] - 0s 1ms/step - loss: 5131.2686 - mae: 5131.2686\n",
            "Epoch 99/100\n",
            "34/34 [==============================] - 0s 1ms/step - loss: 5071.2480 - mae: 5071.2480\n",
            "Epoch 100/100\n",
            "34/34 [==============================] - 0s 1ms/step - loss: 5016.7852 - mae: 5016.7852\n"
          ]
        },
        {
          "output_type": "execute_result",
          "data": {
            "text/plain": [
              "<keras.callbacks.History at 0x79a352ca3be0>"
            ]
          },
          "metadata": {},
          "execution_count": 16
        }
      ]
    },
    {
      "cell_type": "code",
      "source": [
        "insurance_model_1.evaluate(X_test, y_test)"
      ],
      "metadata": {
        "colab": {
          "base_uri": "https://localhost:8080/"
        },
        "id": "0ZmNghxqeL-O",
        "outputId": "df9a7315-b3d2-48ec-cd84-f2fa7c0eccab"
      },
      "execution_count": null,
      "outputs": [
        {
          "output_type": "stream",
          "name": "stdout",
          "text": [
            "9/9 [==============================] - 0s 1ms/step - loss: 4882.9985 - mae: 4882.9985\n"
          ]
        },
        {
          "output_type": "execute_result",
          "data": {
            "text/plain": [
              "[4882.99853515625, 4882.99853515625]"
            ]
          },
          "metadata": {},
          "execution_count": 17
        }
      ]
    },
    {
      "cell_type": "code",
      "source": [
        "# Improved model_2\n",
        "# 1. Set Seed\n",
        "tf.random.set_seed(42)\n",
        "\n",
        "# 2. Setting up the model\n",
        "insurance_model_2 = tf.keras.models.Sequential([\n",
        "    tf.keras.layers.Dense(100),\n",
        "    tf.keras.layers.Dense(10),\n",
        "    tf.keras.layers.Dense(1)\n",
        "])\n",
        "\n",
        "# 3. Compile the model\n",
        "insurance_model_2.compile(loss = 'mae',\n",
        "                         optimizer = tf.keras.optimizers.Adam(),\n",
        "                         metrics = ['mae'])\n",
        "\n",
        "# 4. Fit the model\n",
        "history_2 = insurance_model_2.fit(X_train, y_train, epochs = 200, verbose = 1)"
      ],
      "metadata": {
        "colab": {
          "base_uri": "https://localhost:8080/"
        },
        "id": "LBx-OY2peMKK",
        "outputId": "931e6b3b-643e-4f87-fd0b-b40d910abb71"
      },
      "execution_count": null,
      "outputs": [
        {
          "output_type": "stream",
          "name": "stdout",
          "text": [
            "Epoch 1/200\n",
            "34/34 [==============================] - 1s 1ms/step - loss: 13292.0430 - mae: 13292.0430\n",
            "Epoch 2/200\n",
            "34/34 [==============================] - 0s 971us/step - loss: 13120.7969 - mae: 13120.7969\n",
            "Epoch 3/200\n",
            "34/34 [==============================] - 0s 1ms/step - loss: 12760.5078 - mae: 12760.5078\n",
            "Epoch 4/200\n",
            "34/34 [==============================] - 0s 1ms/step - loss: 12054.2197 - mae: 12054.2197\n",
            "Epoch 5/200\n",
            "34/34 [==============================] - 0s 1ms/step - loss: 10885.0762 - mae: 10885.0762\n",
            "Epoch 6/200\n",
            "34/34 [==============================] - 0s 1ms/step - loss: 9415.1924 - mae: 9415.1924\n",
            "Epoch 7/200\n",
            "34/34 [==============================] - 0s 1ms/step - loss: 8104.4253 - mae: 8104.4253\n",
            "Epoch 8/200\n",
            "34/34 [==============================] - 0s 1ms/step - loss: 7511.5400 - mae: 7511.5400\n",
            "Epoch 9/200\n",
            "34/34 [==============================] - 0s 1ms/step - loss: 7422.1499 - mae: 7422.1499\n",
            "Epoch 10/200\n",
            "34/34 [==============================] - 0s 1ms/step - loss: 7402.4380 - mae: 7402.4380\n",
            "Epoch 11/200\n",
            "34/34 [==============================] - 0s 1ms/step - loss: 7383.3364 - mae: 7383.3364\n",
            "Epoch 12/200\n",
            "34/34 [==============================] - 0s 1ms/step - loss: 7361.1431 - mae: 7361.1431\n",
            "Epoch 13/200\n",
            "34/34 [==============================] - 0s 1ms/step - loss: 7340.4077 - mae: 7340.4077\n",
            "Epoch 14/200\n",
            "34/34 [==============================] - 0s 1ms/step - loss: 7317.6450 - mae: 7317.6450\n",
            "Epoch 15/200\n",
            "34/34 [==============================] - 0s 1ms/step - loss: 7298.4375 - mae: 7298.4375\n",
            "Epoch 16/200\n",
            "34/34 [==============================] - 0s 1ms/step - loss: 7275.8696 - mae: 7275.8696\n",
            "Epoch 17/200\n",
            "34/34 [==============================] - 0s 1ms/step - loss: 7255.0586 - mae: 7255.0586\n",
            "Epoch 18/200\n",
            "34/34 [==============================] - 0s 1ms/step - loss: 7231.4688 - mae: 7231.4688\n",
            "Epoch 19/200\n",
            "34/34 [==============================] - 0s 1ms/step - loss: 7208.7339 - mae: 7208.7339\n",
            "Epoch 20/200\n",
            "34/34 [==============================] - 0s 1ms/step - loss: 7184.6909 - mae: 7184.6909\n",
            "Epoch 21/200\n",
            "34/34 [==============================] - 0s 1ms/step - loss: 7165.5913 - mae: 7165.5913\n",
            "Epoch 22/200\n",
            "34/34 [==============================] - 0s 1ms/step - loss: 7137.0806 - mae: 7137.0806\n",
            "Epoch 23/200\n",
            "34/34 [==============================] - 0s 1ms/step - loss: 7111.5806 - mae: 7111.5806\n",
            "Epoch 24/200\n",
            "34/34 [==============================] - 0s 1ms/step - loss: 7085.4360 - mae: 7085.4360\n",
            "Epoch 25/200\n",
            "34/34 [==============================] - 0s 1ms/step - loss: 7066.4766 - mae: 7066.4766\n",
            "Epoch 26/200\n",
            "34/34 [==============================] - 0s 1ms/step - loss: 7034.1182 - mae: 7034.1182\n",
            "Epoch 27/200\n",
            "34/34 [==============================] - 0s 1ms/step - loss: 7005.0195 - mae: 7005.0195\n",
            "Epoch 28/200\n",
            "34/34 [==============================] - 0s 1ms/step - loss: 6975.9902 - mae: 6975.9902\n",
            "Epoch 29/200\n",
            "34/34 [==============================] - 0s 1ms/step - loss: 6946.5811 - mae: 6946.5811\n",
            "Epoch 30/200\n",
            "34/34 [==============================] - 0s 1ms/step - loss: 6918.8662 - mae: 6918.8662\n",
            "Epoch 31/200\n",
            "34/34 [==============================] - 0s 1ms/step - loss: 6887.0596 - mae: 6887.0596\n",
            "Epoch 32/200\n",
            "34/34 [==============================] - 0s 1ms/step - loss: 6858.2148 - mae: 6858.2148\n",
            "Epoch 33/200\n",
            "34/34 [==============================] - 0s 1ms/step - loss: 6825.1094 - mae: 6825.1094\n",
            "Epoch 34/200\n",
            "34/34 [==============================] - 0s 1ms/step - loss: 6793.3418 - mae: 6793.3418\n",
            "Epoch 35/200\n",
            "34/34 [==============================] - 0s 1ms/step - loss: 6757.6802 - mae: 6757.6802\n",
            "Epoch 36/200\n",
            "34/34 [==============================] - 0s 1ms/step - loss: 6723.1426 - mae: 6723.1426\n",
            "Epoch 37/200\n",
            "34/34 [==============================] - 0s 1ms/step - loss: 6685.6924 - mae: 6685.6924\n",
            "Epoch 38/200\n",
            "34/34 [==============================] - 0s 1ms/step - loss: 6655.2119 - mae: 6655.2119\n",
            "Epoch 39/200\n",
            "34/34 [==============================] - 0s 1ms/step - loss: 6616.6880 - mae: 6616.6880\n",
            "Epoch 40/200\n",
            "34/34 [==============================] - 0s 1ms/step - loss: 6582.8760 - mae: 6582.8760\n",
            "Epoch 41/200\n",
            "34/34 [==============================] - 0s 1ms/step - loss: 6553.2612 - mae: 6553.2612\n",
            "Epoch 42/200\n",
            "34/34 [==============================] - 0s 1ms/step - loss: 6530.0542 - mae: 6530.0542\n",
            "Epoch 43/200\n",
            "34/34 [==============================] - 0s 1ms/step - loss: 6505.7451 - mae: 6505.7451\n",
            "Epoch 44/200\n",
            "34/34 [==============================] - 0s 1ms/step - loss: 6484.7319 - mae: 6484.7319\n",
            "Epoch 45/200\n",
            "34/34 [==============================] - 0s 1ms/step - loss: 6476.6758 - mae: 6476.6758\n",
            "Epoch 46/200\n",
            "34/34 [==============================] - 0s 1ms/step - loss: 6457.4399 - mae: 6457.4399\n",
            "Epoch 47/200\n",
            "34/34 [==============================] - 0s 1ms/step - loss: 6441.7329 - mae: 6441.7329\n",
            "Epoch 48/200\n",
            "34/34 [==============================] - 0s 1ms/step - loss: 6427.1553 - mae: 6427.1553\n",
            "Epoch 49/200\n",
            "34/34 [==============================] - 0s 1ms/step - loss: 6415.2881 - mae: 6415.2881\n",
            "Epoch 50/200\n",
            "34/34 [==============================] - 0s 1ms/step - loss: 6400.3677 - mae: 6400.3677\n",
            "Epoch 51/200\n",
            "34/34 [==============================] - 0s 1ms/step - loss: 6387.2021 - mae: 6387.2021\n",
            "Epoch 52/200\n",
            "34/34 [==============================] - 0s 1ms/step - loss: 6374.7407 - mae: 6374.7407\n",
            "Epoch 53/200\n",
            "34/34 [==============================] - 0s 984us/step - loss: 6360.1597 - mae: 6360.1597\n",
            "Epoch 54/200\n",
            "34/34 [==============================] - 0s 1ms/step - loss: 6345.6802 - mae: 6345.6802\n",
            "Epoch 55/200\n",
            "34/34 [==============================] - 0s 1ms/step - loss: 6331.4800 - mae: 6331.4800\n",
            "Epoch 56/200\n",
            "34/34 [==============================] - 0s 1ms/step - loss: 6317.1890 - mae: 6317.1890\n",
            "Epoch 57/200\n",
            "34/34 [==============================] - 0s 1ms/step - loss: 6302.9873 - mae: 6302.9873\n",
            "Epoch 58/200\n",
            "34/34 [==============================] - 0s 1ms/step - loss: 6288.6772 - mae: 6288.6772\n",
            "Epoch 59/200\n",
            "34/34 [==============================] - 0s 1ms/step - loss: 6272.9214 - mae: 6272.9214\n",
            "Epoch 60/200\n",
            "34/34 [==============================] - 0s 1ms/step - loss: 6261.1069 - mae: 6261.1069\n",
            "Epoch 61/200\n",
            "34/34 [==============================] - 0s 1ms/step - loss: 6240.7012 - mae: 6240.7012\n",
            "Epoch 62/200\n",
            "34/34 [==============================] - 0s 1ms/step - loss: 6227.3389 - mae: 6227.3389\n",
            "Epoch 63/200\n",
            "34/34 [==============================] - 0s 1ms/step - loss: 6208.2661 - mae: 6208.2661\n",
            "Epoch 64/200\n",
            "34/34 [==============================] - 0s 1ms/step - loss: 6190.3501 - mae: 6190.3501\n",
            "Epoch 65/200\n",
            "34/34 [==============================] - 0s 1ms/step - loss: 6171.9487 - mae: 6171.9487\n",
            "Epoch 66/200\n",
            "34/34 [==============================] - 0s 1ms/step - loss: 6153.4141 - mae: 6153.4141\n",
            "Epoch 67/200\n",
            "34/34 [==============================] - 0s 1ms/step - loss: 6140.1929 - mae: 6140.1929\n",
            "Epoch 68/200\n",
            "34/34 [==============================] - 0s 1ms/step - loss: 6116.0947 - mae: 6116.0947\n",
            "Epoch 69/200\n",
            "34/34 [==============================] - 0s 1ms/step - loss: 6097.9404 - mae: 6097.9404\n",
            "Epoch 70/200\n",
            "34/34 [==============================] - 0s 1ms/step - loss: 6076.4395 - mae: 6076.4395\n",
            "Epoch 71/200\n",
            "34/34 [==============================] - 0s 1ms/step - loss: 6055.1709 - mae: 6055.1709\n",
            "Epoch 72/200\n",
            "34/34 [==============================] - 0s 1ms/step - loss: 6035.4209 - mae: 6035.4209\n",
            "Epoch 73/200\n",
            "34/34 [==============================] - 0s 1ms/step - loss: 6017.7930 - mae: 6017.7930\n",
            "Epoch 74/200\n",
            "34/34 [==============================] - 0s 1ms/step - loss: 5987.5864 - mae: 5987.5864\n",
            "Epoch 75/200\n",
            "34/34 [==============================] - 0s 1ms/step - loss: 5965.1221 - mae: 5965.1221\n",
            "Epoch 76/200\n",
            "34/34 [==============================] - 0s 1ms/step - loss: 5947.2749 - mae: 5947.2749\n",
            "Epoch 77/200\n",
            "34/34 [==============================] - 0s 1ms/step - loss: 5914.5044 - mae: 5914.5044\n",
            "Epoch 78/200\n",
            "34/34 [==============================] - 0s 997us/step - loss: 5887.7622 - mae: 5887.7622\n",
            "Epoch 79/200\n",
            "34/34 [==============================] - 0s 1ms/step - loss: 5860.9023 - mae: 5860.9023\n",
            "Epoch 80/200\n",
            "34/34 [==============================] - 0s 1ms/step - loss: 5830.5205 - mae: 5830.5205\n",
            "Epoch 81/200\n",
            "34/34 [==============================] - 0s 1ms/step - loss: 5802.9312 - mae: 5802.9312\n",
            "Epoch 82/200\n",
            "34/34 [==============================] - 0s 981us/step - loss: 5770.4985 - mae: 5770.4985\n",
            "Epoch 83/200\n",
            "34/34 [==============================] - 0s 1ms/step - loss: 5740.0850 - mae: 5740.0850\n",
            "Epoch 84/200\n",
            "34/34 [==============================] - 0s 1ms/step - loss: 5703.2617 - mae: 5703.2617\n",
            "Epoch 85/200\n",
            "34/34 [==============================] - 0s 1ms/step - loss: 5673.9297 - mae: 5673.9297\n",
            "Epoch 86/200\n",
            "34/34 [==============================] - 0s 1ms/step - loss: 5636.5830 - mae: 5636.5830\n",
            "Epoch 87/200\n",
            "34/34 [==============================] - 0s 1ms/step - loss: 5596.7637 - mae: 5596.7637\n",
            "Epoch 88/200\n",
            "34/34 [==============================] - 0s 1ms/step - loss: 5558.0708 - mae: 5558.0708\n",
            "Epoch 89/200\n",
            "34/34 [==============================] - 0s 1ms/step - loss: 5513.8760 - mae: 5513.8760\n",
            "Epoch 90/200\n",
            "34/34 [==============================] - 0s 1ms/step - loss: 5467.7720 - mae: 5467.7720\n",
            "Epoch 91/200\n",
            "34/34 [==============================] - 0s 1ms/step - loss: 5426.8164 - mae: 5426.8164\n",
            "Epoch 92/200\n",
            "34/34 [==============================] - 0s 1ms/step - loss: 5374.4780 - mae: 5374.4780\n",
            "Epoch 93/200\n",
            "34/34 [==============================] - 0s 1ms/step - loss: 5326.9985 - mae: 5326.9985\n",
            "Epoch 94/200\n",
            "34/34 [==============================] - 0s 1ms/step - loss: 5276.0654 - mae: 5276.0654\n",
            "Epoch 95/200\n",
            "34/34 [==============================] - 0s 1ms/step - loss: 5218.5698 - mae: 5218.5698\n",
            "Epoch 96/200\n",
            "34/34 [==============================] - 0s 1ms/step - loss: 5169.2139 - mae: 5169.2139\n",
            "Epoch 97/200\n",
            "34/34 [==============================] - 0s 1ms/step - loss: 5110.7993 - mae: 5110.7993\n",
            "Epoch 98/200\n",
            "34/34 [==============================] - 0s 1ms/step - loss: 5042.6343 - mae: 5042.6343\n",
            "Epoch 99/200\n",
            "34/34 [==============================] - 0s 1ms/step - loss: 4976.5576 - mae: 4976.5576\n",
            "Epoch 100/200\n",
            "34/34 [==============================] - 0s 1ms/step - loss: 4918.4038 - mae: 4918.4038\n",
            "Epoch 101/200\n",
            "34/34 [==============================] - 0s 1ms/step - loss: 4839.2520 - mae: 4839.2520\n",
            "Epoch 102/200\n",
            "34/34 [==============================] - 0s 1ms/step - loss: 4759.2500 - mae: 4759.2500\n",
            "Epoch 103/200\n",
            "34/34 [==============================] - 0s 1ms/step - loss: 4685.7734 - mae: 4685.7734\n",
            "Epoch 104/200\n",
            "34/34 [==============================] - 0s 1ms/step - loss: 4600.8247 - mae: 4600.8247\n",
            "Epoch 105/200\n",
            "34/34 [==============================] - 0s 1ms/step - loss: 4508.5464 - mae: 4508.5464\n",
            "Epoch 106/200\n",
            "34/34 [==============================] - 0s 1ms/step - loss: 4425.3652 - mae: 4425.3652\n",
            "Epoch 107/200\n",
            "34/34 [==============================] - 0s 1ms/step - loss: 4342.8643 - mae: 4342.8643\n",
            "Epoch 108/200\n",
            "34/34 [==============================] - 0s 1ms/step - loss: 4259.7432 - mae: 4259.7432\n",
            "Epoch 109/200\n",
            "34/34 [==============================] - 0s 1ms/step - loss: 4177.5674 - mae: 4177.5674\n",
            "Epoch 110/200\n",
            "34/34 [==============================] - 0s 1ms/step - loss: 4103.4463 - mae: 4103.4463\n",
            "Epoch 111/200\n",
            "34/34 [==============================] - 0s 1ms/step - loss: 4037.1902 - mae: 4037.1902\n",
            "Epoch 112/200\n",
            "34/34 [==============================] - 0s 1ms/step - loss: 3988.3875 - mae: 3988.3875\n",
            "Epoch 113/200\n",
            "34/34 [==============================] - 0s 1ms/step - loss: 3949.1416 - mae: 3949.1416\n",
            "Epoch 114/200\n",
            "34/34 [==============================] - 0s 1ms/step - loss: 3925.2864 - mae: 3925.2864\n",
            "Epoch 115/200\n",
            "34/34 [==============================] - 0s 1ms/step - loss: 3888.3762 - mae: 3888.3762\n",
            "Epoch 116/200\n",
            "34/34 [==============================] - 0s 1ms/step - loss: 3875.9724 - mae: 3875.9724\n",
            "Epoch 117/200\n",
            "34/34 [==============================] - 0s 1ms/step - loss: 3864.5742 - mae: 3864.5742\n",
            "Epoch 118/200\n",
            "34/34 [==============================] - 0s 1ms/step - loss: 3844.6416 - mae: 3844.6416\n",
            "Epoch 119/200\n",
            "34/34 [==============================] - 0s 1ms/step - loss: 3831.2742 - mae: 3831.2742\n",
            "Epoch 120/200\n",
            "34/34 [==============================] - 0s 1ms/step - loss: 3819.2483 - mae: 3819.2483\n",
            "Epoch 121/200\n",
            "34/34 [==============================] - 0s 1ms/step - loss: 3812.9282 - mae: 3812.9282\n",
            "Epoch 122/200\n",
            "34/34 [==============================] - 0s 1ms/step - loss: 3809.1311 - mae: 3809.1311\n",
            "Epoch 123/200\n",
            "34/34 [==============================] - 0s 1ms/step - loss: 3802.0835 - mae: 3802.0835\n",
            "Epoch 124/200\n",
            "34/34 [==============================] - 0s 1ms/step - loss: 3797.8386 - mae: 3797.8386\n",
            "Epoch 125/200\n",
            "34/34 [==============================] - 0s 1ms/step - loss: 3787.0386 - mae: 3787.0386\n",
            "Epoch 126/200\n",
            "34/34 [==============================] - 0s 2ms/step - loss: 3796.3083 - mae: 3796.3083\n",
            "Epoch 127/200\n",
            "34/34 [==============================] - 0s 2ms/step - loss: 3790.4675 - mae: 3790.4675\n",
            "Epoch 128/200\n",
            "34/34 [==============================] - 0s 2ms/step - loss: 3785.0342 - mae: 3785.0342\n",
            "Epoch 129/200\n",
            "34/34 [==============================] - 0s 1ms/step - loss: 3794.5469 - mae: 3794.5469\n",
            "Epoch 130/200\n",
            "34/34 [==============================] - 0s 2ms/step - loss: 3782.5479 - mae: 3782.5479\n",
            "Epoch 131/200\n",
            "34/34 [==============================] - 0s 1ms/step - loss: 3776.5610 - mae: 3776.5610\n",
            "Epoch 132/200\n",
            "34/34 [==============================] - 0s 1ms/step - loss: 3770.7805 - mae: 3770.7805\n",
            "Epoch 133/200\n",
            "34/34 [==============================] - 0s 1ms/step - loss: 3766.7065 - mae: 3766.7065\n",
            "Epoch 134/200\n",
            "34/34 [==============================] - 0s 1ms/step - loss: 3766.5183 - mae: 3766.5183\n",
            "Epoch 135/200\n",
            "34/34 [==============================] - 0s 1ms/step - loss: 3762.9802 - mae: 3762.9802\n",
            "Epoch 136/200\n",
            "34/34 [==============================] - 0s 1ms/step - loss: 3762.6201 - mae: 3762.6201\n",
            "Epoch 137/200\n",
            "34/34 [==============================] - 0s 1ms/step - loss: 3770.0220 - mae: 3770.0220\n",
            "Epoch 138/200\n",
            "34/34 [==============================] - 0s 1ms/step - loss: 3780.3552 - mae: 3780.3552\n",
            "Epoch 139/200\n",
            "34/34 [==============================] - 0s 1ms/step - loss: 3757.5588 - mae: 3757.5588\n",
            "Epoch 140/200\n",
            "34/34 [==============================] - 0s 1ms/step - loss: 3758.4766 - mae: 3758.4766\n",
            "Epoch 141/200\n",
            "34/34 [==============================] - 0s 1ms/step - loss: 3760.2607 - mae: 3760.2607\n",
            "Epoch 142/200\n",
            "34/34 [==============================] - 0s 1ms/step - loss: 3761.9988 - mae: 3761.9988\n",
            "Epoch 143/200\n",
            "34/34 [==============================] - 0s 1ms/step - loss: 3750.7981 - mae: 3750.7981\n",
            "Epoch 144/200\n",
            "34/34 [==============================] - 0s 1ms/step - loss: 3747.0686 - mae: 3747.0686\n",
            "Epoch 145/200\n",
            "34/34 [==============================] - 0s 1ms/step - loss: 3747.0693 - mae: 3747.0693\n",
            "Epoch 146/200\n",
            "34/34 [==============================] - 0s 1ms/step - loss: 3753.2222 - mae: 3753.2222\n",
            "Epoch 147/200\n",
            "34/34 [==============================] - 0s 1ms/step - loss: 3747.2170 - mae: 3747.2170\n",
            "Epoch 148/200\n",
            "34/34 [==============================] - 0s 1ms/step - loss: 3757.4878 - mae: 3757.4878\n",
            "Epoch 149/200\n",
            "34/34 [==============================] - 0s 1ms/step - loss: 3740.6208 - mae: 3740.6208\n",
            "Epoch 150/200\n",
            "34/34 [==============================] - 0s 2ms/step - loss: 3735.8025 - mae: 3735.8025\n",
            "Epoch 151/200\n",
            "34/34 [==============================] - 0s 1ms/step - loss: 3736.8389 - mae: 3736.8389\n",
            "Epoch 152/200\n",
            "34/34 [==============================] - 0s 1ms/step - loss: 3738.9946 - mae: 3738.9946\n",
            "Epoch 153/200\n",
            "34/34 [==============================] - 0s 1ms/step - loss: 3741.7471 - mae: 3741.7471\n",
            "Epoch 154/200\n",
            "34/34 [==============================] - 0s 1ms/step - loss: 3733.2996 - mae: 3733.2996\n",
            "Epoch 155/200\n",
            "34/34 [==============================] - 0s 1ms/step - loss: 3734.4128 - mae: 3734.4128\n",
            "Epoch 156/200\n",
            "34/34 [==============================] - 0s 1ms/step - loss: 3733.1643 - mae: 3733.1643\n",
            "Epoch 157/200\n",
            "34/34 [==============================] - 0s 1ms/step - loss: 3730.8010 - mae: 3730.8010\n",
            "Epoch 158/200\n",
            "34/34 [==============================] - 0s 1ms/step - loss: 3725.9353 - mae: 3725.9353\n",
            "Epoch 159/200\n",
            "34/34 [==============================] - 0s 1ms/step - loss: 3723.1467 - mae: 3723.1467\n",
            "Epoch 160/200\n",
            "34/34 [==============================] - 0s 1ms/step - loss: 3729.8706 - mae: 3729.8706\n",
            "Epoch 161/200\n",
            "34/34 [==============================] - 0s 1ms/step - loss: 3725.9287 - mae: 3725.9287\n",
            "Epoch 162/200\n",
            "34/34 [==============================] - 0s 1ms/step - loss: 3722.4456 - mae: 3722.4456\n",
            "Epoch 163/200\n",
            "34/34 [==============================] - 0s 1ms/step - loss: 3719.7783 - mae: 3719.7783\n",
            "Epoch 164/200\n",
            "34/34 [==============================] - 0s 1ms/step - loss: 3724.1577 - mae: 3724.1577\n",
            "Epoch 165/200\n",
            "34/34 [==============================] - 0s 1ms/step - loss: 3715.8066 - mae: 3715.8066\n",
            "Epoch 166/200\n",
            "34/34 [==============================] - 0s 2ms/step - loss: 3718.5396 - mae: 3718.5396\n",
            "Epoch 167/200\n",
            "34/34 [==============================] - 0s 1ms/step - loss: 3717.2185 - mae: 3717.2185\n",
            "Epoch 168/200\n",
            "34/34 [==============================] - 0s 1ms/step - loss: 3714.2698 - mae: 3714.2698\n",
            "Epoch 169/200\n",
            "34/34 [==============================] - 0s 2ms/step - loss: 3711.8372 - mae: 3711.8372\n",
            "Epoch 170/200\n",
            "34/34 [==============================] - 0s 1ms/step - loss: 3705.1028 - mae: 3705.1028\n",
            "Epoch 171/200\n",
            "34/34 [==============================] - 0s 1ms/step - loss: 3704.5940 - mae: 3704.5940\n",
            "Epoch 172/200\n",
            "34/34 [==============================] - 0s 1ms/step - loss: 3706.7981 - mae: 3706.7981\n",
            "Epoch 173/200\n",
            "34/34 [==============================] - 0s 1ms/step - loss: 3701.5513 - mae: 3701.5513\n",
            "Epoch 174/200\n",
            "34/34 [==============================] - 0s 1ms/step - loss: 3705.4883 - mae: 3705.4883\n",
            "Epoch 175/200\n",
            "34/34 [==============================] - 0s 1ms/step - loss: 3707.1711 - mae: 3707.1711\n",
            "Epoch 176/200\n",
            "34/34 [==============================] - 0s 1ms/step - loss: 3704.0046 - mae: 3704.0046\n",
            "Epoch 177/200\n",
            "34/34 [==============================] - 0s 1ms/step - loss: 3696.0190 - mae: 3696.0190\n",
            "Epoch 178/200\n",
            "34/34 [==============================] - 0s 1ms/step - loss: 3693.4924 - mae: 3693.4924\n",
            "Epoch 179/200\n",
            "34/34 [==============================] - 0s 1ms/step - loss: 3703.2231 - mae: 3703.2231\n",
            "Epoch 180/200\n",
            "34/34 [==============================] - 0s 1ms/step - loss: 3709.5090 - mae: 3709.5090\n",
            "Epoch 181/200\n",
            "34/34 [==============================] - 0s 1ms/step - loss: 3692.8801 - mae: 3692.8801\n",
            "Epoch 182/200\n",
            "34/34 [==============================] - 0s 1ms/step - loss: 3690.2441 - mae: 3690.2441\n",
            "Epoch 183/200\n",
            "34/34 [==============================] - 0s 1ms/step - loss: 3688.5842 - mae: 3688.5842\n",
            "Epoch 184/200\n",
            "34/34 [==============================] - 0s 2ms/step - loss: 3695.7751 - mae: 3695.7751\n",
            "Epoch 185/200\n",
            "34/34 [==============================] - 0s 2ms/step - loss: 3690.5667 - mae: 3690.5667\n",
            "Epoch 186/200\n",
            "34/34 [==============================] - 0s 2ms/step - loss: 3692.7317 - mae: 3692.7317\n",
            "Epoch 187/200\n",
            "34/34 [==============================] - 0s 2ms/step - loss: 3686.1223 - mae: 3686.1223\n",
            "Epoch 188/200\n",
            "34/34 [==============================] - 0s 1ms/step - loss: 3692.3682 - mae: 3692.3682\n",
            "Epoch 189/200\n",
            "34/34 [==============================] - 0s 1ms/step - loss: 3680.8071 - mae: 3680.8071\n",
            "Epoch 190/200\n",
            "34/34 [==============================] - 0s 1ms/step - loss: 3680.8550 - mae: 3680.8550\n",
            "Epoch 191/200\n",
            "34/34 [==============================] - 0s 1ms/step - loss: 3693.9763 - mae: 3693.9763\n",
            "Epoch 192/200\n",
            "34/34 [==============================] - 0s 1ms/step - loss: 3679.9104 - mae: 3679.9104\n",
            "Epoch 193/200\n",
            "34/34 [==============================] - 0s 1ms/step - loss: 3672.2681 - mae: 3672.2681\n",
            "Epoch 194/200\n",
            "34/34 [==============================] - 0s 1ms/step - loss: 3674.1707 - mae: 3674.1707\n",
            "Epoch 195/200\n",
            "34/34 [==============================] - 0s 1ms/step - loss: 3670.6350 - mae: 3670.6350\n",
            "Epoch 196/200\n",
            "34/34 [==============================] - 0s 1ms/step - loss: 3678.3794 - mae: 3678.3794\n",
            "Epoch 197/200\n",
            "34/34 [==============================] - 0s 1ms/step - loss: 3663.6265 - mae: 3663.6265\n",
            "Epoch 198/200\n",
            "34/34 [==============================] - 0s 1ms/step - loss: 3668.7227 - mae: 3668.7227\n",
            "Epoch 199/200\n",
            "34/34 [==============================] - 0s 1ms/step - loss: 3677.8953 - mae: 3677.8953\n",
            "Epoch 200/200\n",
            "34/34 [==============================] - 0s 1ms/step - loss: 3664.8411 - mae: 3664.8411\n"
          ]
        }
      ]
    },
    {
      "cell_type": "code",
      "source": [
        "insurance_model_2.evaluate(X_test, y_test)"
      ],
      "metadata": {
        "colab": {
          "base_uri": "https://localhost:8080/"
        },
        "id": "JkFjw8PJf_SS",
        "outputId": "86632ffe-f1e9-4048-9f44-fcefef955442"
      },
      "execution_count": null,
      "outputs": [
        {
          "output_type": "stream",
          "name": "stdout",
          "text": [
            "9/9 [==============================] - 0s 1ms/step - loss: 3488.3254 - mae: 3488.3254\n"
          ]
        },
        {
          "output_type": "execute_result",
          "data": {
            "text/plain": [
              "[3488.325439453125, 3488.325439453125]"
            ]
          },
          "metadata": {},
          "execution_count": 19
        }
      ]
    },
    {
      "cell_type": "code",
      "source": [
        "pd.DataFrame(history_2.history).plot()\n",
        "plt.xlabel('epochs')\n",
        "plt.ylabel('loss')"
      ],
      "metadata": {
        "colab": {
          "base_uri": "https://localhost:8080/",
          "height": 466
        },
        "id": "p6ZuyNwugech",
        "outputId": "3fdf6716-c929-46c8-8ba0-cf7ffbf73019"
      },
      "execution_count": null,
      "outputs": [
        {
          "output_type": "execute_result",
          "data": {
            "text/plain": [
              "Text(0, 0.5, 'loss')"
            ]
          },
          "metadata": {},
          "execution_count": 20
        },
        {
          "output_type": "display_data",
          "data": {
            "text/plain": [
              "<Figure size 640x480 with 1 Axes>"
            ],
            "image/png": "[encoded data removed]"
          },
          "metadata": {}
        }
      ]
    },
    {
      "cell_type": "markdown",
      "source": [
        "## Preprocessing and Normalization"
      ],
      "metadata": {
        "id": "e_A5zBtNg4sV"
      }
    },
    {
      "cell_type": "code",
      "source": [
        "import pandas as pd\n",
        "import tensorflow as tf\n",
        "import matplotlib.pyplot as plt\n",
        "\n",
        "insurance = pd.read_csv('https://raw.githubusercontent.com/stedy/Machine-Learning-with-R-datasets/master/insurance.csv') # Turn data available on github to RAW\n",
        "insurance.head()"
      ],
      "metadata": {
        "colab": {
          "base_uri": "https://localhost:8080/",
          "height": 206
        },
        "id": "YoyDX-4nfJCy",
        "outputId": "65aaca2a-2114-488e-ccf3-4eb85d147db2"
      },
      "execution_count": null,
      "outputs": [
        {
          "output_type": "execute_result",
          "data": {
            "text/plain": [
              "   age     sex     bmi  children smoker     region      charges\n",
              "0   19  female  27.900         0    yes  southwest  16884.92400\n",
              "1   18    male  33.770         1     no  southeast   1725.55230\n",
              "2   28    male  33.000         3     no  southeast   4449.46200\n",
              "3   33    male  22.705         0     no  northwest  21984.47061\n",
              "4   32    male  28.880         0     no  northwest   3866.85520"
            ],
            "text/html": [
              "\n",
              "  <div id=\"df-ea5bbc5a-a063-4c61-b3f7-fa40c0415c58\" class=\"colab-df-container\">\n",
              "    <div>\n",
              "<style scoped>\n",
              "    .dataframe tbody tr th:only-of-type {\n",
              "        vertical-align: middle;\n",
              "    }\n",
              "\n",
              "    .dataframe tbody tr th {\n",
              "        vertical-align: top;\n",
              "    }\n",
              "\n",
              "    .dataframe thead th {\n",
              "        text-align: right;\n",
              "    }\n",
              "</style>\n",
              "<table border=\"1\" class=\"dataframe\">\n",
              "  <thead>\n",
              "    <tr style=\"text-align: right;\">\n",
              "      <th></th>\n",
              "      <th>age</th>\n",
              "      <th>sex</th>\n",
              "      <th>bmi</th>\n",
              "      <th>children</th>\n",
              "      <th>smoker</th>\n",
              "      <th>region</th>\n",
              "      <th>charges</th>\n",
              "    </tr>\n",
              "  </thead>\n",
              "  <tbody>\n",
              "    <tr>\n",
              "      <th>0</th>\n",
              "      <td>19</td>\n",
              "      <td>female</td>\n",
              "      <td>27.900</td>\n",
              "      <td>0</td>\n",
              "      <td>yes</td>\n",
              "      <td>southwest</td>\n",
              "      <td>16884.92400</td>\n",
              "    </tr>\n",
              "    <tr>\n",
              "      <th>1</th>\n",
              "      <td>18</td>\n",
              "      <td>male</td>\n",
              "      <td>33.770</td>\n",
              "      <td>1</td>\n",
              "      <td>no</td>\n",
              "      <td>southeast</td>\n",
              "      <td>1725.55230</td>\n",
              "    </tr>\n",
              "    <tr>\n",
              "      <th>2</th>\n",
              "      <td>28</td>\n",
              "      <td>male</td>\n",
              "      <td>33.000</td>\n",
              "      <td>3</td>\n",
              "      <td>no</td>\n",
              "      <td>southeast</td>\n",
              "      <td>4449.46200</td>\n",
              "    </tr>\n",
              "    <tr>\n",
              "      <th>3</th>\n",
              "      <td>33</td>\n",
              "      <td>male</td>\n",
              "      <td>22.705</td>\n",
              "      <td>0</td>\n",
              "      <td>no</td>\n",
              "      <td>northwest</td>\n",
              "      <td>21984.47061</td>\n",
              "    </tr>\n",
              "    <tr>\n",
              "      <th>4</th>\n",
              "      <td>32</td>\n",
              "      <td>male</td>\n",
              "      <td>28.880</td>\n",
              "      <td>0</td>\n",
              "      <td>no</td>\n",
              "      <td>northwest</td>\n",
              "      <td>3866.85520</td>\n",
              "    </tr>\n",
              "  </tbody>\n",
              "</table>\n",
              "</div>\n",
              "    <div class=\"colab-df-buttons\">\n",
              "\n",
              "  <div class=\"colab-df-container\">\n",
              "    <button class=\"colab-df-convert\" onclick=\"convertToInteractive('df-ea5bbc5a-a063-4c61-b3f7-fa40c0415c58')\"\n",
              "            title=\"Convert this dataframe to an interactive table.\"\n",
              "            style=\"display:none;\">\n",
              "\n",
              "  <svg xmlns=\"http://www.w3.org/2000/svg\" height=\"24px\" viewBox=\"0 -960 960 960\">\n",
              "    <path d=\"M120-120v-720h720v720H120Zm60-500h600v-160H180v160Zm220 220h160v-160H400v160Zm0 220h160v-160H400v160ZM180-400h160v-160H180v160Zm440 0h160v-160H620v160ZM180-180h160v-160H180v160Zm440 0h160v-160H620v160Z\"/>\n",
              "  </svg>\n",
              "    </button>\n",
              "\n",
              "  <style>\n",
              "    .colab-df-container {\n",
              "      display:flex;\n",
              "      gap: 12px;\n",
              "    }\n",
              "\n",
              "    .colab-df-convert {\n",
              "      background-color: #E8F0FE;\n",
              "      border: none;\n",
              "      border-radius: 50%;\n",
              "      cursor: pointer;\n",
              "      display: none;\n",
              "      fill: #1967D2;\n",
              "      height: 32px;\n",
              "      padding: 0 0 0 0;\n",
              "      width: 32px;\n",
              "    }\n",
              "\n",
              "    .colab-df-convert:hover {\n",
              "      background-color: #E2EBFA;\n",
              "      box-shadow: 0px 1px 2px rgba(60, 64, 67, 0.3), 0px 1px 3px 1px rgba(60, 64, 67, 0.15);\n",
              "      fill: #174EA6;\n",
              "    }\n",
              "\n",
              "    .colab-df-buttons div {\n",
              "      margin-bottom: 4px;\n",
              "    }\n",
              "\n",
              "    [theme=dark] .colab-df-convert {\n",
              "      background-color: #3B4455;\n",
              "      fill: #D2E3FC;\n",
              "    }\n",
              "\n",
              "    [theme=dark] .colab-df-convert:hover {\n",
              "      background-color: #434B5C;\n",
              "      box-shadow: 0px 1px 3px 1px rgba(0, 0, 0, 0.15);\n",
              "      filter: drop-shadow(0px 1px 2px rgba(0, 0, 0, 0.3));\n",
              "      fill: #FFFFFF;\n",
              "    }\n",
              "  </style>\n",
              "\n",
              "    <script>\n",
              "      const buttonEl =\n",
              "        document.querySelector('#df-ea5bbc5a-a063-4c61-b3f7-fa40c0415c58 button.colab-df-convert');\n",
              "      buttonEl.style.display =\n",
              "        google.colab.kernel.accessAllowed ? 'block' : 'none';\n",
              "\n",
              "      async function convertToInteractive(key) {\n",
              "        const element = document.querySelector('#df-ea5bbc5a-a063-4c61-b3f7-fa40c0415c58');\n",
              "        const dataTable =\n",
              "          await google.colab.kernel.invokeFunction('convertToInteractive',\n",
              "                                                    [key], {});\n",
              "        if (!dataTable) return;\n",
              "\n",
              "        const docLinkHtml = 'Like what you see? Visit the ' +\n",
              "          '<a target=\"_blank\" href=https://colab.research.google.com/notebooks/data_table.ipynb>data table notebook</a>'\n",
              "          + ' to learn more about interactive tables.';\n",
              "        element.innerHTML = '';\n",
              "        dataTable['output_type'] = 'display_data';\n",
              "        await google.colab.output.renderOutput(dataTable, element);\n",
              "        const docLink = document.createElement('div');\n",
              "        docLink.innerHTML = docLinkHtml;\n",
              "        element.appendChild(docLink);\n",
              "      }\n",
              "    </script>\n",
              "  </div>\n",
              "\n",
              "\n",
              "<div id=\"df-50b8611f-8647-4a1e-b66f-d11fdf00396a\">\n",
              "  <button class=\"colab-df-quickchart\" onclick=\"quickchart('df-50b8611f-8647-4a1e-b66f-d11fdf00396a')\"\n",
              "            title=\"Suggest charts.\"\n",
              "            style=\"display:none;\">\n",
              "\n",
              "<svg xmlns=\"http://www.w3.org/2000/svg\" height=\"24px\"viewBox=\"0 0 24 24\"\n",
              "     width=\"24px\">\n",
              "    <g>\n",
              "        <path d=\"M19 3H5c-1.1 0-2 .9-2 2v14c0 1.1.9 2 2 2h14c1.1 0 2-.9 2-2V5c0-1.1-.9-2-2-2zM9 17H7v-7h2v7zm4 0h-2V7h2v10zm4 0h-2v-4h2v4z\"/>\n",
              "    </g>\n",
              "</svg>\n",
              "  </button>\n",
              "\n",
              "<style>\n",
              "  .colab-df-quickchart {\n",
              "    background-color: #E8F0FE;\n",
              "    border: none;\n",
              "    border-radius: 50%;\n",
              "    cursor: pointer;\n",
              "    display: none;\n",
              "    fill: #1967D2;\n",
              "    height: 32px;\n",
              "    padding: 0 0 0 0;\n",
              "    width: 32px;\n",
              "  }\n",
              "\n",
              "  .colab-df-quickchart:hover {\n",
              "    background-color: #E2EBFA;\n",
              "    box-shadow: 0px 1px 2px rgba(60, 64, 67, 0.3), 0px 1px 3px 1px rgba(60, 64, 67, 0.15);\n",
              "    fill: #174EA6;\n",
              "  }\n",
              "\n",
              "  [theme=dark] .colab-df-quickchart {\n",
              "    background-color: #3B4455;\n",
              "    fill: #D2E3FC;\n",
              "  }\n",
              "\n",
              "  [theme=dark] .colab-df-quickchart:hover {\n",
              "    background-color: #434B5C;\n",
              "    box-shadow: 0px 1px 3px 1px rgba(0, 0, 0, 0.15);\n",
              "    filter: drop-shadow(0px 1px 2px rgba(0, 0, 0, 0.3));\n",
              "    fill: #FFFFFF;\n",
              "  }\n",
              "</style>\n",
              "\n",
              "  <script>\n",
              "    async function quickchart(key) {\n",
              "      const charts = await google.colab.kernel.invokeFunction(\n",
              "          'suggestCharts', [key], {});\n",
              "    }\n",
              "    (() => {\n",
              "      let quickchartButtonEl =\n",
              "        document.querySelector('#df-50b8611f-8647-4a1e-b66f-d11fdf00396a button');\n",
              "      quickchartButtonEl.style.display =\n",
              "        google.colab.kernel.accessAllowed ? 'block' : 'none';\n",
              "    })();\n",
              "  </script>\n",
              "</div>\n",
              "    </div>\n",
              "  </div>\n"
            ]
          },
          "metadata": {},
          "execution_count": 1
        }
      ]
    },
    {
      "cell_type": "code",
      "source": [
        "insurance['age'].plot(kind='hist');"
      ],
      "metadata": {
        "colab": {
          "base_uri": "https://localhost:8080/",
          "height": 430
        },
        "id": "lTsze7F9dvhh",
        "outputId": "06f35cad-7c2c-400c-8f6b-75ceb66e83e4"
      },
      "execution_count": null,
      "outputs": [
        {
          "output_type": "display_data",
          "data": {
            "text/plain": [
              "<Figure size 640x480 with 1 Axes>"
            ],
            "image/png": "[encoded data removed]"
          },
          "metadata": {}
        }
      ]
    },
    {
      "cell_type": "code",
      "source": [
        "insurance['bmi'].plot(kind = 'hist')"
      ],
      "metadata": {
        "colab": {
          "base_uri": "https://localhost:8080/",
          "height": 447
        },
        "id": "lbGCCNgIeMed",
        "outputId": "7819c8c6-28cb-42f8-eefc-ace2f2ec73a7"
      },
      "execution_count": null,
      "outputs": [
        {
          "output_type": "execute_result",
          "data": {
            "text/plain": [
              "<Axes: ylabel='Frequency'>"
            ]
          },
          "metadata": {},
          "execution_count": 4
        },
        {
          "output_type": "display_data",
          "data": {
            "text/plain": [
              "<Figure size 640x480 with 1 Axes>"
            ],
            "image/png": "[encoded data removed]"
          },
          "metadata": {}
        }
      ]
    },
    {
      "cell_type": "code",
      "source": [
        "insurance['children'].value_counts()\n"
      ],
      "metadata": {
        "colab": {
          "base_uri": "https://localhost:8080/"
        },
        "id": "82HzQVhPd4gJ",
        "outputId": "2ea6bdd4-987a-4071-c9aa-574cb1b82fdf"
      },
      "execution_count": null,
      "outputs": [
        {
          "output_type": "execute_result",
          "data": {
            "text/plain": [
              "0    574\n",
              "1    324\n",
              "2    240\n",
              "3    157\n",
              "4     25\n",
              "5     18\n",
              "Name: children, dtype: int64"
            ]
          },
          "metadata": {},
          "execution_count": 5
        }
      ]
    },
    {
      "cell_type": "code",
      "source": [
        "from sklearn.preprocessing import MinMaxScaler, OneHotEncoder\n",
        "from sklearn.compose import make_column_transformer\n",
        "from sklearn.model_selection import train_test_split as split\n",
        "\n",
        "# Create a column transformer\n",
        "ct = make_column_transformer(\n",
        "    (MinMaxScaler(), ['age','bmi','children']), # Function along with the columns\n",
        "    (OneHotEncoder(handle_unknown = 'ignore'), ['sex', 'smoker', 'region']) # Function along with the columns. Handle_unkown means\n",
        ")\n",
        "\n",
        "# Create X & y\n",
        "X = insurance.drop('charges', axis = 1)\n",
        "y = insurance.charges\n",
        "\n",
        "# Build our train and test sets\n",
        "X_train, X_test, y_train, y_test = split(X, y , test_size = 0.2, random_state = 42)\n",
        "\n",
        "# Transform the training and testing data with normalization\n",
        "X_train_normal = ct.fit_transform(X_train)\n",
        "X_test_normal = ct.transform(X_test)"
      ],
      "metadata": {
        "id": "qPfFafbbeAXy"
      },
      "execution_count": null,
      "outputs": []
    },
    {
      "cell_type": "code",
      "source": [
        "X_train_normal[0]"
      ],
      "metadata": {
        "colab": {
          "base_uri": "https://localhost:8080/"
        },
        "id": "BvWJFpyFqCcT",
        "outputId": "7029efe4-a3df-4cf0-d5a3-df1a9b0808d6"
      },
      "execution_count": null,
      "outputs": [
        {
          "output_type": "execute_result",
          "data": {
            "text/plain": [
              "array([0.60869565, 0.10734463, 0.4       , 1.        , 0.        ,\n",
              "       1.        , 0.        , 0.        , 1.        , 0.        ,\n",
              "       0.        ])"
            ]
          },
          "metadata": {},
          "execution_count": 9
        }
      ]
    },
    {
      "cell_type": "code",
      "source": [
        "X_train.shape, X_train_normal.shape"
      ],
      "metadata": {
        "colab": {
          "base_uri": "https://localhost:8080/"
        },
        "id": "-_ceIeitqK6y",
        "outputId": "5995542a-8b37-46a7-cf5a-0decbf0d1b01"
      },
      "execution_count": null,
      "outputs": [
        {
          "output_type": "execute_result",
          "data": {
            "text/plain": [
              "((1070, 6), (1070, 11))"
            ]
          },
          "metadata": {},
          "execution_count": 10
        }
      ]
    },
    {
      "cell_type": "markdown",
      "source": [
        "Our data has been normalized and set to be used on neural networks."
      ],
      "metadata": {
        "id": "rNrl8r8_qpDE"
      }
    },
    {
      "cell_type": "markdown",
      "source": [
        "## Building the model for real scenario"
      ],
      "metadata": {
        "id": "SXhil6Q2qyGT"
      }
    },
    {
      "cell_type": "code",
      "source": [
        "# set up random_seed\n",
        "tf.random.set_seed(42)\n",
        "\n",
        "# Create model\n",
        "model_insurance = tf.keras.models.Sequential([\n",
        "    tf.keras.layers.Dense(100),\n",
        "    tf.keras.layers.Dense(10),\n",
        "    tf.keras.layers.Dense(1)\n",
        "])\n",
        "\n",
        "# Compile the model\n",
        "model_insurance.compile(loss = 'mae',\n",
        "                        optimizer = tf.keras.optimizers.SGD(),\n",
        "                        metrics= ['mae'])\n",
        "\n",
        "# Fit the model\n",
        "hist = model_insurance.fit(X_train_normal, y_train, epochs = 100, verbose = 1)"
      ],
      "metadata": {
        "colab": {
          "base_uri": "https://localhost:8080/"
        },
        "id": "jtdJ4KqMqRXu",
        "outputId": "bcb1d537-1eff-4f40-96e5-d12ecc483519"
      },
      "execution_count": null,
      "outputs": [
        {
          "output_type": "stream",
          "name": "stdout",
          "text": [
            "Epoch 1/100\n",
            "34/34 [==============================] - 0s 1ms/step - loss: 13340.3164 - mae: 13340.3164\n",
            "Epoch 2/100\n",
            "34/34 [==============================] - 0s 1ms/step - loss: 11376.5869 - mae: 11376.5869\n",
            "Epoch 3/100\n",
            "34/34 [==============================] - 0s 1ms/step - loss: 6369.8530 - mae: 6369.8530\n",
            "Epoch 4/100\n",
            "34/34 [==============================] - 0s 1ms/step - loss: 5547.0249 - mae: 5547.0249\n",
            "Epoch 5/100\n",
            "34/34 [==============================] - 0s 1ms/step - loss: 5259.0776 - mae: 5259.0776\n",
            "Epoch 6/100\n",
            "34/34 [==============================] - 0s 1ms/step - loss: 5288.1011 - mae: 5288.1011\n",
            "Epoch 7/100\n",
            "34/34 [==============================] - 0s 1ms/step - loss: 5051.4854 - mae: 5051.4854\n",
            "Epoch 8/100\n",
            "34/34 [==============================] - 0s 1ms/step - loss: 5119.1777 - mae: 5119.1777\n",
            "Epoch 9/100\n",
            "34/34 [==============================] - 0s 1ms/step - loss: 5057.4238 - mae: 5057.4238\n",
            "Epoch 10/100\n",
            "34/34 [==============================] - 0s 1ms/step - loss: 4922.4189 - mae: 4922.4189\n",
            "Epoch 11/100\n",
            "34/34 [==============================] - 0s 1ms/step - loss: 5217.7383 - mae: 5217.7383\n",
            "Epoch 12/100\n",
            "34/34 [==============================] - 0s 1ms/step - loss: 5068.8252 - mae: 5068.8252\n",
            "Epoch 13/100\n",
            "34/34 [==============================] - 0s 1ms/step - loss: 4790.3945 - mae: 4790.3945\n",
            "Epoch 14/100\n",
            "34/34 [==============================] - 0s 1ms/step - loss: 5162.6362 - mae: 5162.6362\n",
            "Epoch 15/100\n",
            "34/34 [==============================] - 0s 1ms/step - loss: 5150.8750 - mae: 5150.8750\n",
            "Epoch 16/100\n",
            "34/34 [==============================] - 0s 1ms/step - loss: 4857.3350 - mae: 4857.3350\n",
            "Epoch 17/100\n",
            "34/34 [==============================] - 0s 1ms/step - loss: 4721.8940 - mae: 4721.8940\n",
            "Epoch 18/100\n",
            "34/34 [==============================] - 0s 1ms/step - loss: 4857.7290 - mae: 4857.7290\n",
            "Epoch 19/100\n",
            "34/34 [==============================] - 0s 1ms/step - loss: 4871.1587 - mae: 4871.1587\n",
            "Epoch 20/100\n",
            "34/34 [==============================] - 0s 1ms/step - loss: 5123.4180 - mae: 5123.4180\n",
            "Epoch 21/100\n",
            "34/34 [==============================] - 0s 1ms/step - loss: 5178.4648 - mae: 5178.4648\n",
            "Epoch 22/100\n",
            "34/34 [==============================] - 0s 1ms/step - loss: 4657.6519 - mae: 4657.6519\n",
            "Epoch 23/100\n",
            "34/34 [==============================] - 0s 1ms/step - loss: 4852.6489 - mae: 4852.6489\n",
            "Epoch 24/100\n",
            "34/34 [==============================] - 0s 1ms/step - loss: 5169.9604 - mae: 5169.9604\n",
            "Epoch 25/100\n",
            "34/34 [==============================] - 0s 1ms/step - loss: 4873.4531 - mae: 4873.4531\n",
            "Epoch 26/100\n",
            "34/34 [==============================] - 0s 1ms/step - loss: 4736.9204 - mae: 4736.9204\n",
            "Epoch 27/100\n",
            "34/34 [==============================] - 0s 1ms/step - loss: 4872.8003 - mae: 4872.8003\n",
            "Epoch 28/100\n",
            "34/34 [==============================] - 0s 1ms/step - loss: 4561.2593 - mae: 4561.2593\n",
            "Epoch 29/100\n",
            "34/34 [==============================] - 0s 1ms/step - loss: 5287.6094 - mae: 5287.6094\n",
            "Epoch 30/100\n",
            "34/34 [==============================] - 0s 1ms/step - loss: 5197.1279 - mae: 5197.1279\n",
            "Epoch 31/100\n",
            "34/34 [==============================] - 0s 1ms/step - loss: 5081.6948 - mae: 5081.6948\n",
            "Epoch 32/100\n",
            "34/34 [==============================] - 0s 1ms/step - loss: 4928.3013 - mae: 4928.3013\n",
            "Epoch 33/100\n",
            "34/34 [==============================] - 0s 1ms/step - loss: 5145.2769 - mae: 5145.2769\n",
            "Epoch 34/100\n",
            "34/34 [==============================] - 0s 1ms/step - loss: 4910.6279 - mae: 4910.6279\n",
            "Epoch 35/100\n",
            "34/34 [==============================] - 0s 1ms/step - loss: 5063.5034 - mae: 5063.5034\n",
            "Epoch 36/100\n",
            "34/34 [==============================] - 0s 1ms/step - loss: 4919.1562 - mae: 4919.1562\n",
            "Epoch 37/100\n",
            "34/34 [==============================] - 0s 1ms/step - loss: 5098.0312 - mae: 5098.0312\n",
            "Epoch 38/100\n",
            "34/34 [==============================] - 0s 1ms/step - loss: 5134.4653 - mae: 5134.4653\n",
            "Epoch 39/100\n",
            "34/34 [==============================] - 0s 1ms/step - loss: 5175.2881 - mae: 5175.2881\n",
            "Epoch 40/100\n",
            "34/34 [==============================] - 0s 1ms/step - loss: 5064.7563 - mae: 5064.7563\n",
            "Epoch 41/100\n",
            "34/34 [==============================] - 0s 1ms/step - loss: 5080.0981 - mae: 5080.0981\n",
            "Epoch 42/100\n",
            "34/34 [==============================] - 0s 1ms/step - loss: 5157.9370 - mae: 5157.9370\n",
            "Epoch 43/100\n",
            "34/34 [==============================] - 0s 1ms/step - loss: 5637.3452 - mae: 5637.3452\n",
            "Epoch 44/100\n",
            "34/34 [==============================] - 0s 1ms/step - loss: 5392.4678 - mae: 5392.4678\n",
            "Epoch 45/100\n",
            "34/34 [==============================] - 0s 1ms/step - loss: 5441.1528 - mae: 5441.1528\n",
            "Epoch 46/100\n",
            "34/34 [==============================] - 0s 1ms/step - loss: 4775.8628 - mae: 4775.8628\n",
            "Epoch 47/100\n",
            "34/34 [==============================] - 0s 1ms/step - loss: 5259.6538 - mae: 5259.6538\n",
            "Epoch 48/100\n",
            "34/34 [==============================] - 0s 1ms/step - loss: 5105.9946 - mae: 5105.9946\n",
            "Epoch 49/100\n",
            "34/34 [==============================] - 0s 1ms/step - loss: 4736.5317 - mae: 4736.5317\n",
            "Epoch 50/100\n",
            "34/34 [==============================] - 0s 1ms/step - loss: 5251.4771 - mae: 5251.4771\n",
            "Epoch 51/100\n",
            "34/34 [==============================] - 0s 1ms/step - loss: 5245.3071 - mae: 5245.3071\n",
            "Epoch 52/100\n",
            "34/34 [==============================] - 0s 1ms/step - loss: 4712.3955 - mae: 4712.3955\n",
            "Epoch 53/100\n",
            "34/34 [==============================] - 0s 1ms/step - loss: 4919.5674 - mae: 4919.5674\n",
            "Epoch 54/100\n",
            "34/34 [==============================] - 0s 1ms/step - loss: 5114.8047 - mae: 5114.8047\n",
            "Epoch 55/100\n",
            "34/34 [==============================] - 0s 1ms/step - loss: 5083.2720 - mae: 5083.2720\n",
            "Epoch 56/100\n",
            "34/34 [==============================] - 0s 1ms/step - loss: 4927.0674 - mae: 4927.0674\n",
            "Epoch 57/100\n",
            "34/34 [==============================] - 0s 1ms/step - loss: 5017.9980 - mae: 5017.9980\n",
            "Epoch 58/100\n",
            "34/34 [==============================] - 0s 1ms/step - loss: 5015.9346 - mae: 5015.9346\n",
            "Epoch 59/100\n",
            "34/34 [==============================] - 0s 1ms/step - loss: 5034.6641 - mae: 5034.6641\n",
            "Epoch 60/100\n",
            "34/34 [==============================] - 0s 1ms/step - loss: 5068.0186 - mae: 5068.0186\n",
            "Epoch 61/100\n",
            "34/34 [==============================] - 0s 1ms/step - loss: 5327.4375 - mae: 5327.4375\n",
            "Epoch 62/100\n",
            "34/34 [==============================] - 0s 1ms/step - loss: 4702.2446 - mae: 4702.2446\n",
            "Epoch 63/100\n",
            "34/34 [==============================] - 0s 1ms/step - loss: 5281.1143 - mae: 5281.1143\n",
            "Epoch 64/100\n",
            "34/34 [==============================] - 0s 1ms/step - loss: 4499.5981 - mae: 4499.5981\n",
            "Epoch 65/100\n",
            "34/34 [==============================] - 0s 1ms/step - loss: 4489.6230 - mae: 4489.6230\n",
            "Epoch 66/100\n",
            "34/34 [==============================] - 0s 1ms/step - loss: 4775.4492 - mae: 4775.4492\n",
            "Epoch 67/100\n",
            "34/34 [==============================] - 0s 1ms/step - loss: 5023.9551 - mae: 5023.9551\n",
            "Epoch 68/100\n",
            "34/34 [==============================] - 0s 1ms/step - loss: 5281.3999 - mae: 5281.3999\n",
            "Epoch 69/100\n",
            "34/34 [==============================] - 0s 1ms/step - loss: 5200.2939 - mae: 5200.2939\n",
            "Epoch 70/100\n",
            "34/34 [==============================] - 0s 1ms/step - loss: 4778.0552 - mae: 4778.0552\n",
            "Epoch 71/100\n",
            "34/34 [==============================] - 0s 1ms/step - loss: 5144.2671 - mae: 5144.2671\n",
            "Epoch 72/100\n",
            "34/34 [==============================] - 0s 1ms/step - loss: 5524.5830 - mae: 5524.5830\n",
            "Epoch 73/100\n",
            "34/34 [==============================] - 0s 1ms/step - loss: 4925.0610 - mae: 4925.0610\n",
            "Epoch 74/100\n",
            "34/34 [==============================] - 0s 1ms/step - loss: 4756.0649 - mae: 4756.0649\n",
            "Epoch 75/100\n",
            "34/34 [==============================] - 0s 1ms/step - loss: 5187.1904 - mae: 5187.1904\n",
            "Epoch 76/100\n",
            "34/34 [==============================] - 0s 1ms/step - loss: 5199.7646 - mae: 5199.7646\n",
            "Epoch 77/100\n",
            "34/34 [==============================] - 0s 1ms/step - loss: 4896.1304 - mae: 4896.1304\n",
            "Epoch 78/100\n",
            "34/34 [==============================] - 0s 1ms/step - loss: 5023.0449 - mae: 5023.0449\n",
            "Epoch 79/100\n",
            "34/34 [==============================] - 0s 1ms/step - loss: 5389.1484 - mae: 5389.1484\n",
            "Epoch 80/100\n",
            "34/34 [==============================] - 0s 1ms/step - loss: 4661.8638 - mae: 4661.8638\n",
            "Epoch 81/100\n",
            "34/34 [==============================] - 0s 1ms/step - loss: 4865.7241 - mae: 4865.7241\n",
            "Epoch 82/100\n",
            "34/34 [==============================] - 0s 1ms/step - loss: 5604.8315 - mae: 5604.8315\n",
            "Epoch 83/100\n",
            "34/34 [==============================] - 0s 1ms/step - loss: 5039.4727 - mae: 5039.4727\n",
            "Epoch 84/100\n",
            "34/34 [==============================] - 0s 1ms/step - loss: 4657.4956 - mae: 4657.4956\n",
            "Epoch 85/100\n",
            "34/34 [==============================] - 0s 1ms/step - loss: 4668.2100 - mae: 4668.2100\n",
            "Epoch 86/100\n",
            "34/34 [==============================] - 0s 1ms/step - loss: 4992.6011 - mae: 4992.6011\n",
            "Epoch 87/100\n",
            "34/34 [==============================] - 0s 2ms/step - loss: 5017.1382 - mae: 5017.1382\n",
            "Epoch 88/100\n",
            "34/34 [==============================] - 0s 1ms/step - loss: 4714.7383 - mae: 4714.7383\n",
            "Epoch 89/100\n",
            "34/34 [==============================] - 0s 1ms/step - loss: 4664.6685 - mae: 4664.6685\n",
            "Epoch 90/100\n",
            "34/34 [==============================] - 0s 1ms/step - loss: 5415.8330 - mae: 5415.8330\n",
            "Epoch 91/100\n",
            "34/34 [==============================] - 0s 1ms/step - loss: 4604.1333 - mae: 4604.1333\n",
            "Epoch 92/100\n",
            "34/34 [==============================] - 0s 1ms/step - loss: 4848.6323 - mae: 4848.6323\n",
            "Epoch 93/100\n",
            "34/34 [==============================] - 0s 1ms/step - loss: 4853.4160 - mae: 4853.4160\n",
            "Epoch 94/100\n",
            "34/34 [==============================] - 0s 1ms/step - loss: 5002.9609 - mae: 5002.9609\n",
            "Epoch 95/100\n",
            "34/34 [==============================] - 0s 2ms/step - loss: 4957.8013 - mae: 4957.8013\n",
            "Epoch 96/100\n",
            "34/34 [==============================] - 0s 2ms/step - loss: 4806.1870 - mae: 4806.1870\n",
            "Epoch 97/100\n",
            "34/34 [==============================] - 0s 2ms/step - loss: 4811.7769 - mae: 4811.7769\n",
            "Epoch 98/100\n",
            "34/34 [==============================] - 0s 1ms/step - loss: 4634.8828 - mae: 4634.8828\n",
            "Epoch 99/100\n",
            "34/34 [==============================] - 0s 1ms/step - loss: 4837.0845 - mae: 4837.0845\n",
            "Epoch 100/100\n",
            "34/34 [==============================] - 0s 1ms/step - loss: 4932.6675 - mae: 4932.6675\n"
          ]
        }
      ]
    },
    {
      "cell_type": "code",
      "source": [
        "model_insurance.evaluate(X_test_normal, y_test)"
      ],
      "metadata": {
        "colab": {
          "base_uri": "https://localhost:8080/"
        },
        "id": "BfhFjr1yruuG",
        "outputId": "b6deaaf6-f3a4-4e30-ee80-bdd7048c9a24"
      },
      "execution_count": null,
      "outputs": [
        {
          "output_type": "stream",
          "name": "stdout",
          "text": [
            "9/9 [==============================] - 0s 2ms/step - loss: 3378.9060 - mae: 3378.9060\n"
          ]
        },
        {
          "output_type": "execute_result",
          "data": {
            "text/plain": [
              "[3378.906005859375, 3378.906005859375]"
            ]
          },
          "metadata": {},
          "execution_count": 14
        }
      ]
    },
    {
      "cell_type": "code",
      "source": [],
      "metadata": {
        "id": "qqPfeogTsBhx"
      },
      "execution_count": null,
      "outputs": []
    }
  ]
}