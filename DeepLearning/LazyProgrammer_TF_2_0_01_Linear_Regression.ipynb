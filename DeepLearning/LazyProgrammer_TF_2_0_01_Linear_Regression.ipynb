{
  "nbformat": 4,
  "nbformat_minor": 0,
  "metadata": {
    "colab": {
      "provenance": []
    },
    "kernelspec": {
      "name": "python3",
      "display_name": "Python 3"
    },
    "language_info": {
      "name": "python"
    }
  },
  "cells": [
    {
      "cell_type": "markdown",
      "source": [
        "# Linear Regression using Tensorflow\n",
        "\n",
        "In this notebook we are trying to understand the famous law of semiconductors i.e. Moore's Law.\n",
        "\n",
        "Moore's Law states that the number of transistors on a microchip (integrated circuit) will approximately double every two years, while the cost of these chips will remain roughly constant. In other words, it suggests that computing power will increase exponentially over time, and the cost of that computing power will decrease.\n",
        "\n",
        "\n",
        "Now this is an exponential problem 😵 How can we convert it into regression..????\n",
        "\n",
        "We can by taking log on both sides:\n",
        "\n",
        "Original formula : **`C = Ao * r^t`**\n",
        "\n",
        "C = count (target variable)\n",
        "\n",
        "Ao = Initial value of C when t = 0\n",
        "\n",
        "t = time (input variable)\n",
        "\n",
        "r = rate of growth\n",
        "\n",
        "\n",
        "Taking log on both sides:\n",
        "**`log(C) = log(r) * t + log(Ao)`**"
      ],
      "metadata": {
        "id": "biX58qSNI5IK"
      }
    },
    {
      "cell_type": "markdown",
      "source": [
        "## 1 . Starting with the imports"
      ],
      "metadata": {
        "id": "wpfBR-8HJDuX"
      }
    },
    {
      "cell_type": "code",
      "execution_count": null,
      "metadata": {
        "id": "b6BFmYyfGXkU"
      },
      "outputs": [],
      "source": [
        "# Import the libraries\n",
        "import tensorflow as tf\n",
        "import numpy as np\n",
        "import pandas as pd\n",
        "import matplotlib.pyplot as plt"
      ]
    },
    {
      "cell_type": "markdown",
      "source": [
        "## 2. Get the Data"
      ],
      "metadata": {
        "id": "j4kHAcu_M_-x"
      }
    },
    {
      "cell_type": "code",
      "source": [
        "# Get the data\n",
        "!wget https://raw.githubusercontent.com/lazyprogrammer/machine_learning_examples/master/tf2.0/moore.csv"
      ],
      "metadata": {
        "colab": {
          "base_uri": "https://localhost:8080/"
        },
        "id": "Vvl7c5J-JSti",
        "outputId": "7265728a-f342-447b-bfed-ced920d16319"
      },
      "execution_count": null,
      "outputs": [
        {
          "output_type": "stream",
          "name": "stdout",
          "text": [
            "--2023-09-14 11:40:54--  https://raw.githubusercontent.com/lazyprogrammer/machine_learning_examples/master/tf2.0/moore.csv\n",
            "Resolving raw.githubusercontent.com (raw.githubusercontent.com)... 185.199.108.133, 185.199.109.133, 185.199.110.133, ...\n",
            "Connecting to raw.githubusercontent.com (raw.githubusercontent.com)|185.199.108.133|:443... connected.\n",
            "HTTP request sent, awaiting response... 200 OK\n",
            "Length: 2302 (2.2K) [text/plain]\n",
            "Saving to: ‘moore.csv’\n",
            "\n",
            "\rmoore.csv             0%[                    ]       0  --.-KB/s               \rmoore.csv           100%[===================>]   2.25K  --.-KB/s    in 0s      \n",
            "\n",
            "2023-09-14 11:40:54 (53.5 MB/s) - ‘moore.csv’ saved [2302/2302]\n",
            "\n"
          ]
        }
      ]
    },
    {
      "cell_type": "code",
      "source": [
        "# Load the data\n",
        "data = pd.read_csv('moore.csv', header = None).to_numpy()\n",
        "data"
      ],
      "metadata": {
        "colab": {
          "base_uri": "https://localhost:8080/"
        },
        "id": "giOPHTkOKC-U",
        "outputId": "06909ddb-35b5-436a-b762-20d20813041a"
      },
      "execution_count": null,
      "outputs": [
        {
          "output_type": "execute_result",
          "data": {
            "text/plain": [
              "array([[       1971,        2300],\n",
              "       [       1972,        3500],\n",
              "       [       1973,        2500],\n",
              "       [       1973,        2500],\n",
              "       [       1974,        4100],\n",
              "       [       1974,        4500],\n",
              "       [       1974,        8000],\n",
              "       [       1975,        3510],\n",
              "       [       1976,        5000],\n",
              "       [       1976,        8500],\n",
              "       [       1976,        6500],\n",
              "       [       1978,        9000],\n",
              "       [       1978,       29000],\n",
              "       [       1979,       17500],\n",
              "       [       1979,       29000],\n",
              "       [       1979,       68000],\n",
              "       [       1981,       11500],\n",
              "       [       1982,       55000],\n",
              "       [       1982,      134000],\n",
              "       [       1983,       22000],\n",
              "       [       1984,       63000],\n",
              "       [       1984,      190000],\n",
              "       [       1985,      275000],\n",
              "       [       1985,       25000],\n",
              "       [       1985,       16000],\n",
              "       [       1986,      110000],\n",
              "       [       1986,      375000],\n",
              "       [       1986,       30000],\n",
              "       [       1987,      385000],\n",
              "       [       1987,      730000],\n",
              "       [       1987,      273000],\n",
              "       [       1987,      553000],\n",
              "       [       1988,      180000],\n",
              "       [       1988,      250000],\n",
              "       [       1989,      600000],\n",
              "       [       1989,     1000000],\n",
              "       [       1989,     1180235],\n",
              "       [       1989,      310000],\n",
              "       [       1990,     1200000],\n",
              "       [       1991,     1350000],\n",
              "       [       1991,       35000],\n",
              "       [       1992,      600000],\n",
              "       [       1992,      900000],\n",
              "       [       1993,     2800000],\n",
              "       [       1993,     3100000],\n",
              "       [       1994,      578977],\n",
              "       [       1994,     2500000],\n",
              "       [       1995,     2500000],\n",
              "       [       1999,      111000],\n",
              "       [       1995,     5500000],\n",
              "       [       1996,     4300000],\n",
              "       [       1997,    10000000],\n",
              "       [       1997,     7500000],\n",
              "       [       1997,     8800000],\n",
              "       [       1998,     7500000],\n",
              "       [       1999,     9500000],\n",
              "       [       1999,    13500000],\n",
              "       [       2000,    21000000],\n",
              "       [       2000,    21000000],\n",
              "       [       1999,    27400000],\n",
              "       [       1999,    21300000],\n",
              "       [       1999,    22000000],\n",
              "       [       2000,    42000000],\n",
              "       [       2001,   191000000],\n",
              "       [       2001,    45000000],\n",
              "       [       2002,    55000000],\n",
              "       [       2004,   112000000],\n",
              "       [       2004,   400000000],\n",
              "       [       2005,   169000000],\n",
              "       [       2006,   184000000],\n",
              "       [       2005,   228000000],\n",
              "       [       2006,   362000000],\n",
              "       [       2007,   540000000],\n",
              "       [       2008,    47000000],\n",
              "       [       2003,    54300000],\n",
              "       [       2003,   105900000],\n",
              "       [       2002,   220000000],\n",
              "       [       2005,   165000000],\n",
              "       [       2005,   250000000],\n",
              "       [       2006,   291000000],\n",
              "       [       2007,   169000000],\n",
              "       [       2003,   410000000],\n",
              "       [       2008,   600000000],\n",
              "       [       2009,   760000000],\n",
              "       [       2011,  1870000000],\n",
              "       [       2012,   432000000],\n",
              "       [       2007,   463000000],\n",
              "       [       2007,    26000000],\n",
              "       [       2008,   230000000],\n",
              "       [       2004,   592000000],\n",
              "       [       2007,   411000000],\n",
              "       [       2008,   731000000],\n",
              "       [       2008,   758000000],\n",
              "       [       2007,   789000000],\n",
              "       [       2009,   904000000],\n",
              "       [       2010,  1000000000],\n",
              "       [       2012,  2990000000],\n",
              "       [       2013,  1000000000],\n",
              "       [       2011,  1160000000],\n",
              "       [       2010,  1170000000],\n",
              "       [       2010,  1200000000],\n",
              "       [       2012,  1200000000],\n",
              "       [       2012,  1303000000],\n",
              "       [       2010,  1400000000],\n",
              "       [       2012,  1400000000],\n",
              "       [       2014,  1400000000],\n",
              "       [       2006,  1700000000],\n",
              "       [       2015,  1750000000],\n",
              "       [       2013,  1860000000],\n",
              "       [       2015,  1900000000],\n",
              "       [       2008,  1900000000],\n",
              "       [       2010,  2000000000],\n",
              "       [       2014,  2000000000],\n",
              "       [       2015,  2000000000],\n",
              "       [       2015,  3000000000],\n",
              "       [       2012,  2100000000],\n",
              "       [       2011,  2270000000],\n",
              "       [       2010,  2300000000],\n",
              "       [       2014,  2600000000],\n",
              "       [       2011,  2600000000],\n",
              "       [       2012,  2750000000],\n",
              "       [       2014,  3000000000],\n",
              "       [       2016,  3000000000],\n",
              "       [       2017,  5300000000],\n",
              "       [       2017,  5300000000],\n",
              "       [       2018,  8500000000],\n",
              "       [       2012,  3100000000],\n",
              "       [       2016,  3200000000],\n",
              "       [       2016,  3300000000],\n",
              "       [       2015,  3990000000],\n",
              "       [       2013,  4200000000],\n",
              "       [       2017,  4300000000],\n",
              "       [       2014,  4310000000],\n",
              "       [       2017,  4800000000],\n",
              "       [       2017,  4800000000],\n",
              "       [       2017,  4800000000],\n",
              "       [       2012,  5000000000],\n",
              "       [       2013,  5000000000],\n",
              "       [       2014,  5560000000],\n",
              "       [       2017,  6100000000],\n",
              "       [       2018,  6900000000],\n",
              "       [       2016,  4000000000],\n",
              "       [       2018,  6900000000],\n",
              "       [       2017,  5500000000],\n",
              "       [       2018,  5500000000],\n",
              "       [       2017,  7000000000],\n",
              "       [       2015,  7100000000],\n",
              "       [       2017,  8000000000],\n",
              "       [       2016,  7200000000],\n",
              "       [       2017,  8000000000],\n",
              "       [       2016,  8000000000],\n",
              "       [       2017,  9700000000],\n",
              "       [       2017,   250000000],\n",
              "       [       2015, 10000000000],\n",
              "       [       2017,  5450000000],\n",
              "       [       2018, 10000000000],\n",
              "       [       2017,  4300000000],\n",
              "       [       2017, 18000000000],\n",
              "       [       2017, 19200000000],\n",
              "       [       2018,  8876000000],\n",
              "       [       2018, 23600000000],\n",
              "       [       2018,  9000000000]])"
            ]
          },
          "metadata": {},
          "execution_count": 3
        }
      ]
    },
    {
      "cell_type": "markdown",
      "source": [
        "## 3. Preparing the data"
      ],
      "metadata": {
        "id": "7XBQVpR5N2YN"
      }
    },
    {
      "cell_type": "code",
      "source": [
        "# making an N x D\n",
        "X = data[:,0].reshape(-1, 1)\n",
        "y = data[:,1]"
      ],
      "metadata": {
        "id": "bI8TSkk8N2EB"
      },
      "execution_count": null,
      "outputs": []
    },
    {
      "cell_type": "code",
      "source": [
        "arr = np.arange(10).reshape([5,2])\n",
        "arr"
      ],
      "metadata": {
        "colab": {
          "base_uri": "https://localhost:8080/"
        },
        "id": "kR_X5jByM2fU",
        "outputId": "3b189432-9c9c-40e6-9058-a88424b01e57"
      },
      "execution_count": null,
      "outputs": [
        {
          "output_type": "execute_result",
          "data": {
            "text/plain": [
              "array([[0, 1],\n",
              "       [2, 3],\n",
              "       [4, 5],\n",
              "       [6, 7],\n",
              "       [8, 9]])"
            ]
          },
          "metadata": {},
          "execution_count": 5
        }
      ]
    },
    {
      "cell_type": "code",
      "source": [
        "arr.reshape(-1, 1)"
      ],
      "metadata": {
        "colab": {
          "base_uri": "https://localhost:8080/"
        },
        "id": "AxKEMSm-M5bp",
        "outputId": "37abc570-8e41-4ae3-dfb3-22656002b844"
      },
      "execution_count": null,
      "outputs": [
        {
          "output_type": "execute_result",
          "data": {
            "text/plain": [
              "array([[0],\n",
              "       [1],\n",
              "       [2],\n",
              "       [3],\n",
              "       [4],\n",
              "       [5],\n",
              "       [6],\n",
              "       [7],\n",
              "       [8],\n",
              "       [9]])"
            ]
          },
          "metadata": {},
          "execution_count": 6
        }
      ]
    },
    {
      "cell_type": "markdown",
      "source": [
        "## 4. Visualize the data"
      ],
      "metadata": {
        "id": "KfYgk7JuOLQl"
      }
    },
    {
      "cell_type": "code",
      "source": [
        "# plot the data\n",
        "plt.scatter(X,y)\n",
        "plt.show()"
      ],
      "metadata": {
        "colab": {
          "base_uri": "https://localhost:8080/",
          "height": 445
        },
        "id": "ctO23NIKNvBA",
        "outputId": "750efd43-4ebe-4f2d-e251-fffd4eef6d15"
      },
      "execution_count": null,
      "outputs": [
        {
          "output_type": "display_data",
          "data": {
            "text/plain": [
              "<Figure size 640x480 with 1 Axes>"
            ],
            "image/png": "[encoded data removed]"
          },
          "metadata": {}
        }
      ]
    },
    {
      "cell_type": "markdown",
      "source": [
        "We can see the data is growing exponentially on the above plot. To make it a Linear Regression problem we need to take log on both sides. It will make the data fall into  straight line."
      ],
      "metadata": {
        "id": "bFKHvLmfOf0F"
      }
    },
    {
      "cell_type": "code",
      "source": [
        "# Let's take the log on both sides\n",
        "Y = np.log(y)\n",
        "plt.scatter(X, Y);"
      ],
      "metadata": {
        "colab": {
          "base_uri": "https://localhost:8080/",
          "height": 430
        },
        "id": "GEFKNiKHORxw",
        "outputId": "d9b6b2cd-da41-4242-8a04-ddedca4c937e"
      },
      "execution_count": null,
      "outputs": [
        {
          "output_type": "display_data",
          "data": {
            "text/plain": [
              "<Figure size 640x480 with 1 Axes>"
            ],
            "image/png": "[encoded data removed]"
          },
          "metadata": {}
        }
      ]
    },
    {
      "cell_type": "markdown",
      "source": [
        "## 5. Preprocess the data\n",
        "\n",
        "The most basic types of preprocessing involves mean centering the data, that is : `x - mean(x)` or standardizing the data that is : `X/std(x)`.\n",
        "\n",
        "The goal of mean normalization is to make the data centered around zero and have a similar scale, which can be helpful in various machine learning algorithms, especially those sensitive to the scale of input features. This process can also improve the convergence of optimization algorithms."
      ],
      "metadata": {
        "id": "myZq7TMaOcaJ"
      }
    },
    {
      "cell_type": "code",
      "source": [
        "# Let's perform mean centering the data or normalizing the data\n",
        "X = X - X.mean()"
      ],
      "metadata": {
        "id": "xzkjQNlGQ9zs"
      },
      "execution_count": null,
      "outputs": []
    },
    {
      "cell_type": "markdown",
      "source": [
        "## 6. Build the model"
      ],
      "metadata": {
        "id": "CI_GXYWkQ9xt"
      }
    },
    {
      "cell_type": "code",
      "source": [
        "# Lets create the model\n",
        "model_1 = tf.keras.Sequential([\n",
        "    tf.keras.layers.Input(shape = (1,)),\n",
        "    tf.keras.layers.Dense(1)\n",
        "])\n",
        "\n",
        "# Compile the model\n",
        "model_1.compile(loss = tf.keras.losses.MeanSquaredError(),\n",
        "                optimizer = tf.keras.optimizers.SGD(learning_rate = 0.001, momentum = 0.9),\n",
        "                metrics = ['mse'])"
      ],
      "metadata": {
        "id": "yd0CNrQjQ9tz"
      },
      "execution_count": null,
      "outputs": []
    },
    {
      "cell_type": "markdown",
      "source": [
        "## 7. Creating a learning rate callback"
      ],
      "metadata": {
        "id": "DI2Igm9zXaYo"
      }
    },
    {
      "cell_type": "code",
      "source": [
        "# Define a learing rate scheduler\n",
        "def learning_rate_scheduler(epoch, learning_rate):\n",
        "  \"\"\"\n",
        "  This function takes epoch and learning rate as it's parameters. It returns\n",
        "  the learning rate to be used based on the number of epochs.\n",
        "  \"\"\"\n",
        "\n",
        "  if epoch >= 50:\n",
        "    return 0.0001\n",
        "\n",
        "  else:\n",
        "    return 0.001\n",
        "\n",
        "# Let's create a learning rate callback for our scheduler\n",
        "scheduler = tf.keras.callbacks.LearningRateScheduler(learning_rate_scheduler)"
      ],
      "metadata": {
        "id": "wNgmxHSuQ9rK"
      },
      "execution_count": null,
      "outputs": []
    },
    {
      "cell_type": "markdown",
      "source": [
        "## 8. Fit the model"
      ],
      "metadata": {
        "id": "ZyHv9mEpXgdn"
      }
    },
    {
      "cell_type": "code",
      "source": [
        "# Fit the model\n",
        "history = model_1.fit(X, Y, epochs = 200, callbacks  = [scheduler])"
      ],
      "metadata": {
        "colab": {
          "base_uri": "https://localhost:8080/"
        },
        "id": "tnJq4uyCQ9of",
        "outputId": "6f993a91-a69f-4332-8a20-4a399b150c63"
      },
      "execution_count": null,
      "outputs": [
        {
          "output_type": "stream",
          "name": "stdout",
          "text": [
            "Epoch 1/200\n",
            "6/6 [==============================] - 1s 6ms/step - loss: 316.9594 - mse: 316.9594 - lr: 0.0010\n",
            "Epoch 2/200\n",
            "6/6 [==============================] - 0s 3ms/step - loss: 332.3445 - mse: 332.3445 - lr: 0.0010\n",
            "Epoch 3/200\n",
            "6/6 [==============================] - 0s 4ms/step - loss: 243.2590 - mse: 243.2590 - lr: 0.0010\n",
            "Epoch 4/200\n",
            "6/6 [==============================] - 0s 3ms/step - loss: 212.4345 - mse: 212.4345 - lr: 0.0010\n",
            "Epoch 5/200\n",
            "6/6 [==============================] - 0s 3ms/step - loss: 180.3390 - mse: 180.3390 - lr: 0.0010\n",
            "Epoch 6/200\n",
            "6/6 [==============================] - 0s 3ms/step - loss: 121.8642 - mse: 121.8642 - lr: 0.0010\n",
            "Epoch 7/200\n",
            "6/6 [==============================] - 0s 4ms/step - loss: 88.5448 - mse: 88.5448 - lr: 0.0010\n",
            "Epoch 8/200\n",
            "6/6 [==============================] - 0s 4ms/step - loss: 62.7253 - mse: 62.7253 - lr: 0.0010\n",
            "Epoch 9/200\n",
            "6/6 [==============================] - 0s 4ms/step - loss: 45.1789 - mse: 45.1789 - lr: 0.0010\n",
            "Epoch 10/200\n",
            "6/6 [==============================] - 0s 4ms/step - loss: 33.1252 - mse: 33.1252 - lr: 0.0010\n",
            "Epoch 11/200\n",
            "6/6 [==============================] - 0s 4ms/step - loss: 27.1215 - mse: 27.1215 - lr: 0.0010\n",
            "Epoch 12/200\n",
            "6/6 [==============================] - 0s 4ms/step - loss: 18.1161 - mse: 18.1161 - lr: 0.0010\n",
            "Epoch 13/200\n",
            "6/6 [==============================] - 0s 4ms/step - loss: 13.7751 - mse: 13.7751 - lr: 0.0010\n",
            "Epoch 14/200\n",
            "6/6 [==============================] - 0s 4ms/step - loss: 10.7349 - mse: 10.7349 - lr: 0.0010\n",
            "Epoch 15/200\n",
            "6/6 [==============================] - 0s 4ms/step - loss: 7.6018 - mse: 7.6018 - lr: 0.0010\n",
            "Epoch 16/200\n",
            "6/6 [==============================] - 0s 3ms/step - loss: 5.8411 - mse: 5.8411 - lr: 0.0010\n",
            "Epoch 17/200\n",
            "6/6 [==============================] - 0s 5ms/step - loss: 6.5496 - mse: 6.5496 - lr: 0.0010\n",
            "Epoch 18/200\n",
            "6/6 [==============================] - 0s 3ms/step - loss: 6.1239 - mse: 6.1239 - lr: 0.0010\n",
            "Epoch 19/200\n",
            "6/6 [==============================] - 0s 3ms/step - loss: 6.0343 - mse: 6.0343 - lr: 0.0010\n",
            "Epoch 20/200\n",
            "6/6 [==============================] - 0s 3ms/step - loss: 5.3914 - mse: 5.3914 - lr: 0.0010\n",
            "Epoch 21/200\n",
            "6/6 [==============================] - 0s 3ms/step - loss: 5.1975 - mse: 5.1975 - lr: 0.0010\n",
            "Epoch 22/200\n",
            "6/6 [==============================] - 0s 3ms/step - loss: 3.3804 - mse: 3.3804 - lr: 0.0010\n",
            "Epoch 23/200\n",
            "6/6 [==============================] - 0s 3ms/step - loss: 2.1643 - mse: 2.1643 - lr: 0.0010\n",
            "Epoch 24/200\n",
            "6/6 [==============================] - 0s 3ms/step - loss: 2.0620 - mse: 2.0620 - lr: 0.0010\n",
            "Epoch 25/200\n",
            "6/6 [==============================] - 0s 3ms/step - loss: 1.6580 - mse: 1.6580 - lr: 0.0010\n",
            "Epoch 26/200\n",
            "6/6 [==============================] - 0s 4ms/step - loss: 1.3842 - mse: 1.3842 - lr: 0.0010\n",
            "Epoch 27/200\n",
            "6/6 [==============================] - 0s 3ms/step - loss: 1.2906 - mse: 1.2906 - lr: 0.0010\n",
            "Epoch 28/200\n",
            "6/6 [==============================] - 0s 4ms/step - loss: 1.0245 - mse: 1.0245 - lr: 0.0010\n",
            "Epoch 29/200\n",
            "6/6 [==============================] - 0s 5ms/step - loss: 0.9768 - mse: 0.9768 - lr: 0.0010\n",
            "Epoch 30/200\n",
            "6/6 [==============================] - 0s 5ms/step - loss: 0.9821 - mse: 0.9821 - lr: 0.0010\n",
            "Epoch 31/200\n",
            "6/6 [==============================] - 0s 5ms/step - loss: 1.0107 - mse: 1.0107 - lr: 0.0010\n",
            "Epoch 32/200\n",
            "6/6 [==============================] - 0s 5ms/step - loss: 0.9188 - mse: 0.9188 - lr: 0.0010\n",
            "Epoch 33/200\n",
            "6/6 [==============================] - 0s 4ms/step - loss: 0.9226 - mse: 0.9226 - lr: 0.0010\n",
            "Epoch 34/200\n",
            "6/6 [==============================] - 0s 4ms/step - loss: 1.0008 - mse: 1.0008 - lr: 0.0010\n",
            "Epoch 35/200\n",
            "6/6 [==============================] - 0s 5ms/step - loss: 1.0088 - mse: 1.0088 - lr: 0.0010\n",
            "Epoch 36/200\n",
            "6/6 [==============================] - 0s 6ms/step - loss: 1.0516 - mse: 1.0516 - lr: 0.0010\n",
            "Epoch 37/200\n",
            "6/6 [==============================] - 0s 3ms/step - loss: 0.9387 - mse: 0.9387 - lr: 0.0010\n",
            "Epoch 38/200\n",
            "6/6 [==============================] - 0s 3ms/step - loss: 0.9434 - mse: 0.9434 - lr: 0.0010\n",
            "Epoch 39/200\n",
            "6/6 [==============================] - 0s 4ms/step - loss: 0.9230 - mse: 0.9230 - lr: 0.0010\n",
            "Epoch 40/200\n",
            "6/6 [==============================] - 0s 3ms/step - loss: 1.5201 - mse: 1.5201 - lr: 0.0010\n",
            "Epoch 41/200\n",
            "6/6 [==============================] - 0s 3ms/step - loss: 1.0754 - mse: 1.0754 - lr: 0.0010\n",
            "Epoch 42/200\n",
            "6/6 [==============================] - 0s 3ms/step - loss: 1.0443 - mse: 1.0443 - lr: 0.0010\n",
            "Epoch 43/200\n",
            "6/6 [==============================] - 0s 3ms/step - loss: 1.0416 - mse: 1.0416 - lr: 0.0010\n",
            "Epoch 44/200\n",
            "6/6 [==============================] - 0s 3ms/step - loss: 1.0460 - mse: 1.0460 - lr: 0.0010\n",
            "Epoch 45/200\n",
            "6/6 [==============================] - 0s 4ms/step - loss: 0.9180 - mse: 0.9180 - lr: 0.0010\n",
            "Epoch 46/200\n",
            "6/6 [==============================] - 0s 3ms/step - loss: 0.8950 - mse: 0.8950 - lr: 0.0010\n",
            "Epoch 47/200\n",
            "6/6 [==============================] - 0s 4ms/step - loss: 0.9020 - mse: 0.9020 - lr: 0.0010\n",
            "Epoch 48/200\n",
            "6/6 [==============================] - 0s 3ms/step - loss: 1.0966 - mse: 1.0966 - lr: 0.0010\n",
            "Epoch 49/200\n",
            "6/6 [==============================] - 0s 2ms/step - loss: 0.9433 - mse: 0.9433 - lr: 0.0010\n",
            "Epoch 50/200\n",
            "6/6 [==============================] - 0s 3ms/step - loss: 0.9078 - mse: 0.9078 - lr: 0.0010\n",
            "Epoch 51/200\n",
            "6/6 [==============================] - 0s 3ms/step - loss: 0.9647 - mse: 0.9647 - lr: 1.0000e-04\n",
            "Epoch 52/200\n",
            "6/6 [==============================] - 0s 3ms/step - loss: 1.1976 - mse: 1.1976 - lr: 1.0000e-04\n",
            "Epoch 53/200\n",
            "6/6 [==============================] - 0s 2ms/step - loss: 0.9552 - mse: 0.9552 - lr: 1.0000e-04\n",
            "Epoch 54/200\n",
            "6/6 [==============================] - 0s 4ms/step - loss: 0.9215 - mse: 0.9215 - lr: 1.0000e-04\n",
            "Epoch 55/200\n",
            "6/6 [==============================] - 0s 3ms/step - loss: 0.9712 - mse: 0.9712 - lr: 1.0000e-04\n",
            "Epoch 56/200\n",
            "6/6 [==============================] - 0s 3ms/step - loss: 0.8768 - mse: 0.8768 - lr: 1.0000e-04\n",
            "Epoch 57/200\n",
            "6/6 [==============================] - 0s 3ms/step - loss: 0.8938 - mse: 0.8938 - lr: 1.0000e-04\n",
            "Epoch 58/200\n",
            "6/6 [==============================] - 0s 3ms/step - loss: 0.8986 - mse: 0.8986 - lr: 1.0000e-04\n",
            "Epoch 59/200\n",
            "6/6 [==============================] - 0s 2ms/step - loss: 0.8813 - mse: 0.8813 - lr: 1.0000e-04\n",
            "Epoch 60/200\n",
            "6/6 [==============================] - 0s 3ms/step - loss: 0.8780 - mse: 0.8780 - lr: 1.0000e-04\n",
            "Epoch 61/200\n",
            "6/6 [==============================] - 0s 2ms/step - loss: 0.8727 - mse: 0.8727 - lr: 1.0000e-04\n",
            "Epoch 62/200\n",
            "6/6 [==============================] - 0s 3ms/step - loss: 0.9169 - mse: 0.9169 - lr: 1.0000e-04\n",
            "Epoch 63/200\n",
            "6/6 [==============================] - 0s 3ms/step - loss: 0.9044 - mse: 0.9044 - lr: 1.0000e-04\n",
            "Epoch 64/200\n",
            "6/6 [==============================] - 0s 3ms/step - loss: 0.8892 - mse: 0.8892 - lr: 1.0000e-04\n",
            "Epoch 65/200\n",
            "6/6 [==============================] - 0s 3ms/step - loss: 0.9220 - mse: 0.9220 - lr: 1.0000e-04\n",
            "Epoch 66/200\n",
            "6/6 [==============================] - 0s 3ms/step - loss: 0.8888 - mse: 0.8888 - lr: 1.0000e-04\n",
            "Epoch 67/200\n",
            "6/6 [==============================] - 0s 3ms/step - loss: 0.8843 - mse: 0.8843 - lr: 1.0000e-04\n",
            "Epoch 68/200\n",
            "6/6 [==============================] - 0s 3ms/step - loss: 0.8720 - mse: 0.8720 - lr: 1.0000e-04\n",
            "Epoch 69/200\n",
            "6/6 [==============================] - 0s 3ms/step - loss: 0.8714 - mse: 0.8714 - lr: 1.0000e-04\n",
            "Epoch 70/200\n",
            "6/6 [==============================] - 0s 3ms/step - loss: 0.8743 - mse: 0.8743 - lr: 1.0000e-04\n",
            "Epoch 71/200\n",
            "6/6 [==============================] - 0s 2ms/step - loss: 0.8711 - mse: 0.8711 - lr: 1.0000e-04\n",
            "Epoch 72/200\n",
            "6/6 [==============================] - 0s 3ms/step - loss: 0.8703 - mse: 0.8703 - lr: 1.0000e-04\n",
            "Epoch 73/200\n",
            "6/6 [==============================] - 0s 3ms/step - loss: 0.8720 - mse: 0.8720 - lr: 1.0000e-04\n",
            "Epoch 74/200\n",
            "6/6 [==============================] - 0s 3ms/step - loss: 0.8669 - mse: 0.8669 - lr: 1.0000e-04\n",
            "Epoch 75/200\n",
            "6/6 [==============================] - 0s 3ms/step - loss: 0.8844 - mse: 0.8844 - lr: 1.0000e-04\n",
            "Epoch 76/200\n",
            "6/6 [==============================] - 0s 3ms/step - loss: 0.8740 - mse: 0.8740 - lr: 1.0000e-04\n",
            "Epoch 77/200\n",
            "6/6 [==============================] - 0s 3ms/step - loss: 0.8721 - mse: 0.8721 - lr: 1.0000e-04\n",
            "Epoch 78/200\n",
            "6/6 [==============================] - 0s 3ms/step - loss: 0.8715 - mse: 0.8715 - lr: 1.0000e-04\n",
            "Epoch 79/200\n",
            "6/6 [==============================] - 0s 3ms/step - loss: 0.8713 - mse: 0.8713 - lr: 1.0000e-04\n",
            "Epoch 80/200\n",
            "6/6 [==============================] - 0s 3ms/step - loss: 0.8731 - mse: 0.8731 - lr: 1.0000e-04\n",
            "Epoch 81/200\n",
            "6/6 [==============================] - 0s 5ms/step - loss: 0.8695 - mse: 0.8695 - lr: 1.0000e-04\n",
            "Epoch 82/200\n",
            "6/6 [==============================] - 0s 3ms/step - loss: 0.8757 - mse: 0.8757 - lr: 1.0000e-04\n",
            "Epoch 83/200\n",
            "6/6 [==============================] - 0s 3ms/step - loss: 0.8765 - mse: 0.8765 - lr: 1.0000e-04\n",
            "Epoch 84/200\n",
            "6/6 [==============================] - 0s 3ms/step - loss: 0.8701 - mse: 0.8701 - lr: 1.0000e-04\n",
            "Epoch 85/200\n",
            "6/6 [==============================] - 0s 3ms/step - loss: 0.8717 - mse: 0.8717 - lr: 1.0000e-04\n",
            "Epoch 86/200\n",
            "6/6 [==============================] - 0s 3ms/step - loss: 0.8723 - mse: 0.8723 - lr: 1.0000e-04\n",
            "Epoch 87/200\n",
            "6/6 [==============================] - 0s 4ms/step - loss: 0.8819 - mse: 0.8819 - lr: 1.0000e-04\n",
            "Epoch 88/200\n",
            "6/6 [==============================] - 0s 3ms/step - loss: 0.8784 - mse: 0.8784 - lr: 1.0000e-04\n",
            "Epoch 89/200\n",
            "6/6 [==============================] - 0s 3ms/step - loss: 0.8719 - mse: 0.8719 - lr: 1.0000e-04\n",
            "Epoch 90/200\n",
            "6/6 [==============================] - 0s 3ms/step - loss: 0.8782 - mse: 0.8782 - lr: 1.0000e-04\n",
            "Epoch 91/200\n",
            "6/6 [==============================] - 0s 3ms/step - loss: 0.8737 - mse: 0.8737 - lr: 1.0000e-04\n",
            "Epoch 92/200\n",
            "6/6 [==============================] - 0s 3ms/step - loss: 0.8752 - mse: 0.8752 - lr: 1.0000e-04\n",
            "Epoch 93/200\n",
            "6/6 [==============================] - 0s 3ms/step - loss: 0.8748 - mse: 0.8748 - lr: 1.0000e-04\n",
            "Epoch 94/200\n",
            "6/6 [==============================] - 0s 3ms/step - loss: 0.8719 - mse: 0.8719 - lr: 1.0000e-04\n",
            "Epoch 95/200\n",
            "6/6 [==============================] - 0s 3ms/step - loss: 0.8722 - mse: 0.8722 - lr: 1.0000e-04\n",
            "Epoch 96/200\n",
            "6/6 [==============================] - 0s 3ms/step - loss: 0.9038 - mse: 0.9038 - lr: 1.0000e-04\n",
            "Epoch 97/200\n",
            "6/6 [==============================] - 0s 3ms/step - loss: 0.9735 - mse: 0.9735 - lr: 1.0000e-04\n",
            "Epoch 98/200\n",
            "6/6 [==============================] - 0s 3ms/step - loss: 0.9158 - mse: 0.9158 - lr: 1.0000e-04\n",
            "Epoch 99/200\n",
            "6/6 [==============================] - 0s 3ms/step - loss: 0.8858 - mse: 0.8858 - lr: 1.0000e-04\n",
            "Epoch 100/200\n",
            "6/6 [==============================] - 0s 3ms/step - loss: 0.8982 - mse: 0.8982 - lr: 1.0000e-04\n",
            "Epoch 101/200\n",
            "6/6 [==============================] - 0s 5ms/step - loss: 0.8803 - mse: 0.8803 - lr: 1.0000e-04\n",
            "Epoch 102/200\n",
            "6/6 [==============================] - 0s 3ms/step - loss: 0.8718 - mse: 0.8718 - lr: 1.0000e-04\n",
            "Epoch 103/200\n",
            "6/6 [==============================] - 0s 3ms/step - loss: 0.8707 - mse: 0.8707 - lr: 1.0000e-04\n",
            "Epoch 104/200\n",
            "6/6 [==============================] - 0s 3ms/step - loss: 0.8886 - mse: 0.8886 - lr: 1.0000e-04\n",
            "Epoch 105/200\n",
            "6/6 [==============================] - 0s 5ms/step - loss: 0.8666 - mse: 0.8666 - lr: 1.0000e-04\n",
            "Epoch 106/200\n",
            "6/6 [==============================] - 0s 2ms/step - loss: 0.8761 - mse: 0.8761 - lr: 1.0000e-04\n",
            "Epoch 107/200\n",
            "6/6 [==============================] - 0s 3ms/step - loss: 0.8755 - mse: 0.8755 - lr: 1.0000e-04\n",
            "Epoch 108/200\n",
            "6/6 [==============================] - 0s 3ms/step - loss: 0.8823 - mse: 0.8823 - lr: 1.0000e-04\n",
            "Epoch 109/200\n",
            "6/6 [==============================] - 0s 3ms/step - loss: 0.8819 - mse: 0.8819 - lr: 1.0000e-04\n",
            "Epoch 110/200\n",
            "6/6 [==============================] - 0s 3ms/step - loss: 0.8667 - mse: 0.8667 - lr: 1.0000e-04\n",
            "Epoch 111/200\n",
            "6/6 [==============================] - 0s 3ms/step - loss: 0.8716 - mse: 0.8716 - lr: 1.0000e-04\n",
            "Epoch 112/200\n",
            "6/6 [==============================] - 0s 6ms/step - loss: 0.8847 - mse: 0.8847 - lr: 1.0000e-04\n",
            "Epoch 113/200\n",
            "6/6 [==============================] - 0s 7ms/step - loss: 0.8844 - mse: 0.8844 - lr: 1.0000e-04\n",
            "Epoch 114/200\n",
            "6/6 [==============================] - 0s 6ms/step - loss: 0.8777 - mse: 0.8777 - lr: 1.0000e-04\n",
            "Epoch 115/200\n",
            "6/6 [==============================] - 0s 5ms/step - loss: 0.8915 - mse: 0.8915 - lr: 1.0000e-04\n",
            "Epoch 116/200\n",
            "6/6 [==============================] - 0s 6ms/step - loss: 0.8846 - mse: 0.8846 - lr: 1.0000e-04\n",
            "Epoch 117/200\n",
            "6/6 [==============================] - 0s 5ms/step - loss: 0.8711 - mse: 0.8711 - lr: 1.0000e-04\n",
            "Epoch 118/200\n",
            "6/6 [==============================] - 0s 3ms/step - loss: 0.8723 - mse: 0.8723 - lr: 1.0000e-04\n",
            "Epoch 119/200\n",
            "6/6 [==============================] - 0s 4ms/step - loss: 0.8827 - mse: 0.8827 - lr: 1.0000e-04\n",
            "Epoch 120/200\n",
            "6/6 [==============================] - 0s 5ms/step - loss: 0.8888 - mse: 0.8888 - lr: 1.0000e-04\n",
            "Epoch 121/200\n",
            "6/6 [==============================] - 0s 8ms/step - loss: 0.8725 - mse: 0.8725 - lr: 1.0000e-04\n",
            "Epoch 122/200\n",
            "6/6 [==============================] - 0s 8ms/step - loss: 0.8780 - mse: 0.8780 - lr: 1.0000e-04\n",
            "Epoch 123/200\n",
            "6/6 [==============================] - 0s 4ms/step - loss: 0.8809 - mse: 0.8809 - lr: 1.0000e-04\n",
            "Epoch 124/200\n",
            "6/6 [==============================] - 0s 3ms/step - loss: 0.8715 - mse: 0.8715 - lr: 1.0000e-04\n",
            "Epoch 125/200\n",
            "6/6 [==============================] - 0s 3ms/step - loss: 0.8821 - mse: 0.8821 - lr: 1.0000e-04\n",
            "Epoch 126/200\n",
            "6/6 [==============================] - 0s 4ms/step - loss: 0.8902 - mse: 0.8902 - lr: 1.0000e-04\n",
            "Epoch 127/200\n",
            "6/6 [==============================] - 0s 4ms/step - loss: 0.8753 - mse: 0.8753 - lr: 1.0000e-04\n",
            "Epoch 128/200\n",
            "6/6 [==============================] - 0s 4ms/step - loss: 0.8789 - mse: 0.8789 - lr: 1.0000e-04\n",
            "Epoch 129/200\n",
            "6/6 [==============================] - 0s 4ms/step - loss: 0.9182 - mse: 0.9182 - lr: 1.0000e-04\n",
            "Epoch 130/200\n",
            "6/6 [==============================] - 0s 4ms/step - loss: 0.8917 - mse: 0.8917 - lr: 1.0000e-04\n",
            "Epoch 131/200\n",
            "6/6 [==============================] - 0s 5ms/step - loss: 0.8718 - mse: 0.8718 - lr: 1.0000e-04\n",
            "Epoch 132/200\n",
            "6/6 [==============================] - 0s 4ms/step - loss: 0.8893 - mse: 0.8893 - lr: 1.0000e-04\n",
            "Epoch 133/200\n",
            "6/6 [==============================] - 0s 4ms/step - loss: 0.8744 - mse: 0.8744 - lr: 1.0000e-04\n",
            "Epoch 134/200\n",
            "6/6 [==============================] - 0s 4ms/step - loss: 0.8970 - mse: 0.8970 - lr: 1.0000e-04\n",
            "Epoch 135/200\n",
            "6/6 [==============================] - 0s 6ms/step - loss: 0.8958 - mse: 0.8958 - lr: 1.0000e-04\n",
            "Epoch 136/200\n",
            "6/6 [==============================] - 0s 7ms/step - loss: 0.8725 - mse: 0.8725 - lr: 1.0000e-04\n",
            "Epoch 137/200\n",
            "6/6 [==============================] - 0s 4ms/step - loss: 0.8858 - mse: 0.8858 - lr: 1.0000e-04\n",
            "Epoch 138/200\n",
            "6/6 [==============================] - 0s 5ms/step - loss: 0.8799 - mse: 0.8799 - lr: 1.0000e-04\n",
            "Epoch 139/200\n",
            "6/6 [==============================] - 0s 4ms/step - loss: 0.8734 - mse: 0.8734 - lr: 1.0000e-04\n",
            "Epoch 140/200\n",
            "6/6 [==============================] - 0s 4ms/step - loss: 0.8753 - mse: 0.8753 - lr: 1.0000e-04\n",
            "Epoch 141/200\n",
            "6/6 [==============================] - 0s 4ms/step - loss: 0.8723 - mse: 0.8723 - lr: 1.0000e-04\n",
            "Epoch 142/200\n",
            "6/6 [==============================] - 0s 4ms/step - loss: 0.8750 - mse: 0.8750 - lr: 1.0000e-04\n",
            "Epoch 143/200\n",
            "6/6 [==============================] - 0s 4ms/step - loss: 0.8728 - mse: 0.8728 - lr: 1.0000e-04\n",
            "Epoch 144/200\n",
            "6/6 [==============================] - 0s 3ms/step - loss: 0.8767 - mse: 0.8767 - lr: 1.0000e-04\n",
            "Epoch 145/200\n",
            "6/6 [==============================] - 0s 4ms/step - loss: 0.8928 - mse: 0.8928 - lr: 1.0000e-04\n",
            "Epoch 146/200\n",
            "6/6 [==============================] - 0s 4ms/step - loss: 0.8683 - mse: 0.8683 - lr: 1.0000e-04\n",
            "Epoch 147/200\n",
            "6/6 [==============================] - 0s 4ms/step - loss: 0.8956 - mse: 0.8956 - lr: 1.0000e-04\n",
            "Epoch 148/200\n",
            "6/6 [==============================] - 0s 8ms/step - loss: 0.8875 - mse: 0.8875 - lr: 1.0000e-04\n",
            "Epoch 149/200\n",
            "6/6 [==============================] - 0s 4ms/step - loss: 0.8722 - mse: 0.8722 - lr: 1.0000e-04\n",
            "Epoch 150/200\n",
            "6/6 [==============================] - 0s 5ms/step - loss: 0.8737 - mse: 0.8737 - lr: 1.0000e-04\n",
            "Epoch 151/200\n",
            "6/6 [==============================] - 0s 4ms/step - loss: 0.8709 - mse: 0.8709 - lr: 1.0000e-04\n",
            "Epoch 152/200\n",
            "6/6 [==============================] - 0s 5ms/step - loss: 0.8708 - mse: 0.8708 - lr: 1.0000e-04\n",
            "Epoch 153/200\n",
            "6/6 [==============================] - 0s 4ms/step - loss: 0.8724 - mse: 0.8724 - lr: 1.0000e-04\n",
            "Epoch 154/200\n",
            "6/6 [==============================] - 0s 8ms/step - loss: 0.8739 - mse: 0.8739 - lr: 1.0000e-04\n",
            "Epoch 155/200\n",
            "6/6 [==============================] - 0s 5ms/step - loss: 0.8729 - mse: 0.8729 - lr: 1.0000e-04\n",
            "Epoch 156/200\n",
            "6/6 [==============================] - 0s 9ms/step - loss: 0.8967 - mse: 0.8967 - lr: 1.0000e-04\n",
            "Epoch 157/200\n",
            "6/6 [==============================] - 0s 5ms/step - loss: 0.9526 - mse: 0.9526 - lr: 1.0000e-04\n",
            "Epoch 158/200\n",
            "6/6 [==============================] - 0s 4ms/step - loss: 0.9150 - mse: 0.9150 - lr: 1.0000e-04\n",
            "Epoch 159/200\n",
            "6/6 [==============================] - 0s 4ms/step - loss: 0.8767 - mse: 0.8767 - lr: 1.0000e-04\n",
            "Epoch 160/200\n",
            "6/6 [==============================] - 0s 5ms/step - loss: 0.8821 - mse: 0.8821 - lr: 1.0000e-04\n",
            "Epoch 161/200\n",
            "6/6 [==============================] - 0s 5ms/step - loss: 0.8785 - mse: 0.8785 - lr: 1.0000e-04\n",
            "Epoch 162/200\n",
            "6/6 [==============================] - 0s 4ms/step - loss: 0.8708 - mse: 0.8708 - lr: 1.0000e-04\n",
            "Epoch 163/200\n",
            "6/6 [==============================] - 0s 4ms/step - loss: 0.8689 - mse: 0.8689 - lr: 1.0000e-04\n",
            "Epoch 164/200\n",
            "6/6 [==============================] - 0s 4ms/step - loss: 0.8763 - mse: 0.8763 - lr: 1.0000e-04\n",
            "Epoch 165/200\n",
            "6/6 [==============================] - 0s 4ms/step - loss: 0.8780 - mse: 0.8780 - lr: 1.0000e-04\n",
            "Epoch 166/200\n",
            "6/6 [==============================] - 0s 6ms/step - loss: 0.8708 - mse: 0.8708 - lr: 1.0000e-04\n",
            "Epoch 167/200\n",
            "6/6 [==============================] - 0s 10ms/step - loss: 0.8732 - mse: 0.8732 - lr: 1.0000e-04\n",
            "Epoch 168/200\n",
            "6/6 [==============================] - 0s 13ms/step - loss: 0.8902 - mse: 0.8902 - lr: 1.0000e-04\n",
            "Epoch 169/200\n",
            "6/6 [==============================] - 0s 9ms/step - loss: 0.8858 - mse: 0.8858 - lr: 1.0000e-04\n",
            "Epoch 170/200\n",
            "6/6 [==============================] - 0s 5ms/step - loss: 0.8776 - mse: 0.8776 - lr: 1.0000e-04\n",
            "Epoch 171/200\n",
            "6/6 [==============================] - 0s 5ms/step - loss: 0.8756 - mse: 0.8756 - lr: 1.0000e-04\n",
            "Epoch 172/200\n",
            "6/6 [==============================] - 0s 3ms/step - loss: 0.8709 - mse: 0.8709 - lr: 1.0000e-04\n",
            "Epoch 173/200\n",
            "6/6 [==============================] - 0s 3ms/step - loss: 0.8764 - mse: 0.8764 - lr: 1.0000e-04\n",
            "Epoch 174/200\n",
            "6/6 [==============================] - 0s 4ms/step - loss: 0.8749 - mse: 0.8749 - lr: 1.0000e-04\n",
            "Epoch 175/200\n",
            "6/6 [==============================] - 0s 3ms/step - loss: 0.8694 - mse: 0.8694 - lr: 1.0000e-04\n",
            "Epoch 176/200\n",
            "6/6 [==============================] - 0s 3ms/step - loss: 0.8714 - mse: 0.8714 - lr: 1.0000e-04\n",
            "Epoch 177/200\n",
            "6/6 [==============================] - 0s 5ms/step - loss: 0.8926 - mse: 0.8926 - lr: 1.0000e-04\n",
            "Epoch 178/200\n",
            "6/6 [==============================] - 0s 5ms/step - loss: 0.9088 - mse: 0.9088 - lr: 1.0000e-04\n",
            "Epoch 179/200\n",
            "6/6 [==============================] - 0s 3ms/step - loss: 0.8698 - mse: 0.8698 - lr: 1.0000e-04\n",
            "Epoch 180/200\n",
            "6/6 [==============================] - 0s 3ms/step - loss: 0.8775 - mse: 0.8775 - lr: 1.0000e-04\n",
            "Epoch 181/200\n",
            "6/6 [==============================] - 0s 3ms/step - loss: 0.8780 - mse: 0.8780 - lr: 1.0000e-04\n",
            "Epoch 182/200\n",
            "6/6 [==============================] - 0s 5ms/step - loss: 0.8755 - mse: 0.8755 - lr: 1.0000e-04\n",
            "Epoch 183/200\n",
            "6/6 [==============================] - 0s 4ms/step - loss: 0.8778 - mse: 0.8778 - lr: 1.0000e-04\n",
            "Epoch 184/200\n",
            "6/6 [==============================] - 0s 9ms/step - loss: 0.8757 - mse: 0.8757 - lr: 1.0000e-04\n",
            "Epoch 185/200\n",
            "6/6 [==============================] - 0s 4ms/step - loss: 0.8730 - mse: 0.8730 - lr: 1.0000e-04\n",
            "Epoch 186/200\n",
            "6/6 [==============================] - 0s 4ms/step - loss: 0.8743 - mse: 0.8743 - lr: 1.0000e-04\n",
            "Epoch 187/200\n",
            "6/6 [==============================] - 0s 4ms/step - loss: 0.8787 - mse: 0.8787 - lr: 1.0000e-04\n",
            "Epoch 188/200\n",
            "6/6 [==============================] - 0s 4ms/step - loss: 0.8973 - mse: 0.8973 - lr: 1.0000e-04\n",
            "Epoch 189/200\n",
            "6/6 [==============================] - 0s 4ms/step - loss: 0.8905 - mse: 0.8905 - lr: 1.0000e-04\n",
            "Epoch 190/200\n",
            "6/6 [==============================] - 0s 4ms/step - loss: 0.8753 - mse: 0.8753 - lr: 1.0000e-04\n",
            "Epoch 191/200\n",
            "6/6 [==============================] - 0s 4ms/step - loss: 0.8763 - mse: 0.8763 - lr: 1.0000e-04\n",
            "Epoch 192/200\n",
            "6/6 [==============================] - 0s 4ms/step - loss: 0.8749 - mse: 0.8749 - lr: 1.0000e-04\n",
            "Epoch 193/200\n",
            "6/6 [==============================] - 0s 4ms/step - loss: 0.8732 - mse: 0.8732 - lr: 1.0000e-04\n",
            "Epoch 194/200\n",
            "6/6 [==============================] - 0s 3ms/step - loss: 0.8731 - mse: 0.8731 - lr: 1.0000e-04\n",
            "Epoch 195/200\n",
            "6/6 [==============================] - 0s 6ms/step - loss: 0.8742 - mse: 0.8742 - lr: 1.0000e-04\n",
            "Epoch 196/200\n",
            "6/6 [==============================] - 0s 6ms/step - loss: 0.8698 - mse: 0.8698 - lr: 1.0000e-04\n",
            "Epoch 197/200\n",
            "6/6 [==============================] - 0s 9ms/step - loss: 0.8724 - mse: 0.8724 - lr: 1.0000e-04\n",
            "Epoch 198/200\n",
            "6/6 [==============================] - 0s 4ms/step - loss: 0.8708 - mse: 0.8708 - lr: 1.0000e-04\n",
            "Epoch 199/200\n",
            "6/6 [==============================] - 0s 5ms/step - loss: 0.8722 - mse: 0.8722 - lr: 1.0000e-04\n",
            "Epoch 200/200\n",
            "6/6 [==============================] - 0s 3ms/step - loss: 0.8764 - mse: 0.8764 - lr: 1.0000e-04\n"
          ]
        }
      ]
    },
    {
      "cell_type": "markdown",
      "source": [
        "## 9. Evaluate the model"
      ],
      "metadata": {
        "id": "MUUsYmW_XxDF"
      }
    },
    {
      "cell_type": "code",
      "source": [
        "# Plot the loss\n",
        "plt.figure(figsize = (7,5))\n",
        "plt.plot(history.history['loss'])\n",
        "plt.title('loss')\n",
        "plt.show();"
      ],
      "metadata": {
        "colab": {
          "base_uri": "https://localhost:8080/",
          "height": 468
        },
        "id": "_d4F4fycYuTW",
        "outputId": "c7dc56a6-7172-439e-c16d-70f8c9af872a"
      },
      "execution_count": null,
      "outputs": [
        {
          "output_type": "display_data",
          "data": {
            "text/plain": [
              "<Figure size 700x500 with 1 Axes>"
            ],
            "image/png": "[encoded data removed]"
          },
          "metadata": {}
        }
      ]
    },
    {
      "cell_type": "code",
      "source": [
        "# Let's check the layers in our model\n",
        "model_1.layers"
      ],
      "metadata": {
        "colab": {
          "base_uri": "https://localhost:8080/"
        },
        "id": "lE5--DD2YwQq",
        "outputId": "34ae4165-58fc-4224-cdc9-11efd3963706"
      },
      "execution_count": null,
      "outputs": [
        {
          "output_type": "execute_result",
          "data": {
            "text/plain": [
              "[<keras.src.layers.core.dense.Dense at 0x7e67411956c0>]"
            ]
          },
          "metadata": {},
          "execution_count": 14
        }
      ]
    },
    {
      "cell_type": "code",
      "source": [
        "# Now let's check the weights learnt by the first layers of the model\n",
        "model_1.layers[0].get_weights()"
      ],
      "metadata": {
        "colab": {
          "base_uri": "https://localhost:8080/"
        },
        "id": "9OXZhs-OYwOB",
        "outputId": "3d10548c-239f-46f1-ec2e-07e737335eb3"
      },
      "execution_count": null,
      "outputs": [
        {
          "output_type": "execute_result",
          "data": {
            "text/plain": [
              "[array([[0.33894596]], dtype=float32), array([17.775587], dtype=float32)]"
            ]
          },
          "metadata": {},
          "execution_count": 15
        }
      ]
    },
    {
      "cell_type": "code",
      "source": [
        "# fetching the first item from the first array\n",
        "a = model_1.layers[0].get_weights()[0][0,0]\n",
        "a"
      ],
      "metadata": {
        "colab": {
          "base_uri": "https://localhost:8080/"
        },
        "id": "fKAVxCEuYwLR",
        "outputId": "6c3df5a6-0ec2-4136-ef79-d778ed308093"
      },
      "execution_count": null,
      "outputs": [
        {
          "output_type": "execute_result",
          "data": {
            "text/plain": [
              "0.33894596"
            ]
          },
          "metadata": {},
          "execution_count": 16
        }
      ]
    },
    {
      "cell_type": "code",
      "source": [
        "print('Transistor time to double: {} years'.format(round(np.log(2)/a)))"
      ],
      "metadata": {
        "colab": {
          "base_uri": "https://localhost:8080/"
        },
        "id": "LzTUbpHvaVd-",
        "outputId": "94e3c87c-bb8e-4840-a8b3-6d61ddf4afc3"
      },
      "execution_count": null,
      "outputs": [
        {
          "output_type": "stream",
          "name": "stdout",
          "text": [
            "Transistor time to double: 2 years\n"
          ]
        }
      ]
    },
    {
      "cell_type": "code",
      "source": [
        "# Visualzing model evaluation\n",
        "\n",
        "yhat = model_1.predict(X)\n",
        "plt.scatter(X, Y, color = 'salmon')\n",
        "plt.plot(X, yhat)"
      ],
      "metadata": {
        "colab": {
          "base_uri": "https://localhost:8080/",
          "height": 465
        },
        "id": "gOffAdT09kPi",
        "outputId": "5a37b9af-47c3-457f-82ea-a3e31f163dc5"
      },
      "execution_count": null,
      "outputs": [
        {
          "output_type": "stream",
          "name": "stdout",
          "text": [
            "6/6 [==============================] - 0s 3ms/step\n"
          ]
        },
        {
          "output_type": "execute_result",
          "data": {
            "text/plain": [
              "[<matplotlib.lines.Line2D at 0x7e673e8997e0>]"
            ]
          },
          "metadata": {},
          "execution_count": 18
        },
        {
          "output_type": "display_data",
          "data": {
            "text/plain": [
              "<Figure size 640x480 with 1 Axes>"
            ],
            "image/png": "[encoded data removed]"
          },
          "metadata": {}
        }
      ]
    },
    {
      "cell_type": "code",
      "source": [],
      "metadata": {
        "id": "9lhb8aoqPvby"
      },
      "execution_count": null,
      "outputs": []
    },
    {
      "cell_type": "code",
      "source": [
        "5# Manual calculation of predictions\n",
        "# Get the weights\n",
        "w, b = model_1.layers[0].get_weights()\n",
        "\n",
        "# Reshape  X because we flattened it again earlier\n",
        "X = X.reshape(-1, 1)\n",
        "\n",
        "# (N x 1) x (1 x 1) + (1) ---> (N x 1)\n",
        "yhat2 = X.dot(w) + b\n",
        "\n",
        "np.allclose(yhat, yhat2)"
      ],
      "metadata": {
        "colab": {
          "base_uri": "https://localhost:8080/"
        },
        "id": "ynAzXxmi9xmy",
        "outputId": "af54d102-2014-4a5d-c089-d0cb55ced7b3"
      },
      "execution_count": null,
      "outputs": [
        {
          "output_type": "execute_result",
          "data": {
            "text/plain": [
              "True"
            ]
          },
          "metadata": {},
          "execution_count": 19
        }
      ]
    },
    {
      "cell_type": "code",
      "source": [
        "X"
      ],
      "metadata": {
        "colab": {
          "base_uri": "https://localhost:8080/"
        },
        "id": "i_B_M0tifyJr",
        "outputId": "ca81829a-fb54-45a6-856c-889a3b7a9cd3"
      },
      "execution_count": null,
      "outputs": [
        {
          "output_type": "execute_result",
          "data": {
            "text/plain": [
              "array([[-31.19753086],\n",
              "       [-30.19753086],\n",
              "       [-29.19753086],\n",
              "       [-29.19753086],\n",
              "       [-28.19753086],\n",
              "       [-28.19753086],\n",
              "       [-28.19753086],\n",
              "       [-27.19753086],\n",
              "       [-26.19753086],\n",
              "       [-26.19753086],\n",
              "       [-26.19753086],\n",
              "       [-24.19753086],\n",
              "       [-24.19753086],\n",
              "       [-23.19753086],\n",
              "       [-23.19753086],\n",
              "       [-23.19753086],\n",
              "       [-21.19753086],\n",
              "       [-20.19753086],\n",
              "       [-20.19753086],\n",
              "       [-19.19753086],\n",
              "       [-18.19753086],\n",
              "       [-18.19753086],\n",
              "       [-17.19753086],\n",
              "       [-17.19753086],\n",
              "       [-17.19753086],\n",
              "       [-16.19753086],\n",
              "       [-16.19753086],\n",
              "       [-16.19753086],\n",
              "       [-15.19753086],\n",
              "       [-15.19753086],\n",
              "       [-15.19753086],\n",
              "       [-15.19753086],\n",
              "       [-14.19753086],\n",
              "       [-14.19753086],\n",
              "       [-13.19753086],\n",
              "       [-13.19753086],\n",
              "       [-13.19753086],\n",
              "       [-13.19753086],\n",
              "       [-12.19753086],\n",
              "       [-11.19753086],\n",
              "       [-11.19753086],\n",
              "       [-10.19753086],\n",
              "       [-10.19753086],\n",
              "       [ -9.19753086],\n",
              "       [ -9.19753086],\n",
              "       [ -8.19753086],\n",
              "       [ -8.19753086],\n",
              "       [ -7.19753086],\n",
              "       [ -3.19753086],\n",
              "       [ -7.19753086],\n",
              "       [ -6.19753086],\n",
              "       [ -5.19753086],\n",
              "       [ -5.19753086],\n",
              "       [ -5.19753086],\n",
              "       [ -4.19753086],\n",
              "       [ -3.19753086],\n",
              "       [ -3.19753086],\n",
              "       [ -2.19753086],\n",
              "       [ -2.19753086],\n",
              "       [ -3.19753086],\n",
              "       [ -3.19753086],\n",
              "       [ -3.19753086],\n",
              "       [ -2.19753086],\n",
              "       [ -1.19753086],\n",
              "       [ -1.19753086],\n",
              "       [ -0.19753086],\n",
              "       [  1.80246914],\n",
              "       [  1.80246914],\n",
              "       [  2.80246914],\n",
              "       [  3.80246914],\n",
              "       [  2.80246914],\n",
              "       [  3.80246914],\n",
              "       [  4.80246914],\n",
              "       [  5.80246914],\n",
              "       [  0.80246914],\n",
              "       [  0.80246914],\n",
              "       [ -0.19753086],\n",
              "       [  2.80246914],\n",
              "       [  2.80246914],\n",
              "       [  3.80246914],\n",
              "       [  4.80246914],\n",
              "       [  0.80246914],\n",
              "       [  5.80246914],\n",
              "       [  6.80246914],\n",
              "       [  8.80246914],\n",
              "       [  9.80246914],\n",
              "       [  4.80246914],\n",
              "       [  4.80246914],\n",
              "       [  5.80246914],\n",
              "       [  1.80246914],\n",
              "       [  4.80246914],\n",
              "       [  5.80246914],\n",
              "       [  5.80246914],\n",
              "       [  4.80246914],\n",
              "       [  6.80246914],\n",
              "       [  7.80246914],\n",
              "       [  9.80246914],\n",
              "       [ 10.80246914],\n",
              "       [  8.80246914],\n",
              "       [  7.80246914],\n",
              "       [  7.80246914],\n",
              "       [  9.80246914],\n",
              "       [  9.80246914],\n",
              "       [  7.80246914],\n",
              "       [  9.80246914],\n",
              "       [ 11.80246914],\n",
              "       [  3.80246914],\n",
              "       [ 12.80246914],\n",
              "       [ 10.80246914],\n",
              "       [ 12.80246914],\n",
              "       [  5.80246914],\n",
              "       [  7.80246914],\n",
              "       [ 11.80246914],\n",
              "       [ 12.80246914],\n",
              "       [ 12.80246914],\n",
              "       [  9.80246914],\n",
              "       [  8.80246914],\n",
              "       [  7.80246914],\n",
              "       [ 11.80246914],\n",
              "       [  8.80246914],\n",
              "       [  9.80246914],\n",
              "       [ 11.80246914],\n",
              "       [ 13.80246914],\n",
              "       [ 14.80246914],\n",
              "       [ 14.80246914],\n",
              "       [ 15.80246914],\n",
              "       [  9.80246914],\n",
              "       [ 13.80246914],\n",
              "       [ 13.80246914],\n",
              "       [ 12.80246914],\n",
              "       [ 10.80246914],\n",
              "       [ 14.80246914],\n",
              "       [ 11.80246914],\n",
              "       [ 14.80246914],\n",
              "       [ 14.80246914],\n",
              "       [ 14.80246914],\n",
              "       [  9.80246914],\n",
              "       [ 10.80246914],\n",
              "       [ 11.80246914],\n",
              "       [ 14.80246914],\n",
              "       [ 15.80246914],\n",
              "       [ 13.80246914],\n",
              "       [ 15.80246914],\n",
              "       [ 14.80246914],\n",
              "       [ 15.80246914],\n",
              "       [ 14.80246914],\n",
              "       [ 12.80246914],\n",
              "       [ 14.80246914],\n",
              "       [ 13.80246914],\n",
              "       [ 14.80246914],\n",
              "       [ 13.80246914],\n",
              "       [ 14.80246914],\n",
              "       [ 14.80246914],\n",
              "       [ 12.80246914],\n",
              "       [ 14.80246914],\n",
              "       [ 15.80246914],\n",
              "       [ 14.80246914],\n",
              "       [ 14.80246914],\n",
              "       [ 14.80246914],\n",
              "       [ 15.80246914],\n",
              "       [ 15.80246914],\n",
              "       [ 15.80246914]])"
            ]
          },
          "metadata": {},
          "execution_count": 22
        }
      ]
    },
    {
      "cell_type": "code",
      "source": [],
      "metadata": {
        "id": "pQ4EVkv6fuPh"
      },
      "execution_count": null,
      "outputs": []
    }
  ]
}